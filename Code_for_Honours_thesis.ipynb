{
  "cells": [
    {
      "cell_type": "markdown",
      "metadata": {
        "id": "view-in-github",
        "colab_type": "text"
      },
      "source": [
        "<a href=\"https://colab.research.google.com/github/justsvykas/Is-Chaos-Good-For-Reservoir-Computing-/blob/main/Code_for_Honours_thesis.ipynb\" target=\"_parent\"><img src=\"https://colab.research.google.com/assets/colab-badge.svg\" alt=\"Open In Colab\"/></a>"
      ]
    },
    {
      "cell_type": "markdown",
      "source": [
        "# Introduciton"
      ],
      "metadata": {
        "id": "w7kGamw7CPbb"
      }
    },
    {
      "cell_type": "markdown",
      "source": [
        "This code is written for results in thesis **Is Chaos Good for Reservoir Computing?** which can be found [here](https://github.com/justsvykas/Is-Chaos-Good-For-Reservoir-Computing-/blob/main/Thesis.pdf).\n",
        "\n"
      ],
      "metadata": {
        "id": "lLr8QjS0CS9B"
      }
    },
    {
      "cell_type": "markdown",
      "source": [
        "# Table of Contents"
      ],
      "metadata": {
        "id": "y75AC3QaZLm2"
      }
    },
    {
      "cell_type": "markdown",
      "source": [
        "- **Reservoir**: This section defines customizable neural network functions\n",
        "- **Analysis Functions**: This section defines all functions which analyses neural networks\n",
        "- **Reservoir analysis**: This is result section which analyses various reservoirs\n",
        "- **Looped Network**: This is result section which analyses looped networks\n",
        "- **Bifurcations**: this is result section which analyses networks using bifurcation diagrams\n",
        "- **Individual neurons investigation**: This is result section which analyses specific neurons of some networks\n",
        "- **Orbits**: This is result section which analyses neural networks using orbit diagrams\n"
      ],
      "metadata": {
        "id": "LCY-m_-kZi2d"
      }
    },
    {
      "cell_type": "markdown",
      "metadata": {
        "id": "bwcJTVXRMANS"
      },
      "source": [
        "# Reservoir\n"
      ]
    },
    {
      "cell_type": "markdown",
      "metadata": {
        "id": "9NnWMDXyNhEY"
      },
      "source": [
        "## Chaotic Map"
      ]
    },
    {
      "cell_type": "code",
      "execution_count": null,
      "metadata": {
        "id": "cwxlQEkTNm7a"
      },
      "outputs": [],
      "source": [
        "def F_mod(s_n_minus_1):\n",
        "    return (0.2 + -1.1 * s_n_minus_1) % 1"
      ]
    },
    {
      "cell_type": "code",
      "execution_count": null,
      "metadata": {
        "id": "NfvqVBF69C0N"
      },
      "outputs": [],
      "source": [
        "def F_identity(s_n_minus_1):\n",
        "  return s_n_minus_1"
      ]
    },
    {
      "cell_type": "markdown",
      "metadata": {
        "id": "xQMitltUMU-d"
      },
      "source": [
        "## Weight Matrix"
      ]
    },
    {
      "cell_type": "code",
      "execution_count": null,
      "metadata": {
        "id": "xRb0kDpsoCaR"
      },
      "outputs": [],
      "source": [
        "import numpy as np\n",
        "import scipy.sparse.linalg as sp\n",
        "import time\n",
        "from scipy.sparse.linalg import ArpackNoConvergence\n",
        "\n",
        "\n",
        "def initialize_reservoir(N, epsilon, rho, ex_time=False):\n",
        "    \"\"\"\n",
        "    Initialise the reservoir layer autonomously.\n",
        "\n",
        "    Parameters:\n",
        "    - N: Number of reservoir units.\n",
        "    - epsilon: Sparsity factor for the matrix.\n",
        "    - rho: Spectral radius to be rescaled to.\n",
        "\n",
        "    Returns:\n",
        "    - W: Initialized reservoir matrix.\n",
        "    \"\"\"\n",
        "    # We set seed so results can be reproducable\n",
        "    np.random.seed(157)\n",
        "\n",
        "    # Start the timer\n",
        "    start_time = time.time()\n",
        "\n",
        "    # Making NxN matrix with random values from -1 to 1\n",
        "    W = -1+ (2*1) * np.random.rand(N, N)\n",
        "\n",
        "    # Making 1-epsilon proportion of matrix entries zeroes\n",
        "    for i in range(np.size(W)):\n",
        "        if np.random.rand() > epsilon:\n",
        "            W.flat[i] = 0\n",
        "\n",
        "    try:\n",
        "        # Finding the largest eigenvalue\n",
        "        largest = np.abs(sp.eigs(W, k=1, which='LM', maxiter=5000)[0][0])  # 'LM' means largest magnitude\n",
        "    except ArpackNoConvergence:\n",
        "        largest = np.max(np.abs(np.linalg.eigvals(W)))\n",
        "\n",
        "    # Rescale such that spectral radius is rho\n",
        "    W = (W / largest) * rho\n",
        "\n",
        "    # Calculate execution time\n",
        "    if ex_time is True:\n",
        "      execution_time = time.time() - start_time\n",
        "\n",
        "      print(f\"Execution time was {execution_time:.2f} seconds.\")\n",
        "\n",
        "    return W\n"
      ]
    },
    {
      "cell_type": "markdown",
      "metadata": {
        "id": "8229XRDSOKTW"
      },
      "source": [
        "## State Vector function"
      ]
    },
    {
      "cell_type": "code",
      "execution_count": null,
      "metadata": {
        "id": "fHuIwMQAOJAF"
      },
      "outputs": [],
      "source": [
        "import numpy as np\n",
        "\n",
        "def update_state(F, conn, alpha, N, W, snpast, current_timestep,\n",
        "                 input_vector=None, W_in=None, Laplacian=True ):\n",
        "        # Initialize the new state vector\n",
        "        sn = np.zeros_like(snpast)\n",
        "\n",
        "        # Apply the chaotic map F element-wise to the previous state\n",
        "        F_snpast = F(snpast)\n",
        "\n",
        "        if conn == \"Electrical\":\n",
        "          # Loop over each neuron to calculate its new state\n",
        "          k_hat_vec = weighted_degrees_unsorted(W,N)\n",
        "          # Replace zeros with inf to avoid division by zero\n",
        "          k_hat_vec = np.where(k_hat_vec == 0, np.inf, k_hat_vec)\n",
        "\n",
        "          if Laplacian == False:\n",
        "            interaction_vec = None\n",
        "\n",
        "            for i in range(N):\n",
        "              interaction_sum =0\n",
        "              for j in range(N):\n",
        "\n",
        "                  interaction = W[i, j] * (snpast[j] - snpast[i])\n",
        "                  interaction_sum += (interaction)\n",
        "\n",
        "              if interaction_vec is None:\n",
        "                interaction_vec = interaction_sum\n",
        "              else:\n",
        "                interaction_vec = np.row_stack((interaction_vec,interaction_sum))\n",
        "\n",
        "            if input_vector is not None and W_in is not None:\n",
        "              input = np.dot(W_in,input_vector)\n",
        "              interaction_vec += input\n",
        "\n",
        "            sn = (1 - alpha) * F_snpast + alpha * interaction_vec\n",
        "\n",
        "          else:\n",
        "            L = calculate_laplacian(W)\n",
        "            if input_vector is not None and W_in is not None:\n",
        "              input = np.dot(W_in,input_vector)\n",
        "              sn = (1 - alpha) * F_snpast + alpha * np.dot(1/(2*k_hat_vec), (np.dot(L,snpast) + input))\n",
        "            else:\n",
        "              sn = (1 - alpha) * F_snpast + alpha * np.dot(1/(2*k_hat_vec), (np.dot(L,snpast)))\n",
        "\n",
        "\n",
        "        elif conn == \"Chemical\":\n",
        "          if input_vector is None:\n",
        "            sn = (1-alpha)*F_snpast + alpha * np.tanh(np.dot(W, snpast))\n",
        "          else:\n",
        "            sn = (1-alpha)*F_snpast + alpha * np.tanh(np.dot(W, snpast) + np.dot(W_in,input_vector))\n",
        "\n",
        "        return sn\n",
        "\n",
        "\n"
      ]
    },
    {
      "cell_type": "markdown",
      "metadata": {
        "id": "tvSKvQnVOqIT"
      },
      "source": [
        "## Network with only state matrix"
      ]
    },
    {
      "cell_type": "code",
      "execution_count": null,
      "metadata": {
        "id": "LSQ45HybMdF-"
      },
      "outputs": [],
      "source": [
        "import numpy as np\n",
        "import scipy.sparse.linalg as sp\n",
        "import time\n",
        "\n",
        "def compute_state_matrix(F, connectivity, N, epsilon, rho, alpha, T,\n",
        "                         Lapl=True, ex_time=False):\n",
        "\n",
        "\n",
        "    # Set the seed for reproducability\n",
        "    np.random.seed(157)\n",
        "\n",
        "    # Start the timer\n",
        "    start_time = time.time()\n",
        "\n",
        "    # Initialize W using the initialize_reservoir function\n",
        "    W = initialize_reservoir(N, epsilon, rho)\n",
        "\n",
        "    count = 10  # variable to keep track of progress in increments of 5 percent\n",
        "    snpast = -1 + 2 * np.random.rand(N, 1)  # state vecto\n",
        "    X = snpast  # state matrix initialized as None\n",
        "\n",
        "\n",
        "    # Doing the calculations\n",
        "    for t in range(T-1):\n",
        "\n",
        "\n",
        "        # Update equation\n",
        "        # update_state(F, conn, alpha, N, W, snpast, current_timestep,\n",
        "                    #  input_vector=None, W_in=None, Laplacian=True )\n",
        "        sn = update_state(F,connectivity, alpha, N, W, snpast, t,\n",
        "                          input_vector=None, W_in=None, Laplacian=Lapl)\n",
        "\n",
        "        X = np.column_stack((X, sn))\n",
        "\n",
        "        snpast = sn  # Changing sn to snpast\n",
        "\n",
        "        if ex_time is True:\n",
        "          percent = round(t / T * 100, 1)  # Show progress every five percent\n",
        "          if percent == count:\n",
        "              print(f\"Progress: {percent:.1f} Percent.\")\n",
        "              count += 5\n",
        "\n",
        "    # Calculate execution time\n",
        "    if ex_time is True:\n",
        "      execution_time = time.time() - start_time\n",
        "      print(f\"Execution time was {execution_time:.2f} seconds.\")\n",
        "\n",
        "    return X, N, epsilon, rho, T, alpha, W"
      ]
    },
    {
      "cell_type": "markdown",
      "metadata": {
        "id": "_PMMWdnuMirg"
      },
      "source": [
        "## Input Layer"
      ]
    },
    {
      "cell_type": "code",
      "execution_count": null,
      "metadata": {
        "id": "jqrAW4aWMiLm"
      },
      "outputs": [],
      "source": [
        "def create_w_in(N_input, N_u=1):\n",
        "    import numpy as np\n",
        "    # We set seed so results can be reproducable\n",
        "    np.random.seed(157)\n",
        "\n",
        "    # Create a (NxN_u+1) matrix with values in [-0.5, 0.5]\n",
        "    W_in = (-1+ (2*1) * np.random.rand(N_input, N_u+1))*0.5\n",
        "    return W_in"
      ]
    },
    {
      "cell_type": "code",
      "execution_count": null,
      "metadata": {
        "id": "RrQuWU4AMpN8"
      },
      "outputs": [],
      "source": [
        "import numpy as np\n",
        "import scipy.sparse.linalg as sp\n",
        "import time\n",
        "\n",
        "def compute_state_matrix_w_input(N, epsilon, rho, T, alpha, input_data, bias, F=F_identity, N_input=10, N_u=1, ex_time=False):\n",
        "\n",
        "    # Set the seed for reproducability\n",
        "    np.random.seed(157)\n",
        "\n",
        "    # Start the timer\n",
        "    start_time = time.time()\n",
        "    count = 10  # variable to keep track of progress in increments of 5 percent\n",
        "\n",
        "    # Experimentation with number of neurons connected with input layer\n",
        "    N_input=N\n",
        "    # Initialize W using the initialize_reservoir function\n",
        "    W = initialize_reservoir(N, epsilon, rho)\n",
        "    # Create input matrix\n",
        "    W_in = create_w_in(N_input, N_u)\n",
        "    # Make bias into numpy array\n",
        "    b = np.array(bias)\n",
        "\n",
        "    # state vector\n",
        "    snpast = -1 + 2 * np.random.rand(N, 1)\n",
        "    # state matrix initialized as None\n",
        "    X = None\n",
        "\n",
        "    # Doing the calculations\n",
        "    for t in range(T):\n",
        "\n",
        "        # Get the Lorenz system input for the current time step\n",
        "        u = np.array(input_data[t])\n",
        "        # Stack b on top of u to create a column vector\n",
        "        input_vector = np.vstack((b, u))\n",
        "\n",
        "\n",
        "\n",
        "        sn = update_state(N, alpha, W, snpast, F, input_vector, W_in)\n",
        "\n",
        "        # Store the state in the matrix X\n",
        "        if X is None:  # if X is \"zero\" (or None in this context)\n",
        "            X = sn\n",
        "        else:\n",
        "            X = np.column_stack((X, sn))\n",
        "\n",
        "        snpast = sn  # Changing sn to snpast\n",
        "\n",
        "        if ex_time is True:\n",
        "          percent = round(t / T * 100, 1)  # Show progress every five percent\n",
        "          if percent == count:\n",
        "              print(f\"Progress: {percent:.1f} Percent.\")\n",
        "              count += 5\n",
        "\n",
        "    # Calculate execution time\n",
        "    if ex_time is True:\n",
        "      execution_time = time.time() - start_time\n",
        "      print(f\"Execution time was {execution_time:.2f} seconds.\")\n",
        "\n",
        "    return X, N, epsilon, rho, T, alpha"
      ]
    },
    {
      "cell_type": "markdown",
      "metadata": {
        "id": "c2xHTxyQMqYH"
      },
      "source": [
        "## Output Layer"
      ]
    },
    {
      "cell_type": "code",
      "execution_count": null,
      "metadata": {
        "id": "8t5JSklRMriy"
      },
      "outputs": [],
      "source": [
        "def calculate_W_out(X,Y,regulization):\n",
        "  # Calculate X transpose\n",
        "  X_T = X.T\n",
        "\n",
        "  # Calculate term inside parenthesis\n",
        "  term = X @ X_T + regulization**2 * np.eye(X.shape[0])\n",
        "\n",
        "  # Calculate the pseudo-inverse of the term\n",
        "  term_pseudo_inv = np.linalg.pinv(term)\n",
        "\n",
        "  # Finally, calculate W_out\n",
        "  W_out = Y @ X_T @ term_pseudo_inv\n",
        "\n",
        "  return W_out"
      ]
    },
    {
      "cell_type": "code",
      "execution_count": null,
      "metadata": {
        "id": "6v-zBBPJM9Cd"
      },
      "outputs": [],
      "source": [
        "def state_matrix(n,alpha, b_in, b_out, W_in, W, X, snpast, input_data, F=F_identity):\n",
        "            # Get the Lorenz system input for the current time step\n",
        "          if np.array(input_data.shape[1]) != 1:\n",
        "            un = np.array(input_data[:,n]).reshape(-1,1)\n",
        "          else:\n",
        "            un = np.array(input_data).reshape(-1,1)\n",
        "\n",
        "          # Stack b on top of u to create a column vector\n",
        "          input_vector = np.vstack((b_in, un))\n",
        "\n",
        "\n",
        "          sn = update_state(N, alpha, W, snpast, F, input_vector, W_in)\n",
        "\n",
        "          xn = np.row_stack((b_out, sn, un))\n",
        "\n",
        "          if X is None:  # if X is \"zero\" (or None in this context)\n",
        "            X = xn\n",
        "          else:\n",
        "            X = np.column_stack((X, xn))\n",
        "\n",
        "          snpast = sn  # Changing sn to snpast\n",
        "\n",
        "          return X, snpast, xn"
      ]
    },
    {
      "cell_type": "markdown",
      "metadata": {
        "id": "D8RC4zclNRPA"
      },
      "source": [
        "## Looped Network"
      ]
    },
    {
      "cell_type": "code",
      "execution_count": null,
      "metadata": {
        "id": "XF3kUP6uNSoc"
      },
      "outputs": [],
      "source": [
        "import numpy as np\n",
        "import scipy.sparse.linalg as sp\n",
        "import time\n",
        "\n",
        "def looped_network(F, connectivity, input_data, output_data,\n",
        "            N, epsilon, rho, alpha,\n",
        "            T_transient, T_training, T_prediction, tau,\n",
        "            Lapl= True, regulization=0, b_in=1, b_out=1, ex_time=False):\n",
        "\n",
        "    # Set the seed for reproducability\n",
        "    np.random.seed(157)\n",
        "\n",
        "    # Start the timer\n",
        "    start_time = time.time()\n",
        "    count = 10  # variable to keep track of progress in increments of 5 percent\n",
        "\n",
        "    # Increments Reservoir will be allowed to run\n",
        "    T = T_transient+T_training+T_prediction\n",
        "    # Initialize W using the initialize_reservoir function\n",
        "    W = initialize_reservoir(N, epsilon, rho)\n",
        "    # Calculate number of input neurons\n",
        "    N_u = input_data.shape[0]\n",
        "    # Create input matrix\n",
        "    W_in = create_w_in(N, N_u)\n",
        "    # Make bias into numpy array\n",
        "    b_in = np.array(b_in)\n",
        "    b_out = np.array(b_out)\n",
        "\n",
        "    # state vector\n",
        "    snpast = -1 + 2 * np.random.rand(N, 1)\n",
        "    # state matrix initialized as None\n",
        "    X = None\n",
        "    # Prediction matrix\n",
        "    Y = None\n",
        "\n",
        "\n",
        "    # Doing the calculations\n",
        "    for n in range(T):\n",
        "        # Get the Lorenz system input for the current time step\n",
        "        un = np.array(input_data[:,n]).reshape(-1,1)\n",
        "\n",
        "        # Stack b on top of u to create a column vector\n",
        "        input_vector = np.vstack((b_in, un))\n",
        "\n",
        "        # For training and transient input the RK4 integration\n",
        "        if n < (T_transient):\n",
        "          sn = update_state(F, connectivity, alpha, N, W, snpast, n,\n",
        "                            input_vector=input_vector, W_in=W_in, Laplacian=Lapl)\n",
        "          xn = np.row_stack((b_out, sn, un))\n",
        "          if X is None:  # if X is \"zero\" (or None in this context)\n",
        "            X = xn\n",
        "          else:\n",
        "            X = np.column_stack((X, xn))\n",
        "          snpast = sn\n",
        "        # Training of the Network\n",
        "        elif n <(T_transient+T_training):\n",
        "          sn = update_state(F, connectivity, alpha, N, W, snpast, n,\n",
        "                          input_vector=input_vector, W_in=W_in, Laplacian=Lapl)\n",
        "          xn = np.row_stack((b_out, sn, un))\n",
        "          X = np.column_stack((X, xn))\n",
        "          snpast = sn\n",
        "\n",
        "        elif n == (T_training + T_transient):\n",
        "                                        # Get the Lorenz system input for the current time step\n",
        "          sn = update_state(F, connectivity, alpha, N, W, snpast, n,\n",
        "                          input_vector=input_vector, W_in=W_in, Laplacian=Lapl)\n",
        "          xn = np.row_stack((b_out, sn, un))\n",
        "          X = np.column_stack((X, xn))\n",
        "          # Calculate W_out\n",
        "          if output_data.shape[0] == 1:\n",
        "                W_out = calculate_W_out(X[:,T_transient:(T_transient+T_training)],\n",
        "                                output_data[T_transient+tau:(T_transient+T_training+tau)],regulization)\n",
        "          else:\n",
        "                W_out = calculate_W_out(X[:,T_transient:(T_transient+T_training)],\n",
        "                                output_data[:,T_transient+tau:(T_transient+T_training+tau)],regulization)\n",
        "\n",
        "          # prediction vector\n",
        "          yn = np.dot(W_out,xn)\n",
        "          Y = yn\n",
        "          ynpast = yn\n",
        "          snpast = sn\n",
        "\n",
        "\n",
        "        #n <= (T)\n",
        "\n",
        "        else:\n",
        "          if N_u == ynpast.shape[0]:\n",
        "            input_vector = np.vstack((b_in, ynpast))\n",
        "            sn = update_state(F, connectivity, alpha, N, W, snpast, n,\n",
        "                          input_vector=input_vector, W_in=W_in, Laplacian=Lapl)\n",
        "            xn = np.row_stack((b_out, sn, ynpast))\n",
        "            X = np.column_stack((X, xn))\n",
        "\n",
        "\n",
        "            # prediction vector\n",
        "            yn = np.dot(W_out,xn)\n",
        "            Y = np.column_stack((Y, yn))\n",
        "            ynpast = yn\n",
        "            snpast = sn\n",
        "\n",
        "\n",
        "          else:\n",
        "            raise Exception(\"Number of input neurons does not meet the looped prediction neurons\")\n",
        "\n",
        "\n",
        "        if ex_time is True:\n",
        "          percent = round(n / T * 100, 1)  # Show progress every five percent\n",
        "          if percent == count:\n",
        "              print(f\"Progress: {percent:.1f} Percent.\")\n",
        "              count += 5\n",
        "\n",
        "    # Calculate execution time\n",
        "    if ex_time is True:\n",
        "      execution_time = time.time() - start_time\n",
        "      print(f\"Execution time was {execution_time:.2f} seconds.\")\n",
        "\n",
        "    return X, N, epsilon, rho, T_transient, T_training, T_prediction, alpha, Y, tau, W\n"
      ]
    },
    {
      "cell_type": "markdown",
      "metadata": {
        "id": "idNflzf9NV4J"
      },
      "source": [
        "## Final Network"
      ]
    },
    {
      "cell_type": "code",
      "execution_count": null,
      "metadata": {
        "id": "iHLoHHQANcgv"
      },
      "outputs": [],
      "source": [
        "import numpy as np\n",
        "import scipy.sparse.linalg as sp\n",
        "import time\n",
        "\n",
        "def network(F, connectivity, input_data, output_data,\n",
        "            N, epsilon, rho, alpha,\n",
        "            T_transient, T_training, T_prediction, tau,\n",
        "            Lapl= True, regulization=0, b_in=1, b_out=1, ex_time=False):\n",
        "\n",
        "    # Set the seed for reproducability\n",
        "    np.random.seed(157)\n",
        "\n",
        "    # Start the timer\n",
        "    start_time = time.time()\n",
        "    count = 10  # variable to keep track of progress in increments of 5 percent\n",
        "\n",
        "    # Increments Reservoir will be allowed to run\n",
        "    T = T_transient+T_training+T_prediction\n",
        "    # Initialize W using the initialize_reservoir function\n",
        "    W = initialize_reservoir(N, epsilon, rho)\n",
        "    # Calculate number of input neurons\n",
        "    N_u = input_data.shape[0]\n",
        "    # Create input matrix\n",
        "    W_in = create_w_in(N, N_u)\n",
        "    # Make bias into numpy array\n",
        "    b_in = np.array(b_in)\n",
        "    b_out = np.array(b_out)\n",
        "\n",
        "    # state vector\n",
        "    snpast = -1 + 2 * np.random.rand(N, 1)\n",
        "    # state matrix initialized as None\n",
        "    X = None\n",
        "    # Prediction matrix\n",
        "    Y = None\n",
        "\n",
        "    # Doing the calculations\n",
        "    for n in range(T):\n",
        "\n",
        "        # Get the Lorenz system input for the current time step\n",
        "        un = np.array(input_data[:,n]).reshape(-1,1)\n",
        "\n",
        "        # Stack b on top of u to create a column vector\n",
        "        input_vector = np.vstack((b_in, un))\n",
        "\n",
        "\n",
        "        # state vector equation\n",
        "        # update_state(F, conn, alpha, N, W, snpast, current_timestep,\n",
        "                    #  input_vector=None, W_in=None, Laplacian=True )\n",
        "        sn = update_state(F, connectivity, alpha, N, W, snpast, n,\n",
        "                          input_vector=input_vector, W_in=W_in, Laplacian=Lapl)\n",
        "\n",
        "        xn = np.row_stack((b_out, sn, un))\n",
        "        if X is None:  # if X is \"zero\" (or None in this context)\n",
        "          X = xn\n",
        "        else:\n",
        "          X = np.column_stack((X, xn))\n",
        "\n",
        "        # Training of the Network\n",
        "        if n == (T_training + T_transient):\n",
        "            if output_data.shape[0] == 1:\n",
        "              W_out = calculate_W_out(X[:,T_transient:(T_transient+T_training)],\n",
        "                              output_data[(T_transient+tau):(T_transient+T_training+tau)],regulization)\n",
        "            else:\n",
        "              W_out = calculate_W_out(X[:,(T_transient):(T_transient+T_training)],\n",
        "                              output_data[:,(T_transient+tau):(T_transient+T_training+tau)],regulization)\n",
        "\n",
        "\n",
        "        if n >=(T_training+T_transient):\n",
        "\n",
        "          # prediction vector\n",
        "          yn = np.dot(W_out,xn)\n",
        "\n",
        "          if Y is None:\n",
        "            Y = yn\n",
        "          else:\n",
        "            Y = np.column_stack((Y, yn))\n",
        "\n",
        "        snpast = sn  # Changing sn to snpast\n",
        "\n",
        "        if ex_time is True:\n",
        "          percent = round(n / T * 100, 1)  # Show progress every five percent\n",
        "          if percent == count:\n",
        "              print(f\"Progress: {percent:.1f} Percent.\")\n",
        "              count += 5\n",
        "\n",
        "    # Calculate execution time\n",
        "    if ex_time is True:\n",
        "      execution_time = time.time() - start_time\n",
        "      print(f\"Execution time was {execution_time:.2f} seconds.\")\n",
        "\n",
        "    return X, N, epsilon, rho, T_transient, T_training, T_prediction, alpha, Y, tau, W"
      ]
    },
    {
      "cell_type": "markdown",
      "metadata": {
        "id": "leWLjyGuoojG"
      },
      "source": [
        "# Analysis Functions\n",
        "\n",
        "\n"
      ]
    },
    {
      "cell_type": "markdown",
      "metadata": {
        "id": "W-hhdmPOsLiI"
      },
      "source": [
        "### NN Convergence\n"
      ]
    },
    {
      "cell_type": "code",
      "execution_count": null,
      "metadata": {
        "id": "57MAWGsfoneQ"
      },
      "outputs": [],
      "source": [
        "import matplotlib.pyplot as plt\n",
        "import numpy as np\n",
        "\n",
        "def computational_units_state(X, legend=False, y_lim=[-1,1], tick_labelsize=18, axis_labelsize=18):\n",
        "    # Create a vector for the x-axis representing T increments\n",
        "    T = X.shape[1]\n",
        "    N = X.shape[0]\n",
        "    t = np.arange(0, T)\n",
        "\n",
        "    # Plot each row of X as a separate line\n",
        "    plt.figure(figsize=(12, 6))\n",
        "    for i in range(N):\n",
        "      if legend:\n",
        "          plt.plot(t, X[i, :], label=f'Neuron {i+1}')  # Adding a label for each neuron\n",
        "      else:\n",
        "          plt.plot(t, X[i, :])  # Plot without a label if legend is False\n",
        "    # Set y-axis limits\n",
        "    plt.ylim(y_lim)\n",
        "\n",
        "    # Set the tick parameters for both axes to increase tick label size\n",
        "    plt.tick_params(axis='both', labelsize=tick_labelsize)\n",
        "\n",
        "        # Label the axes and set their font size\n",
        "    plt.xlabel('Number of timesteps', fontsize=axis_labelsize)\n",
        "    plt.ylabel('State of Neurons', fontsize=axis_labelsize)\n",
        "\n",
        "\n",
        "    # Show the plot\n",
        "    plt.show()\n",
        "\n",
        "# Example usage (assuming X is your state matrix, N is the number of neurons, and T is the number of timesteps)\n",
        "# computational_units_state(X, N, T)\n"
      ]
    },
    {
      "cell_type": "code",
      "source": [
        "import matplotlib.pyplot as plt\n",
        "import numpy as np\n",
        "\n",
        "def computational_units_state_2(X, nn, t_start, t_end, y_lim=None, zoom_in_start=None, zoom_in_end=None, legend=False,tick_labelsize=18, axis_labelsize=18):\n",
        "    # Adjust the range of neurons and timesteps based on provided arguments\n",
        "    X_zoomed = X[0:nn, t_start:t_end]\n",
        "    N = X_zoomed.shape[0]\n",
        "    T = X_zoomed.shape[1]\n",
        "    t = np.arange(t_start, t_end)\n",
        "\n",
        "    # Determine y-axis limits based on the first neuron's data range\n",
        "    if y_lim is None:\n",
        "      y_lim = [min(X[0,:]), -min(X[0,:])]\n",
        "\n",
        "    # Plot each row of X_zoomed as a separate line\n",
        "    plt.figure(figsize=(12, 6))\n",
        "    for i in range(N):\n",
        "        if legend:\n",
        "            plt.plot(t, X_zoomed[i, :], label=f'Neuron {i+1}')  # Adding a label for each neuron\n",
        "        else:\n",
        "            plt.plot(t, X_zoomed[i, :])  # Plot without a label if legend is False\n",
        "\n",
        "    # Set y-axis limits\n",
        "    plt.ylim(y_lim)\n",
        "\n",
        "    # Set x-axis limits for zoomed-in view if specified\n",
        "    if zoom_in_start is not None and zoom_in_end is not None:\n",
        "        plt.xlim([zoom_in_start, zoom_in_end])\n",
        "\n",
        "    # Set the tick parameters for both axes to increase tick label size\n",
        "    plt.tick_params(axis='both', labelsize=tick_labelsize)\n",
        "\n",
        "        # Label the axes and set their font size\n",
        "    plt.xlabel('Number of timesteps', fontsize=axis_labelsize)\n",
        "    plt.ylabel('State of Neurons', fontsize=axis_labelsize)\n",
        "\n",
        "\n",
        "\n",
        "    # Show the plot\n",
        "    plt.show()\n",
        "\n"
      ],
      "metadata": {
        "id": "JawvYaZhhV75"
      },
      "execution_count": null,
      "outputs": []
    },
    {
      "cell_type": "markdown",
      "metadata": {
        "id": "X-IIBzasRZol"
      },
      "source": [
        "### Plot of State Average"
      ]
    },
    {
      "cell_type": "code",
      "execution_count": null,
      "metadata": {
        "id": "svZh3TZTtW-p"
      },
      "outputs": [],
      "source": [
        "def states_average_plot_beta(X, t_transient=0, t_end=None):\n",
        "    import numpy as np\n",
        "    import matplotlib.pyplot as plt\n",
        "    T = X.shape[1]\n",
        "    N = X.shape[0]\n",
        "    # If t_end is not provided, use the last timestep\n",
        "    if t_end is None:\n",
        "        t_end = X.shape[1]\n",
        "\n",
        "    # Average of X\n",
        "    Xnotransient = X[:, t_transient:t_end]  # Python uses 0-based indexing\n",
        "    k = np.mean(Xnotransient, axis=0)\n",
        "\n",
        "    # Create a vector for the x-axis representing T increments\n",
        "    t = np.arange(t_transient, t_end)\n",
        "\n",
        "    # Plot average of states\n",
        "    plt.figure(figsize=(12,6))\n",
        "    plt.plot(t, k)\n",
        "    plt.xlabel('Timestep')\n",
        "    plt.ylabel('Average of states')\n",
        "    plt.title('Average of states')\n",
        "    plt.show()\n",
        "\n",
        "\n",
        "\n"
      ]
    },
    {
      "cell_type": "code",
      "execution_count": null,
      "metadata": {
        "id": "gzwKm4t_ldA2"
      },
      "outputs": [],
      "source": [
        "def calculate_running_average(data, window_size):\n",
        "    running_avg = []\n",
        "    for i in range(len(data)):\n",
        "        if i < window_size - 1:\n",
        "            # Not enough data points for the window size yet\n",
        "            average = sum(data[:i+1]) / (i+1)\n",
        "        else:\n",
        "            # Calculate the sum of the current window\n",
        "            window_sum = sum(data[i-window_size+1:i+1])\n",
        "            average = window_sum / window_size\n",
        "        running_avg.append(average)\n",
        "    return running_avg"
      ]
    },
    {
      "cell_type": "code",
      "execution_count": null,
      "metadata": {
        "id": "PCz28cyCLC1_"
      },
      "outputs": [],
      "source": [
        "def states_average_plot(X, t_transient=0, t_end=None, window_size=10, running_avg=False,tick_labelsize=18, axis_labelsize=18):\n",
        "    # This is updated version with running average\n",
        "    import numpy as np\n",
        "    import matplotlib.pyplot as plt\n",
        "\n",
        "    T = X.shape[1]\n",
        "    N = X.shape[0]\n",
        "    # If t_end is not provided, use the last timestep\n",
        "    if t_end is None:\n",
        "        t_end = X.shape[1]\n",
        "\n",
        "    # Average of X\n",
        "    Xnotransient = X[:, t_transient:t_end]  # Python uses 0-based indexing\n",
        "    k = np.mean(Xnotransient, axis=0)\n",
        "\n",
        "    # Create a vector for the x-axis representing T increments\n",
        "    t = np.arange(t_transient, t_end)\n",
        "\n",
        "    if running_avg:\n",
        "      # Compute the running average\n",
        "      run_avg = calculate_running_average(k, window_size)\n",
        "      t_run_avg = t[:len(run_avg)]  # This slices the t array to match the length of run_avg\n",
        "\n",
        "\n",
        "    # Plot average of states\n",
        "    plt.figure(figsize=(12,6))\n",
        "    plt.plot(t, k, label='Average')\n",
        "    if running_avg:\n",
        "      plt.plot(t_run_avg, run_avg, label='Running Average', color='red')\n",
        "        # Set the tick parameters for both axes to increase tick label size\n",
        "    plt.tick_params(axis='both', labelsize=tick_labelsize)\n",
        "\n",
        "            # Label the axes and set their font size\n",
        "    plt.xlabel('Number of timesteps', fontsize=axis_labelsize)\n",
        "    plt.ylabel('Average of states', fontsize=axis_labelsize)\n",
        "\n",
        "    plt.legend()\n",
        "    plt.show()\n"
      ]
    },
    {
      "cell_type": "code",
      "source": [
        "import numpy as np\n",
        "import matplotlib.pyplot as plt\n",
        "from mpl_toolkits.axes_grid1.inset_locator import inset_axes\n",
        "\n",
        "def states_average_plot_zoom_in(X, t_start, t_zoom_end, t_transient=0, t_end=None, window_size=10, running_avg=False,tick_labelsize=18, axis_labelsize=18):\n",
        "    # This is the updated version with running average and zoom-in feature\n",
        "    # If t_end is not provided, use the last timestep\n",
        "\n",
        "    T = X.shape[1]\n",
        "    N = X.shape[0]\n",
        "    if t_end is None:\n",
        "        t_end = X.shape[1]\n",
        "\n",
        "    # Average of X\n",
        "    Xnotransient = X[:, t_transient:t_end]  # Python uses 0-based indexing\n",
        "    k = np.mean(Xnotransient, axis=0)\n",
        "\n",
        "    # Create a vector for the x-axis representing T increments\n",
        "    t = np.arange(t_transient, t_end)\n",
        "\n",
        "    if running_avg:\n",
        "        # Compute the running average\n",
        "        run_avg = calculate_running_average(k, window_size)\n",
        "        t_run_avg = t[:len(run_avg)]  # This slices the t array to match the length of run_avg\n",
        "\n",
        "    # Plot average of states\n",
        "    fig, ax = plt.subplots(figsize=(12, 6))\n",
        "    ax.plot(t, k, label='Average')\n",
        "    if running_avg:\n",
        "        ax.plot(t_run_avg, run_avg, label='Running Average', color='red')\n",
        "\n",
        "    plt.tick_params(axis='both', labelsize=tick_labelsize)\n",
        "    plt.xlabel('Number of timesteps', fontsize=axis_labelsize)\n",
        "    plt.ylabel('Average of states', fontsize=axis_labelsize)\n",
        "\n",
        "    # ax.set_title('Average of states with Running Average')\n",
        "    ax.legend()\n",
        "\n",
        "    # Create zoomed-in inset\n",
        "    axins = inset_axes(ax, width=\"30%\", height=\"30%\", loc='upper right', borderpad=1)\n",
        "    axins.plot(t, k, label='Average')\n",
        "    if running_avg:\n",
        "        axins.plot(t_run_avg, run_avg, label='Running Average', color='red')\n",
        "\n",
        "\n",
        "    # Specify the limits for the zoomed-in region here (example: from timestep 20 to 40)\n",
        "    axins.set_xlim(t_start, t_zoom_end)  # Adjust these values based on your data\n",
        "    axins.set_ylim(min(k[t_start:t_zoom_end]), max(k[t_start:t_zoom_end]))  # Set the y-limits to match the zoom\n",
        "\n",
        "    plt.show()"
      ],
      "metadata": {
        "id": "HGmkSNYbatsT"
      },
      "execution_count": null,
      "outputs": []
    },
    {
      "cell_type": "code",
      "execution_count": null,
      "metadata": {
        "id": "EDZkjHK0RfNb"
      },
      "outputs": [],
      "source": [
        "import numpy as np\n",
        "import matplotlib.pyplot as plt\n",
        "from mpl_toolkits.axes_grid1.inset_locator import inset_axes\n",
        "\n",
        "def states_average_plot_w_input_data(X, N, T,input_data, input_name, output_name=\"Average States\", title=None, t_transient=0, t_end=None, window_size=10, running_avg=False, zoom_in=False, zoom_range=(100, 200)):\n",
        "    # If t_end is not provided, use the last timestep\n",
        "\n",
        "    T = X.shape[1]\n",
        "    N = X.shape[0]\n",
        "    if t_end is None:\n",
        "      if X.ndim == 1:\n",
        "        t_end = X.shape[0]\n",
        "      else:\n",
        "        t_end = X.shape[1]\n",
        "\n",
        "    # Average of X\n",
        "    Xnotransient = X[:, t_transient:t_end]  # Python uses 0-based indexing\n",
        "    k = np.mean(Xnotransient, axis=0)\n",
        "\n",
        "\n",
        "    # Normalize Lorenz data\n",
        "    input_mean = np.mean(input_data)\n",
        "    input_std = np.std(input_data)\n",
        "    k_std = np.std(k)\n",
        "    input_norm = (input_data - input_mean) / input_std * k_std\n",
        "    input_norm_not_transient = input_norm[t_transient:t_end]\n",
        "\n",
        "    # Create a vector for the x-axis representing T increments\n",
        "    t = np.arange(t_transient, t_end)\n",
        "    t_input = np.arange(t_transient, t_end)  # Assuming Lorenz data has the same timestep as X\n",
        "\n",
        "    if running_avg:\n",
        "        # Compute the running average\n",
        "        run_avg = calculate_running_average(k, window_size)\n",
        "        t_run_avg = t[:len(run_avg)]  # This slices the t array to match the length of run_avg\n",
        "\n",
        "    # Main plot\n",
        "    fig, ax = plt.subplots(figsize=(12,6))\n",
        "    ax.plot(t, k, label=f'{output_name}')\n",
        "    if running_avg:\n",
        "        ax.plot(t_run_avg, run_avg, label='Running Average', color='red')\n",
        "    ax.plot(t_input, input_norm_not_transient, label=f'Normalized {input_name}', color='green', alpha=0.5)\n",
        "\n",
        "    if title is None:\n",
        "      ax.set_title(f'{output_name} with Normalized {input_name}')\n",
        "    else:\n",
        "      ax.set_title(f'{title}')\n",
        "    ax.set_xlabel('Timestep')\n",
        "    ax.set_ylabel('Normalized Values')\n",
        "    ax.legend(loc=2)\n",
        "\n",
        "\n",
        "    if zoom_in:\n",
        "      # Inset plot for zoom-in\n",
        "      ax_inset = inset_axes(ax, width=\"30%\", height=\"30%\", loc=1)  # loc=1 is upper right\n",
        "      ax_inset.plot(t[zoom_range[0]:zoom_range[1]], k[zoom_range[0]:zoom_range[1]], color='blue')\n",
        "      ax_inset.plot(t_input[zoom_range[0]:zoom_range[1]], input_norm_not_transient[zoom_range[0]:zoom_range[1]], color='green', alpha=0.5)\n",
        "      ax_inset.set_xlim(zoom_range[0], zoom_range[1])\n",
        "      ax_inset.set_title(\"Zoomed In\")\n",
        "\n",
        "    plt.show()\n"
      ]
    },
    {
      "cell_type": "code",
      "source": [
        "# No normalization\n",
        "\n",
        "def states_average_plot_w_input_data_2(X, N, T,input_data, input_name, output_name=\"Average States\", title=None, t_transient=0, t_end=None, window_size=10, running_avg=False, zoom_in=False, zoom_range=(100, 200)):\n",
        "    # If t_end is not provided, use the last timestep\n",
        "\n",
        "    T = X.shape[1]\n",
        "    N = X.shape[0]\n",
        "    if t_end is None:\n",
        "      if X.ndim == 1:\n",
        "        t_end = X.shape[0]\n",
        "      else:\n",
        "        t_end = X.shape[1]\n",
        "\n",
        "    # Average of X\n",
        "    Xnotransient = X[:, t_transient:t_end]  # Python uses 0-based indexing\n",
        "    k = np.mean(Xnotransient, axis=0)\n",
        "\n",
        "    input_norm_not_transient = input_data[t_transient:t_end]\n",
        "\n",
        "    # Create a vector for the x-axis representing T increments\n",
        "    t = np.arange(t_transient, t_end)\n",
        "    t_input = np.arange(t_transient, t_end)  # Assuming Lorenz data has the same timestep as X\n",
        "\n",
        "    if running_avg:\n",
        "        # Compute the running average\n",
        "        run_avg = calculate_running_average(k, window_size)\n",
        "        t_run_avg = t[:len(run_avg)]  # This slices the t array to match the length of run_avg\n",
        "\n",
        "    # Main plot\n",
        "    fig, ax = plt.subplots(figsize=(10,6))\n",
        "    ax.plot(t, k, label=f'{output_name}')\n",
        "    if running_avg:\n",
        "        ax.plot(t_run_avg, run_avg, label='Running Average', color='red')\n",
        "    ax.plot(t_input, input_norm_not_transient, label=f'{input_name}', color='green', alpha=0.5)\n",
        "\n",
        "    #if title is None:\n",
        "    #  ax.set_title(f'{output_name} with {input_name}')\n",
        "    #else:\n",
        "   #   ax.set_title(f'{title}')\n",
        "    ax.set_xlabel('Timestep', fontsize=16)\n",
        "    ax.legend(loc=2, fontsize=16)\n",
        "    plt.tick_params(axis='both', labelsize=16)\n",
        "\n",
        "    if zoom_in:\n",
        "      # Inset plot for zoom-in\n",
        "      ax_inset = inset_axes(ax, width=\"30%\", height=\"30%\", loc=1)  # loc=1 is upper right\n",
        "      ax_inset.plot(t[zoom_range[0]:zoom_range[1]], k[zoom_range[0]:zoom_range[1]], color='blue')\n",
        "      ax_inset.plot(t_input[zoom_range[0]:zoom_range[1]], input_norm_not_transient[zoom_range[0]:zoom_range[1]], color='green', alpha=0.5)\n",
        "      ax_inset.set_xlim(zoom_range[0], zoom_range[1])\n",
        "      ax_inset.set_title(\"Zoomed In\")\n",
        "\n",
        "    plt.show()"
      ],
      "metadata": {
        "id": "3eJeKwbqYxOF"
      },
      "execution_count": null,
      "outputs": []
    },
    {
      "cell_type": "code",
      "source": [
        "# From Reservoir 2.8\n",
        "import numpy as np\n",
        "import matplotlib.pyplot as plt\n",
        "from mpl_toolkits.axes_grid1.inset_locator import inset_axes\n",
        "\n",
        "def states_average_plot_w_input_data_3(X, N, T,input_data, input_name, output_name=\"Average States\", title=None, t_transient=0, t_end=None, window_size=10, running_avg=False, zoom_in=False, zoom_range=(100, 200)):\n",
        "    # If t_end is not provided, use the last timestep\n",
        "    if t_end is None:\n",
        "      if X.ndim == 1:\n",
        "        t_end = X.shape[0]\n",
        "      else:\n",
        "        t_end = X.shape[1]\n",
        "\n",
        "    # Average of X\n",
        "    Xnotransient = X[:, t_transient:t_end]  # Python uses 0-based indexing\n",
        "    k = np.mean(Xnotransient, axis=0)\n",
        "\n",
        "\n",
        "    # Normalize Lorenz data\n",
        "    input_mean = np.mean(input_data)\n",
        "    input_std = np.std(input_data)\n",
        "    k_std = np.std(k)\n",
        "    input_norm = (input_data - input_mean) / input_std * k_std\n",
        "    input_norm_not_transient = input_norm[t_transient:t_end]\n",
        "\n",
        "    # Create a vector for the x-axis representing T increments\n",
        "    t = np.arange(t_transient, t_end)\n",
        "    t_input = np.arange(t_transient, t_end)  # Assuming Lorenz data has the same timestep as X\n",
        "\n",
        "    if running_avg:\n",
        "        # Compute the running average\n",
        "        run_avg = calculate_running_average(k, window_size)\n",
        "        t_run_avg = t[:len(run_avg)]  # This slices the t array to match the length of run_avg\n",
        "\n",
        "    # Main plot\n",
        "    fig, ax = plt.subplots(figsize=(12,6))\n",
        "    ax.plot(t, k, label=f'{output_name}')\n",
        "    if running_avg:\n",
        "        ax.plot(t_run_avg, run_avg, label='Running Average', color='red')\n",
        "    ax.plot(t_input, input_norm_not_transient, label=f'Normalized {input_name}', color='green', alpha=0.5)\n",
        "\n",
        "    if title is None:\n",
        "      ax.set_title(f'{output_name} with Normalized {input_name}')\n",
        "    else:\n",
        "      ax.set_title(f'{title}')\n",
        "    ax.set_xlabel('Timestep')\n",
        "    ax.set_ylabel('Normalized Values')\n",
        "    ax.legend(loc=2)\n",
        "    ax.grid(True)\n",
        "\n",
        "    if zoom_in:\n",
        "      # Inset plot for zoom-in\n",
        "      ax_inset = inset_axes(ax, width=\"30%\", height=\"30%\", loc=1)  # loc=1 is upper right\n",
        "      ax_inset.plot(t[zoom_range[0]:zoom_range[1]], k[zoom_range[0]:zoom_range[1]], color='blue')\n",
        "      ax_inset.plot(t_input[zoom_range[0]:zoom_range[1]], input_norm_not_transient[zoom_range[0]:zoom_range[1]], color='green', alpha=0.5)\n",
        "      ax_inset.set_xlim(zoom_range[0], zoom_range[1])\n",
        "      ax_inset.set_title(\"Zoomed In\")\n",
        "\n",
        "    plt.show()\n"
      ],
      "metadata": {
        "id": "rWtXUQCMQbMO"
      },
      "execution_count": null,
      "outputs": []
    },
    {
      "cell_type": "code",
      "execution_count": null,
      "metadata": {
        "id": "iiU8TBNHgVSh"
      },
      "outputs": [],
      "source": [
        "import numpy as np\n",
        "import matplotlib.pyplot as plt\n",
        "from mpl_toolkits.axes_grid1.inset_locator import inset_axes\n",
        "\n",
        "def states_average_prediction(X, input_data, input_name, output_name=\"Average States\", title=None, t_transient=0, window_size=10, zoom_in=False, zoom_range=(100, 200),tick_labelsize=18, axis_labelsize=18):\n",
        "\n",
        "    T = X.shape[1]\n",
        "    N = X.shape[0]\n",
        "    k = np.mean(X, axis=0)\n",
        "    t_end = X.shape[0]\n",
        "    # Create a vector for the x-axis representing T increments\n",
        "    t = np.arange(0, t_end)\n",
        "\n",
        "\n",
        "    # Main plot\n",
        "    fig, ax = plt.subplots(figsize=(12,6))\n",
        "    ax.plot(t, k, label=f'{output_name}')\n",
        "    ax.plot(t, input_data, label=f' {input_name}', color='green', alpha=0.5)\n",
        "\n",
        "    if title is None:\n",
        "      ax.set_title(f'{output_name} with {input_name}')\n",
        "    else:\n",
        "      ax.set_title(f'{title}')\n",
        "\n",
        "    plt.tick_params(axis='both', labelsize=tick_labelsize)\n",
        "    plt.xlabel('Number of timesteps', fontsize=axis_labelsize)\n",
        "    plt.ylabel('Average of states', fontsize=axis_labelsize)\n",
        "    ax.legend(loc=2)\n",
        "\n",
        "    if zoom_in:\n",
        "      # Inset plot for zoom-in\n",
        "      ax_inset = inset_axes(ax, width=\"30%\", height=\"30%\", loc=1)  # loc=1 is upper right\n",
        "      ax_inset.plot(t[zoom_range[0]:zoom_range[1]], k[zoom_range[0]:zoom_range[1]], color='blue')\n",
        "      ax_inset.plot(t[zoom_range[0]:zoom_range[1]], input_data[zoom_range[0]:zoom_range[1]], color='green', alpha=0.5)\n",
        "      ax_inset.set_xlim(zoom_range[0], zoom_range[1])\n",
        "      ax_inset.set_title(\"Zoomed In\")\n",
        "\n",
        "    plt.show()\n"
      ]
    },
    {
      "cell_type": "markdown",
      "metadata": {
        "id": "BTqf8_gTRgvO"
      },
      "source": [
        "### Plot of Variance"
      ]
    },
    {
      "cell_type": "code",
      "execution_count": null,
      "metadata": {
        "id": "aErkccY8uDfU"
      },
      "outputs": [],
      "source": [
        "# Variance plot\n",
        "def states_variance_plot(X, t_transient=0, t_end=None, tick_labelsize=18, axis_labelsize=18):\n",
        "    import numpy as np\n",
        "    import matplotlib.pyplot as plt\n",
        "\n",
        "    T = X.shape[1]\n",
        "    N = X.shape[0]\n",
        "    # If t_end is not provided, use the last timestep\n",
        "    if t_end is None:\n",
        "        t_end = X.shape[1]\n",
        "\n",
        "    # Extract the non-transient part of X\n",
        "    Xnotransient = X[:, t_transient:t_end]  # Python uses 0-based indexing\n",
        "    v = np.var(Xnotransient, axis=0)\n",
        "\n",
        "    # Adjust the range of t to match the length of v\n",
        "    t = np.arange(t_transient, t_end)\n",
        "\n",
        "    plt.figure(figsize=(12,6))\n",
        "    plt.plot(t, v, linewidth=0.5)\n",
        "    plt.tick_params(axis='both', labelsize=tick_labelsize)\n",
        "    plt.xlabel('Number of timesteps', fontsize=axis_labelsize)\n",
        "    plt.ylabel('Variance of states', fontsize=axis_labelsize)\n",
        "    plt.show()\n",
        "\n"
      ]
    },
    {
      "cell_type": "markdown",
      "metadata": {
        "id": "W7CUcVQpRkN2"
      },
      "source": [
        "### Integrals"
      ]
    },
    {
      "cell_type": "code",
      "execution_count": null,
      "metadata": {
        "id": "qkn5MKV6ALYu"
      },
      "outputs": [],
      "source": [
        "def integral_of_spikes_old(X, treshold=10, window_size=10, running_avg= False, integral_analysis=False, f_min=None, f_max=None):\n",
        "\n",
        "    T = X.shape[1]\n",
        "\n",
        "    # Average of X\n",
        "    Xnotransient = X  # Assuming you want the entire matrix\n",
        "    k = np.mean(Xnotransient, axis=0)\n",
        "\n",
        "    # Compute the running average using the new function\n",
        "    if running_avg:\n",
        "        k = calculate_running_average(k, window_size)\n",
        "\n",
        "    # Shifted FFT\n",
        "    B_shift = np.fft.fftshift(np.fft.fft(k))\n",
        "    B_mag_shift = np.abs(B_shift)\n",
        "\n",
        "    # Create a frequency vector\n",
        "    n = len(k)  # Length of the signal\n",
        "    Fs = n / T  # Sampling frequency based on the provided T\n",
        "    dF = Fs / n  # Frequency resolution: 0.0001 if T=10000\n",
        "    f_values = np.arange(-Fs/2, Fs/2, dF)  # Frequency vector centered around zero\n",
        "\n",
        "    # Determine the indices corresponding to f_min and f_max\n",
        "    if f_min is not None:\n",
        "        idx_min = np.where(f_values >= f_min)[0][0]\n",
        "    else:\n",
        "        idx_min = 0\n",
        "\n",
        "    if f_max is not None:\n",
        "        idx_max = np.where(f_values <= f_max)[0][-1]\n",
        "    else:\n",
        "        idx_max = len(f_values) - 1\n",
        "\n",
        "    spike_count = 0\n",
        "    integrals = []\n",
        "    area_sum = 0\n",
        "\n",
        "    for i in range(idx_min, idx_max + 1):\n",
        "        amplitude = 0\n",
        "        if B_mag_shift[i] > treshold:\n",
        "            spike_count += 1\n",
        "            amplitude = B_mag_shift[i] - treshold\n",
        "            area_sum += amplitude*dF\n",
        "\n",
        "        integrals.append(amplitude * dF)\n",
        "\n",
        "\n",
        "    if integral_analysis:\n",
        "      return area_sum, integrals, spike_count\n",
        "    else:\n",
        "      return area_sum\n"
      ]
    },
    {
      "cell_type": "code",
      "execution_count": null,
      "metadata": {
        "id": "iwtAtCvH3suz"
      },
      "outputs": [],
      "source": [
        "def integral_of_spikes(X, threshold=10, window_size=10, running_avg= False, integral_analysis=False, f_min=None, f_max=None):\n",
        "\n",
        "    T = X.shape[1]\n",
        "\n",
        "    # Average of X\n",
        "    Xnotransient = X  # Assuming you want the entire matrix\n",
        "    k = np.mean(Xnotransient, axis=0)\n",
        "\n",
        "    # Compute the running average using the new function\n",
        "    if running_avg:\n",
        "        k = calculate_running_average(k, window_size)\n",
        "\n",
        "    # Shifted FFT\n",
        "    B_shift = np.fft.fftshift(np.fft.fft(k))\n",
        "    B_mag_shift = np.abs(B_shift)\n",
        "\n",
        "    # Create a frequency vector\n",
        "    n = len(k)  # Length of the signal\n",
        "    Fs = n / T  # Sampling frequency based on the provided T\n",
        "    dF = Fs / n  # Frequency resolution: 0.0001 if T=10000\n",
        "    f_values = np.arange(-Fs/2, Fs/2, dF)  # Frequency vector centered around zero\n",
        "\n",
        "    # Determine the indices corresponding to f_min and f_max\n",
        "    if f_min is not None:\n",
        "        idx_min = np.where(f_values >= f_min)[0][0]\n",
        "    else:\n",
        "        idx_min = 0\n",
        "\n",
        "    if f_max is not None:\n",
        "        idx_max = np.where(f_values <= f_max)[0][-1]\n",
        "    else:\n",
        "        idx_max = len(f_values) - 1\n",
        "\n",
        "    spike_count = 0\n",
        "    integrals = []\n",
        "    area_sum = 0\n",
        "\n",
        "    for i in range(idx_min, idx_max + 1):\n",
        "        amplitude = 0\n",
        "        if B_mag_shift[i] > threshold:\n",
        "            spike_count += 1\n",
        "            amplitude = B_mag_shift[i] - threshold\n",
        "            area_sum += amplitude*dF\n",
        "\n",
        "        integrals.append(amplitude * dF)\n",
        "\n",
        "\n",
        "    if integral_analysis:\n",
        "      return area_sum, integrals, spike_count\n",
        "    else:\n",
        "      return area_sum"
      ]
    },
    {
      "cell_type": "markdown",
      "metadata": {
        "id": "7dzSa1PtRqw9"
      },
      "source": [
        "### Plot of FFT"
      ]
    },
    {
      "cell_type": "code",
      "execution_count": null,
      "metadata": {
        "id": "_sLC1cHWvQmT"
      },
      "outputs": [],
      "source": [
        "def fft_plot(X, threshold=10, t_transient=0, t_end=None, f_min=None, f_max=None, integrals=None, running_avg=False, window_size=10, tick_labelsize=18, axis_labelsize=18):\n",
        "    # If t_end is not provided, use the last timestep\n",
        "    if t_end is None:\n",
        "        t_end = X.shape[1]\n",
        "    T = X.shape[1]\n",
        "    N = X.shape[0]\n",
        "    # Average of X\n",
        "    Xnotransient = X[:, t_transient:t_end]  # Python uses 0-based indexing\n",
        "    k = np.mean(Xnotransient, axis=0)\n",
        "\n",
        "    if running_avg:\n",
        "        # Compute the running average using the new function\n",
        "        k = calculate_running_average(k, window_size)\n",
        "\n",
        "    # Shifted FFT\n",
        "    B_shift = np.fft.fftshift(np.fft.fft(k))\n",
        "    B_mag_shift = np.abs(B_shift)\n",
        "\n",
        "    # Create a frequency vector\n",
        "    n = len(k)  # Length of the signal\n",
        "    Fs = n / T  # Sampling frequency based on the provided T\n",
        "    dF = Fs / n  # Frequency resolution\n",
        "    f = np.arange(-Fs/2, Fs/2, dF)  # Frequency vector centered around zero\n",
        "\n",
        "    # Plot the magnitude of the shifted FFT\n",
        "    plt.figure(figsize=(12,6))\n",
        "    plt.plot(f, B_mag_shift, linewidth=0.5)\n",
        "\n",
        "    # Add a horizontal line at the threshold value\n",
        "\n",
        "    if integrals is not None:\n",
        "        plt.axhline(y=threshold, color='r', linestyle='--', label=f'Threshold at {threshold}')\n",
        "        for i in range(len(integrals)):\n",
        "            if integrals[i] > 0:\n",
        "                plt.fill_between(f[i:i+2], threshold, threshold + integrals[i]/dF, color='gray', alpha=0.5)\n",
        "\n",
        "    if running_avg:\n",
        "      method = 'Running Average FFT'\n",
        "    else:\n",
        "      method = 'FFT'\n",
        "    plt.tick_params(axis='both', labelsize=tick_labelsize)\n",
        "    plt.xlabel('Frequency (Hertz)', fontsize=axis_labelsize)\n",
        "    plt.ylabel('Magnitude', fontsize=axis_labelsize)\n",
        "\n",
        "\n",
        "    # If frequency limits are provided, adjust the x-axis limits\n",
        "    if f_min is not None and f_max is not None:\n",
        "        plt.xlim([f_min, f_max])\n",
        "\n",
        "    # Add the legend\n",
        "    plt.legend()\n",
        "\n",
        "    plt.show()\n"
      ]
    },
    {
      "cell_type": "markdown",
      "metadata": {
        "id": "vqY-lvmoRs6M"
      },
      "source": [
        "### Plot of Power Spectrum"
      ]
    },
    {
      "cell_type": "code",
      "execution_count": null,
      "metadata": {
        "id": "sJ6qUOpTwEA3"
      },
      "outputs": [],
      "source": [
        "# Power spectrum\n",
        "def power_spectrum_plot(X, t_transient=0, t_end=None, f_min=None, f_max=None,tick_labelsize=18, axis_labelsize=18):\n",
        "    import numpy as np\n",
        "    import matplotlib.pyplot as plt\n",
        "\n",
        "    T = X.shape[1]\n",
        "    N = X.shape[0]\n",
        "    # If t_end is not provided, use the last timestep\n",
        "    if t_end is None:\n",
        "        t_end = X.shape[1]\n",
        "\n",
        "    # Average of X\n",
        "    Xnotransient = X[:, t_transient:t_end]  # Python uses 0-based indexing\n",
        "    k = np.mean(Xnotransient, axis=0)\n",
        "\n",
        "    B_shift = np.fft.fftshift(np.fft.fft(k))\n",
        "\n",
        "    # Create a frequency vector\n",
        "    n = len(k)  # Length of the signal\n",
        "    Fs = n / T  # Sampling frequency based on the provided T\n",
        "    dF = Fs / n  # Frequency resolution\n",
        "    f = np.arange(-Fs/2, Fs/2, dF)  # Frequency vector centered around zero\n",
        "\n",
        "    # Power Spectral Density\n",
        "    psdb = (1 / (Fs * n)) * np.abs(B_shift)**2\n",
        "\n",
        "    # Power spectral density plotted logarithmically\n",
        "    plt.figure(figsize=(12,6))\n",
        "    plt.semilogy(f, psdb, linewidth=0.5)\n",
        "    plt.tick_params(axis='both', labelsize=tick_labelsize)\n",
        "    plt.xlabel('Frequency (Hertz)', fontsize=axis_labelsize)\n",
        "    plt.ylabel('Log of Magnitude', fontsize=axis_labelsize)\n",
        "\n",
        "    # If frequency limits are provided, adjust the x-axis limits\n",
        "    if f_min is not None and f_max is not None:\n",
        "        plt.xlim([f_min, f_max])\n",
        "\n",
        "    plt.show()\n",
        "\n"
      ]
    },
    {
      "cell_type": "markdown",
      "metadata": {
        "id": "9_j4cc82Rw-0"
      },
      "source": [
        "### Pearson Correlation"
      ]
    },
    {
      "cell_type": "code",
      "execution_count": null,
      "metadata": {
        "id": "mG0Jzs0nKpTo"
      },
      "outputs": [],
      "source": [
        "def pearson_cor(X, tau=10):\n",
        "\n",
        "    # Average of X\n",
        "    Xnotransient = X  # Assuming you want the entire matrix\n",
        "    k = np.mean(Xnotransient, axis=0)\n",
        "    k_2 = np.mean(k)\n",
        "\n",
        "    sum = 0\n",
        "    sum_2 = 0\n",
        "\n",
        "    for i in range(len(k)-tau):\n",
        "      averages_diff_now = k[i]-k_2 # difference between average of state vecors and average overall\n",
        "      averages_diff_future = k[i+tau]-k_2 # difference between average of state vectors in tau increments and average overall\n",
        "      sum += averages_diff_now * averages_diff_future\n",
        "\n",
        "    # Variance^2\n",
        "    for j in range(len(k)-tau):\n",
        "      averages_diff_now_2 = k[j]-k_2\n",
        "      sum_2 +=  averages_diff_now_2**2\n",
        "\n",
        "    # Pearson Correlation\n",
        "    p = abs(sum/sum_2)\n",
        "\n",
        "    return p"
      ]
    },
    {
      "cell_type": "code",
      "execution_count": null,
      "metadata": {
        "id": "MxwGMHZOKvla"
      },
      "outputs": [],
      "source": [
        "def pear_list(X,future_time=50):\n",
        "  # Future time is what range of tau's we take. So in this case tau=1,2,3 ... 50\n",
        "  tau_list = []\n",
        "  pearson_list = []\n",
        "\n",
        "  for tau in range(future_time):\n",
        "    tau_list.append(tau)\n",
        "    pearson_list.append(pearson_cor(X,tau))\n",
        "\n",
        "  return pearson_list, tau_list"
      ]
    },
    {
      "cell_type": "code",
      "execution_count": null,
      "metadata": {
        "id": "qy0A01Ka5R3X"
      },
      "outputs": [],
      "source": [
        "def pear_avg(X, future_time=500, window_size=10):\n",
        "    pearson_list, tau_list = pear_list(X,future_time)\n",
        "    running_avg = calculate_running_average(pearson_list, window_size)\n",
        "\n",
        "    # Adjust the tau_list for the running average\n",
        "    adjusted_tau_list = tau_list[:len(running_avg)]\n",
        "    return pearson_list, tau_list, running_avg, adjusted_tau_list"
      ]
    },
    {
      "cell_type": "code",
      "execution_count": null,
      "metadata": {
        "id": "_X05MkyhK0MW"
      },
      "outputs": [],
      "source": [
        "def pear_graph(X, avg=False,integrals=None, treshold=0, future_time=500, window_size=10,tick_labelsize=18, axis_labelsize=18):\n",
        "    import matplotlib.pyplot as plt\n",
        "\n",
        "    pearson_list, tau_list, running_avg, adjusted_tau_list = pear_avg(X,future_time=future_time, window_size=10)\n",
        "    dF=1/future_time\n",
        "    f=np.arange(future_time)\n",
        "    # Plot average of states\n",
        "    plt.figure(figsize=(12,6))\n",
        "    plt.plot(tau_list, pearson_list, label='Pearson Correlation')\n",
        "    if avg:\n",
        "      plt.plot(adjusted_tau_list, running_avg, label='Running Average', color='red')\n",
        "\n",
        "    if integrals != None:\n",
        "      for i in range(len(integrals)):\n",
        "        if integrals[i] > 0:\n",
        "            # Assuming tau_list contains the corresponding x-coordinates\n",
        "            x_range = [tau_list[i], tau_list[i+1]] if i+1 < len(tau_list) else [tau_list[i], tau_list[i] + 1]\n",
        "            plt.fill_between(x_range, [treshold, treshold], [treshold, treshold + integrals[i]], color='gray', alpha=0.75)\n",
        "\n",
        "    plt.tick_params(axis='both', labelsize=tick_labelsize)\n",
        "    plt.xlabel('Timesteps in future', fontsize=axis_labelsize)\n",
        "    plt.ylabel('Pearson Correlation', fontsize=axis_labelsize)\n",
        "    plt.legend()\n",
        "    plt.show()"
      ]
    },
    {
      "cell_type": "code",
      "execution_count": null,
      "metadata": {
        "id": "7WdrEL4jN24H"
      },
      "outputs": [],
      "source": [
        "def pear_in_ft(X, future_time=500, window_size=10):\n",
        "   pearson_list, tau_list= pear_list(X,future_time)\n",
        "   running_avg = calculate_running_average(pearson_list,window_size)\n",
        "   return running_avg[-1]"
      ]
    },
    {
      "cell_type": "code",
      "execution_count": null,
      "metadata": {
        "id": "TL5zpGHpf-nK"
      },
      "outputs": [],
      "source": [
        "def pearson_integral(X, integral_analysis=True, treshold=0, future_time=500, window_size=10):\n",
        "    pearson_list, tau_list, running_avg, adjusted_tau_list = pear_avg(X,future_time, window_size)\n",
        "    dF = 1 / future_time  # Sampling frequency based on the provided T\n",
        "    integrals = []\n",
        "    area_sum = 0\n",
        "\n",
        "    for i in range(future_time):\n",
        "        amplitude = 0\n",
        "        if running_avg[i] > treshold:\n",
        "            amplitude = running_avg[i] - treshold\n",
        "            area_sum += amplitude*1\n",
        "\n",
        "        integrals.append(amplitude * 1)\n",
        "    if integral_analysis:\n",
        "      return area_sum, integrals\n",
        "    else:\n",
        "      return area_sum"
      ]
    },
    {
      "cell_type": "markdown",
      "metadata": {
        "id": "dERzudhXR0vh"
      },
      "source": [
        "### Grid Heatmap"
      ]
    },
    {
      "cell_type": "code",
      "execution_count": null,
      "metadata": {
        "id": "VLOC2wbjhODE"
      },
      "outputs": [],
      "source": [
        "import seaborn as sns\n",
        "import matplotlib.pyplot as plt\n",
        "import numpy as np\n",
        "from matplotlib.ticker import FuncFormatter\n",
        "def plot_heatmap(data_matrix, x_labels, y_labels, v_min=None, v_max=None, x_label_name='X-axis', y_label_name='Y-axis', title='Heatmap', figsize=(10, 6), fmt='.2f'):\n",
        "    # Calculate the median or mean value to set as the center of the colormap\n",
        "    avg_val = np.average(data_matrix)\n",
        "\n",
        "    if v_min is None and v_max is None:\n",
        "      v_min = np.min(data_matrix)\n",
        "      v_max = np.max(data_matrix)\n",
        "    # Define a custom annotation function\n",
        "    def fmt_func(x, pos):\n",
        "        if x >= 1000:\n",
        "            return f'{x/1000:.0f}k'\n",
        "        elif x >= 10:\n",
        "            return f'{x:.0f}'\n",
        "        else:\n",
        "            return f'{x:.1f}'\n",
        "    # Center the colormap at the median value\n",
        "    plt.figure(figsize=figsize)\n",
        "    sns.heatmap(data_matrix, annot=True, cmap='viridis',\n",
        "                xticklabels=x_labels, yticklabels=y_labels, fmt=fmt,\n",
        "                vmin=v_min, vmax=v_max,\n",
        "                cbar_kws={'format': FuncFormatter(fmt_func)})  # Adjust vmin and vmax if necessary\n",
        "\n",
        "    plt.xlabel(f'{x_label_name} values')\n",
        "    plt.ylabel(f'{y_label_name} values')\n",
        "\n",
        "\n",
        "    plt.show()"
      ]
    },
    {
      "cell_type": "markdown",
      "metadata": {
        "id": "3ukuxV_-R5_X"
      },
      "source": [
        "### Grid function"
      ]
    },
    {
      "cell_type": "code",
      "execution_count": null,
      "metadata": {
        "id": "X9ag2WDnhUk8"
      },
      "outputs": [],
      "source": [
        "def grid(F, conn, T=1000, N=100, epsilon=0.2, rho=0.8, alpha=0.8, chaos_measure='fft integrals', treshold=10):\n",
        "    # With this function you can grid search most chaotic hyperparameters\n",
        "    S = []\n",
        "    # The later parameter in list will be in rows.\n",
        "    hyperparameters = {'N': N, 'epsilon': epsilon, 'rho': rho, 'alpha': alpha }\n",
        "    par_to_grid = []\n",
        "\n",
        "    for key, value in hyperparameters.items():\n",
        "        if isinstance(value, list):\n",
        "            par_to_grid.append((key, value))\n",
        "\n",
        "    class CustomError(Exception):\n",
        "        pass\n",
        "\n",
        "    if len(par_to_grid) != 2:\n",
        "        raise CustomError(\"This function accepts only 2 parameters as lists!\")\n",
        "\n",
        "    key1, var1 = par_to_grid[0]\n",
        "    key2, var2 = par_to_grid[1]\n",
        "\n",
        "    total_iterations = len(var1) * len(var2)\n",
        "    current_iteration = 0\n",
        "\n",
        "    for i in range(len(var1)):\n",
        "        row = []\n",
        "        for j in range(len(var2)):\n",
        "            current_iteration += 1\n",
        "            print(f\"Processing {key1}={var1[i]}, {key2}={var2[j]} ... ({current_iteration}/{total_iterations})\")\n",
        "\n",
        "            # Update the hyperparameters dictionary\n",
        "            hyperparameters[key1] = var1[i]\n",
        "            hyperparameters[key2] = var2[j]\n",
        "\n",
        "            # compute_state_matrix(F, connectivity, N, epsilon, rho, alpha, T,\n",
        "                         #Lapl=True, ex_time=False):\n",
        "            X, _, _, _, _, _, _ = compute_state_matrix(F, conn, **hyperparameters, T=T)\n",
        "            if chaos_measure == 'fft integrals':\n",
        "              row.append(integral_of_spikes(X, treshold))\n",
        "            elif chaos_measure == 'spikes':\n",
        "              # def integral_of_spikes(X, threshold=10, window_size=10, running_avg= False, integral_analysis=False, f_min=None, f_max=None)\n",
        "              _,_,spikes = integral_of_spikes(X,5,10,False,True)\n",
        "              row.append(spikes)\n",
        "            elif chaos_measure == 'pearson':\n",
        "              row.append(pear_in_ft(X, future_time=100))\n",
        "            elif chaos_measure == 'pearson integrals':\n",
        "              row.append(pearson_integral(X, integral_analysis=False))\n",
        "            else:\n",
        "              raise CustomError(f\"{chaos_measure} is invalid: please specify -integrals- or -spikes- or -pearson-\")\n",
        "        S.append(row)\n",
        "\n",
        "    return S\n"
      ]
    },
    {
      "cell_type": "code",
      "execution_count": null,
      "metadata": {
        "id": "v1lnG8lHmnB5"
      },
      "outputs": [],
      "source": [
        "def grid_prediction(input_data, train_data, T_transient=2000, T_training=5000, T_prediction=2000,\n",
        "                    N=100, epsilon=0.2, rho=0.8, alpha=0.8, tau=1, b_in=1, b_out=1,\n",
        "                    regulization=0, color='RMSE', F=F_identity):\n",
        "    # With this function you can grid whatever you need for prediction\n",
        "    # Color is written like that as it is color the heatmap will use\n",
        "    # Here if grid is N and rho then\n",
        "    # S rows will be wrt to rho\n",
        "    # S columns will be wrt to N\n",
        "\n",
        "    S = []\n",
        "    hyperparameters = {'N': N, 'epsilon': epsilon, 'alpha': alpha, 'rho': rho }\n",
        "    par_to_grid = []\n",
        "\n",
        "    for key, value in hyperparameters.items():\n",
        "        if isinstance(value, list):\n",
        "            par_to_grid.append((key, value))\n",
        "\n",
        "    class CustomError(Exception):\n",
        "        pass\n",
        "\n",
        "    if len(par_to_grid) != 2:\n",
        "        raise CustomError(\"This function accepts only 2 parameters as lists!\")\n",
        "\n",
        "    key1, var1 = par_to_grid[0]\n",
        "    key2, var2 = par_to_grid[1]\n",
        "\n",
        "    total_iterations = len(var1) * len(var2)\n",
        "    current_iteration = 0\n",
        "\n",
        "    for i in range(len(var1)):\n",
        "        row = []\n",
        "        for j in range(len(var2)):\n",
        "            current_iteration += 1\n",
        "            print(f\"Processing {key1}={var1[i]}, {key2}={var2[j]} ... ({current_iteration}/{total_iterations})\")\n",
        "\n",
        "            # Update the hyperparameters dictionary\n",
        "            hyperparameters[key1] = var1[i]\n",
        "            hyperparameters[key2] = var2[j]\n",
        "\n",
        "            # Unpack the dictionary when calling the function\n",
        "            X,N,epsilon,rho,T_transient, T_training, T_prediction, alpha, Y, tau, W = network(\n",
        "                **hyperparameters, T_transient=T_transient, T_training=T_training, T_prediction=T_prediction,\n",
        "                tau=tau,\n",
        "                input_data=input_data, output_data=train_data, b_in=b_in, b_out=b_out, regulization=regulization, F=F)\n",
        "            \"\"\"\n",
        "            if color == 'integrals':\n",
        "              row.append(integral_of_spikes(X, T, treshold))\n",
        "            elif color == 'spikes':\n",
        "              row.append(spike_count(X,T,treshold))\n",
        "            elif color == 'pearson':\n",
        "              row.append(pear_in_ft(X, future_time=100))\n",
        "            elif color == 'pearson integrals':\n",
        "              row.append(pearson_integral(X, integral_analysis=False))\n",
        "            \"\"\"\n",
        "            if color == 'RMSE':\n",
        "              overall_rmse, _ = rmse(input_data[0,(T_transient+T_training+tau):(T_transient+T_training+T_prediction+tau)], Y[0,:])\n",
        "              row.append(overall_rmse)\n",
        "            else:\n",
        "              raise CustomError(f\"{color} is invalid: please specify -integrals- or -spikes- or -pearson- or -RMSE-\")\n",
        "        S.append(row)\n",
        "\n",
        "    return S\n"
      ]
    },
    {
      "cell_type": "markdown",
      "metadata": {
        "id": "TrA9HTr5SyHb"
      },
      "source": [
        "### Simulation of dynamical systems"
      ]
    },
    {
      "cell_type": "code",
      "execution_count": null,
      "metadata": {
        "id": "z1gz3t00S4BM"
      },
      "outputs": [],
      "source": [
        "def lorenz_system(t, x, y ,z, a, b, c):\n",
        "    import numpy as np\n",
        "    dxdt = -a * x + a * y\n",
        "    dydt = c * x - y - x * z\n",
        "    dzdt = -b * z + x * y\n",
        "    return np.array([dxdt, dydt, dzdt])"
      ]
    },
    {
      "cell_type": "code",
      "execution_count": null,
      "metadata": {
        "id": "VA8EVT3DTE12"
      },
      "outputs": [],
      "source": [
        "def rossler_system(t, x, y, z, a, b, c):\n",
        "    dx = -y - z\n",
        "    dy = x + a*y\n",
        "    dz = b + z*(x-c)\n",
        "    return np.array([dx, dy, dz])\n",
        "\n",
        "def euler_method(f, t0, x0, y0, z0, a, b, c, h, steps):\n",
        "    t = t0\n",
        "    x, y, z = x0, y0, z0\n",
        "    trajectory = [(x, y, z)]\n",
        "\n",
        "    for _ in range(steps):\n",
        "        dx, dy, dz = f(t, x, y, z, a, b, c)\n",
        "        x += h * dx\n",
        "        y += h * dy\n",
        "        z += h * dz\n",
        "        trajectory.append((x, y, z))\n",
        "        t += h  # Increment the time\n",
        "\n",
        "    return trajectory"
      ]
    },
    {
      "cell_type": "code",
      "execution_count": null,
      "metadata": {
        "id": "AX47dm0XTe_6"
      },
      "outputs": [],
      "source": [
        "def rk4(f, t0, x0, y0, z0, a, b, c, h, steps, sampling_rate=1):\n",
        "    t = t0\n",
        "    w = np.array([x0, y0, z0])\n",
        "    trajectory = [w]\n",
        "\n",
        "    for _ in range(0,steps-1):\n",
        "        k1 = h * f(t, *w, a, b, c)\n",
        "        k2 = h * f(t + 0.5*h, *(w + 0.5*k1), a, b, c)\n",
        "        k3 = h * f(t + 0.5*h, *(w + 0.5*k2), a, b, c)\n",
        "        k4 = h * f(t + h, *(w + k3), a, b, c)\n",
        "\n",
        "        w = w + (k1 + 2*k2 + 2*k3 + k4) / 6.0\n",
        "        trajectory.append(w)\n",
        "        t += h\n",
        "    if sampling_rate!=1:\n",
        "      sampling_trajectory=[]\n",
        "      for i in range(0,steps-1,sampling_rate):\n",
        "        sampling_trajectory.append(trajectory[i])\n",
        "      return sampling_trajectory\n",
        "    else:\n",
        "      return trajectory"
      ]
    },
    {
      "cell_type": "code",
      "execution_count": null,
      "metadata": {
        "id": "EqobuIAaTMo0"
      },
      "outputs": [],
      "source": [
        "def dynamical_syst_graph(*args):\n",
        "    import matplotlib.pyplot as plt\n",
        "    num_dimensions = len(args)\n",
        "\n",
        "    # Create a figure\n",
        "    fig = plt.figure(figsize=(10, 8))\n",
        "\n",
        "    if num_dimensions == 1:\n",
        "        # 1D plot\n",
        "        plt.plot(args[0], lw=0.5, color='blue')\n",
        "        plt.xlabel(\"Time Steps\", color='black')\n",
        "        plt.ylabel(\"X\", color='black')\n",
        "        plt.title(\"1D Dynamical System\", color='black')\n",
        "\n",
        "    elif num_dimensions == 2:\n",
        "        # 2D plot\n",
        "        plt.plot(args[0], args[1], lw=0.5, color='black')\n",
        "        plt.xlabel(\"X\", color='black', fontsize=16)\n",
        "        plt.ylabel(\"Y\", color='black', fontsize=16)\n",
        "        #plt.title(\"\", color='black')\n",
        "        plt.tick_params(axis='both', labelsize=16)\n",
        "\n",
        "    elif num_dimensions == 3:\n",
        "        # 3D plot\n",
        "        ax = fig.add_subplot(111, projection='3d', frame_on=False)\n",
        "        ax.plot(args[0], args[1], args[2], lw=0.5, color='black')\n",
        "\n",
        "        # Add a dot for the initial conditions\n",
        "        ax.scatter([args[0][0]], [args[1][0]], [args[2][0]], color='red', s=25, label='Initial Condition')\n",
        "        ax.legend()\n",
        "\n",
        "        plt.tick_params(labelsize=12)\n",
        "        ax.set_xlabel(\"X\", color='black', fontsize=16)\n",
        "        ax.set_ylabel(\"Y\", color='black', fontsize=16)\n",
        "        ax.set_zlabel(\"Z\", color='black', fontsize=12)\n",
        "        #ax.set_title(\"3D Dynamical System\", color='black')\n",
        "\n",
        "    else:\n",
        "        raise ValueError(\"Unsupported number of dimensions. Please provide 1, 2, or 3 dimensions.\")\n",
        "\n",
        "    plt.show()"
      ]
    },
    {
      "cell_type": "code",
      "execution_count": null,
      "metadata": {
        "id": "nfuVN-ddTq50"
      },
      "outputs": [],
      "source": [
        "def dynamical_syst_interactive_graph(xs,ys,zs, method, name):\n",
        "  import plotly.graph_objects as go\n",
        "\n",
        "\n",
        "  # Create the 3D plot\n",
        "  fig = go.Figure(data=[go.Scatter3d(x=xs, y=ys, z=zs, mode='lines')])\n",
        "\n",
        "  # Set the title and axis labels\n",
        "  fig.update_layout(scene=dict(\n",
        "                      xaxis_title='X Axis',\n",
        "                      yaxis_title='Y Axis',\n",
        "                      zaxis_title='Z Axis'),\n",
        "                    title=f\"{name} using {method} Method\")\n",
        "\n",
        "  # Show the plot\n",
        "  fig.show()"
      ]
    },
    {
      "cell_type": "markdown",
      "metadata": {
        "id": "D7fA33-8gsZB"
      },
      "source": [
        "### Root mean squared error function"
      ]
    },
    {
      "cell_type": "code",
      "execution_count": null,
      "metadata": {
        "id": "pv0or5AggrW1"
      },
      "outputs": [],
      "source": [
        "import math\n",
        "\n",
        "def rmse(real, predicted):\n",
        "    # Ensure real and predicted have the same length\n",
        "    if len(real) != len(predicted):\n",
        "        raise ValueError(f\"The length of real{len(real)} and predicted {len(predicted)} must be the same\")\n",
        "\n",
        "    # Calculate the RMSE for each prediction and overall RMSE\n",
        "    n = len(real)\n",
        "    individual_errors = []\n",
        "    error_sum = 0\n",
        "\n",
        "    for r, p in zip(real, predicted):\n",
        "        error = (r - p) ** 2\n",
        "        individual_errors.append(math.sqrt(error))\n",
        "        error_sum += error\n",
        "\n",
        "    overall_rmse = math.sqrt(error_sum / n)\n",
        "\n",
        "    return overall_rmse, individual_errors"
      ]
    },
    {
      "cell_type": "markdown",
      "source": [
        "### Degree investigation"
      ],
      "metadata": {
        "id": "12Y0tGalPCFd"
      }
    },
    {
      "cell_type": "code",
      "source": [
        "import seaborn as sns\n",
        "import matplotlib.pyplot as plt\n",
        "\n",
        "def degrees_distribution(W):\n",
        "  # Count nonzero entries in each column\n",
        "  nonzero_counts = np.count_nonzero(W, axis=1)\n",
        "\n",
        "  # Convert numpy array to a list and save it into 'degrees'\n",
        "  degrees = nonzero_counts.tolist()\n",
        "\n",
        "  # Draw the distribution plot\n",
        "  sns.histplot(degrees, kde=True, bins=len(set(degrees)))  # 'kde=True' adds a density curve\n",
        "\n",
        "  plt.tick_params(axis='both', labelsize=14)\n",
        "  # Adding labels and title for clarity\n",
        "  plt.xlabel('Degree', fontsize=14)\n",
        "  plt.ylabel('Frequency', fontsize=14)\n",
        "\n",
        "  plt.show()"
      ],
      "metadata": {
        "id": "RIeDmpILPCFd"
      },
      "execution_count": null,
      "outputs": []
    },
    {
      "cell_type": "code",
      "source": [
        "import seaborn as sns\n",
        "import matplotlib.pyplot as plt\n",
        "\n",
        "def weighted_degrees_distribution(W,N):\n",
        "  # Convert numpy array to a list and save it into 'degrees'\n",
        "  ks = weighted_degrees_unsorted(W,N)\n",
        "\n",
        "  # Draw the distribution plot\n",
        "  sns.histplot(ks, kde=True, bins=16)  # 'kde=True' adds a density curve\n",
        "\n",
        "  plt.tick_params(axis='both', labelsize=14)\n",
        "  # Adding labels and title for clarity\n",
        "  plt.xlabel('Weighted Degree', fontsize=14)\n",
        "  plt.ylabel('Frequency', fontsize=14)\n",
        "\n",
        "  plt.show()"
      ],
      "metadata": {
        "id": "Gcw-TtyHFoJR"
      },
      "execution_count": null,
      "outputs": []
    },
    {
      "cell_type": "code",
      "source": [
        "import numpy as np\n",
        "\n",
        "def weighted_degrees(W, N):\n",
        "    ks = []  # Start with an empty list to store the weighted degrees\n",
        "    for i in range(N):  # Ensure the loop iterates over the range of neuron indices\n",
        "        k_hat_i = np.sum(W[i, :])  # Calculate the weighted degree for neuron i\n",
        "        ks.append(k_hat_i)  # Append the calculated weighted degree to the list\n",
        "        ks.sort()\n",
        "    return np.array(ks)  # Convert the list of weighted degrees to a numpy array and return it\n"
      ],
      "metadata": {
        "id": "Y_SJvpCzPCFd"
      },
      "execution_count": null,
      "outputs": []
    },
    {
      "cell_type": "code",
      "source": [
        "def weighted_degrees_unsorted(W, N):\n",
        "    ks = []  # Start with an empty list to store the weighted degrees\n",
        "    for i in range(N):  # Ensure the loop iterates over the range of neuron indices\n",
        "        k_hat_i = np.sum(W[i, :])  # Calculate the weighted degree for neuron i\n",
        "        ks.append(k_hat_i)  # Append the calculated weighted degree to the list\n",
        "\n",
        "    return np.array(ks)  # Convert the list of weighted degrees to a numpy array and return it\n"
      ],
      "metadata": {
        "id": "uUk3i2U5p2QS"
      },
      "execution_count": null,
      "outputs": []
    },
    {
      "cell_type": "code",
      "source": [
        "import matplotlib.pyplot as plt\n",
        "\n",
        "def plot_weighted_degrees(ks, x_label=\"Sorted Neuron Index\"):\n",
        "    # Assuming ks is a numpy array of weighted degrees for each neuron\n",
        "    N = len(ks)  # Number of neurons\n",
        "\n",
        "    # Create a figure and axis for the plot\n",
        "    plt.figure(figsize=(10, 6))\n",
        "\n",
        "    # Plot ks against neuron indices\n",
        "    plt.plot(range(N), ks, marker='o', linestyle='-', color='b')\n",
        "\n",
        "\n",
        "    plt.tick_params(axis='both', labelsize=14)\n",
        "    # Add title and labels\n",
        "    plt.xlabel(f'{x_label}', fontsize=14)\n",
        "    plt.ylabel('Weighted Degree', fontsize=14)\n",
        "\n",
        "    # Show the plot\n",
        "    plt.show()"
      ],
      "metadata": {
        "id": "LfbHamzmPCFe"
      },
      "execution_count": null,
      "outputs": []
    },
    {
      "cell_type": "markdown",
      "source": [
        "### Neuron specific investigation"
      ],
      "metadata": {
        "id": "oMdUN2YkPdcN"
      }
    },
    {
      "cell_type": "code",
      "source": [
        "import numpy as np\n",
        "\n",
        "def vec_of_specific_X_row(X, W, index=None):\n",
        "    # Count nonzero entries in each column to get the degrees\n",
        "    nonzero_counts = np.count_nonzero(W, axis=0)\n",
        "\n",
        "    if index == None:\n",
        "      # Find the index of the column with the maximum degree\n",
        "      index = np.argmax(nonzero_counts)\n",
        "\n",
        "    # Extract and return the specific X row and degree of neuron {index}\n",
        "    return X[:, index], nonzero_counts[index]"
      ],
      "metadata": {
        "id": "VeVaL7CGPCFe"
      },
      "execution_count": null,
      "outputs": []
    },
    {
      "cell_type": "code",
      "source": [
        "import numpy as np\n",
        "\n",
        "def vec_of_spec_X_row_weighted(X,W, N, index=None):\n",
        "    # this function is different from the vec_of_specific_X_row as it returns weighted degree instead of degree\n",
        "    # Get sorted weighted degrees\n",
        "    ks = weighted_degrees(W,N)\n",
        "\n",
        "    if index == None:\n",
        "      # Find the index of the column with the degree\n",
        "      index = np.argmax(ks)\n",
        "\n",
        "    # Extract and return the state row with the degree specified and weighted degree of\n",
        "    return X[index, :], ks[index], index\n"
      ],
      "metadata": {
        "id": "U7uLPMUrPCFe"
      },
      "execution_count": null,
      "outputs": []
    },
    {
      "cell_type": "code",
      "source": [
        "import numpy as np\n",
        "\n",
        "def find_spikes(vector):\n",
        "    # Initialize two empty lists to store spike and valley values\n",
        "    spikes = []\n",
        "    valleys = []\n",
        "\n",
        "    # Iterate through the vector, skipping the first and last elements\n",
        "    for i in range(1, len(vector) - 1):\n",
        "        # Check if the current value is greater than its neighbors (spike)\n",
        "        if vector[i] > vector[i - 1] and vector[i] > vector[i + 1]:\n",
        "            spikes.append(vector[i])\n",
        "        # Check if the current value is less than its neighbors (valley)\n",
        "        elif vector[i] < vector[i - 1] and vector[i] < vector[i + 1]:\n",
        "            spikes.append(vector[i])\n",
        "\n",
        "    return spikes"
      ],
      "metadata": {
        "id": "EUTKY-ExPCFe"
      },
      "execution_count": null,
      "outputs": []
    },
    {
      "cell_type": "code",
      "source": [
        "def print_neuron_degrees(W, N, neuron_indices):\n",
        "    \"\"\"\n",
        "    Print the degrees of specified neurons based on the weighted adjacency matrix W.\n",
        "\n",
        "    Parameters:\n",
        "    - W: Weighted adjacency matrix (numpy array) of the network.\n",
        "    - N: Total number of neurons.\n",
        "    - neuron_indices: List of neuron indices for which to print the degrees.\n",
        "    \"\"\"\n",
        "\n",
        "    ks = weighted_degrees(W, N)  # Assuming this function returns an array of degrees for each neuron\n",
        "\n",
        "    # Ensure neuron_indices are within the range of available neurons\n",
        "    valid_indices = [index for index in neuron_indices if index < N]\n",
        "\n",
        "    print(\"Neuron Degrees:\")\n",
        "    for index in valid_indices:\n",
        "        print(f\"Neuron {index}: Degree {ks[index]}\")\n"
      ],
      "metadata": {
        "id": "yOOhPVXtgKYy"
      },
      "execution_count": null,
      "outputs": []
    },
    {
      "cell_type": "code",
      "source": [
        "def find_similar_weighted_degrees(W, N, wd, epsilon):\n",
        "    # First, calculate the weighted degrees for all neurons\n",
        "    ks = weighted_degrees_unsorted(W,N)\n",
        "    # Get the weighted degree of the i-th neuron\n",
        "\n",
        "\n",
        "    # Find indices of all neurons with weighted degrees similar to the i-th neuron within epsilon\n",
        "    similar_indices = []\n",
        "    for j, k in enumerate(ks):  # Loop through each index and weighted degree\n",
        "        if abs(k - wd) <= epsilon:  # Check if the weighted degree is similar\n",
        "            similar_indices.append(j)  # Add the index to the list\n",
        "\n",
        "\n",
        "    # Return the indices and their corresponding weighted degrees\n",
        "    similar_degrees = []\n",
        "    for j in similar_indices:  # Loop through each index of similar neurons\n",
        "        similar_degrees.append(ks[j])  # Add the weighted degree to the list\n",
        "\n",
        "    return similar_indices, similar_degrees"
      ],
      "metadata": {
        "id": "sB3hVv8fPCFf"
      },
      "execution_count": null,
      "outputs": []
    },
    {
      "cell_type": "code",
      "source": [
        "import numpy as np\n",
        "\n",
        "def find_weighted_degrees_around_value(W, N, target_value, epsilon):\n",
        "    # Calculate the weighted degrees for all neurons\n",
        "    ks = weighted_degrees(W,N)\n",
        "\n",
        "    # Find indices of all neurons with weighted degrees within epsilon of the target value\n",
        "    similar_indices = [j for j, k in enumerate(ks) if abs(k - target_value) <= epsilon]\n",
        "\n",
        "    # Retrieve the corresponding weighted degrees for these indices\n",
        "    similar_degrees = [ks[j] for j in similar_indices]\n",
        "\n",
        "    return similar_indices, similar_degrees"
      ],
      "metadata": {
        "id": "c6hjjxEzPCFf"
      },
      "execution_count": null,
      "outputs": []
    },
    {
      "cell_type": "markdown",
      "source": [
        "### Plot specific neurons"
      ],
      "metadata": {
        "id": "rx1cb_cePj0V"
      }
    },
    {
      "cell_type": "code",
      "source": [
        "import matplotlib.pyplot as plt\n",
        "\n",
        "def plot_X_vec(X_vec, ks, index):\n",
        "    # Assuming X_vec is a 1D numpy array with the state of the neuron over time\n",
        "    plt.figure(figsize=(10, 6))  # Set the figure size for better visibility\n",
        "\n",
        "    # Plot the state vector over time\n",
        "    plt.plot(X_vec, marker='o', linestyle='-', color='b')\n",
        "\n",
        "    # Add title and labels to make the plot informative\n",
        "    plt.title(f'State of Neuron {index} which has weighted degree={ks}')\n",
        "    plt.xlabel('Time Step')\n",
        "    plt.ylabel('State Value')\n",
        "\n",
        "    plt.grid(True)  # Add a grid for better readability\n",
        "    plt.show()  # Display the plot\n"
      ],
      "metadata": {
        "id": "QBanVSW9PCFf"
      },
      "execution_count": null,
      "outputs": []
    },
    {
      "cell_type": "code",
      "source": [
        "import matplotlib.pyplot as plt\n",
        "import numpy as np  # Ensure NumPy is imported for indexing\n",
        "\n",
        "def plot_X_similar_vec(X, similar_indices, connect_dots=False, start_time=None, end_time=None, legend=False, W=None, N=None):\n",
        "    # Set the figure size for better visibility\n",
        "    plt.figure(figsize=(10, 6))\n",
        "\n",
        "    # Determine the time range for plotting\n",
        "    if start_time is None:\n",
        "        start_time = 0  # Start from the first time step if not specified\n",
        "    if end_time is None or end_time > X.shape[1]:\n",
        "        end_time = X.shape[1]  # End at the last time step if not specified or out of bounds\n",
        "\n",
        "    # Colors for different lines\n",
        "    colors = plt.cm.jet(np.linspace(0, 1, len(similar_indices)))\n",
        "    if N is not None:\n",
        "        ks = weighted_degrees_unsorted(W,N)\n",
        "        nonzero_counts = np.count_nonzero(W, axis=1)\n",
        "\n",
        "    # Loop over similar indices and plot each with a unique color\n",
        "    for ind, color in zip(similar_indices, colors):\n",
        "        time_range = range(start_time, end_time)\n",
        "        # Plot the state vector for each similar index within the specified time range\n",
        "        if connect_dots:\n",
        "            plt.plot(time_range, X[ind, start_time:end_time], color=color, alpha=0.7)  # Connecting dots with lines\n",
        "\n",
        "        if N is not None:\n",
        "            plt.scatter(time_range, X[ind, start_time:end_time], color=color, alpha=0.5, s=10, label=f'Neuron {ind} (k={ks[ind]:.3f}, d={nonzero_counts[ind]})')  # Plotting the dots\n",
        "        elif N is None:\n",
        "          plt.scatter(time_range, X[ind, start_time:end_time], color=color, alpha=0.5, s=10, label=f'Neuron {ind}')\n",
        "\n",
        "    plt.tick_params(axis='both', labelsize=15)\n",
        "    plt.xlabel('Time Step', fontsize=15)\n",
        "    plt.ylabel('State Value', fontsize=15)\n",
        "\n",
        "\n",
        "    if legend:\n",
        "        plt.legend(fontsize=15,loc=\"upper right\")  # Add a legend to identify each neuron if lines are drawn\n",
        "\n",
        "    plt.show()  # Display the plot\n",
        "\n",
        "\n"
      ],
      "metadata": {
        "id": "wg3VYU2vPCFf"
      },
      "execution_count": null,
      "outputs": []
    },
    {
      "cell_type": "code",
      "source": [
        "# Function for full plot and top right zoomed in\n",
        "import matplotlib.pyplot as plt\n",
        "import numpy as np  # Ensure NumPy is imported for indexing\n",
        "from mpl_toolkits.axes_grid1.inset_locator import inset_axes\n",
        "\n",
        "def plot_X_similar_vec_2(X, similar_indices, zoom_start=None, zoom_end=None):\n",
        "    # Set the figure size for better visibility\n",
        "    fig, ax = plt.subplots(figsize=(10, 6))\n",
        "\n",
        "    # Colors for different lines\n",
        "    colors = plt.cm.jet(np.linspace(0, 1, len(similar_indices)))\n",
        "\n",
        "    # Loop over similar indices and plot each with a unique color on the main plot\n",
        "    for ind, color in zip(similar_indices, colors):\n",
        "        ax.scatter(range(X.shape[1]), X[ind, :], color=color, alpha=0.5, s=10, label=f'Neuron {ind}')\n",
        "\n",
        "    # Add title and labels to make the plot informative\n",
        "    ax.set_title('States of Similar Neurons Over Time')\n",
        "    ax.set_xlabel('Time Step')\n",
        "    ax.set_ylabel('State Value')\n",
        "    ax.grid(True)  # Add a grid for better readability\n",
        "    ax.legend()  # Add a legend to identify each neuron\n",
        "\n",
        "    # If zoom range is specified, create an inset (zoomed) plot within the main plot\n",
        "    if zoom_start is not None and zoom_end is not None:\n",
        "        # Define the inset axes' size and position [x, y, width, height] relative to the main axes\n",
        "        axins = inset_axes(ax, width=\"30%\", height=\"30%\", loc='upper right')\n",
        "\n",
        "        # Plot the same data on the inset axes, focusing on the specified zoom range\n",
        "        for ind, color in zip(similar_indices, colors):\n",
        "            axins.scatter(range(zoom_start, zoom_end), X[ind, zoom_start:zoom_end], color=color, alpha=0.5, s=10)\n",
        "\n",
        "        # Set the zoomed plot's axis limits to the zoom range\n",
        "        axins.set_xlim(zoom_start, zoom_end - 1)\n",
        "        # Optionally, set the y-axis limits for the zoomed plot to focus on specific value ranges\n",
        "        # axins.set_ylim(ymin, ymax)\n",
        "\n",
        "        axins.grid(True)  # Add a grid for better readability\n",
        "\n",
        "    plt.show()  # Display the plot\n"
      ],
      "metadata": {
        "id": "g3cyFPbI6cDP"
      },
      "execution_count": null,
      "outputs": []
    },
    {
      "cell_type": "markdown",
      "source": [
        "### Bifurcation"
      ],
      "metadata": {
        "id": "-RJdHlFw9F5V"
      }
    },
    {
      "cell_type": "code",
      "source": [
        "import numpy as np\n",
        "import matplotlib.pyplot as plt\n",
        "\n",
        "def run_network_and_plot_bifurcation(compute_state_matrix, F, vec_of_spec_X_row_weighted, find_spikes, param_values, index):\n",
        "    # Setup for bifurcation diagram plotting\n",
        "\n",
        "    param_list = []\n",
        "    spike_values_list = []\n",
        "    print(\"Starting the network execution and bifurcation analysis...\")\n",
        "    for i, alpha_value in enumerate(param_values):\n",
        "        print(f\"Processing alpha value {alpha_value:.3f} ({i+1}/{len(param_values)})...\")\n",
        "\n",
        "        # Now record the following T=300 for bifurcation analysis\n",
        "        X, N, epsilon, rho, T, alpha, W = compute_state_matrix(100, 0.2, 0.8, 1300, alpha_value, F)\n",
        "\n",
        "        # Get states of 95th neuron after transient period\n",
        "        X_vec, ks, index = vec_of_spec_X_row_weighted(X[:,1000:], W, N, index)\n",
        "\n",
        "        # Find spikes in the state vector of the 95th neuron\n",
        "        spikes = find_spikes(X_vec)\n",
        "\n",
        "        # Store the parameter value and corresponding spike values\n",
        "        for spike_value in spikes:\n",
        "            param_list.append(alpha_value)\n",
        "            spike_values_list.append(spike_value)\n",
        "\n",
        "    # Plotting the bifurcation diagram with larger bubbles\n",
        "    plt.figure(figsize=(10, 6))\n",
        "    plt.scatter(param_list, spike_values_list, s=10, c='k', alpha=0.5)  # Increase 's' for larger bubbles\n",
        "    plt.title('Bifurcation Diagram')\n",
        "    plt.xlabel('Control Parameter')\n",
        "    plt.ylabel('Spike Values')\n",
        "    plt.grid(True)\n",
        "    plt.show()\n",
        "\n"
      ],
      "metadata": {
        "id": "dHs7nHP79Hhy"
      },
      "execution_count": null,
      "outputs": []
    },
    {
      "cell_type": "code",
      "source": [
        "import numpy as np\n",
        "import matplotlib.pyplot as plt\n",
        "\n",
        "def run_network_and_plot_bifurcation_2(compute_state_matrix, F, vec_of_spec_X_row_weighted, find_spikes, param_values, indices):\n",
        "    # Setup for bifurcation diagram plotting\n",
        "    plt.figure(figsize=(10, 6))\n",
        "    colors = plt.cm.viridis(np.linspace(0, 1, len(indices)))  # Use a colormap to get different colors for each index\n",
        "\n",
        "    print(\"Starting the network execution and bifurcation analysis...\")\n",
        "    for ind, color in zip(indices, colors):\n",
        "        param_list = []\n",
        "        spike_values_list = []\n",
        "        for i, alpha_value in enumerate(param_values):\n",
        "            print(f\"Processing alpha value {alpha_value:.3f} for neuron index {ind} ({i+1}/{len(param_values)})...\")\n",
        "\n",
        "            # Run the network and record the following T=300 for bifurcation analysis\n",
        "            X, N, epsilon, rho, T, alpha, W = compute_state_matrix(100, 0.2, 0.8, 1300, alpha_value, F)\n",
        "\n",
        "            # Get states of the neuron at the specified index after transient period\n",
        "            X_vec, ks, _ = vec_of_spec_X_row_weighted(X[:, 1000:], W, N, ind)\n",
        "\n",
        "            # Find spikes in the state vector of the specified neuron\n",
        "            spikes = find_spikes(X_vec)\n",
        "\n",
        "            # Store the parameter value and corresponding spike values\n",
        "            for spike_value in spikes:\n",
        "                param_list.append(alpha_value)\n",
        "                spike_values_list.append(spike_value)\n",
        "\n",
        "        # Plotting the bifurcation diagram for the current neuron index\n",
        "        plt.scatter(param_list, spike_values_list, s=10, c=[color], alpha=0.5, label=f'Neuron {ind}')\n",
        "\n",
        "    plt.title('Bifurcation Diagrams')\n",
        "    plt.xlabel('Control Parameter')\n",
        "    plt.ylabel('Spike Values')\n",
        "    plt.grid(True)\n",
        "    plt.legend()\n",
        "    plt.show()\n",
        "    print(\"Bifurcation analysis completed.\")"
      ],
      "metadata": {
        "id": "yfiMqh6xgE4U"
      },
      "execution_count": null,
      "outputs": []
    },
    {
      "cell_type": "code",
      "source": [
        "import numpy as np\n",
        "import matplotlib.pyplot as plt\n",
        "\n",
        "def bifurcations_wrt_alpha(F, conn, N, epsilon, rho, param_values,\n",
        "                                     T_transient, T, index,\n",
        "                                      compute_state_matrix, vec_of_spec_X_row_weighted, find_spikes):\n",
        "    # Setup for bifurcation diagram plotting\n",
        "\n",
        "    param_list = []\n",
        "    spike_values_list = []\n",
        "    print(\"Starting the network execution and bifurcation analysis...\")\n",
        "    for i, alpha_value in enumerate(param_values):\n",
        "        print(f\"Processing alpha value {alpha_value:.3f} ({i+1}/{len(param_values)})...\")\n",
        "\n",
        "        # Now record the following T=300 for bifurcation analysis\n",
        "        X, N, epsilon, rho, T, alpha, W = compute_state_matrix(F, conn,\n",
        "                                                                N, epsilon, rho, alpha_value, T,   # N, epsilon, rho, alpha\n",
        "                                                                Lapl=True, ex_time=False)\n",
        "        # Get states of 95th neuron after transient period\n",
        "        X_vec, ks, index = vec_of_spec_X_row_weighted(X[:,T_transient:], W, N, index)\n",
        "\n",
        "        # Find spikes in the state vector of the 95th neuron\n",
        "        spikes = find_spikes(X_vec)\n",
        "\n",
        "        # Store the parameter value and corresponding spike values\n",
        "        for spike_value in spikes:\n",
        "            param_list.append(alpha_value)\n",
        "            spike_values_list.append(spike_value)\n",
        "\n",
        "    return param_list, spike_values_list"
      ],
      "metadata": {
        "id": "cMn2nxf-OoYk"
      },
      "execution_count": null,
      "outputs": []
    },
    {
      "cell_type": "code",
      "source": [
        "import numpy as np\n",
        "import matplotlib.pyplot as plt\n",
        "\n",
        "def bifurcations_wrt_rho(F, conn, N, epsilon, param_values, alpha,\n",
        "                                     T_transient, T, index,\n",
        "                                      compute_state_matrix, vec_of_spec_X_row_weighted, find_spikes):\n",
        "    # Setup for bifurcation diagram plotting\n",
        "\n",
        "    param_list = []\n",
        "    spike_values_list = []\n",
        "    print(\"Starting the network execution and bifurcation analysis...\")\n",
        "    for i, rho_value in enumerate(param_values):\n",
        "        print(f\"Processing rho value {rho_value:.3f} ({i+1}/{len(param_values)})...\")\n",
        "\n",
        "        # Now record the following T=300 for bifurcation analysis\n",
        "        X, N, epsilon, rho, T, alpha, W = compute_state_matrix(F, conn,\n",
        "                                                                N, epsilon, rho_value, alpha, T,   # N, epsilon, rho, alpha\n",
        "                                                                Lapl=True, ex_time=False)\n",
        "        # Get states of 95th neuron after transient period\n",
        "        X_vec, ks, index = vec_of_spec_X_row_weighted(X[:,T_transient:], W, N, index)\n",
        "\n",
        "        # Find spikes in the state vector of the 95th neuron\n",
        "        spikes = find_spikes(X_vec)\n",
        "\n",
        "        # Store the parameter value and corresponding spike values\n",
        "        for spike_value in spikes:\n",
        "            param_list.append(rho_value)\n",
        "            spike_values_list.append(spike_value)\n",
        "\n",
        "    return param_list, spike_values_list"
      ],
      "metadata": {
        "id": "EDQqqF1AOoYl"
      },
      "execution_count": null,
      "outputs": []
    },
    {
      "cell_type": "code",
      "source": [
        "import numpy as np\n",
        "import matplotlib.pyplot as plt\n",
        "\n",
        "def bifurcations_wrt_alpha_2(F, conn, N, epsilon, rho, param_values,\n",
        "                                     T_transient, T, indices,\n",
        "                                      compute_state_matrix, vec_of_spec_X_row_weighted, find_spikes):\n",
        "    # Setup for bifurcation diagram plotting\n",
        "    plt.figure(figsize=(10, 6))\n",
        "    colors = plt.cm.viridis(np.linspace(0, 1, len(indices)))  # Use a colormap to get different colors for each index\n",
        "    W = initialize_reservoir(N, epsilon, rho, ex_time=False)\n",
        "    ks = weighted_degrees_unsorted(W,N)\n",
        "    nonzero_counts = np.count_nonzero(W, axis=1)\n",
        "    print(\"Starting the network execution and bifurcation analysis...\")\n",
        "    for ind, color in zip(indices, colors):\n",
        "        param_list = []\n",
        "        spike_values_list = []\n",
        "        for i, alpha_value in enumerate(param_values):\n",
        "            print(f\"Processing alpha value {alpha_value:.3f} for neuron index {ind} ({i+1}/{len(param_values)})...\")\n",
        "\n",
        "            # Run the network and record the following T=300 for bifurcation analysis\n",
        "            X, N, epsilon, rho, T, alpha, W = compute_state_matrix(F, conn,\n",
        "                                                                N, epsilon, rho, alpha_value, T,   # N, epsilon, rho, alpha\n",
        "                                                                Lapl=True, ex_time=False)\n",
        "\n",
        "            # Get states of the neuron at the specified index after transient period\n",
        "            X_vec, _, _ = vec_of_spec_X_row_weighted(X[:, 1000:], W, N, ind)\n",
        "\n",
        "            # Find spikes in the state vector of the specified neuron\n",
        "            spikes = find_spikes(X_vec)\n",
        "\n",
        "            # Store the parameter value and corresponding spike values\n",
        "            for spike_value in spikes:\n",
        "                param_list.append(alpha_value)\n",
        "                spike_values_list.append(spike_value)\n",
        "\n",
        "        # Plotting the bifurcation diagram for the current neuron index\n",
        "        plt.scatter(param_list, spike_values_list, s=10, c=[color], alpha=0.5, label=f'Neuron {ind} (k={ks[ind]:.3f}, d={nonzero_counts[ind]})')\n",
        "    plt.tick_params(axis='both', labelsize=15)\n",
        "    plt.ylabel('Spike Values',fontsize=15)\n",
        "    plt.legend(fontsize=15, loc=\"upper right\")\n",
        "    plt.show()\n",
        "    print(\"Bifurcation analysis completed.\")"
      ],
      "metadata": {
        "id": "W15xXrodOoYl"
      },
      "execution_count": null,
      "outputs": []
    },
    {
      "cell_type": "code",
      "source": [
        "import numpy as np\n",
        "import matplotlib.pyplot as plt\n",
        "\n",
        "def bifurcations_wrt_rho_2(F, conn, N, epsilon, param_values, alpha,\n",
        "                                     T_transient, T, indices,\n",
        "                                      compute_state_matrix, vec_of_spec_X_row_weighted, find_spikes):\n",
        "    # Setup for bifurcation diagram plotting\n",
        "    plt.figure(figsize=(10, 6))\n",
        "    colors = plt.cm.viridis(np.linspace(0, 1, len(indices)))  # Use a colormap to get different colors for each index\n",
        "    W = initialize_reservoir(N, epsilon, 0.8, ex_time=False)\n",
        "    ks = weighted_degrees_unsorted(W,N)\n",
        "    nonzero_counts = np.count_nonzero(W, axis=1)\n",
        "\n",
        "    print(\"Starting the network execution and bifurcation analysis...\")\n",
        "    for ind, color in zip(indices, colors):\n",
        "        param_list = []\n",
        "        spike_values_list = []\n",
        "        for i, rho_value in enumerate(param_values):\n",
        "            print(f\"Processing alpha value {rho_value:.3f} for neuron index {ind} ({i+1}/{len(param_values)})...\")\n",
        "\n",
        "            # Run the network and record the following T=300 for bifurcation analysis\n",
        "            X, N, epsilon, rho, T, alpha, W = compute_state_matrix(F, conn,\n",
        "                                                                N, epsilon, rho_value, alpha, T,   # N, epsilon, rho, alpha\n",
        "                                                                Lapl=True, ex_time=False)\n",
        "\n",
        "            # Get states of the neuron at the specified index after transient period\n",
        "            X_vec, _, _ = vec_of_spec_X_row_weighted(X[:, T_transient:], W, N, ind)\n",
        "\n",
        "            # Find spikes in the state vector of the specified neuron\n",
        "            spikes = find_spikes(X_vec)\n",
        "\n",
        "            # Store the parameter value and corresponding spike values\n",
        "            for spike_value in spikes:\n",
        "                param_list.append(rho_value)\n",
        "                spike_values_list.append(spike_value)\n",
        "\n",
        "        # Plotting the bifurcation diagram for the current neuron index\n",
        "        plt.scatter(param_list, spike_values_list, s=10, c=[color], alpha=0.5, label=f'Neuron {ind} (k={ks[ind]:.3f}, d={nonzero_counts[ind]})')\n",
        "    plt.tick_params(axis='both', labelsize=15)\n",
        "    plt.ylabel('Spike Values',fontsize=15)\n",
        "    plt.legend(fontsize=15, loc=\"upper right\")\n",
        "    plt.show()\n",
        "    print(\"Bifurcation analysis completed.\")"
      ],
      "metadata": {
        "id": "MRYNZ1VMOoYl"
      },
      "execution_count": null,
      "outputs": []
    },
    {
      "cell_type": "code",
      "source": [
        "def plot_bifurcation(param_list, spike_values_list):\n",
        "    # Plotting the bifurcation diagram with larger bubbles\n",
        "    plt.figure(figsize=(10, 6))\n",
        "    plt.scatter(param_list, spike_values_list, s=10, c='k', alpha=0.5)  # Increase 's' for larger bubbles\n",
        "    plt.tick_params(axis='both', labelsize=15)\n",
        "    plt.ylabel('Spike Values', fontsize=15)\n",
        "    plt.show()"
      ],
      "metadata": {
        "id": "qm23TwQbOoYl"
      },
      "execution_count": null,
      "outputs": []
    },
    {
      "cell_type": "markdown",
      "source": [
        "### Laplacian matrix"
      ],
      "metadata": {
        "id": "4qC8ixJ3XdFz"
      }
    },
    {
      "cell_type": "code",
      "source": [
        "import numpy as np\n",
        "\n",
        "def calculate_laplacian(W):\n",
        "\n",
        "    # Degree matrix D\n",
        "    k_hat_vec = weighted_degrees_unsorted(W, W.shape[0])\n",
        "    D = np.diag(k_hat_vec)\n",
        "\n",
        "    # Laplacian matrix L = D - A\n",
        "    L = D - W\n",
        "\n",
        "    return L\n"
      ],
      "metadata": {
        "id": "fLhR03AVXf-z"
      },
      "execution_count": null,
      "outputs": []
    },
    {
      "cell_type": "markdown",
      "metadata": {
        "id": "VPrhYxnu-c_L"
      },
      "source": [
        "## Degree of neurons"
      ]
    },
    {
      "cell_type": "markdown",
      "metadata": {
        "id": "vFq1t_DT-g9-"
      },
      "source": [
        "Degrees of neuron is number of neurons it is connected to.\n",
        "ie if degree = 1 it is connected only with neuron other or itself\n",
        "degree = 2 it is connected with 2 neurons"
      ]
    },
    {
      "cell_type": "code",
      "execution_count": null,
      "metadata": {
        "id": "Nf_0j7OBAOIP"
      },
      "outputs": [],
      "source": [
        "def degrees_distribution(W):\n",
        "  # Count nonzero entries in each column\n",
        "  nonzero_counts = np.count_nonzero(W, axis=0)\n",
        "\n",
        "  # Convert numpy array to a list and save it into 'degrees'\n",
        "  degrees = nonzero_counts.tolist()\n",
        "\n",
        "  import seaborn as sns\n",
        "  import matplotlib.pyplot as plt\n",
        "  # Draw the distribution plot\n",
        "  sns.histplot(degrees, kde=True, bins=len(set(degrees)))  # 'kde=True' adds a density curve\n",
        "\n",
        "  # Adding labels and title for clarity\n",
        "  plt.xlabel('Degree')\n",
        "  plt.ylabel('Frequency')\n",
        "  plt.title('Distribution of Neuron Degrees')\n",
        "\n",
        "  plt.show()"
      ]
    },
    {
      "cell_type": "code",
      "execution_count": null,
      "metadata": {
        "id": "D-kcTc5nwqz9"
      },
      "outputs": [],
      "source": [
        "X, N, epsilon, rho, T, alpha, W = compute_state_matrix(100, 0.2, 0.8 , 300, 0.01, F=F_mod)"
      ]
    },
    {
      "cell_type": "code",
      "execution_count": null,
      "metadata": {
        "id": "Uuqc-x5oB7GK"
      },
      "outputs": [],
      "source": [
        "degrees_distribution(W)"
      ]
    },
    {
      "cell_type": "code",
      "execution_count": null,
      "metadata": {
        "id": "-CaGhH4oxQF0"
      },
      "outputs": [],
      "source": [
        "X, N, epsilon, rho, T, alpha, W = compute_state_matrix(100, 0.4, 0.8 , 300, 0.01, F=F_mod)"
      ]
    },
    {
      "cell_type": "code",
      "execution_count": null,
      "metadata": {
        "id": "KgsjKd-ixVmT"
      },
      "outputs": [],
      "source": [
        "degrees_distribution(W)"
      ]
    },
    {
      "cell_type": "markdown",
      "metadata": {
        "id": "16O7JorxzP7K"
      },
      "source": [
        "## Weighted Degrees"
      ]
    },
    {
      "cell_type": "code",
      "execution_count": null,
      "metadata": {
        "id": "bkhqUC78yDS1"
      },
      "outputs": [],
      "source": [
        "import numpy as np\n",
        "\n",
        "def weighted_degrees(W, N):\n",
        "    ks = []  # Start with an empty list to store the weighted degrees\n",
        "    for i in range(N):  # Ensure the loop iterates over the range of neuron indices\n",
        "        k_hat_i = np.sum(W[i, :])  # Calculate the weighted degree for neuron i\n",
        "        ks.append(k_hat_i)  # Append the calculated weighted degree to the list\n",
        "        ks.sort()\n",
        "    return np.array(ks)  # Convert the list of weighted degrees to a numpy array and return it\n",
        "\n"
      ]
    },
    {
      "cell_type": "code",
      "execution_count": null,
      "metadata": {
        "id": "pFlki2L5zNag"
      },
      "outputs": [],
      "source": [
        "import matplotlib.pyplot as plt\n",
        "\n",
        "def plot_weighted_degrees(ks):\n",
        "    # Assuming ks is a numpy array of weighted degrees for each neuron\n",
        "    N = len(ks)  # Number of neurons\n",
        "\n",
        "    # Create a figure and axis for the plot\n",
        "    plt.figure(figsize=(10, 6))\n",
        "\n",
        "    # Plot ks against neuron indices\n",
        "    plt.plot(range(N), ks, marker='o', linestyle='-', color='b')\n",
        "\n",
        "    # Add title and labels\n",
        "    plt.title('Weighted Degrees of Neurons')\n",
        "    plt.xlabel('Neuron Index')\n",
        "    plt.ylabel('Weighted Degree')\n",
        "\n",
        "    # Optionally, add a grid for better readability\n",
        "    plt.grid(True)\n",
        "\n",
        "    # Show the plot\n",
        "    plt.show()\n"
      ]
    },
    {
      "cell_type": "code",
      "execution_count": null,
      "metadata": {
        "id": "1fVNgmOPyrlS"
      },
      "outputs": [],
      "source": [
        "plot_weighted_degrees(weighted_degrees(W,N))"
      ]
    },
    {
      "cell_type": "markdown",
      "metadata": {
        "id": "NSrwPPhvF_Vd"
      },
      "source": [
        "## Bifurcation diagram"
      ]
    },
    {
      "cell_type": "code",
      "execution_count": null,
      "metadata": {
        "id": "Hh_l_A_x4-PU"
      },
      "outputs": [],
      "source": [
        "import numpy as np\n",
        "\n",
        "def max_degree_vector(X, W, index=None):\n",
        "    # Count nonzero entries in each column to get the degrees\n",
        "    nonzero_counts = np.count_nonzero(W, axis=0)\n",
        "\n",
        "    if index == None:\n",
        "      # Find the index of the column with the maximum degree\n",
        "      index = np.argmax(nonzero_counts)\n",
        "\n",
        "    # Extract and return the column with the highest degree\n",
        "    return X[:, index], nonzero_counts[index]\n",
        "\n"
      ]
    },
    {
      "cell_type": "code",
      "execution_count": null,
      "metadata": {
        "id": "1G6eCCV27kEL"
      },
      "outputs": [],
      "source": [
        "import numpy as np\n",
        "\n",
        "def max_weighted_degree(X,W, N, index=None):\n",
        "\n",
        "    ks = weighted_degrees(W,N)\n",
        "\n",
        "    if index == None:\n",
        "      # Find the index of the column with the maximum degree\n",
        "      index = np.argmax(ks)\n",
        "\n",
        "    # Extract and return the state row with the degree specified and weighted degree of it\n",
        "    return X[:, index], ks[index]\n",
        "\n"
      ]
    },
    {
      "cell_type": "code",
      "execution_count": null,
      "metadata": {
        "id": "Z_SpoQ4R9GNd"
      },
      "outputs": [],
      "source": [
        "import numpy as np\n",
        "\n",
        "def find_spikes(vector):\n",
        "    # Initialize an empty list to store spike values\n",
        "    spikes = []\n",
        "\n",
        "    # Iterate through the vector, skipping the first and last elements\n",
        "    for i in range(1, len(vector) - 1):\n",
        "        # Check if the current value is greater than its neighbors\n",
        "        if vector[i] > vector[i - 1] and vector[i] > vector[i + 1]:\n",
        "            spikes.append(vector[i])\n",
        "\n",
        "    return spikes\n"
      ]
    },
    {
      "cell_type": "markdown",
      "metadata": {
        "id": "mjCt62m7rIR9"
      },
      "source": [
        "### State Network"
      ]
    },
    {
      "cell_type": "code",
      "execution_count": null,
      "metadata": {
        "id": "vGrI6fuEsP6T"
      },
      "outputs": [],
      "source": [
        "import matplotlib.pyplot as plt\n",
        "\n",
        "# Setup for bifurcation diagram plotting\n",
        "param_values = np.linspace(0, 0.3, 10)  # Control parameter range\n",
        "param_list = []\n",
        "spike_values_list = []\n",
        "\n",
        "for alpha_value in param_values:\n",
        "    # Assume 'network' function returns W among other outputs\n",
        "    X, N, epsilon, rho, T, alpha, W= compute_state_matrix(100, 0.4, 0.8 , 300, alpha_value, F=F_mod)\n",
        "\n",
        "    # Get the vector with the highest degree\n",
        "    max_d_vec,_ = max_weighted_degree(X, W, N)\n",
        "\n",
        "    # Find spikes in the max_degree_vector\n",
        "    spikes = find_spikes(max_d_vec)\n",
        "\n",
        "    # Store the parameter value and corresponding spike values\n",
        "    for spike_value in spikes:\n",
        "        param_list.append(alpha_value)\n",
        "        spike_values_list.append(spike_value)\n",
        "\n",
        "\n",
        "# Plotting the bifurcation diagram with larger bubbles\n",
        "plt.figure(figsize=(10, 6))\n",
        "plt.scatter(param_list, spike_values_list, s=25, c='k', alpha=0.5)  # Increase 's' for larger bubbles\n",
        "plt.title('Bifurcation Diagram')\n",
        "plt.xlabel('Control Parameter')\n",
        "plt.ylabel('Spike Values')\n",
        "plt.grid(True)\n",
        "plt.show()"
      ]
    },
    {
      "cell_type": "code",
      "source": [
        "import matplotlib.pyplot as plt\n",
        "\n",
        "# Setup for bifurcation diagram plotting\n",
        "param_values = np.linspace(0, 0.3, 30)  # Control parameter range\n",
        "param_list = []\n",
        "spike_values_list = []\n",
        "\n",
        "for alpha_value in param_values:\n",
        "    # Assume 'network' function returns W among other outputs\n",
        "    X, N, epsilon, rho, T, alpha, W= compute_state_matrix(100, 0.2, 0.8 , 300, alpha_value, F=F_mod)\n",
        "\n",
        "    # Get the vector with the highest degree\n",
        "    max_d_vec,_ = max_weighted_degree(X, W, N)\n",
        "\n",
        "    # Find spikes in the max_degree_vector\n",
        "    spikes = find_spikes(max_d_vec)\n",
        "\n",
        "    # Store the parameter value and corresponding spike values\n",
        "    for spike_value in spikes:\n",
        "        param_list.append(alpha_value)\n",
        "        spike_values_list.append(spike_value)\n",
        "\n",
        "\n",
        "# Plotting the bifurcation diagram with larger bubbles\n",
        "plt.figure(figsize=(10, 6))\n",
        "plt.scatter(param_list, spike_values_list, s=25, c='k', alpha=0.5)  # Increase 's' for larger bubbles\n",
        "plt.title('Bifurcation Diagram')\n",
        "plt.xlabel('Control Parameter')\n",
        "plt.ylabel('Spike Values')\n",
        "plt.grid(True)\n",
        "plt.show()"
      ],
      "metadata": {
        "id": "C6Nd9aMebMCx"
      },
      "execution_count": null,
      "outputs": []
    },
    {
      "cell_type": "markdown",
      "source": [
        "## Similar Weighted Degrees"
      ],
      "metadata": {
        "id": "O1G2U4jSatTw"
      }
    },
    {
      "cell_type": "code",
      "source": [
        "def find_similar_weighted_degrees(W, N, i, epsilon):\n",
        "    # First, calculate the weighted degrees for all neurons\n",
        "    ks = [np.sum(W[j, :]) for j in range(N)]\n",
        "    # Get the weighted degree of the i-th neuron\n",
        "    k_i = ks[i]\n",
        "\n",
        "    # Find indices of all neurons with weighted degrees similar to the i-th neuron within epsilon\n",
        "    similar_indices = []\n",
        "    for j, k in enumerate(ks):  # Loop through each index and weighted degree\n",
        "        if abs(k - k_i) <= epsilon:  # Check if the weighted degree is similar\n",
        "            similar_indices.append(j)  # Add the index to the list\n",
        "\n",
        "\n",
        "    # Return the indices and their corresponding weighted degrees\n",
        "    similar_degrees = []\n",
        "    for j in similar_indices:  # Loop through each index of similar neurons\n",
        "        similar_degrees.append(ks[j])  # Add the weighted degree to the list\n",
        "\n",
        "    return similar_indices, similar_degrees"
      ],
      "metadata": {
        "id": "XI43xOYda0di"
      },
      "execution_count": null,
      "outputs": []
    },
    {
      "cell_type": "code",
      "source": [
        "import numpy as np\n",
        "\n",
        "def find_weighted_degrees_around_value(W, N, target_value, epsilon):\n",
        "    # Calculate the weighted degrees for all neurons\n",
        "    ks = [np.sum(W[j, :]) for j in range(N)]\n",
        "\n",
        "    # Find indices of all neurons with weighted degrees within epsilon of the target value\n",
        "    similar_indices = [j for j, k in enumerate(ks) if abs(k - target_value) <= epsilon]\n",
        "\n",
        "    # Retrieve the corresponding weighted degrees for these indices\n",
        "    similar_degrees = [ks[j] for j in similar_indices]\n",
        "\n",
        "    return similar_indices, similar_degrees\n"
      ],
      "metadata": {
        "id": "ZpA4Xn8q_yZg"
      },
      "execution_count": null,
      "outputs": []
    },
    {
      "cell_type": "code",
      "source": [
        "import matplotlib.pyplot as plt\n",
        "\n",
        "def plot_X_max_d_vec(X_max_d_vec, ks):\n",
        "    # Assuming X_max_d_vec is a 1D numpy array with the state of the neuron over time\n",
        "    plt.figure(figsize=(10, 6))  # Set the figure size for better visibility\n",
        "\n",
        "    # Plot the state vector over time\n",
        "    plt.plot(X_max_d_vec, marker='o', linestyle='-', color='b')\n",
        "\n",
        "    # Add title and labels to make the plot informative\n",
        "    plt.title(f'State of Neuron which has weighted degree={ks}')\n",
        "    plt.xlabel('Time Step')\n",
        "    plt.ylabel('State Value')\n",
        "\n",
        "    plt.grid(True)  # Add a grid for better readability\n",
        "    plt.show()  # Display the plot\n"
      ],
      "metadata": {
        "id": "ISQ7xUjremSn"
      },
      "execution_count": null,
      "outputs": []
    },
    {
      "cell_type": "code",
      "source": [
        "    X, N, epsilon, rho, T, alpha, W= compute_state_matrix(100, 0.2, 0.8 , 300, 0.08, F=F_mod)\n",
        "\n",
        "    # Get the vector with the highest degree\n",
        "    X_max_d_vec,_ = max_weighted_degree(X, W, N)\n",
        "\n",
        "    plot_X_max_d_vec(X_max_d_vec)\n",
        "\n"
      ],
      "metadata": {
        "id": "KgrP4c2EdlH1"
      },
      "execution_count": null,
      "outputs": []
    },
    {
      "cell_type": "code",
      "source": [
        "    X, N, epsilon, rho, T, alpha, W= compute_state_matrix(100, 0.2, 0.8 , 300, 0.04, F=F_mod)\n",
        "\n",
        "    # Get the vector with the highest degree\n",
        "    X_max_d_vec,_ = max_weighted_degree(X, W, N)\n",
        "\n",
        "    plot_X_max_d_vec(X_max_d_vec)"
      ],
      "metadata": {
        "id": "t3CrnwOPe-BX"
      },
      "execution_count": null,
      "outputs": []
    },
    {
      "cell_type": "code",
      "source": [
        "X, N, epsilon, rho, T, alpha, W= compute_state_matrix(100, 0.2, 0.8 , 300, 0.08, F=F_mod)"
      ],
      "metadata": {
        "id": "ZBHYYckG8fq6"
      },
      "execution_count": null,
      "outputs": []
    },
    {
      "cell_type": "code",
      "source": [
        "plot_weighted_degrees(weighted_degrees(W,N))"
      ],
      "metadata": {
        "id": "C3gUB1E3-Q9i"
      },
      "execution_count": null,
      "outputs": []
    },
    {
      "cell_type": "code",
      "source": [
        "similar_indices, similar_degrees = find_similar_weighted_degrees(W, N, 95, 0.005)"
      ],
      "metadata": {
        "id": "JLRPNbCG68QS"
      },
      "execution_count": null,
      "outputs": []
    },
    {
      "cell_type": "code",
      "source": [
        "print(similar_indices)\n",
        "print(similar_degrees)"
      ],
      "metadata": {
        "id": "rTku5bor89pR"
      },
      "execution_count": null,
      "outputs": []
    },
    {
      "cell_type": "markdown",
      "source": [
        "Actually finding similar degrees of sorted array doesnt allow me to find its state vector X as indice will be different. Thus we use target value from now on"
      ],
      "metadata": {
        "id": "XOqjmcfwABpy"
      }
    },
    {
      "cell_type": "code",
      "source": [
        "similar_indices, similar_degrees = find_weighted_degrees_around_value(W, N, 1.12, 0.005)"
      ],
      "metadata": {
        "id": "3KFa9Ina_3fu"
      },
      "execution_count": null,
      "outputs": []
    },
    {
      "cell_type": "code",
      "source": [
        "print(similar_indices)\n",
        "print(similar_degrees)"
      ],
      "metadata": {
        "id": "A4PmiscTASfr"
      },
      "execution_count": null,
      "outputs": []
    },
    {
      "cell_type": "code",
      "source": [
        "for i in similar_indices:\n",
        "  plot_X_max_d_vec(X[i,:])"
      ],
      "metadata": {
        "id": "-UcJVb2_9Zip"
      },
      "execution_count": null,
      "outputs": []
    },
    {
      "cell_type": "code",
      "source": [
        "import matplotlib.pyplot as plt\n",
        "import numpy as np  # Ensure NumPy is imported for indexing\n",
        "\n",
        "def plot_X_of_vec(X, similar_indices):\n",
        "    # Set the figure size for better visibility\n",
        "    plt.figure(figsize=(10, 6))\n",
        "\n",
        "    # Colors for different lines\n",
        "    colors = plt.cm.jet(np.linspace(0, 1, len(similar_indices)))\n",
        "\n",
        "    # Loop over similar indices and plot each with a unique color\n",
        "    for ind, color in zip(similar_indices, colors):\n",
        "        # Plot the state vector for each similar index with bubbles only\n",
        "        plt.scatter(range(X.shape[1]), X[ind, :], color=color, alpha=0.5, label=f'Neuron {ind}')\n",
        "\n",
        "    # Add title and labels to make the plot informative\n",
        "    plt.title('States of Similar Neurons Over Time')\n",
        "    plt.xlabel('Time Step')\n",
        "    plt.ylabel('State Value')\n",
        "\n",
        "    plt.grid(True)  # Add a grid for better readability\n",
        "    plt.legend()  # Add a legend to identify each neuron\n",
        "    plt.show()  # Display the plot\n"
      ],
      "metadata": {
        "id": "pzS0CgT0eyTr"
      },
      "execution_count": null,
      "outputs": []
    },
    {
      "cell_type": "code",
      "source": [
        "plot_X_of_vec(X,similar_indices)"
      ],
      "metadata": {
        "id": "0vTeVJtYAoBY"
      },
      "execution_count": null,
      "outputs": []
    },
    {
      "cell_type": "markdown",
      "source": [
        "### Neurons of alpha=0.08 state matrix"
      ],
      "metadata": {
        "id": "raTUSiDbsBlq"
      }
    },
    {
      "cell_type": "code",
      "source": [
        "X, N, epsilon, rho, T, alpha, W= compute_state_matrix(100, 0.2, 0.8 , 1000, 0.08, F=F_mod)\n",
        "plot_weighted_degrees(weighted_degrees(W,N))\n"
      ],
      "metadata": {
        "id": "hnfEjPuxqJi6"
      },
      "execution_count": null,
      "outputs": []
    },
    {
      "cell_type": "code",
      "source": [
        "X_max_d_vec,weighted_degree = max_weighted_degree(X, W, N, 2)\n",
        "plot_X_max_d_vec(X_max_d_vec, weighted_degree)"
      ],
      "metadata": {
        "id": "GZof85jir8o6"
      },
      "execution_count": null,
      "outputs": []
    },
    {
      "cell_type": "code",
      "source": [
        "X_max_d_vec,weighted_degree = max_weighted_degree(X, W, N, 98)\n",
        "plot_X_max_d_vec(X_max_d_vec, weighted_degree)"
      ],
      "metadata": {
        "id": "2PyurZuUtQvf"
      },
      "execution_count": null,
      "outputs": []
    },
    {
      "cell_type": "code",
      "source": [
        "X_max_d_vec,weighted_degree = max_weighted_degree(X, W, N, 97)\n",
        "plot_X_max_d_vec(X_max_d_vec, weighted_degree)"
      ],
      "metadata": {
        "id": "QuYq4oJttTag"
      },
      "execution_count": null,
      "outputs": []
    },
    {
      "cell_type": "code",
      "source": [
        "X_max_d_vec,weighted_degree = max_weighted_degree(X, W, N, 96)\n",
        "plot_X_max_d_vec(X_max_d_vec, weighted_degree)"
      ],
      "metadata": {
        "id": "NBrw55wKtWzR"
      },
      "execution_count": null,
      "outputs": []
    },
    {
      "cell_type": "code",
      "source": [
        "X_max_d_vec,weighted_degree = max_weighted_degree(X, W, N, 95)\n",
        "plot_X_max_d_vec(X_max_d_vec, weighted_degree)"
      ],
      "metadata": {
        "id": "DIhZ1MxjtaIP"
      },
      "execution_count": null,
      "outputs": []
    },
    {
      "cell_type": "code",
      "source": [
        "similar_indices, similar_degrees = find_weighted_degrees_around_value(W, N, 1.12, 0.005)"
      ],
      "metadata": {
        "id": "NrTO7ZJRupso"
      },
      "execution_count": null,
      "outputs": []
    },
    {
      "cell_type": "code",
      "source": [
        "print(similar_indices)"
      ],
      "metadata": {
        "id": "HaOzuVrfu6_p"
      },
      "execution_count": null,
      "outputs": []
    },
    {
      "cell_type": "code",
      "source": [
        "for i, ks in (similar_indices,similar_degrees):\n",
        "  plot_X_max_d_vec(X[i,:], ks)\n",
        "plot_X_of_vec(X,similar_indices)"
      ],
      "metadata": {
        "id": "8HwlkuPzrjxl"
      },
      "execution_count": null,
      "outputs": []
    },
    {
      "cell_type": "markdown",
      "source": [
        "## All the functions in this part up to this point"
      ],
      "metadata": {
        "id": "N_qNhSTtvtB4"
      }
    },
    {
      "cell_type": "code",
      "source": [
        "def degrees_distribution(W):\n",
        "  # Count nonzero entries in each column\n",
        "  nonzero_counts = np.count_nonzero(W, axis=0)\n",
        "\n",
        "  # Convert numpy array to a list and save it into 'degrees'\n",
        "  degrees = nonzero_counts.tolist()\n",
        "\n",
        "  import seaborn as sns\n",
        "  import matplotlib.pyplot as plt\n",
        "  # Draw the distribution plot\n",
        "  sns.histplot(degrees, kde=True, bins=len(set(degrees)))  # 'kde=True' adds a density curve\n",
        "\n",
        "  # Adding labels and title for clarity\n",
        "  plt.xlabel('Degree')\n",
        "  plt.ylabel('Frequency')\n",
        "  plt.title('Distribution of Neuron Degrees')\n",
        "\n",
        "  plt.show()"
      ],
      "metadata": {
        "id": "Tfr3mV1GvwrJ"
      },
      "execution_count": null,
      "outputs": []
    },
    {
      "cell_type": "code",
      "source": [
        "import numpy as np\n",
        "\n",
        "def weighted_degrees(W, N):\n",
        "    ks = []  # Start with an empty list to store the weighted degrees\n",
        "    for i in range(N):  # Ensure the loop iterates over the range of neuron indices\n",
        "        k_hat_i = np.sum(W[i, :])  # Calculate the weighted degree for neuron i\n",
        "        ks.append(k_hat_i)  # Append the calculated weighted degree to the list\n",
        "        ks.sort()\n",
        "    return np.array(ks)  # Convert the list of weighted degrees to a numpy array and return it\n"
      ],
      "metadata": {
        "id": "othSmqVMv1vH"
      },
      "execution_count": null,
      "outputs": []
    },
    {
      "cell_type": "code",
      "source": [
        "import matplotlib.pyplot as plt\n",
        "\n",
        "def plot_weighted_degrees(ks):\n",
        "    # Assuming ks is a numpy array of weighted degrees for each neuron\n",
        "    N = len(ks)  # Number of neurons\n",
        "\n",
        "    # Create a figure and axis for the plot\n",
        "    plt.figure(figsize=(10, 6))\n",
        "\n",
        "    # Plot ks against neuron indices\n",
        "    plt.plot(range(N), ks, marker='o', linestyle='-', color='b')\n",
        "\n",
        "    # Add title and labels\n",
        "    plt.title('Weighted Degrees of Neurons')\n",
        "    plt.xlabel('Neuron Index')\n",
        "    plt.ylabel('Weighted Degree')\n",
        "\n",
        "    # Optionally, add a grid for better readability\n",
        "    plt.grid(True)\n",
        "\n",
        "    # Show the plot\n",
        "    plt.show()"
      ],
      "metadata": {
        "id": "NHESXuJSv4wl"
      },
      "execution_count": null,
      "outputs": []
    },
    {
      "cell_type": "code",
      "source": [
        "import numpy as np\n",
        "\n",
        "def vec_of_specific_X_row(X, W, index=None):\n",
        "    # Count nonzero entries in each column to get the degrees\n",
        "    nonzero_counts = np.count_nonzero(W, axis=0)\n",
        "\n",
        "    if index == None:\n",
        "      # Find the index of the column with the maximum degree\n",
        "      index = np.argmax(nonzero_counts)\n",
        "\n",
        "    # Extract and return the specific X row and degree of neuron {index}\n",
        "    return X[:, index], nonzero_counts[index]"
      ],
      "metadata": {
        "id": "Zv5Np2X4v9CH"
      },
      "execution_count": null,
      "outputs": []
    },
    {
      "cell_type": "code",
      "source": [
        "import numpy as np\n",
        "\n",
        "def vec_of_spec_X_row_weighted(X,W, N, index=None):\n",
        "    # this function is different from the vec_of_specific_X_row as it returns weighted degree instead of degree\n",
        "    # Get sorted weighted degrees\n",
        "    ks = weighted_degrees(W,N)\n",
        "\n",
        "    if index == None:\n",
        "      # Find the index of the column with the degree\n",
        "      index = np.argmax(ks)\n",
        "\n",
        "    # Extract and return the state row with the degree specified and weighted degree of\n",
        "    return X[index, :], ks[index], index\n"
      ],
      "metadata": {
        "id": "4B9OLpwSwfku"
      },
      "execution_count": null,
      "outputs": []
    },
    {
      "cell_type": "code",
      "source": [
        "import numpy as np\n",
        "\n",
        "def find_spikes(vector):\n",
        "    # Initialize an empty list to store spike values\n",
        "    spikes = []\n",
        "\n",
        "    # Iterate through the vector, skipping the first and last elements\n",
        "    for i in range(1, len(vector) - 1):\n",
        "        # Check if the current value is greater than its neighbors\n",
        "        if vector[i] > vector[i - 1] and vector[i] > vector[i + 1]:\n",
        "            spikes.append(vector[i])\n",
        "\n",
        "    return spikes\n"
      ],
      "metadata": {
        "id": "oJx_DfmQxSYQ"
      },
      "execution_count": null,
      "outputs": []
    },
    {
      "cell_type": "code",
      "source": [
        "def find_similar_weighted_degrees(W, N, i, epsilon):\n",
        "    # First, calculate the weighted degrees for all neurons\n",
        "    ks = weighted_degrees(W,N)\n",
        "    # Get the weighted degree of the i-th neuron\n",
        "    k_i = ks[i]\n",
        "\n",
        "    # Find indices of all neurons with weighted degrees similar to the i-th neuron within epsilon\n",
        "    similar_indices = []\n",
        "    for j, k in enumerate(ks):  # Loop through each index and weighted degree\n",
        "        if abs(k - k_i) <= epsilon:  # Check if the weighted degree is similar\n",
        "            similar_indices.append(j)  # Add the index to the list\n",
        "\n",
        "\n",
        "    # Return the indices and their corresponding weighted degrees\n",
        "    similar_degrees = []\n",
        "    for j in similar_indices:  # Loop through each index of similar neurons\n",
        "        similar_degrees.append(ks[j])  # Add the weighted degree to the list\n",
        "\n",
        "    return similar_indices, similar_degrees"
      ],
      "metadata": {
        "id": "R-R9M4fyxzB5"
      },
      "execution_count": null,
      "outputs": []
    },
    {
      "cell_type": "code",
      "source": [
        "import numpy as np\n",
        "\n",
        "def find_weighted_degrees_around_value(W, N, target_value, epsilon):\n",
        "    # Calculate the weighted degrees for all neurons\n",
        "    ks = weighted_degrees(W,N)\n",
        "\n",
        "    # Find indices of all neurons with weighted degrees within epsilon of the target value\n",
        "    similar_indices = [j for j, k in enumerate(ks) if abs(k - target_value) <= epsilon]\n",
        "\n",
        "    # Retrieve the corresponding weighted degrees for these indices\n",
        "    similar_degrees = [ks[j] for j in similar_indices]\n",
        "\n",
        "    return similar_indices, similar_degrees"
      ],
      "metadata": {
        "id": "p3JSq9_OxZqK"
      },
      "execution_count": null,
      "outputs": []
    },
    {
      "cell_type": "code",
      "source": [
        "import matplotlib.pyplot as plt\n",
        "\n",
        "def plot_X_vec(X_vec, ks, index):\n",
        "    # Assuming X_vec is a 1D numpy array with the state of the neuron over time\n",
        "    plt.figure(figsize=(10, 6))  # Set the figure size for better visibility\n",
        "\n",
        "    # Plot the state vector over time\n",
        "    plt.plot(X_vec, marker='o', linestyle='-', color='b')\n",
        "\n",
        "    # Add title and labels to make the plot informative\n",
        "    plt.title(f'State of Neuron {index} which has weighted degree={ks}')\n",
        "    plt.xlabel('Time Step')\n",
        "    plt.ylabel('State Value')\n",
        "\n",
        "    plt.grid(True)  # Add a grid for better readability\n",
        "    plt.show()  # Display the plot\n"
      ],
      "metadata": {
        "id": "QbQbDt9cyJuF"
      },
      "execution_count": null,
      "outputs": []
    },
    {
      "cell_type": "code",
      "source": [
        "import matplotlib.pyplot as plt\n",
        "import numpy as np  # Ensure NumPy is imported for indexing\n",
        "\n",
        "def plot_X_simillar_vec(X, similar_indices):\n",
        "\n",
        "    # Set the figure size for better visibility\n",
        "    plt.figure(figsize=(10, 6))\n",
        "\n",
        "    # Colors for different lines\n",
        "    colors = plt.cm.jet(np.linspace(0, 1, len(similar_indices)))\n",
        "\n",
        "    # Loop over similar indices and plot each with a unique color\n",
        "    for ind, color in zip(similar_indices, colors):\n",
        "        # Plot the state vector for each similar index with bubbles only\n",
        "        plt.scatter(range(X.shape[1]), X[ind, :], color=color, alpha=0.5, label=f'Neuron {ind}')\n",
        "\n",
        "    # Add title and labels to make the plot informative\n",
        "    plt.title('States of Similar Neurons Over Time')\n",
        "    plt.xlabel('Time Step')\n",
        "    plt.ylabel('State Value')\n",
        "\n",
        "    plt.grid(True)  # Add a grid for better readability\n",
        "    plt.legend()  # Add a legend to identify each neuron\n",
        "    plt.show()  # Display the plot\n"
      ],
      "metadata": {
        "id": "9_AZl1fqyphu"
      },
      "execution_count": null,
      "outputs": []
    },
    {
      "cell_type": "markdown",
      "metadata": {
        "id": "fnXOMjCnOxi5"
      },
      "source": [
        "# Reservoir Analysis"
      ]
    },
    {
      "cell_type": "markdown",
      "metadata": {
        "id": "kFo_w3-PkfS1"
      },
      "source": [
        "## Hyperparameters investigation of network with F=F_identity\n",
        "\n"
      ]
    },
    {
      "cell_type": "code",
      "source": [
        "F=F_identity"
      ],
      "metadata": {
        "id": "HsVTR6jrkfS2"
      },
      "execution_count": null,
      "outputs": []
    },
    {
      "cell_type": "markdown",
      "source": [
        "### Chemical Network"
      ],
      "metadata": {
        "id": "axp-EEkFkfS2"
      }
    },
    {
      "cell_type": "code",
      "source": [
        "conn=\"Chemical\""
      ],
      "metadata": {
        "id": "-fWNz-hSkfS3"
      },
      "execution_count": null,
      "outputs": []
    },
    {
      "cell_type": "markdown",
      "source": [
        "#### Reservoirs with N=10, Converging diagrams"
      ],
      "metadata": {
        "id": "DvMB2ldokfS3"
      }
    },
    {
      "cell_type": "markdown",
      "source": [
        "##### Reservoir 0, rho=0.5, alpha=0.05"
      ],
      "metadata": {
        "id": "FfYXN5PMkfS3"
      }
    },
    {
      "cell_type": "code",
      "execution_count": null,
      "metadata": {
        "id": "-5dQCYlakfS3"
      },
      "outputs": [],
      "source": [
        "# def compute_state_matrix(F, connectivity, N, epsilon, rho, alpha, T,\n",
        "                         # Lapl=True, ex_time=False):\n",
        "X, N, epsilon, rho, T, alpha, _ = compute_state_matrix(F, conn, 10, 0.2, 0.5, 0.05, 100)"
      ]
    },
    {
      "cell_type": "code",
      "execution_count": null,
      "metadata": {
        "id": "t6Ik2o-GkfS4"
      },
      "outputs": [],
      "source": [
        "\n",
        "computational_units_state(X, True)"
      ]
    },
    {
      "cell_type": "markdown",
      "metadata": {
        "id": "gVtfI9AdkfS5"
      },
      "source": [
        "##### Reservoir 1 rho=0.5, alpha=0.5\n",
        "\n"
      ]
    },
    {
      "cell_type": "code",
      "execution_count": null,
      "metadata": {
        "id": "VWXw35nWkfS5"
      },
      "outputs": [],
      "source": [
        "X, N, epsilon, rho, T, alpha, _ = compute_state_matrix(F, conn, 10, 0.2, 0.5, 0.5, 30)"
      ]
    },
    {
      "cell_type": "code",
      "source": [
        "computational_units_state(X, True)"
      ],
      "metadata": {
        "id": "RleSbgxCkfS5"
      },
      "execution_count": null,
      "outputs": []
    },
    {
      "cell_type": "markdown",
      "metadata": {
        "id": "aLqhbm-KkfS6"
      },
      "source": [
        "##### Reservoir 2 rho=1.5, alpha=0.05"
      ]
    },
    {
      "cell_type": "code",
      "execution_count": null,
      "metadata": {
        "id": "5YAWm42JkfS6"
      },
      "outputs": [],
      "source": [
        "# Run the Network with N = 100, epsilon=0.2, rho = 0.95, T = 1000, alpha = 1.1\n",
        "X, N, epsilon, rho, T, alpha, _ = compute_state_matrix(F, conn, 10, 0.2, 1.5, 0.05, 300)\n"
      ]
    },
    {
      "cell_type": "code",
      "source": [
        "computational_units_state(X,True)"
      ],
      "metadata": {
        "id": "P6gNRtVMkfS6"
      },
      "execution_count": null,
      "outputs": []
    },
    {
      "cell_type": "code",
      "source": [
        "states_average_plot(X)"
      ],
      "metadata": {
        "id": "7h4DKVa9EtgD"
      },
      "execution_count": null,
      "outputs": []
    },
    {
      "cell_type": "markdown",
      "metadata": {
        "id": "mlOxyLZVkfS7"
      },
      "source": [
        "##### Reservoir 3 rho=1.5, alpha=*0.5*"
      ]
    },
    {
      "cell_type": "code",
      "execution_count": null,
      "metadata": {
        "id": "X4DtKvKvkfS7"
      },
      "outputs": [],
      "source": [
        "# Run the Network with N = 100, epsilon=0.2, rho = 1.1, T = 1000, alpha = 0.05\n",
        "X, N, epsilon, rho, T, alpha, _ = compute_state_matrix(F, conn, 10, 0.2, 1.5, 0.5, 50)"
      ]
    },
    {
      "cell_type": "code",
      "source": [
        "computational_units_state(X, True)"
      ],
      "metadata": {
        "id": "QieDuABjkfS7"
      },
      "execution_count": null,
      "outputs": []
    },
    {
      "cell_type": "markdown",
      "metadata": {
        "id": "m5u6xWgSkfS7"
      },
      "source": [
        "##### Reservoir 4 rho=0.95, alpha=0.05"
      ]
    },
    {
      "cell_type": "code",
      "execution_count": null,
      "metadata": {
        "id": "UBjAWYpakfS8"
      },
      "outputs": [],
      "source": [
        "X, N, epsilon, rho, T, alpha, _ = compute_state_matrix(F, conn, 10, 0.2, 0.95, 0.05, 100)"
      ]
    },
    {
      "cell_type": "code",
      "source": [
        "computational_units_state(X, True)"
      ],
      "metadata": {
        "id": "BJo5h0OlkfS8"
      },
      "execution_count": null,
      "outputs": []
    },
    {
      "cell_type": "markdown",
      "source": [
        "#### Reservoirs with N=100"
      ],
      "metadata": {
        "id": "AralOdtHkfS8"
      }
    },
    {
      "cell_type": "markdown",
      "source": [
        "##### Reservoir 0, rho=0.5, alpha=0.05"
      ],
      "metadata": {
        "id": "yhm69QbGkfS8"
      }
    },
    {
      "cell_type": "code",
      "execution_count": null,
      "metadata": {
        "id": "qaQxQDYekfS8"
      },
      "outputs": [],
      "source": [
        "# def compute_state_matrix(F, connectivity, N, epsilon, rho, alpha, T,\n",
        "                         # Lapl=True, ex_time=False):\n",
        "X, N, epsilon, rho, T, alpha, _ = compute_state_matrix(F, conn, 100, 0.2, 0.5, 0.05, 100)"
      ]
    },
    {
      "cell_type": "code",
      "execution_count": null,
      "metadata": {
        "id": "7uMmxMBjkfS8"
      },
      "outputs": [],
      "source": [
        "computational_units_state(X)"
      ]
    },
    {
      "cell_type": "code",
      "source": [
        "# Plots\n",
        "states_average_plot(X, running_avg=False)\n",
        "states_variance_plot(X)\n",
        "fft_plot(X)\n",
        "fft_plot(X, running_avg=True)\n",
        "power_spectrum_plot(X)"
      ],
      "metadata": {
        "id": "E5-fVSGtkfS9"
      },
      "execution_count": null,
      "outputs": []
    },
    {
      "cell_type": "code",
      "source": [
        "degrees_distribution(W)\n",
        "plot_weighted_degrees(weighted_degrees(W,N))"
      ],
      "metadata": {
        "id": "xrlGzYNAeVjR"
      },
      "execution_count": null,
      "outputs": []
    },
    {
      "cell_type": "code",
      "source": [
        "similar_indices, similar_degrees = find_similar_weighted_degrees(W, N, 70, 0.01)\n",
        "plot_X_similar_vec(X, similar_indices)"
      ],
      "metadata": {
        "id": "jSY_BgSPfPO8"
      },
      "execution_count": null,
      "outputs": []
    },
    {
      "cell_type": "markdown",
      "metadata": {
        "id": "-NrKaGszkfS9"
      },
      "source": [
        "##### Reservoir 1 rho=0.5, alpha=0.5\n",
        "\n"
      ]
    },
    {
      "cell_type": "code",
      "execution_count": null,
      "metadata": {
        "id": "TPl7q_C5kfS9"
      },
      "outputs": [],
      "source": [
        "X, N, epsilon, rho, T, alpha, _ = compute_state_matrix(F, conn, 100, 0.2, 0.5, 0.5, 30)\n"
      ]
    },
    {
      "cell_type": "code",
      "source": [
        "computational_units_state(X)"
      ],
      "metadata": {
        "id": "cdHGjiGMkfS9"
      },
      "execution_count": null,
      "outputs": []
    },
    {
      "cell_type": "code",
      "source": [
        "# Plots\n",
        "states_average_plot(X, running_avg=True)\n",
        "states_variance_plot(X)\n",
        "fft_plot(X)\n",
        "fft_plot(X, running_avg=True)\n",
        "power_spectrum_plot(X)"
      ],
      "metadata": {
        "id": "K8amFtk1kfS9"
      },
      "execution_count": null,
      "outputs": []
    },
    {
      "cell_type": "code",
      "source": [
        "degrees_distribution(W)\n",
        "plot_weighted_degrees(weighted_degrees(W,N))"
      ],
      "metadata": {
        "id": "VFjC4YzWhW7g"
      },
      "execution_count": null,
      "outputs": []
    },
    {
      "cell_type": "code",
      "source": [
        "similar_indices, similar_degrees = find_similar_weighted_degrees(W, N, 70, 0.01)\n",
        "plot_X_similar_vec(X, similar_indices)"
      ],
      "metadata": {
        "id": "59MsbRFKhbP6"
      },
      "execution_count": null,
      "outputs": []
    },
    {
      "cell_type": "markdown",
      "metadata": {
        "id": "2jHBkWISkfS9"
      },
      "source": [
        "##### Reservoir 2 rho=1.5, alpha=0.05"
      ]
    },
    {
      "cell_type": "code",
      "execution_count": null,
      "metadata": {
        "id": "9mqPkG_tkfS-"
      },
      "outputs": [],
      "source": [
        "X, N, epsilon, rho, T, alpha, _ = compute_state_matrix(F, conn, 100, 0.2, 1.5, 0.05, 1000)\n"
      ]
    },
    {
      "cell_type": "code",
      "source": [
        "computational_units_state(X)"
      ],
      "metadata": {
        "id": "fT8KDlhBkfS-"
      },
      "execution_count": null,
      "outputs": []
    },
    {
      "cell_type": "code",
      "execution_count": null,
      "metadata": {
        "id": "5OjLHBX6kfS-"
      },
      "outputs": [],
      "source": [
        "# Plots\n",
        "states_average_plot(X, running_avg=False)\n",
        "states_variance_plot(X)\n",
        "fft_plot(X)\n",
        "fft_plot(X, running_avg=True)\n",
        "power_spectrum_plot(X)"
      ]
    },
    {
      "cell_type": "code",
      "source": [
        "pear_graph(X, future_time=1000)"
      ],
      "metadata": {
        "id": "Kob17YqoVPom"
      },
      "execution_count": null,
      "outputs": []
    },
    {
      "cell_type": "code",
      "source": [
        "degrees_distribution(W)\n",
        "plot_weighted_degrees(weighted_degrees(W,N))"
      ],
      "metadata": {
        "id": "0oKD8wjfhfcG"
      },
      "execution_count": null,
      "outputs": []
    },
    {
      "cell_type": "code",
      "source": [
        "similar_indices, similar_degrees = find_similar_weighted_degrees(W, N, 70, 0.01)\n",
        "plot_X_similar_vec(X, similar_indices)"
      ],
      "metadata": {
        "id": "lP0rDYPdhiEb"
      },
      "execution_count": null,
      "outputs": []
    },
    {
      "cell_type": "markdown",
      "metadata": {
        "id": "DUR3GsM-kfS-"
      },
      "source": [
        "##### Reservoir 3 rho=1.5, alpha=*0.5*"
      ]
    },
    {
      "cell_type": "code",
      "execution_count": null,
      "metadata": {
        "id": "JCFc9N-qkfS-"
      },
      "outputs": [],
      "source": [
        "# Run the Network with N = 100, epsilon=0.2, rho = 1.1, T = 1000, alpha = 0.05\n",
        "X, N, epsilon, rho, T, alpha, _ = compute_state_matrix(F, conn, 100, 0.2, 1.5, 0.5, 1000)"
      ]
    },
    {
      "cell_type": "code",
      "source": [
        "computational_units_state(X)"
      ],
      "metadata": {
        "id": "6Poo8Hm1kfS-"
      },
      "execution_count": null,
      "outputs": []
    },
    {
      "cell_type": "code",
      "source": [
        "#def computational_units_state_2(X, nn, t_start, t_end, zoom_in_start=None, zoom_in_end=None, legend=False):"
      ],
      "metadata": {
        "id": "1hBp6Vy7mk6r"
      },
      "execution_count": null,
      "outputs": []
    },
    {
      "cell_type": "code",
      "source": [
        "computational_units_state_2(X, 10, 0, 1000,y_lim=[-1,1], zoom_in_start=900, zoom_in_end=1000, legend=True)"
      ],
      "metadata": {
        "id": "qpdiYLzHmnLl"
      },
      "execution_count": null,
      "outputs": []
    },
    {
      "cell_type": "code",
      "execution_count": null,
      "metadata": {
        "id": "xQqR4lDwkfS-"
      },
      "outputs": [],
      "source": [
        "# Plots\n",
        "states_average_plot(X, running_avg=False)\n",
        "states_variance_plot(X)\n",
        "fft_plot(X)\n",
        "fft_plot(X, running_avg=True)\n",
        "power_spectrum_plot(X)"
      ]
    },
    {
      "cell_type": "code",
      "source": [
        "pear_graph(X, future_time=1000)"
      ],
      "metadata": {
        "id": "oKrb6vOhAljX"
      },
      "execution_count": null,
      "outputs": []
    },
    {
      "cell_type": "code",
      "source": [
        "similar_indices, similar_degrees = find_similar_weighted_degrees(W, N, 70, 0.01)\n",
        "plot_X_similar_vec(X, similar_indices, True, 500,600)"
      ],
      "metadata": {
        "id": "CPYrlqBuhwt8"
      },
      "execution_count": null,
      "outputs": []
    },
    {
      "cell_type": "code",
      "source": [
        "similar_indices, similar_degrees = find_similar_weighted_degrees(W, N, 25, 0.01)\n",
        "plot_X_similar_vec(X, similar_indices, True, 500,600)"
      ],
      "metadata": {
        "id": "0QSse-G_jMFS"
      },
      "execution_count": null,
      "outputs": []
    },
    {
      "cell_type": "code",
      "source": [
        "similar_indices, similar_degrees = find_similar_weighted_degrees(W, N, 90, 0.01)\n",
        "plot_X_similar_vec(X, similar_indices, True, 500,600)"
      ],
      "metadata": {
        "id": "OcUJ8NkIjVVW"
      },
      "execution_count": null,
      "outputs": []
    },
    {
      "cell_type": "markdown",
      "metadata": {
        "id": "6uRQQdankfS_"
      },
      "source": [
        "##### Reservoir 4 rho=0.95, alpha=0.05"
      ]
    },
    {
      "cell_type": "code",
      "execution_count": null,
      "metadata": {
        "id": "qobB1_y1kfS_"
      },
      "outputs": [],
      "source": [
        "X, N, epsilon, rho, T, alpha, _ = compute_state_matrix(F, conn, 100, 0.2, 0.95, 0.05, 500)"
      ]
    },
    {
      "cell_type": "code",
      "source": [
        "computational_units_state(X)"
      ],
      "metadata": {
        "id": "tpgfuuPBkfS_"
      },
      "execution_count": null,
      "outputs": []
    },
    {
      "cell_type": "code",
      "execution_count": null,
      "metadata": {
        "id": "6P2uRk9vkfS_"
      },
      "outputs": [],
      "source": [
        "# Plots\n",
        "states_average_plot(X, running_avg=True)\n",
        "states_variance_plot(X)\n",
        "fft_plot(X)\n",
        "fft_plot(X, running_avg=True)\n",
        "power_spectrum_plot(X)"
      ]
    },
    {
      "cell_type": "code",
      "source": [
        "pear_graph(X, future_time=500)"
      ],
      "metadata": {
        "id": "ByTpFuYGUSyl"
      },
      "execution_count": null,
      "outputs": []
    },
    {
      "cell_type": "code",
      "source": [
        "similar_indices, similar_degrees = find_similar_weighted_degrees(W, N, 70, 0.01)\n",
        "plot_X_similar_vec(X, similar_indices, True)"
      ],
      "metadata": {
        "id": "BpG4TCDyji_S"
      },
      "execution_count": null,
      "outputs": []
    },
    {
      "cell_type": "markdown",
      "metadata": {
        "id": "GKRk4wldkfS_"
      },
      "source": [
        "##### Reservoir 5 rho=1.5, alpha=0.6"
      ]
    },
    {
      "cell_type": "code",
      "execution_count": null,
      "metadata": {
        "id": "dRoZ46SskfS_"
      },
      "outputs": [],
      "source": [
        "X, N, epsilon, rho, T, alpha, _ = compute_state_matrix(F, conn, 100, 0.2, 1.5, 0.6, 1000)"
      ]
    },
    {
      "cell_type": "code",
      "source": [
        "computational_units_state(X)"
      ],
      "metadata": {
        "id": "MJLEH8NwkfS_"
      },
      "execution_count": null,
      "outputs": []
    },
    {
      "cell_type": "code",
      "execution_count": null,
      "metadata": {
        "id": "7HCkOVjNkfTA"
      },
      "outputs": [],
      "source": [
        "# Plots\n",
        "states_average_plot(X, running_avg=True)\n",
        "states_variance_plot(X)\n",
        "fft_plot(X)\n",
        "fft_plot(X, running_avg=True)\n",
        "power_spectrum_plot(X)\n",
        "pear_graph(X, future_time=1000)"
      ]
    },
    {
      "cell_type": "code",
      "source": [
        "similar_indices, similar_degrees = find_similar_weighted_degrees(W, N, 70, 0.01)\n",
        "plot_X_similar_vec(X, similar_indices, True, 500,600)"
      ],
      "metadata": {
        "id": "tuBmSQ0MjoQ2"
      },
      "execution_count": null,
      "outputs": []
    },
    {
      "cell_type": "code",
      "source": [
        "similar_indices, similar_degrees = find_similar_weighted_degrees(W, N, 15, 0.01)\n",
        "plot_X_similar_vec(X, similar_indices, True, 500,600)"
      ],
      "metadata": {
        "id": "LKVYdWEOjrnK"
      },
      "execution_count": null,
      "outputs": []
    },
    {
      "cell_type": "code",
      "source": [
        "similar_indices, similar_degrees = find_similar_weighted_degrees(W, N, 90, 0.01)\n",
        "plot_X_similar_vec(X, similar_indices, True, 500,600)"
      ],
      "metadata": {
        "id": "3tjXYUHqj7yS"
      },
      "execution_count": null,
      "outputs": []
    },
    {
      "cell_type": "markdown",
      "metadata": {
        "id": "36dLQCNFkfTA"
      },
      "source": [
        "##### Reservoir 6 rho=1.5, alpha=1.1"
      ]
    },
    {
      "cell_type": "code",
      "execution_count": null,
      "metadata": {
        "id": "K25Za3lGkfTA"
      },
      "outputs": [],
      "source": [
        "X, N, epsilon, rho, T, alpha, _ = compute_state_matrix(F, conn, 100, 0.2, 1.5, 1.1, 1000)"
      ]
    },
    {
      "cell_type": "code",
      "source": [
        "computational_units_state(X, y_lim=[-1.5,1.5])"
      ],
      "metadata": {
        "id": "cs7T7mtjkfTA"
      },
      "execution_count": null,
      "outputs": []
    },
    {
      "cell_type": "code",
      "source": [
        "computational_units_state_2(X, 5, 0, 1000,y_lim=[-1.5,1.5], zoom_in_start=950, zoom_in_end=1000, legend=True)"
      ],
      "metadata": {
        "id": "D_mL65KxzQ0D"
      },
      "execution_count": null,
      "outputs": []
    },
    {
      "cell_type": "code",
      "execution_count": null,
      "metadata": {
        "id": "4ROPstFHkfTA"
      },
      "outputs": [],
      "source": [
        "# Plots\n",
        "states_average_plot(X, running_avg=True)\n",
        "states_variance_plot(X)\n",
        "fft_plot(X)\n",
        "fft_plot(X, running_avg=True)\n",
        "power_spectrum_plot(X)\n",
        "pear_graph(X, future_time=1000)"
      ]
    },
    {
      "cell_type": "code",
      "source": [
        "similar_indices, similar_degrees = find_similar_weighted_degrees(W, N, 15, 0.01)\n",
        "plot_X_similar_vec(X, similar_indices, True, 500,550)"
      ],
      "metadata": {
        "id": "V8ueBD7UkI56"
      },
      "execution_count": null,
      "outputs": []
    },
    {
      "cell_type": "code",
      "source": [
        "similar_indices, similar_degrees = find_similar_weighted_degrees(W, N, 90, 0.01)\n",
        "plot_X_similar_vec(X, similar_indices, True, 500,550)"
      ],
      "metadata": {
        "id": "3I5b-OIEkODc"
      },
      "execution_count": null,
      "outputs": []
    },
    {
      "cell_type": "markdown",
      "metadata": {
        "id": "25XrNlPhkfTB"
      },
      "source": [
        "##### Reservoir 7 rho=2, alpha=2"
      ]
    },
    {
      "cell_type": "code",
      "execution_count": null,
      "metadata": {
        "id": "EW5dQFAQkfTB"
      },
      "outputs": [],
      "source": [
        "X, N, epsilon, rho, T, alpha, _ = compute_state_matrix(F, conn, 100, 0.2, 2, 2, 1000)"
      ]
    },
    {
      "cell_type": "code",
      "source": [
        "computational_units_state(X, y_lim=[-4,4])\n",
        "states_average_plot(X, running_avg=True)\n",
        "states_average_plot_zoom_in(X, 250, 400, running_avg=True)\n",
        "states_variance_plot(X)\n",
        "fft_plot(X)\n",
        "fft_plot(X, running_avg=True)\n",
        "power_spectrum_plot(X)\n",
        "pear_graph(X, future_time=1000)"
      ],
      "metadata": {
        "id": "woZ_m1yzkfTB"
      },
      "execution_count": null,
      "outputs": []
    },
    {
      "cell_type": "code",
      "source": [
        "computational_units_state_2(X, 5, 0, 1000,y_lim=[-1000,1000], zoom_in_start=200, zoom_in_end=250, legend=True)"
      ],
      "metadata": {
        "id": "zgKUoIXl-yUE"
      },
      "execution_count": null,
      "outputs": []
    },
    {
      "cell_type": "markdown",
      "metadata": {
        "id": "XtoxAt_FkfTB"
      },
      "source": [
        "##### Reservoir 8 rho=1.5, alpha=0.95"
      ]
    },
    {
      "cell_type": "code",
      "execution_count": null,
      "metadata": {
        "id": "15Ui3tmhkfTB"
      },
      "outputs": [],
      "source": [
        "X, N, epsilon, rho, T, alpha, _ = compute_state_matrix(F_identity, \"Chemical\", 100, 0.2, 1.5, 0.95, 1000)"
      ]
    },
    {
      "cell_type": "code",
      "source": [
        "computational_units_state(X,False)\n",
        "states_average_plot(X, running_avg=True)\n",
        "states_variance_plot(X)\n",
        "fft_plot(X)\n",
        "fft_plot(X, running_avg=True)\n",
        "power_spectrum_plot(X)\n",
        "pear_graph(X, future_time=1000)"
      ],
      "metadata": {
        "id": "ohVn48QTkfTB"
      },
      "execution_count": null,
      "outputs": []
    },
    {
      "cell_type": "markdown",
      "metadata": {
        "id": "JkWC8oufkfTB"
      },
      "source": [
        "##### Reservoir 9 rho=2, alpha=0.95"
      ]
    },
    {
      "cell_type": "code",
      "execution_count": null,
      "metadata": {
        "id": "Y9lZ1S-EkfTC"
      },
      "outputs": [],
      "source": [
        "X, N, epsilon, rho, T, alpha, _ = compute_state_matrix(F, conn, 100, 0.2, 2, 0.95, 1000)"
      ]
    },
    {
      "cell_type": "code",
      "execution_count": null,
      "metadata": {
        "id": "XluspvM4kfTC"
      },
      "outputs": [],
      "source": [
        "computational_units_state(X, False)\n",
        "states_average_plot(X, running_avg=True)\n",
        "states_variance_plot(X)\n",
        "fft_plot(X)\n",
        "fft_plot(X, running_avg=True)\n",
        "power_spectrum_plot(X)\n",
        "pear_graph(X, future_time=1000)"
      ]
    },
    {
      "cell_type": "markdown",
      "metadata": {
        "id": "T0nAdwXikfTC"
      },
      "source": [
        "##### Reservoir 10 rho=2, alpha=0.8"
      ]
    },
    {
      "cell_type": "code",
      "execution_count": null,
      "metadata": {
        "id": "V6KCV9hmkfTC"
      },
      "outputs": [],
      "source": [
        "X, N, epsilon, rho, T, alpha, _ = compute_state_matrix(F, conn, 100, 0.2, 2, 0.8, 1000)\n",
        "computational_units_state(X, False)\n",
        "states_average_plot(X, running_avg=True)\n",
        "states_variance_plot(X)\n",
        "fft_plot(X)\n",
        "fft_plot(X, running_avg=True)\n",
        "power_spectrum_plot(X)\n",
        "pear_graph(X, future_time=1000)"
      ]
    },
    {
      "cell_type": "markdown",
      "metadata": {
        "id": "TZlLd6C3kfTC"
      },
      "source": [
        "##### Reservoir 11 rho=0.8, alpha=0.8"
      ]
    },
    {
      "cell_type": "code",
      "execution_count": null,
      "metadata": {
        "id": "s5CcoAFzkfTC"
      },
      "outputs": [],
      "source": [
        "X, N, epsilon, rho, T, alpha, _ = compute_state_matrix(F, conn, 100, 0.2, 0.8, 0.8, 1000)\n",
        "computational_units_state(X, False)\n",
        "states_average_plot(X, running_avg=True)\n",
        "states_variance_plot(X)\n",
        "fft_plot(X)\n",
        "fft_plot(X, running_avg=True)\n",
        "power_spectrum_plot(X)\n",
        "pear_graph(X, future_time=1000)"
      ]
    },
    {
      "cell_type": "markdown",
      "metadata": {
        "id": "7j6rdWsokfTD"
      },
      "source": [
        "##### Reservoir 12 rho=0.8, alpha=0.01"
      ]
    },
    {
      "cell_type": "code",
      "execution_count": null,
      "metadata": {
        "id": "MQM41PpckfTD"
      },
      "outputs": [],
      "source": [
        "X, N, epsilon, rho, T, alpha, _ = compute_state_matrix(F, conn, 100, 0.2, 0.8, 0.01, 1000)\n",
        "computational_units_state(X, False)\n",
        "states_average_plot(X, running_avg=True)\n",
        "states_variance_plot(X)\n",
        "fft_plot(X)\n",
        "fft_plot(X, running_avg=True)\n",
        "power_spectrum_plot(X)\n",
        "pear_graph(X, future_time=1000)"
      ]
    },
    {
      "cell_type": "code",
      "source": [],
      "metadata": {
        "id": "b_hJpghrkfTD"
      },
      "execution_count": null,
      "outputs": []
    },
    {
      "cell_type": "markdown",
      "metadata": {
        "id": "xIInmnXERzHX"
      },
      "source": [
        "##### Reservoir 13 rho=2, alpha=1.5"
      ]
    },
    {
      "cell_type": "code",
      "execution_count": null,
      "metadata": {
        "id": "_5UQM1_HRzHY"
      },
      "outputs": [],
      "source": [
        "X, N, epsilon, rho, T, alpha, _ = compute_state_matrix(F, conn, 100, 0.2, 0.4, 1.5, 1000)"
      ]
    },
    {
      "cell_type": "code",
      "source": [
        "computational_units_state(X, y_lim=[-4,4])\n",
        "states_average_plot(X, running_avg=True)\n",
        "states_average_plot_zoom_in(X, 250, 400, running_avg=True)\n",
        "states_variance_plot(X)\n",
        "fft_plot(X)\n",
        "fft_plot(X, running_avg=True)\n",
        "power_spectrum_plot(X)\n",
        "pear_graph(X, future_time=1000)"
      ],
      "metadata": {
        "id": "BeGnxJFPRzHY"
      },
      "execution_count": null,
      "outputs": []
    },
    {
      "cell_type": "code",
      "source": [
        "computational_units_state_2(X, 5, 0, 1000,y_lim=[-1000,1000], zoom_in_start=200, zoom_in_end=250, legend=True)"
      ],
      "metadata": {
        "id": "E80R_GZFRzHZ"
      },
      "execution_count": null,
      "outputs": []
    },
    {
      "cell_type": "markdown",
      "source": [
        "### Electrical Network"
      ],
      "metadata": {
        "id": "8B-TfgbokfTD"
      }
    },
    {
      "cell_type": "code",
      "source": [
        "conn=\"Electrical\""
      ],
      "metadata": {
        "id": "72sxOsRYkfTD"
      },
      "execution_count": null,
      "outputs": []
    },
    {
      "cell_type": "markdown",
      "source": [
        "#### Reservoirs with N=10, Converging diagrams"
      ],
      "metadata": {
        "id": "4XmmXeOxkfTD"
      }
    },
    {
      "cell_type": "markdown",
      "source": [
        "##### Reservoir 0, rho=0.5, alpha=0.05"
      ],
      "metadata": {
        "id": "7tP_7jEPkfTD"
      }
    },
    {
      "cell_type": "code",
      "execution_count": null,
      "metadata": {
        "id": "4P78kNFykfTD"
      },
      "outputs": [],
      "source": [
        "# def compute_state_matrix(F, connectivity, N, epsilon, rho, alpha, T,\n",
        "                         # Lapl=True, ex_time=False):\n",
        "X, N, epsilon, rho, T, alpha, _ = compute_state_matrix(F, conn, 10, 0.2, 0.5, 0.05, 100)"
      ]
    },
    {
      "cell_type": "code",
      "execution_count": null,
      "metadata": {
        "id": "IlBXxJRzkfTE"
      },
      "outputs": [],
      "source": [
        "computational_units_state(X, True)"
      ]
    },
    {
      "cell_type": "markdown",
      "metadata": {
        "id": "5l_b12cZkfTE"
      },
      "source": [
        "##### Reservoir 1 rho=0.5, alpha=0.5\n",
        "\n"
      ]
    },
    {
      "cell_type": "code",
      "execution_count": null,
      "metadata": {
        "id": "tz1UqC0fkfTE"
      },
      "outputs": [],
      "source": [
        "X, N, epsilon, rho, T, alpha, _ = compute_state_matrix(F, conn, 10, 0.2, 0.5, 0.5, 30)"
      ]
    },
    {
      "cell_type": "code",
      "source": [
        "computational_units_state(X, True)"
      ],
      "metadata": {
        "id": "NnZzRR06kfTE"
      },
      "execution_count": null,
      "outputs": []
    },
    {
      "cell_type": "markdown",
      "metadata": {
        "id": "6wPdsm4nkfTE"
      },
      "source": [
        "##### Reservoir 2 rho=1.5, alpha=0.05"
      ]
    },
    {
      "cell_type": "code",
      "execution_count": null,
      "metadata": {
        "id": "lJoz3tf4kfTE"
      },
      "outputs": [],
      "source": [
        "# Run the Network with N = 100, epsilon=0.2, rho = 0.95, T = 1000, alpha = 1.1\n",
        "X, N, epsilon, rho, T, alpha, _ = compute_state_matrix(F, conn, 10, 0.2, 1.5, 0.05, 300)\n"
      ]
    },
    {
      "cell_type": "code",
      "source": [
        "computational_units_state(X,True)"
      ],
      "metadata": {
        "id": "Ew8FstZhkfTE"
      },
      "execution_count": null,
      "outputs": []
    },
    {
      "cell_type": "markdown",
      "metadata": {
        "id": "RrkfnzNEkfTF"
      },
      "source": [
        "##### Reservoir 3 rho=1.5, alpha=*0.5*"
      ]
    },
    {
      "cell_type": "code",
      "execution_count": null,
      "metadata": {
        "id": "kYzMJfkfkfTF"
      },
      "outputs": [],
      "source": [
        "# Run the Network with N = 100, epsilon=0.2, rho = 1.1, T = 1000, alpha = 0.05\n",
        "X, N, epsilon, rho, T, alpha, _ = compute_state_matrix(F, conn, 10, 0.2, 1.5, 0.5, 50)"
      ]
    },
    {
      "cell_type": "code",
      "source": [
        "computational_units_state(X, True)"
      ],
      "metadata": {
        "id": "kQwXCvcZkfTF"
      },
      "execution_count": null,
      "outputs": []
    },
    {
      "cell_type": "markdown",
      "metadata": {
        "id": "YpKFE5fTkfTF"
      },
      "source": [
        "##### Reservoir 4 rho=0.95, alpha=0.05"
      ]
    },
    {
      "cell_type": "code",
      "execution_count": null,
      "metadata": {
        "id": "Z2vDXgMhkfTF"
      },
      "outputs": [],
      "source": [
        "X, N, epsilon, rho, T, alpha, _ = compute_state_matrix(F, conn, 10, 0.2, 0.95, 0.05, 100)"
      ]
    },
    {
      "cell_type": "code",
      "source": [
        "computational_units_state(X, True)"
      ],
      "metadata": {
        "id": "5gnsxxxTkfTF"
      },
      "execution_count": null,
      "outputs": []
    },
    {
      "cell_type": "markdown",
      "source": [
        "#### Reservoirs with N=100"
      ],
      "metadata": {
        "id": "R6RIupLKkfTF"
      }
    },
    {
      "cell_type": "markdown",
      "source": [
        "##### Reservoir 0, rho=0.5, alpha=0.05"
      ],
      "metadata": {
        "id": "ylvo3x4XkfTF"
      }
    },
    {
      "cell_type": "code",
      "execution_count": null,
      "metadata": {
        "id": "qI-CxoDXkfTG"
      },
      "outputs": [],
      "source": [
        "# def compute_state_matrix(F, connectivity, N, epsilon, rho, alpha, T,\n",
        "                         # Lapl=True, ex_time=False):\n",
        "X, N, epsilon, rho, T, alpha, _ = compute_state_matrix(F, conn, 100, 0.2, 0.5, 0.05, 100)"
      ]
    },
    {
      "cell_type": "code",
      "execution_count": null,
      "metadata": {
        "id": "Y_Un7HahkfTG"
      },
      "outputs": [],
      "source": [
        "computational_units_state(X)"
      ]
    },
    {
      "cell_type": "code",
      "source": [
        "# Plots\n",
        "states_average_plot(X, running_avg=True)\n",
        "states_variance_plot(X)\n",
        "fft_plot(X)\n",
        "fft_plot(X, running_avg=True)\n",
        "power_spectrum_plot(X)"
      ],
      "metadata": {
        "id": "pFk8eyOokfTG"
      },
      "execution_count": null,
      "outputs": []
    },
    {
      "cell_type": "markdown",
      "metadata": {
        "id": "o9g7xFCJkfTG"
      },
      "source": [
        "##### Reservoir 1 rho=0.5, alpha=0.5\n",
        "\n"
      ]
    },
    {
      "cell_type": "code",
      "execution_count": null,
      "metadata": {
        "id": "JIcDYfnvkfTG"
      },
      "outputs": [],
      "source": [
        "X, N, epsilon, rho, T, alpha, _ = compute_state_matrix(F, conn, 100, 0.2, 0.5, 0.5, 30)\n"
      ]
    },
    {
      "cell_type": "code",
      "source": [
        "computational_units_state(X)"
      ],
      "metadata": {
        "id": "O5ZJ_PODkfTH"
      },
      "execution_count": null,
      "outputs": []
    },
    {
      "cell_type": "code",
      "source": [
        "# Plots\n",
        "states_average_plot(X, running_avg=True)\n",
        "states_variance_plot(X)\n",
        "fft_plot(X)\n",
        "fft_plot(X, running_avg=True)\n",
        "power_spectrum_plot(X)"
      ],
      "metadata": {
        "id": "IkHXf8YekfTH"
      },
      "execution_count": null,
      "outputs": []
    },
    {
      "cell_type": "markdown",
      "metadata": {
        "id": "B6v_pdjwkfTH"
      },
      "source": [
        "##### Reservoir 2 rho=1.5, alpha=0.05"
      ]
    },
    {
      "cell_type": "code",
      "execution_count": null,
      "metadata": {
        "id": "brjeIt5okfTH"
      },
      "outputs": [],
      "source": [
        "X, N, epsilon, rho, T, alpha, _ = compute_state_matrix(F, conn, 100, 0.2, 1.5, 0.05, 100)\n"
      ]
    },
    {
      "cell_type": "code",
      "source": [
        "computational_units_state(X)"
      ],
      "metadata": {
        "id": "0vahiWRgkfTI"
      },
      "execution_count": null,
      "outputs": []
    },
    {
      "cell_type": "code",
      "execution_count": null,
      "metadata": {
        "id": "osdhgdU1kfTI"
      },
      "outputs": [],
      "source": [
        "# Plots\n",
        "states_average_plot(X, running_avg=True)\n",
        "states_variance_plot(X)\n",
        "fft_plot(X)\n",
        "fft_plot(X, running_avg=True)\n",
        "power_spectrum_plot(X)"
      ]
    },
    {
      "cell_type": "markdown",
      "metadata": {
        "id": "wlBw2rXCkfTI"
      },
      "source": [
        "##### Reservoir 3 rho=1.5, alpha=*0.5*"
      ]
    },
    {
      "cell_type": "code",
      "execution_count": null,
      "metadata": {
        "id": "lj54ciBtkfTI"
      },
      "outputs": [],
      "source": [
        "# Run the Network with N = 100, epsilon=0.2, rho = 1.1, T = 1000, alpha = 0.05\n",
        "X, N, epsilon, rho, T, alpha, _ = compute_state_matrix(F, conn, 100, 0.2, 1.5, 0.5, 500)"
      ]
    },
    {
      "cell_type": "code",
      "source": [
        "computational_units_state(X)"
      ],
      "metadata": {
        "id": "jDR7su36kfTI"
      },
      "execution_count": null,
      "outputs": []
    },
    {
      "cell_type": "code",
      "execution_count": null,
      "metadata": {
        "id": "Fzcjqx0UkfTI"
      },
      "outputs": [],
      "source": [
        "# Plots\n",
        "states_average_plot(X, running_avg=True)\n",
        "states_variance_plot(X)\n",
        "fft_plot(X)\n",
        "fft_plot(X, running_avg=True)\n",
        "power_spectrum_plot(X)"
      ]
    },
    {
      "cell_type": "markdown",
      "metadata": {
        "id": "whPUXpalkfTJ"
      },
      "source": [
        "##### Reservoir 4 rho=0.95, alpha=0.05"
      ]
    },
    {
      "cell_type": "code",
      "execution_count": null,
      "metadata": {
        "id": "ci4D-PLpkfTJ"
      },
      "outputs": [],
      "source": [
        "X, N, epsilon, rho, T, alpha, _ = compute_state_matrix(F, conn, 100, 0.2, 0.95, 0.05, 500)"
      ]
    },
    {
      "cell_type": "code",
      "source": [
        "computational_units_state(X)"
      ],
      "metadata": {
        "id": "ptVFAEkikfTJ"
      },
      "execution_count": null,
      "outputs": []
    },
    {
      "cell_type": "code",
      "execution_count": null,
      "metadata": {
        "id": "hXfIxPTWkfTJ"
      },
      "outputs": [],
      "source": [
        "# Plots\n",
        "states_average_plot(X, running_avg=True)\n",
        "states_variance_plot(X)\n",
        "fft_plot(X)\n",
        "fft_plot(X, running_avg=True)\n",
        "power_spectrum_plot(X)"
      ]
    },
    {
      "cell_type": "markdown",
      "metadata": {
        "id": "7GcpLyjYkfTJ"
      },
      "source": [
        "##### Reservoir 5 rho=1.5, alpha=0.6"
      ]
    },
    {
      "cell_type": "code",
      "execution_count": null,
      "metadata": {
        "id": "v52LtxPbkfTK"
      },
      "outputs": [],
      "source": [
        "X, N, epsilon, rho, T, alpha, _ = compute_state_matrix(F, conn, 100, 0.2, 1.5, 0.6, 1000)"
      ]
    },
    {
      "cell_type": "code",
      "source": [
        "computational_units_state(X)"
      ],
      "metadata": {
        "id": "5k8EQ9JwkfTK"
      },
      "execution_count": null,
      "outputs": []
    },
    {
      "cell_type": "code",
      "execution_count": null,
      "metadata": {
        "id": "2drYw9PHkfTK"
      },
      "outputs": [],
      "source": [
        "# Plots\n",
        "states_average_plot(X, running_avg=True)\n",
        "states_variance_plot(X)\n",
        "fft_plot(X)\n",
        "fft_plot(X, running_avg=True)\n",
        "power_spectrum_plot(X)\n",
        "pear_graph(X, future_time=1000)"
      ]
    },
    {
      "cell_type": "markdown",
      "metadata": {
        "id": "2XfttBytkfTK"
      },
      "source": [
        "##### Reservoir 6 rho=1.5, alpha=1.1"
      ]
    },
    {
      "cell_type": "code",
      "execution_count": null,
      "metadata": {
        "id": "KVfEF-cKkfTK"
      },
      "outputs": [],
      "source": [
        "X, N, epsilon, rho, T, alpha, _ = compute_state_matrix(F, conn, 100, 0.2, 1.5, 1.1, 1000)"
      ]
    },
    {
      "cell_type": "code",
      "source": [
        "computational_units_state(X, y_lim=[-1.5,1.5])"
      ],
      "metadata": {
        "id": "w6o7rC_EkfTK"
      },
      "execution_count": null,
      "outputs": []
    },
    {
      "cell_type": "code",
      "execution_count": null,
      "metadata": {
        "id": "4_FINA0TkfTL"
      },
      "outputs": [],
      "source": [
        "# Plots\n",
        "states_average_plot(X, running_avg=True)\n",
        "states_variance_plot(X)\n",
        "fft_plot(X)\n",
        "fft_plot(X, running_avg=True)\n",
        "power_spectrum_plot(X)"
      ]
    },
    {
      "cell_type": "markdown",
      "metadata": {
        "id": "XDTQm_xHkfTL"
      },
      "source": [
        "##### Reservoir 7 rho=2, alpha=2"
      ]
    },
    {
      "cell_type": "code",
      "execution_count": null,
      "metadata": {
        "id": "-LMoB43SkfTL"
      },
      "outputs": [],
      "source": [
        "X, N, epsilon, rho, T, alpha, _ = compute_state_matrix(F, conn, 100, 0.2, 2, 2, 1000)"
      ]
    },
    {
      "cell_type": "code",
      "source": [
        "computational_units_state(X, y_lim=[-4,4])\n",
        "states_average_plot(X, running_avg=True)\n",
        "states_average_plot_zoom_in(X, 250, 400, running_avg=True)\n",
        "states_variance_plot(X)\n",
        "fft_plot(X)\n",
        "fft_plot(X, running_avg=True)\n",
        "power_spectrum_plot(X)\n",
        "pear_graph(X, future_time=1000)"
      ],
      "metadata": {
        "id": "W4omRZQakfTL"
      },
      "execution_count": null,
      "outputs": []
    },
    {
      "cell_type": "markdown",
      "metadata": {
        "id": "Op3t-D3tkfTL"
      },
      "source": [
        "##### Reservoir 8 rho=1.5, alpha=0.95"
      ]
    },
    {
      "cell_type": "code",
      "execution_count": null,
      "metadata": {
        "id": "q9QmpDGPkfTL"
      },
      "outputs": [],
      "source": [
        "X, N, epsilon, rho, T, alpha, _ = compute_state_matrix(F_identity, \"Electrical\", 100, 0.2, 1.5, 0.95, 1000)"
      ]
    },
    {
      "cell_type": "code",
      "source": [
        "computational_units_state(X,False)\n",
        "states_average_plot(X, running_avg=True)\n",
        "states_variance_plot(X)\n",
        "fft_plot(X)\n",
        "fft_plot(X, running_avg=True)\n",
        "power_spectrum_plot(X)\n",
        "pear_graph(X, future_time=1000)"
      ],
      "metadata": {
        "id": "UXAiVRK0kfTM"
      },
      "execution_count": null,
      "outputs": []
    },
    {
      "cell_type": "markdown",
      "metadata": {
        "id": "uqXjO2YSkfTM"
      },
      "source": [
        "##### Reservoir 9 rho=2, alpha=0.95"
      ]
    },
    {
      "cell_type": "code",
      "execution_count": null,
      "metadata": {
        "id": "qFAY6uSXkfTM"
      },
      "outputs": [],
      "source": [
        "X, N, epsilon, rho, T, alpha, _ = compute_state_matrix(F, conn, 100, 0.2, 2, 0.95, 1000)"
      ]
    },
    {
      "cell_type": "code",
      "execution_count": null,
      "metadata": {
        "id": "MapRjFe6kfTM"
      },
      "outputs": [],
      "source": [
        "computational_units_state(X, False)\n",
        "states_average_plot(X, running_avg=True)\n",
        "states_variance_plot(X)\n",
        "fft_plot(X)\n",
        "fft_plot(X, running_avg=True)\n",
        "power_spectrum_plot(X)\n",
        "pear_graph(X, future_time=1000)"
      ]
    },
    {
      "cell_type": "markdown",
      "metadata": {
        "id": "XMm-69pPkfTM"
      },
      "source": [
        "##### Reservoir 10 rho=2, alpha=0.8"
      ]
    },
    {
      "cell_type": "code",
      "execution_count": null,
      "metadata": {
        "id": "wTJUwjHpkfTN"
      },
      "outputs": [],
      "source": [
        "X, N, epsilon, rho, T, alpha, _ = compute_state_matrix(F, conn, 100, 0.2, 2, 0.8, 1000)\n",
        "computational_units_state(X, False)\n",
        "states_average_plot(X, running_avg=True)\n",
        "states_variance_plot(X)\n",
        "fft_plot(X)\n",
        "fft_plot(X, running_avg=True)\n",
        "power_spectrum_plot(X)\n",
        "pear_graph(X, future_time=1000)"
      ]
    },
    {
      "cell_type": "markdown",
      "metadata": {
        "id": "kplhJVatkfTN"
      },
      "source": [
        "##### Reservoir 11 rho=0.8, alpha=0.8"
      ]
    },
    {
      "cell_type": "code",
      "execution_count": null,
      "metadata": {
        "id": "e3sqrOLgkfTN"
      },
      "outputs": [],
      "source": [
        "X, N, epsilon, rho, T, alpha, _ = compute_state_matrix(F, conn, 100, 0.2, 0.8, 0.8, 1000)\n",
        "computational_units_state(X, False)\n",
        "states_average_plot(X, running_avg=True)\n",
        "states_variance_plot(X)\n",
        "fft_plot(X)\n",
        "fft_plot(X, running_avg=True)\n",
        "power_spectrum_plot(X)\n",
        "pear_graph(X, future_time=1000)"
      ]
    },
    {
      "cell_type": "markdown",
      "metadata": {
        "id": "iO6Uh585kfTN"
      },
      "source": [
        "##### Reservoir 12 rho=0.8, alpha=0.01"
      ]
    },
    {
      "cell_type": "code",
      "execution_count": null,
      "metadata": {
        "id": "dfZq5sWNkfTN"
      },
      "outputs": [],
      "source": [
        "X, N, epsilon, rho, T, alpha, _ = compute_state_matrix(F, conn, 100, 0.2, 0.8, 0.01, 1000)\n",
        "computational_units_state(X, False)\n",
        "states_average_plot(X, running_avg=True)\n",
        "states_variance_plot(X)\n",
        "fft_plot(X)\n",
        "fft_plot(X, running_avg=True)\n",
        "power_spectrum_plot(X)\n",
        "pear_graph(X, future_time=1000)"
      ]
    },
    {
      "cell_type": "code",
      "source": [],
      "metadata": {
        "id": "m_BEceWQkfTO"
      },
      "execution_count": null,
      "outputs": []
    },
    {
      "cell_type": "markdown",
      "metadata": {
        "id": "wsEu3Yhkbc85"
      },
      "source": [
        "## Hyperparameters investigation of network with F=F_mod\n",
        "\n"
      ]
    },
    {
      "cell_type": "code",
      "source": [
        "F=F_mod"
      ],
      "metadata": {
        "id": "r_kLFZ8wcvJh"
      },
      "execution_count": null,
      "outputs": []
    },
    {
      "cell_type": "markdown",
      "source": [
        "### Chemical Network"
      ],
      "metadata": {
        "id": "JFai23kmbc86"
      }
    },
    {
      "cell_type": "code",
      "source": [
        "conn=\"Chemical\""
      ],
      "metadata": {
        "id": "VnWo9e0Acyxx"
      },
      "execution_count": null,
      "outputs": []
    },
    {
      "cell_type": "markdown",
      "source": [
        "#### Reservoirs with N=10, Converging diagrams"
      ],
      "metadata": {
        "id": "r7LKgvqvbc87"
      }
    },
    {
      "cell_type": "markdown",
      "source": [
        "##### Reservoir 0, rho=0.5, alpha=0.05"
      ],
      "metadata": {
        "id": "4EHkBy1ebc87"
      }
    },
    {
      "cell_type": "code",
      "execution_count": null,
      "metadata": {
        "id": "qudIO_Yzbc88"
      },
      "outputs": [],
      "source": [
        "# def compute_state_matrix(F, connectivity, N, epsilon, rho, alpha, T,\n",
        "                         # Lapl=True, ex_time=False):\n",
        "X, N, epsilon, rho, T, alpha, _ = compute_state_matrix(F, conn, 10, 0.2, 0.5, 0.05, 100)"
      ]
    },
    {
      "cell_type": "code",
      "execution_count": null,
      "metadata": {
        "id": "KCLtsuOtbc88"
      },
      "outputs": [],
      "source": [
        "computational_units_state(X, True)"
      ]
    },
    {
      "cell_type": "markdown",
      "metadata": {
        "id": "KJjWxqW3bc89"
      },
      "source": [
        "##### Reservoir 1 rho=0.5, alpha=0.5\n",
        "\n"
      ]
    },
    {
      "cell_type": "code",
      "execution_count": null,
      "metadata": {
        "id": "GEHhp6fhbc89"
      },
      "outputs": [],
      "source": [
        "X, N, epsilon, rho, T, alpha, _ = compute_state_matrix(F, conn, 10, 0.2, 0.5, 0.5, 30)"
      ]
    },
    {
      "cell_type": "code",
      "source": [
        "computational_units_state(X, True)"
      ],
      "metadata": {
        "id": "RYIaWKZ2bc89"
      },
      "execution_count": null,
      "outputs": []
    },
    {
      "cell_type": "markdown",
      "metadata": {
        "id": "wCZNmV4rbc8-"
      },
      "source": [
        "##### Reservoir 2 rho=1.5, alpha=0.05"
      ]
    },
    {
      "cell_type": "code",
      "execution_count": null,
      "metadata": {
        "id": "SbuAplxdbc8-"
      },
      "outputs": [],
      "source": [
        "# Run the Network with N = 100, epsilon=0.2, rho = 0.95, T = 1000, alpha = 1.1\n",
        "X, N, epsilon, rho, T, alpha, _ = compute_state_matrix(F, conn, 10, 0.2, 1.5, 0.05, 300)\n"
      ]
    },
    {
      "cell_type": "code",
      "source": [
        "computational_units_state(X,True)"
      ],
      "metadata": {
        "id": "oeTRwDCVbc8-"
      },
      "execution_count": null,
      "outputs": []
    },
    {
      "cell_type": "markdown",
      "metadata": {
        "id": "jWwqO4f6bc8-"
      },
      "source": [
        "##### Reservoir 3 rho=1.5, alpha=*0.5*"
      ]
    },
    {
      "cell_type": "code",
      "execution_count": null,
      "metadata": {
        "id": "WoUOVKkwbc8_"
      },
      "outputs": [],
      "source": [
        "# Run the Network with N = 100, epsilon=0.2, rho = 1.1, T = 1000, alpha = 0.05\n",
        "X, N, epsilon, rho, T, alpha, _ = compute_state_matrix(F, conn, 10, 0.2, 1.5, 0.5, 50)"
      ]
    },
    {
      "cell_type": "code",
      "source": [
        "computational_units_state(X, True)"
      ],
      "metadata": {
        "id": "89HcBKqzbc8_"
      },
      "execution_count": null,
      "outputs": []
    },
    {
      "cell_type": "markdown",
      "metadata": {
        "id": "TpC-igALbc8_"
      },
      "source": [
        "##### Reservoir 4 rho=0.95, alpha=0.05"
      ]
    },
    {
      "cell_type": "code",
      "execution_count": null,
      "metadata": {
        "id": "fLYdOp61bc8_"
      },
      "outputs": [],
      "source": [
        "X, N, epsilon, rho, T, alpha, _ = compute_state_matrix(F, conn, 10, 0.2, 0.95, 0.05, 100)"
      ]
    },
    {
      "cell_type": "code",
      "source": [
        "computational_units_state(X, True)"
      ],
      "metadata": {
        "id": "8ToxGZsQbc9A"
      },
      "execution_count": null,
      "outputs": []
    },
    {
      "cell_type": "markdown",
      "source": [
        "#### Reservoirs with N=100"
      ],
      "metadata": {
        "id": "JYQ-jyUlbc9A"
      }
    },
    {
      "cell_type": "markdown",
      "source": [
        "##### Reservoir 0, rho=0.5, alpha=0.05"
      ],
      "metadata": {
        "id": "g6RU6b5dbc9A"
      }
    },
    {
      "cell_type": "code",
      "execution_count": null,
      "metadata": {
        "id": "eXyzfjz4bc9A"
      },
      "outputs": [],
      "source": [
        "# def compute_state_matrix(F, connectivity, N, epsilon, rho, alpha, T,\n",
        "                         # Lapl=True, ex_time=False):\n",
        "X, N, epsilon, rho, T, alpha, _ = compute_state_matrix(F, conn, 100, 0.2, 0.5, 0.05, 100)"
      ]
    },
    {
      "cell_type": "code",
      "execution_count": null,
      "metadata": {
        "id": "3QSkAvrhbc9A"
      },
      "outputs": [],
      "source": [
        "computational_units_state(X)"
      ]
    },
    {
      "cell_type": "code",
      "source": [
        "# Plots\n",
        "states_average_plot(X, running_avg=True)\n",
        "states_variance_plot(X)\n",
        "fft_plot(X)\n",
        "fft_plot(X, running_avg=True)\n",
        "power_spectrum_plot(X)"
      ],
      "metadata": {
        "id": "P0Sm__ARbc9B"
      },
      "execution_count": null,
      "outputs": []
    },
    {
      "cell_type": "markdown",
      "metadata": {
        "id": "GJNR-0q3bc9B"
      },
      "source": [
        "##### Reservoir 1 rho=0.5, alpha=0.5\n",
        "\n"
      ]
    },
    {
      "cell_type": "code",
      "execution_count": null,
      "metadata": {
        "id": "bP3aR_Yrbc9B"
      },
      "outputs": [],
      "source": [
        "X, N, epsilon, rho, T, alpha, _ = compute_state_matrix(F, conn, 100, 0.2, 0.5, 0.5, 30)\n"
      ]
    },
    {
      "cell_type": "code",
      "source": [
        "computational_units_state(X)"
      ],
      "metadata": {
        "id": "kT3IUn9Ebc9B"
      },
      "execution_count": null,
      "outputs": []
    },
    {
      "cell_type": "code",
      "source": [
        "# Plots\n",
        "states_average_plot(X, running_avg=True)\n",
        "states_variance_plot(X)\n",
        "fft_plot(X)\n",
        "fft_plot(X, running_avg=True)\n",
        "power_spectrum_plot(X)"
      ],
      "metadata": {
        "id": "r7PILOANbc9C"
      },
      "execution_count": null,
      "outputs": []
    },
    {
      "cell_type": "markdown",
      "metadata": {
        "id": "eivs1PwNbc9D"
      },
      "source": [
        "##### Reservoir 2 rho=1.5, alpha=0.05"
      ]
    },
    {
      "cell_type": "code",
      "execution_count": null,
      "metadata": {
        "id": "FhBSin_6bc9D"
      },
      "outputs": [],
      "source": [
        "X, N, epsilon, rho, T, alpha, _ = compute_state_matrix(F, conn, 100, 0.2, 1.5, 0.05, 100)\n"
      ]
    },
    {
      "cell_type": "code",
      "source": [
        "computational_units_state(X)"
      ],
      "metadata": {
        "id": "uou0YjK-bc9D"
      },
      "execution_count": null,
      "outputs": []
    },
    {
      "cell_type": "code",
      "execution_count": null,
      "metadata": {
        "id": "R65svod0bc9D"
      },
      "outputs": [],
      "source": [
        "# Plots\n",
        "states_average_plot(X, running_avg=True)\n",
        "states_variance_plot(X)\n",
        "fft_plot(X)\n",
        "fft_plot(X, running_avg=True)\n",
        "power_spectrum_plot(X)"
      ]
    },
    {
      "cell_type": "markdown",
      "metadata": {
        "id": "auacfXesbc9E"
      },
      "source": [
        "##### Reservoir 3 rho=1.5, alpha=*0.5*"
      ]
    },
    {
      "cell_type": "code",
      "execution_count": null,
      "metadata": {
        "id": "2zwp2NYebc9F"
      },
      "outputs": [],
      "source": [
        "# Run the Network with N = 100, epsilon=0.2, rho = 1.1, T = 1000, alpha = 0.05\n",
        "X, N, epsilon, rho, T, alpha, _ = compute_state_matrix(F, conn, 100, 0.2, 1.5, 0.5, 500)"
      ]
    },
    {
      "cell_type": "code",
      "source": [
        "computational_units_state(X)"
      ],
      "metadata": {
        "id": "9PYfbNtnbc9F"
      },
      "execution_count": null,
      "outputs": []
    },
    {
      "cell_type": "code",
      "execution_count": null,
      "metadata": {
        "id": "wePZpGjRbc9F"
      },
      "outputs": [],
      "source": [
        "# Plots\n",
        "states_average_plot(X, running_avg=True)\n",
        "states_variance_plot(X)\n",
        "fft_plot(X)\n",
        "fft_plot(X, running_avg=True)\n",
        "power_spectrum_plot(X)"
      ]
    },
    {
      "cell_type": "markdown",
      "metadata": {
        "id": "jMB-NkzTbc9F"
      },
      "source": [
        "##### Reservoir 4 rho=0.95, alpha=0.05"
      ]
    },
    {
      "cell_type": "code",
      "execution_count": null,
      "metadata": {
        "id": "E8MAa7Ngbc9G"
      },
      "outputs": [],
      "source": [
        "X, N, epsilon, rho, T, alpha, _ = compute_state_matrix(F, conn, 100, 0.2, 0.95, 0.05, 500)"
      ]
    },
    {
      "cell_type": "code",
      "source": [
        "computational_units_state(X)"
      ],
      "metadata": {
        "id": "KDKzUbYubc9G"
      },
      "execution_count": null,
      "outputs": []
    },
    {
      "cell_type": "code",
      "execution_count": null,
      "metadata": {
        "id": "7C8NnSF7bc9G"
      },
      "outputs": [],
      "source": [
        "# Plots\n",
        "states_average_plot(X, running_avg=True)\n",
        "states_variance_plot(X)\n",
        "fft_plot(X)\n",
        "fft_plot(X, running_avg=True)\n",
        "power_spectrum_plot(X)"
      ]
    },
    {
      "cell_type": "markdown",
      "metadata": {
        "id": "K5oTCMwTbc9G"
      },
      "source": [
        "##### Reservoir 5 rho=1.5, alpha=0.6"
      ]
    },
    {
      "cell_type": "code",
      "execution_count": null,
      "metadata": {
        "id": "IVpgtcfRbc9G"
      },
      "outputs": [],
      "source": [
        "X, N, epsilon, rho, T, alpha, _ = compute_state_matrix(F, conn, 100, 0.2, 1.5, 0.6, 1000)"
      ]
    },
    {
      "cell_type": "code",
      "source": [
        "computational_units_state(X)"
      ],
      "metadata": {
        "id": "MlLJ3S-2bc9H"
      },
      "execution_count": null,
      "outputs": []
    },
    {
      "cell_type": "code",
      "execution_count": null,
      "metadata": {
        "id": "gyV-A_Jbbc9H"
      },
      "outputs": [],
      "source": [
        "# Plots\n",
        "states_average_plot(X, running_avg=True)\n",
        "states_variance_plot(X)\n",
        "fft_plot(X)\n",
        "fft_plot(X, running_avg=True)\n",
        "power_spectrum_plot(X)\n",
        "pear_graph(X, future_time=1000)"
      ]
    },
    {
      "cell_type": "markdown",
      "metadata": {
        "id": "zOZk0s9Mbc9H"
      },
      "source": [
        "##### Reservoir 6 rho=1.5, alpha=1.1"
      ]
    },
    {
      "cell_type": "code",
      "execution_count": null,
      "metadata": {
        "id": "J3-u4CuSbc9H"
      },
      "outputs": [],
      "source": [
        "X, N, epsilon, rho, T, alpha, _ = compute_state_matrix(F, conn, 100, 0.2, 1.5, 1.1, 1000)"
      ]
    },
    {
      "cell_type": "code",
      "source": [
        "computational_units_state(X, y_lim=[-1.5,1.5])"
      ],
      "metadata": {
        "id": "f5J30odObc9H"
      },
      "execution_count": null,
      "outputs": []
    },
    {
      "cell_type": "code",
      "execution_count": null,
      "metadata": {
        "id": "oExBEqCEbc9I"
      },
      "outputs": [],
      "source": [
        "# Plots\n",
        "states_average_plot(X, running_avg=True)\n",
        "states_variance_plot(X)\n",
        "fft_plot(X)\n",
        "fft_plot(X, running_avg=True)\n",
        "power_spectrum_plot(X)"
      ]
    },
    {
      "cell_type": "markdown",
      "metadata": {
        "id": "U6CWvElZbc9I"
      },
      "source": [
        "##### Reservoir 7 rho=2, alpha=2"
      ]
    },
    {
      "cell_type": "code",
      "execution_count": null,
      "metadata": {
        "id": "EV-SN_xdbc9J"
      },
      "outputs": [],
      "source": [
        "X, N, epsilon, rho, T, alpha, _ = compute_state_matrix(F, conn, 100, 0.2, 2, 2, 1000)"
      ]
    },
    {
      "cell_type": "code",
      "source": [
        "computational_units_state(X, y_lim=[-4,4])\n",
        "states_average_plot(X, running_avg=True)\n",
        "states_average_plot_zoom_in(X, 250, 400, running_avg=True)\n",
        "states_variance_plot(X)\n",
        "fft_plot(X)\n",
        "fft_plot(X, running_avg=True)\n",
        "power_spectrum_plot(X)\n",
        "pear_graph(X, future_time=1000)"
      ],
      "metadata": {
        "id": "11_McPRRbc9J"
      },
      "execution_count": null,
      "outputs": []
    },
    {
      "cell_type": "markdown",
      "metadata": {
        "id": "8hIPdVt2bc9J"
      },
      "source": [
        "##### Reservoir 8 rho=1.5, alpha=0.95"
      ]
    },
    {
      "cell_type": "code",
      "execution_count": null,
      "metadata": {
        "id": "zuRWjkdgbc9K"
      },
      "outputs": [],
      "source": [
        "X, N, epsilon, rho, T, alpha, _ = compute_state_matrix(F_identity, \"Chemical\", 100, 0.2, 1.5, 0.95, 1000)"
      ]
    },
    {
      "cell_type": "code",
      "source": [
        "computational_units_state(X,False)\n",
        "states_average_plot(X, running_avg=True)\n",
        "states_variance_plot(X)\n",
        "fft_plot(X)\n",
        "fft_plot(X, running_avg=True)\n",
        "power_spectrum_plot(X)\n",
        "pear_graph(X, future_time=1000)"
      ],
      "metadata": {
        "id": "rj0tMBYNbc9K"
      },
      "execution_count": null,
      "outputs": []
    },
    {
      "cell_type": "markdown",
      "metadata": {
        "id": "sjAJ8oX3bc9K"
      },
      "source": [
        "##### Reservoir 9 rho=2, alpha=0.95"
      ]
    },
    {
      "cell_type": "code",
      "execution_count": null,
      "metadata": {
        "id": "_rIMO9Y5bc9K"
      },
      "outputs": [],
      "source": [
        "X, N, epsilon, rho, T, alpha, _ = compute_state_matrix(F, conn, 100, 0.2, 2, 0.95, 1000)"
      ]
    },
    {
      "cell_type": "code",
      "execution_count": null,
      "metadata": {
        "id": "V5WFt-bVbc9K"
      },
      "outputs": [],
      "source": [
        "computational_units_state(X, False)\n",
        "states_average_plot(X, running_avg=True)\n",
        "states_variance_plot(X)\n",
        "fft_plot(X)\n",
        "fft_plot(X, running_avg=True)\n",
        "power_spectrum_plot(X)\n",
        "pear_graph(X, future_time=1000)"
      ]
    },
    {
      "cell_type": "markdown",
      "metadata": {
        "id": "TB5jdv5ubc9L"
      },
      "source": [
        "##### Reservoir 10 rho=2, alpha=0.8"
      ]
    },
    {
      "cell_type": "code",
      "execution_count": null,
      "metadata": {
        "id": "ILZa0j8bbc9L"
      },
      "outputs": [],
      "source": [
        "X, N, epsilon, rho, T, alpha, _ = compute_state_matrix(F, conn, 100, 0.2, 2, 0.8, 1000)\n",
        "computational_units_state(X, False)\n",
        "states_average_plot(X, running_avg=True)\n",
        "states_variance_plot(X)\n",
        "fft_plot(X)\n",
        "fft_plot(X, running_avg=True)\n",
        "power_spectrum_plot(X)\n",
        "pear_graph(X, future_time=1000)"
      ]
    },
    {
      "cell_type": "markdown",
      "metadata": {
        "id": "n6KjoafMbc9L"
      },
      "source": [
        "##### Reservoir 11 rho=0.8, alpha=0.8"
      ]
    },
    {
      "cell_type": "code",
      "execution_count": null,
      "metadata": {
        "id": "uwXGekjQbc9L"
      },
      "outputs": [],
      "source": [
        "X, N, epsilon, rho, T, alpha, _ = compute_state_matrix(F, conn, 100, 0.2, 0.8, 0.8, 1000)\n",
        "computational_units_state(X, False)\n",
        "states_average_plot(X, running_avg=True)\n",
        "states_variance_plot(X)\n",
        "fft_plot(X)\n",
        "fft_plot(X, running_avg=True)\n",
        "power_spectrum_plot(X)\n",
        "pear_graph(X, future_time=1000)"
      ]
    },
    {
      "cell_type": "markdown",
      "metadata": {
        "id": "bvvLTz5Wbc9M"
      },
      "source": [
        "##### Reservoir 12 rho=0.8, alpha=0.01"
      ]
    },
    {
      "cell_type": "code",
      "execution_count": null,
      "metadata": {
        "id": "GQdEY0B6bc9M"
      },
      "outputs": [],
      "source": [
        "X, N, epsilon, rho, T, alpha, _ = compute_state_matrix(F, conn, 100, 0.2, 0.8, 0.01, 1000)\n",
        "computational_units_state(X, False)\n",
        "states_average_plot(X, running_avg=True)\n",
        "states_variance_plot(X)\n",
        "fft_plot(X)\n",
        "fft_plot(X, running_avg=True)\n",
        "power_spectrum_plot(X)\n",
        "pear_graph(X, future_time=1000)"
      ]
    },
    {
      "cell_type": "markdown",
      "source": [
        "### Electrical Network"
      ],
      "metadata": {
        "id": "KXuP95oBjUOz"
      }
    },
    {
      "cell_type": "code",
      "source": [
        "conn=\"Electrical\""
      ],
      "metadata": {
        "id": "mPDsoSUBjUO1"
      },
      "execution_count": null,
      "outputs": []
    },
    {
      "cell_type": "markdown",
      "source": [
        "#### Reservoirs with N=10, Converging diagrams"
      ],
      "metadata": {
        "id": "HOBU4aQwjUO2"
      }
    },
    {
      "cell_type": "markdown",
      "source": [
        "##### Reservoir 0, rho=0.5, alpha=0.05"
      ],
      "metadata": {
        "id": "XhWwW1EHjUO3"
      }
    },
    {
      "cell_type": "code",
      "execution_count": null,
      "metadata": {
        "id": "WKKsphosjUO3"
      },
      "outputs": [],
      "source": [
        "# def compute_state_matrix(F, connectivity, N, epsilon, rho, alpha, T,\n",
        "                         # Lapl=True, ex_time=False):\n",
        "X, N, epsilon, rho, T, alpha, _ = compute_state_matrix(F, conn, 10, 0.2, 0.5, 0.05, 100)"
      ]
    },
    {
      "cell_type": "code",
      "execution_count": null,
      "metadata": {
        "id": "4LWmzbbWjUO4"
      },
      "outputs": [],
      "source": [
        "computational_units_state(X, True)"
      ]
    },
    {
      "cell_type": "markdown",
      "metadata": {
        "id": "gGy5OzlDjUO4"
      },
      "source": [
        "##### Reservoir 1 rho=0.5, alpha=0.5\n",
        "\n"
      ]
    },
    {
      "cell_type": "code",
      "execution_count": null,
      "metadata": {
        "id": "PZ5lXE4IjUO4"
      },
      "outputs": [],
      "source": [
        "X, N, epsilon, rho, T, alpha, _ = compute_state_matrix(F, conn, 10, 0.2, 0.5, 0.5, 30)"
      ]
    },
    {
      "cell_type": "code",
      "source": [
        "computational_units_state(X, True)"
      ],
      "metadata": {
        "id": "P4gAxUhKjUO5"
      },
      "execution_count": null,
      "outputs": []
    },
    {
      "cell_type": "markdown",
      "metadata": {
        "id": "nM1bSXo5jUO5"
      },
      "source": [
        "##### Reservoir 2 rho=1.5, alpha=0.05"
      ]
    },
    {
      "cell_type": "code",
      "execution_count": null,
      "metadata": {
        "id": "sMXEeWehjUO5"
      },
      "outputs": [],
      "source": [
        "# Run the Network with N = 100, epsilon=0.2, rho = 0.95, T = 1000, alpha = 1.1\n",
        "X, N, epsilon, rho, T, alpha, _ = compute_state_matrix(F, conn, 10, 0.2, 1.5, 0.05, 300)\n"
      ]
    },
    {
      "cell_type": "code",
      "source": [
        "computational_units_state(X,True)"
      ],
      "metadata": {
        "id": "xb879-akjUO6"
      },
      "execution_count": null,
      "outputs": []
    },
    {
      "cell_type": "markdown",
      "metadata": {
        "id": "AvdgpiohjUO6"
      },
      "source": [
        "##### Reservoir 3 rho=1.5, alpha=*0.5*"
      ]
    },
    {
      "cell_type": "code",
      "execution_count": null,
      "metadata": {
        "id": "UvFB--VLjUO6"
      },
      "outputs": [],
      "source": [
        "# Run the Network with N = 100, epsilon=0.2, rho = 1.1, T = 1000, alpha = 0.05\n",
        "X, N, epsilon, rho, T, alpha, _ = compute_state_matrix(F, conn, 10, 0.2, 1.5, 0.5, 50)"
      ]
    },
    {
      "cell_type": "code",
      "source": [
        "computational_units_state(X, True)"
      ],
      "metadata": {
        "id": "4QxiL73YjUO7"
      },
      "execution_count": null,
      "outputs": []
    },
    {
      "cell_type": "markdown",
      "metadata": {
        "id": "ZJxvnqAAjUO7"
      },
      "source": [
        "##### Reservoir 4 rho=0.95, alpha=0.05"
      ]
    },
    {
      "cell_type": "code",
      "execution_count": null,
      "metadata": {
        "id": "UxAJ0ZPrjUO7"
      },
      "outputs": [],
      "source": [
        "X, N, epsilon, rho, T, alpha, _ = compute_state_matrix(F, conn, 10, 0.2, 0.95, 0.05, 100)"
      ]
    },
    {
      "cell_type": "code",
      "source": [
        "computational_units_state(X, True)"
      ],
      "metadata": {
        "id": "dI_7MxdcjUO7"
      },
      "execution_count": null,
      "outputs": []
    },
    {
      "cell_type": "markdown",
      "source": [
        "#### Reservoirs with N=100"
      ],
      "metadata": {
        "id": "YpwGAWarjUO7"
      }
    },
    {
      "cell_type": "markdown",
      "source": [
        "##### Reservoir 0, rho=0.5, alpha=0.05"
      ],
      "metadata": {
        "id": "KT4wrslVjUO8"
      }
    },
    {
      "cell_type": "code",
      "execution_count": null,
      "metadata": {
        "id": "qsQnr_zNjUO8"
      },
      "outputs": [],
      "source": [
        "# def compute_state_matrix(F, connectivity, N, epsilon, rho, alpha, T,\n",
        "                         # Lapl=True, ex_time=False):\n",
        "X, N, epsilon, rho, T, alpha, _ = compute_state_matrix(F, conn, 100, 0.2, 0.5, 0.05, 100)"
      ]
    },
    {
      "cell_type": "code",
      "execution_count": null,
      "metadata": {
        "id": "hQCSzolPjUO8"
      },
      "outputs": [],
      "source": [
        "computational_units_state(X)"
      ]
    },
    {
      "cell_type": "code",
      "source": [
        "# Plots\n",
        "states_average_plot(X, running_avg=True)\n",
        "states_variance_plot(X)\n",
        "fft_plot(X)\n",
        "fft_plot(X, running_avg=True)\n",
        "power_spectrum_plot(X)"
      ],
      "metadata": {
        "id": "phEtUW2MjUO9"
      },
      "execution_count": null,
      "outputs": []
    },
    {
      "cell_type": "markdown",
      "metadata": {
        "id": "wWHWz80_jUO9"
      },
      "source": [
        "##### Reservoir 1 rho=0.5, alpha=0.5\n",
        "\n"
      ]
    },
    {
      "cell_type": "code",
      "execution_count": null,
      "metadata": {
        "id": "tqafv3p8jUO9"
      },
      "outputs": [],
      "source": [
        "X, N, epsilon, rho, T, alpha, _ = compute_state_matrix(F, conn, 100, 0.2, 0.5, 0.5, 30)\n"
      ]
    },
    {
      "cell_type": "code",
      "source": [
        "computational_units_state(X)"
      ],
      "metadata": {
        "id": "DV20frjSjUO9"
      },
      "execution_count": null,
      "outputs": []
    },
    {
      "cell_type": "code",
      "source": [
        "# Plots\n",
        "states_average_plot(X, running_avg=True)\n",
        "states_variance_plot(X)\n",
        "fft_plot(X)\n",
        "fft_plot(X, running_avg=True)\n",
        "power_spectrum_plot(X)"
      ],
      "metadata": {
        "id": "Rohd4ZbUjUO-"
      },
      "execution_count": null,
      "outputs": []
    },
    {
      "cell_type": "markdown",
      "metadata": {
        "id": "52_7QplAjUO-"
      },
      "source": [
        "##### Reservoir 2 rho=1.5, alpha=0.05"
      ]
    },
    {
      "cell_type": "code",
      "execution_count": null,
      "metadata": {
        "id": "3DyuepMMjUO-"
      },
      "outputs": [],
      "source": [
        "X, N, epsilon, rho, T, alpha, _ = compute_state_matrix(F, conn, 100, 0.2, 1.5, 0.05, 100)\n"
      ]
    },
    {
      "cell_type": "code",
      "source": [
        "computational_units_state(X)"
      ],
      "metadata": {
        "id": "7w74jN4mjUO-"
      },
      "execution_count": null,
      "outputs": []
    },
    {
      "cell_type": "code",
      "execution_count": null,
      "metadata": {
        "id": "D9nKgTiQjUO-"
      },
      "outputs": [],
      "source": [
        "# Plots\n",
        "states_average_plot(X, running_avg=True)\n",
        "states_variance_plot(X)\n",
        "fft_plot(X)\n",
        "fft_plot(X, running_avg=True)\n",
        "power_spectrum_plot(X)"
      ]
    },
    {
      "cell_type": "markdown",
      "metadata": {
        "id": "RmwXKp0wjUO_"
      },
      "source": [
        "##### Reservoir 3 rho=1.5, alpha=*0.5*"
      ]
    },
    {
      "cell_type": "code",
      "execution_count": null,
      "metadata": {
        "id": "_sSIDYpbjUO_"
      },
      "outputs": [],
      "source": [
        "# Run the Network with N = 100, epsilon=0.2, rho = 1.1, T = 1000, alpha = 0.05\n",
        "X, N, epsilon, rho, T, alpha, _ = compute_state_matrix(F, conn, 100, 0.2, 1.5, 0.5, 500)"
      ]
    },
    {
      "cell_type": "code",
      "source": [
        "computational_units_state(X)"
      ],
      "metadata": {
        "id": "PDG1IunAjUO_"
      },
      "execution_count": null,
      "outputs": []
    },
    {
      "cell_type": "code",
      "execution_count": null,
      "metadata": {
        "id": "vyTnuWORjUPA"
      },
      "outputs": [],
      "source": [
        "# Plots\n",
        "states_average_plot(X, running_avg=True)\n",
        "states_variance_plot(X)\n",
        "fft_plot(X)\n",
        "fft_plot(X, running_avg=True)\n",
        "power_spectrum_plot(X)"
      ]
    },
    {
      "cell_type": "markdown",
      "metadata": {
        "id": "uD5SramZjUPA"
      },
      "source": [
        "##### Reservoir 4 rho=0.95, alpha=0.05"
      ]
    },
    {
      "cell_type": "code",
      "execution_count": null,
      "metadata": {
        "id": "gBXLr_DkjUPA"
      },
      "outputs": [],
      "source": [
        "X, N, epsilon, rho, T, alpha, _ = compute_state_matrix(F, conn, 100, 0.2, 0.95, 0.05, 500)"
      ]
    },
    {
      "cell_type": "code",
      "source": [
        "computational_units_state(X)"
      ],
      "metadata": {
        "id": "pYC9YT9BjUPB"
      },
      "execution_count": null,
      "outputs": []
    },
    {
      "cell_type": "code",
      "execution_count": null,
      "metadata": {
        "id": "HEqgZqs6jUPB"
      },
      "outputs": [],
      "source": [
        "# Plots\n",
        "states_average_plot(X, running_avg=True)\n",
        "states_variance_plot(X)\n",
        "fft_plot(X)\n",
        "fft_plot(X, running_avg=True)\n",
        "power_spectrum_plot(X)"
      ]
    },
    {
      "cell_type": "markdown",
      "metadata": {
        "id": "Y0zyFDCojUPB"
      },
      "source": [
        "##### Reservoir 5 rho=1.5, alpha=0.6"
      ]
    },
    {
      "cell_type": "code",
      "execution_count": null,
      "metadata": {
        "id": "VgAnL8QTjUPB"
      },
      "outputs": [],
      "source": [
        "X, N, epsilon, rho, T, alpha, _ = compute_state_matrix(F, conn, 100, 0.2, 1.5, 0.6, 1000)"
      ]
    },
    {
      "cell_type": "code",
      "source": [
        "computational_units_state(X)"
      ],
      "metadata": {
        "id": "A5tVeF5WjUPC"
      },
      "execution_count": null,
      "outputs": []
    },
    {
      "cell_type": "code",
      "execution_count": null,
      "metadata": {
        "id": "72Y3x_gejUPC"
      },
      "outputs": [],
      "source": [
        "# Plots\n",
        "states_average_plot(X, running_avg=True)\n",
        "states_variance_plot(X)\n",
        "fft_plot(X)\n",
        "fft_plot(X, running_avg=True)\n",
        "power_spectrum_plot(X)\n",
        "pear_graph(X, future_time=1000)"
      ]
    },
    {
      "cell_type": "markdown",
      "metadata": {
        "id": "YpGnh6YCjUPC"
      },
      "source": [
        "##### Reservoir 6 rho=1.5, alpha=1.1"
      ]
    },
    {
      "cell_type": "code",
      "execution_count": null,
      "metadata": {
        "id": "UQwPnMktjUPD"
      },
      "outputs": [],
      "source": [
        "X, N, epsilon, rho, T, alpha, _ = compute_state_matrix(F, conn, 100, 0.2, 1.5, 1.1, 1000)"
      ]
    },
    {
      "cell_type": "code",
      "source": [
        "computational_units_state(X, y_lim=[-1.5,1.5])"
      ],
      "metadata": {
        "id": "fnbjLQMBjUPD"
      },
      "execution_count": null,
      "outputs": []
    },
    {
      "cell_type": "code",
      "execution_count": null,
      "metadata": {
        "id": "8X52Yy0PjUPE"
      },
      "outputs": [],
      "source": [
        "# Plots\n",
        "states_average_plot(X, running_avg=True)\n",
        "states_variance_plot(X)\n",
        "fft_plot(X)\n",
        "fft_plot(X, running_avg=True)\n",
        "power_spectrum_plot(X)"
      ]
    },
    {
      "cell_type": "markdown",
      "metadata": {
        "id": "hiXmRVOxjUPE"
      },
      "source": [
        "##### Reservoir 7 rho=2, alpha=2"
      ]
    },
    {
      "cell_type": "code",
      "execution_count": null,
      "metadata": {
        "id": "FnSNxL1rjUPE"
      },
      "outputs": [],
      "source": [
        "X, N, epsilon, rho, T, alpha, _ = compute_state_matrix(F, conn, 100, 0.2, 2, 2, 1000)"
      ]
    },
    {
      "cell_type": "code",
      "source": [
        "computational_units_state(X, y_lim=[-4,4])\n",
        "states_average_plot(X, running_avg=True)\n",
        "states_average_plot_zoom_in(X, 250, 400, running_avg=True)\n",
        "states_variance_plot(X)\n",
        "fft_plot(X)\n",
        "fft_plot(X, running_avg=True)\n",
        "power_spectrum_plot(X)\n",
        "pear_graph(X, future_time=1000)"
      ],
      "metadata": {
        "id": "5fLotD2xjUPE"
      },
      "execution_count": null,
      "outputs": []
    },
    {
      "cell_type": "markdown",
      "metadata": {
        "id": "lXd0ZZwSjUPE"
      },
      "source": [
        "##### Reservoir 8 rho=1.5, alpha=0.95"
      ]
    },
    {
      "cell_type": "code",
      "execution_count": null,
      "metadata": {
        "id": "OgFFMCcZjUPF"
      },
      "outputs": [],
      "source": [
        "X, N, epsilon, rho, T, alpha, _ = compute_state_matrix(F, conn, 100, 0.2, 1.5, 0.95, 1000)"
      ]
    },
    {
      "cell_type": "code",
      "source": [
        "computational_units_state(X,False)\n",
        "states_average_plot(X, running_avg=True)\n",
        "states_variance_plot(X)\n",
        "fft_plot(X)\n",
        "fft_plot(X, running_avg=True)\n",
        "power_spectrum_plot(X)\n",
        "pear_graph(X, future_time=1000)"
      ],
      "metadata": {
        "id": "6-GpzMPQjUPF"
      },
      "execution_count": null,
      "outputs": []
    },
    {
      "cell_type": "markdown",
      "metadata": {
        "id": "VqFyr4COjUPF"
      },
      "source": [
        "##### Reservoir 9 rho=2, alpha=0.95"
      ]
    },
    {
      "cell_type": "code",
      "execution_count": null,
      "metadata": {
        "id": "xjHHSpeHjUPF"
      },
      "outputs": [],
      "source": [
        "X, N, epsilon, rho, T, alpha, _ = compute_state_matrix(F, conn, 100, 0.2, 2, 0.95, 1000)"
      ]
    },
    {
      "cell_type": "code",
      "execution_count": null,
      "metadata": {
        "id": "XmUNIFAbjUPG"
      },
      "outputs": [],
      "source": [
        "computational_units_state(X, False)\n",
        "states_average_plot(X, running_avg=True)\n",
        "states_variance_plot(X)\n",
        "fft_plot(X)\n",
        "fft_plot(X, running_avg=True)\n",
        "power_spectrum_plot(X)\n",
        "pear_graph(X, future_time=1000)"
      ]
    },
    {
      "cell_type": "markdown",
      "metadata": {
        "id": "yWUBuI16jUPG"
      },
      "source": [
        "##### Reservoir 10 rho=2, alpha=0.8"
      ]
    },
    {
      "cell_type": "code",
      "execution_count": null,
      "metadata": {
        "id": "Uxcb2d9ijUPG"
      },
      "outputs": [],
      "source": [
        "X, N, epsilon, rho, T, alpha, _ = compute_state_matrix(F, conn, 100, 0.2, 2, 0.8, 1000)\n",
        "computational_units_state(X, False)\n",
        "states_average_plot(X, running_avg=True)\n",
        "states_variance_plot(X)\n",
        "fft_plot(X)\n",
        "fft_plot(X, running_avg=True)\n",
        "power_spectrum_plot(X)\n",
        "pear_graph(X, future_time=1000)"
      ]
    },
    {
      "cell_type": "markdown",
      "metadata": {
        "id": "NPhGe9ZIjUPH"
      },
      "source": [
        "##### Reservoir 11 rho=0.8, alpha=0.8"
      ]
    },
    {
      "cell_type": "code",
      "execution_count": null,
      "metadata": {
        "id": "jxK91nIyjUPH"
      },
      "outputs": [],
      "source": [
        "X, N, epsilon, rho, T, alpha, _ = compute_state_matrix(F, conn, 100, 0.2, 0.8, 0.8, 1000)\n",
        "computational_units_state(X, False)\n",
        "states_average_plot(X, running_avg=True)\n",
        "states_variance_plot(X)\n",
        "fft_plot(X)\n",
        "fft_plot(X, running_avg=True)\n",
        "power_spectrum_plot(X)\n",
        "pear_graph(X, future_time=1000)"
      ]
    },
    {
      "cell_type": "markdown",
      "metadata": {
        "id": "GMi9PN5GjUPI"
      },
      "source": [
        "##### Reservoir 12 rho=0.8, alpha=0.01"
      ]
    },
    {
      "cell_type": "code",
      "execution_count": null,
      "metadata": {
        "id": "D3bfXbozjUPI"
      },
      "outputs": [],
      "source": [
        "X, N, epsilon, rho, T, alpha, _ = compute_state_matrix(F, conn, 100, 0.2, 0.8, 0.01, 1000)\n",
        "computational_units_state(X, False)\n",
        "states_average_plot(X, running_avg=True)\n",
        "states_variance_plot(X)\n",
        "fft_plot(X)\n",
        "fft_plot(X, running_avg=True)\n",
        "power_spectrum_plot(X)\n",
        "pear_graph(X, future_time=1000)"
      ]
    },
    {
      "cell_type": "code",
      "source": [],
      "metadata": {
        "id": "hBzZHTuXjUPI"
      },
      "execution_count": null,
      "outputs": []
    },
    {
      "cell_type": "markdown",
      "source": [
        "## Hyperparameters Chaos Analysis"
      ],
      "metadata": {
        "id": "B4Nii_0amZni"
      }
    },
    {
      "cell_type": "markdown",
      "source": [
        "### F=identity"
      ],
      "metadata": {
        "id": "uhyPTFhF03ew"
      }
    },
    {
      "cell_type": "code",
      "source": [
        "F=F_identity"
      ],
      "metadata": {
        "id": "PCDVvJAX02Ro"
      },
      "execution_count": null,
      "outputs": []
    },
    {
      "cell_type": "markdown",
      "source": [
        "#### Chemical"
      ],
      "metadata": {
        "id": "nOm0fT1oq5ot"
      }
    },
    {
      "cell_type": "code",
      "source": [
        "conn = \"Chemical\""
      ],
      "metadata": {
        "id": "NXc5rMahmjHq"
      },
      "execution_count": null,
      "outputs": []
    },
    {
      "cell_type": "markdown",
      "source": [
        "##### Integral of Pearson Correlation"
      ],
      "metadata": {
        "id": "EBDr9qWSvdxA"
      }
    },
    {
      "cell_type": "code",
      "source": [
        "X, N, epsilon, rho, T, alpha, _ = compute_state_matrix(F, conn, 100, 0.2, 1.5, 1.1, 1000)\n",
        "# Plots\n",
        "states_average_plot(X, running_avg=True)\n",
        "states_variance_plot(X)\n",
        "fft_plot(X)\n",
        "fft_plot(X, running_avg=True)\n",
        "power_spectrum_plot(X)\n",
        "pear_graph(X, future_time=1000)\n"
      ],
      "metadata": {
        "id": "1JoYlr5zpUBN"
      },
      "execution_count": null,
      "outputs": []
    },
    {
      "cell_type": "code",
      "source": [
        "area_sum, integral = pearson_integral(X)\n",
        "pear_graph(X, integrals=integral)"
      ],
      "metadata": {
        "id": "pVMt4KIKsX2C"
      },
      "execution_count": null,
      "outputs": []
    },
    {
      "cell_type": "code",
      "source": [
        "print(area_sum, integral)"
      ],
      "metadata": {
        "id": "DIY4Gd6Jpmg3"
      },
      "execution_count": null,
      "outputs": []
    },
    {
      "cell_type": "markdown",
      "source": [
        "##### Integral of FFT"
      ],
      "metadata": {
        "id": "cJjGtU07vsxe"
      }
    },
    {
      "cell_type": "code",
      "source": [
        "# integral_of_spikes(X, treshold=10, window_size=10, running_avg= False, integral_analysis=False, f_min=None, f_max=None):\n",
        "area_sum, integrals, spike_count = integral_of_spikes(X, threshold = 5, integral_analysis=True)\n",
        "print(area_sum, spike_count)"
      ],
      "metadata": {
        "id": "s1SI2iNrqNdA"
      },
      "execution_count": null,
      "outputs": []
    },
    {
      "cell_type": "code",
      "source": [
        "fft_plot(X, threshold=5,integrals=integrals)"
      ],
      "metadata": {
        "id": "BOsAtqm0tkO9"
      },
      "execution_count": null,
      "outputs": []
    },
    {
      "cell_type": "markdown",
      "source": [
        "##### Example of *Grid*"
      ],
      "metadata": {
        "id": "wb1RJSXHwJC5"
      }
    },
    {
      "cell_type": "code",
      "source": [
        "rho = [0.05, 0.25, 0.5, 0.8, 0.95, 1.1, 1.3, 1.5, 2, 2.5, 3]\n",
        "alpha = [0, 0.00001, 0.01, 0.2, 0.05, 0.10, 0.15, 0.25, 0.5, 0.7, 0.8, 0.95, 1, 1.1, 1.5,2]"
      ],
      "metadata": {
        "id": "1wi8mdxZw9bO"
      },
      "execution_count": null,
      "outputs": []
    },
    {
      "cell_type": "code",
      "source": [
        "S_test = grid(F, conn, T=1000, N=100, epsilon=0.2, rho=rho, alpha=alpha, chaos_measure='fft integrals', treshold=5)"
      ],
      "metadata": {
        "id": "_jOpjqUVwMEp"
      },
      "execution_count": null,
      "outputs": []
    },
    {
      "cell_type": "code",
      "source": [
        "# The later parameter given to grid() is rows\n",
        "plot_heatmap(S_test, alpha, rho, x_label_name='Alpha', y_label_name='Rho')"
      ],
      "metadata": {
        "id": "O_-z9cO2w7Hq"
      },
      "execution_count": null,
      "outputs": []
    },
    {
      "cell_type": "code",
      "source": [],
      "metadata": {
        "id": "0mq2c9Q-SFQN"
      },
      "execution_count": null,
      "outputs": []
    },
    {
      "cell_type": "markdown",
      "source": [
        "##### Grid Spike Count - rho alpha"
      ],
      "metadata": {
        "id": "qEXyC29PSFsE"
      }
    },
    {
      "cell_type": "code",
      "source": [
        "rho = [0.05, 0.25, 0.5, 0.75, 0.95, 1.1, 1.25, 1.5, 2, 2.5, 3]\n",
        "alpha = [0, 0.00001, 0.01, 0.02, 0.05, 0.10, 0.15, 0.25, 0.5, 0.75, 0.95, 1, 1.1, 1.25, 1.5, 1.75, 2, 2.5]"
      ],
      "metadata": {
        "id": "j_I8oCt_SFsF"
      },
      "execution_count": null,
      "outputs": []
    },
    {
      "cell_type": "code",
      "source": [
        "S_spikes = grid(F, conn, T=1000, N=100, epsilon=0.2, rho=rho, alpha=alpha, chaos_measure='spikes', treshold=5)"
      ],
      "metadata": {
        "id": "LR6ClMkTSFsG"
      },
      "execution_count": null,
      "outputs": []
    },
    {
      "cell_type": "code",
      "source": [
        "# The later parameter given to grid() is rows\n",
        "# plot_heatmap(data_matrix, x_labels, y_labels, v_min=None, v_max=None, x_label_name='X-axis', y_label_name='Y-axis', title='Heatmap', figsize=(10, 6), fmt='.3f' ):\n",
        "plot_heatmap(S_spikes, alpha, rho,v_min=0, v_max=50,  x_label_name='Alpha', y_label_name='Rho', title=\"Number of Spikes of FFT above magnitude of 5\", fmt='.0f')"
      ],
      "metadata": {
        "id": "8SKfZIYOSFsH"
      },
      "execution_count": null,
      "outputs": []
    },
    {
      "cell_type": "markdown",
      "source": [
        "##### Grid Integral of FFT - rho alpha"
      ],
      "metadata": {
        "id": "zbCh6W6LiLLY"
      }
    },
    {
      "cell_type": "code",
      "source": [
        "rho = [0.05, 0.25, 0.5, 0.75, 0.95, 1.1, 1.25, 1.5, 2, 2.5, 3]\n",
        "alpha = [0, 0.00001, 0.01, 0.02, 0.05, 0.10, 0.15, 0.25, 0.5, 0.75, 0.95, 1, 1.1, 1.25, 1.5, 1.75, 2]"
      ],
      "metadata": {
        "id": "NTeNv9koiLLZ"
      },
      "execution_count": null,
      "outputs": []
    },
    {
      "cell_type": "code",
      "source": [
        "S_1 = grid(F, conn, T=1000, N=100, epsilon=0.2, rho=rho, alpha=alpha, chaos_measure='fft integrals', treshold=5)"
      ],
      "metadata": {
        "id": "BvwPLxG8iLLa"
      },
      "execution_count": null,
      "outputs": []
    },
    {
      "cell_type": "code",
      "source": [
        "# The later parameter given to grid() is rows\n",
        "# plot_heatmap(data_matrix, x_labels, y_labels, v_min=None, v_max=None, x_label_name='X-axis', y_label_name='Y-axis', title='Heatmap', figsize=(10, 6), fmt='.3f' ):\n",
        "plot_heatmap(S_1, alpha, rho, v_min=0, v_max= 0.2, x_label_name='Alpha', y_label_name='Rho', title=\"Integrals of FFT above magnitude of 5\", fmt='.1f')"
      ],
      "metadata": {
        "id": "NqjNNd4uiLLa"
      },
      "execution_count": null,
      "outputs": []
    },
    {
      "cell_type": "code",
      "source": [
        "S_1"
      ],
      "metadata": {
        "id": "LCwdF21Zi9-u"
      },
      "execution_count": null,
      "outputs": []
    },
    {
      "cell_type": "markdown",
      "source": [
        "##### Grid Integral of Pearson - rho alpha"
      ],
      "metadata": {
        "id": "0WCk7Un_vxX7"
      }
    },
    {
      "cell_type": "code",
      "source": [
        "rho = [0.05, 0.25, 0.5, 0.8, 0.95, 1.1, 1.3, 1.5, 2, 2.5, 3]\n",
        "alpha = [0, 0.00001, 0.01, 0.02, 0.05, 0.10, 0.15, 0.25, 0.5, 0.7, 0.8, 0.95, 1, 1.1, 1.5]"
      ],
      "metadata": {
        "id": "Ja_7q4YAvxX8"
      },
      "execution_count": null,
      "outputs": []
    },
    {
      "cell_type": "code",
      "source": [
        "S_1 = grid(F, conn, T=1000, N=100, epsilon=0.2, rho=rho, alpha=alpha, chaos_measure='pearson integrals', treshold=5)"
      ],
      "metadata": {
        "id": "KUQgI7Z4vxX9"
      },
      "execution_count": null,
      "outputs": []
    },
    {
      "cell_type": "code",
      "source": [
        "# The later parameter given to grid() is rows\n",
        "# plot_heatmap(data_matrix, x_labels, y_labels, v_min=None, v_max=None, x_label_name='X-axis', y_label_name='Y-axis', title='Heatmap', figsize=(10, 6), fmt='.3f' ):\n",
        "plot_heatmap(S_1, alpha, rho, v_min=None, v_max= None, x_label_name='Alpha', y_label_name='Rho', title=\"Integrals of Pearson Correlation\", fmt='.0f')"
      ],
      "metadata": {
        "id": "ZrRewjHHvxX-"
      },
      "execution_count": null,
      "outputs": []
    },
    {
      "cell_type": "markdown",
      "source": [
        "##### Grid Integral of FFT - N epsilon, rho=0.8"
      ],
      "metadata": {
        "id": "GJxv8Q-zxgDL"
      }
    },
    {
      "cell_type": "code",
      "source": [
        "N = [10, 50, 100, 150, 200]\n",
        "epsilon = [0.1, 0.2, 0.4, 0.6, 0.8, 1]"
      ],
      "metadata": {
        "id": "zJWgzEj4xgDU"
      },
      "execution_count": null,
      "outputs": []
    },
    {
      "cell_type": "code",
      "source": [
        "S_3 = grid(F, conn, T=1000, N=N, epsilon=epsilon, rho=0.8, alpha=0.8, chaos_measure='fft integrals', treshold=5)"
      ],
      "metadata": {
        "id": "JjD47cYLxgDV"
      },
      "execution_count": null,
      "outputs": []
    },
    {
      "cell_type": "code",
      "source": [
        "# The later parameter given to grid() is rows\n",
        "# plot_heatmap(data_matrix, x_labels, y_labels, v_min=None, v_max=None, x_label_name='X-axis', y_label_name='Y-axis', title='Heatmap', figsize=(10, 6), fmt='.3f' ):\n",
        "plot_heatmap(S_3, epsilon, N, v_min=None, v_max= None, x_label_name='Sparsity', y_label_name='Number of Neurons', title=\"Integrals of FFT\", fmt='.3f')"
      ],
      "metadata": {
        "id": "X751gjGtxgDV"
      },
      "execution_count": null,
      "outputs": []
    },
    {
      "cell_type": "markdown",
      "source": [
        "##### Grid Integral of FFT - N epsilon, rho=1.3"
      ],
      "metadata": {
        "id": "Tc_di9ymyY0u"
      }
    },
    {
      "cell_type": "code",
      "source": [
        "N = [10, 50, 100, 150, 200]\n",
        "epsilon = [0.1, 0.2, 0.4, 0.6, 0.8, 1]"
      ],
      "metadata": {
        "id": "qQfk-2u9yY0u"
      },
      "execution_count": null,
      "outputs": []
    },
    {
      "cell_type": "code",
      "source": [
        "S_4 = grid(F, conn, T=1000, N=N, epsilon=epsilon, rho=1.3, alpha=0.8, chaos_measure='fft integrals', treshold=5)"
      ],
      "metadata": {
        "id": "ZbXiU0zHyY0v"
      },
      "execution_count": null,
      "outputs": []
    },
    {
      "cell_type": "code",
      "source": [
        "# The later parameter given to grid() is rows\n",
        "# plot_heatmap(data_matrix, x_labels, y_labels, v_min=None, v_max=None, x_label_name='X-axis', y_label_name='Y-axis', title='Heatmap', figsize=(10, 6), fmt='.3f' ):\n",
        "plot_heatmap(S_4, epsilon, N, v_min=None, v_max= None, x_label_name='Sparsity', y_label_name='Number of Neurons', title=\"Integrals of FFT\", fmt='.3f')"
      ],
      "metadata": {
        "id": "QxPyo9AsyY0v"
      },
      "execution_count": null,
      "outputs": []
    },
    {
      "cell_type": "markdown",
      "source": [
        "##### Grid Integral of Pearson - N epsilon, rho=0.8"
      ],
      "metadata": {
        "id": "FXX8zzDdy1Ur"
      }
    },
    {
      "cell_type": "code",
      "source": [
        "N = [10, 50, 100, 150, 200]\n",
        "epsilon = [0.1, 0.2, 0.4, 0.6, 0.8, 1]"
      ],
      "metadata": {
        "id": "LkSklzNwy1Ut"
      },
      "execution_count": null,
      "outputs": []
    },
    {
      "cell_type": "code",
      "source": [
        "S_5 = grid(F, conn, T=1000, N=N, epsilon=epsilon, rho=0.8, alpha=0.8, chaos_measure='pearson integrals', treshold=5)"
      ],
      "metadata": {
        "id": "TCEO2ivRy1Ut"
      },
      "execution_count": null,
      "outputs": []
    },
    {
      "cell_type": "code",
      "source": [
        "# The later parameter given to grid() is rows\n",
        "# plot_heatmap(data_matrix, x_labels, y_labels, v_min=None, v_max=None, x_label_name='X-axis', y_label_name='Y-axis', title='Heatmap', figsize=(10, 6), fmt='.3f' ):\n",
        "plot_heatmap(S_5, epsilon, N, v_min=None, v_max= None, x_label_name='Sparsity', y_label_name='Number of Neurons', title=\"Integrals of FFT\", fmt='.3f')"
      ],
      "metadata": {
        "id": "FuNq_CnWy1Ut"
      },
      "execution_count": null,
      "outputs": []
    },
    {
      "cell_type": "code",
      "source": [],
      "metadata": {
        "id": "2Ik4Z5gizWEs"
      },
      "execution_count": null,
      "outputs": []
    },
    {
      "cell_type": "code",
      "source": [],
      "metadata": {
        "id": "zwVkopDvyFvW"
      },
      "execution_count": null,
      "outputs": []
    },
    {
      "cell_type": "markdown",
      "source": [
        "##### Grid Integral of Pearson - N epsilon, rho=0.8"
      ],
      "metadata": {
        "id": "lXYabyudyGKx"
      }
    },
    {
      "cell_type": "code",
      "source": [
        "N = [10, 50, 100, 150, 200]\n",
        "epsilon = [0.1, 0.2, 0.4, 0.6, 0.8, 1]"
      ],
      "metadata": {
        "id": "htMmCsqwyGKx"
      },
      "execution_count": null,
      "outputs": []
    },
    {
      "cell_type": "code",
      "source": [
        "S_6 = grid(F, conn, T=1000, N=N, epsilon=epsilon, rho=1.3, alpha=0.8, chaos_measure='pearson integrals', treshold=5)"
      ],
      "metadata": {
        "id": "YgLAPkKZyGKy"
      },
      "execution_count": null,
      "outputs": []
    },
    {
      "cell_type": "code",
      "source": [
        "# The later parameter given to grid() is rows\n",
        "# plot_heatmap(data_matrix, x_labels, y_labels, v_min=None, v_max=None, x_label_name='X-axis', y_label_name='Y-axis', title='Heatmap', figsize=(10, 6), fmt='.3f' ):\n",
        "plot_heatmap(S_6, epsilon, N, v_min=None, v_max= None, x_label_name='Sparsity', y_label_name='Number of Neurons', title=\"Integrals of FFT\", fmt='.3f')"
      ],
      "metadata": {
        "id": "wjmbTWKWyGKz"
      },
      "execution_count": null,
      "outputs": []
    },
    {
      "cell_type": "code",
      "source": [],
      "metadata": {
        "id": "m01bIvOSyGKz"
      },
      "execution_count": null,
      "outputs": []
    },
    {
      "cell_type": "markdown",
      "source": [
        "#### Electrical"
      ],
      "metadata": {
        "id": "xyJ5AhQDzWrL"
      }
    },
    {
      "cell_type": "code",
      "source": [
        "conn = \"Electrical\""
      ],
      "metadata": {
        "id": "FumYikJkzWrN"
      },
      "execution_count": null,
      "outputs": []
    },
    {
      "cell_type": "markdown",
      "source": [
        "##### Integral of Pearson Correlation"
      ],
      "metadata": {
        "id": "x8Ds0cxYzWrO"
      }
    },
    {
      "cell_type": "code",
      "source": [
        "X, N, epsilon, rho, T, alpha, _ = compute_state_matrix(F, conn, 100, 0.2, 1.5, 1.1, 1000)\n",
        "# Plots\n",
        "states_average_plot(X, running_avg=True)\n",
        "states_variance_plot(X)\n",
        "fft_plot(X)\n",
        "fft_plot(X, running_avg=True)\n",
        "power_spectrum_plot(X)\n",
        "pear_graph(X, future_time=1000)\n"
      ],
      "metadata": {
        "id": "sy8buFzIzWrP"
      },
      "execution_count": null,
      "outputs": []
    },
    {
      "cell_type": "code",
      "source": [
        "area_sum, integral = pearson_integral(X)\n",
        "pear_graph(X, integrals=integral)"
      ],
      "metadata": {
        "id": "8xhtI7jxzWrQ"
      },
      "execution_count": null,
      "outputs": []
    },
    {
      "cell_type": "code",
      "source": [
        "print(area_sum, integral)"
      ],
      "metadata": {
        "id": "GHq0i0vOzWrR"
      },
      "execution_count": null,
      "outputs": []
    },
    {
      "cell_type": "markdown",
      "source": [
        "##### Integral of FFT"
      ],
      "metadata": {
        "id": "h-dz62VnzWrS"
      }
    },
    {
      "cell_type": "code",
      "source": [
        "# integral_of_spikes(X, treshold=10, window_size=10, running_avg= False, integral_analysis=False, f_min=None, f_max=None):\n",
        "area_sum, integrals, spike_count = integral_of_spikes(X, threshold = 5, integral_analysis=True)\n",
        "print(area_sum, spike_count)"
      ],
      "metadata": {
        "id": "Iy4GYNCizWrT"
      },
      "execution_count": null,
      "outputs": []
    },
    {
      "cell_type": "code",
      "source": [
        "fft_plot(X, threshold=5,integrals=integrals)"
      ],
      "metadata": {
        "id": "8Ui5xO06zWrU"
      },
      "execution_count": null,
      "outputs": []
    },
    {
      "cell_type": "markdown",
      "source": [
        "##### Example of *Grid*"
      ],
      "metadata": {
        "id": "OfzjXFUxzWrV"
      }
    },
    {
      "cell_type": "code",
      "source": [
        "rho = [0.05, 0.25, 0.5, 0.8, 0.95, 1.1, 1.3, 1.5, 2, 2.5, 3]\n",
        "alpha = [0, 0.00001, 0.01, 0.2, 0.05, 0.10, 0.15, 0.25, 0.5, 0.7, 0.8, 0.95, 1, 1.1, 1.5,2]"
      ],
      "metadata": {
        "id": "UmpNrveqzWrW"
      },
      "execution_count": null,
      "outputs": []
    },
    {
      "cell_type": "markdown",
      "source": [],
      "metadata": {
        "id": "UlrB5wLhzWrX"
      }
    },
    {
      "cell_type": "code",
      "source": [
        "S_test = grid(F, conn, T=1000, N=100, epsilon=0.2, rho=rho, alpha=alpha, chaos_measure='fft integrals', treshold=5)"
      ],
      "metadata": {
        "id": "Gv0r0KyIzWrX"
      },
      "execution_count": null,
      "outputs": []
    },
    {
      "cell_type": "code",
      "source": [
        "# The later parameter given to grid() is rows\n",
        "plot_heatmap(S_test, alpha, rho, x_label_name='Alpha', y_label_name='Rho')"
      ],
      "metadata": {
        "id": "mhEwNPTvzWrY"
      },
      "execution_count": null,
      "outputs": []
    },
    {
      "cell_type": "markdown",
      "source": [
        "##### Grid Integral of FFT - rho alpha"
      ],
      "metadata": {
        "id": "XZFIkA8czWrZ"
      }
    },
    {
      "cell_type": "code",
      "source": [
        "rho = [0.05, 0.25, 0.5, 0.8, 0.95, 1.1, 1.3, 1.5, 2, 2.5, 3]\n",
        "alpha = [0, 0.00001, 0.01, 0.02, 0.05, 0.10, 0.15, 0.25, 0.5, 0.7, 0.8, 0.95, 1, 1.1, 1.5]"
      ],
      "metadata": {
        "id": "98g6zpRqzWra"
      },
      "execution_count": null,
      "outputs": []
    },
    {
      "cell_type": "code",
      "source": [
        "S_1 = grid(F, conn, T=1000, N=100, epsilon=0.2, rho=rho, alpha=alpha, chaos_measure='fft integrals', treshold=5)"
      ],
      "metadata": {
        "id": "hhIo2VUtzWrb"
      },
      "execution_count": null,
      "outputs": []
    },
    {
      "cell_type": "code",
      "source": [
        "# The later parameter given to grid() is rows\n",
        "# plot_heatmap(data_matrix, x_labels, y_labels, v_min=None, v_max=None, x_label_name='X-axis', y_label_name='Y-axis', title='Heatmap', figsize=(10, 6), fmt='.3f' ):\n",
        "plot_heatmap(S_1, alpha, rho, v_min=0, v_max= 0.25, x_label_name='Alpha', y_label_name='Rho', title=\"Integrals of FFT above magnitude of 5\", fmt='.2f')"
      ],
      "metadata": {
        "id": "gdJ-YYXvzWrc"
      },
      "execution_count": null,
      "outputs": []
    },
    {
      "cell_type": "markdown",
      "source": [
        "##### Grid Integral of Pearson - rho alpha"
      ],
      "metadata": {
        "id": "qvlCwq9xzWrd"
      }
    },
    {
      "cell_type": "code",
      "source": [
        "rho = [0.05, 0.25, 0.5, 0.8, 0.95, 1.1, 1.3, 1.5, 2, 2.5, 3]\n",
        "alpha = [0, 0.00001, 0.01, 0.02, 0.05, 0.10, 0.15, 0.25, 0.5, 0.7, 0.8, 0.95, 1, 1.1, 1.5]"
      ],
      "metadata": {
        "id": "Cr65Zb7gzWrd"
      },
      "execution_count": null,
      "outputs": []
    },
    {
      "cell_type": "code",
      "source": [
        "S_1 = grid(F, conn, T=1000, N=100, epsilon=0.2, rho=rho, alpha=alpha, chaos_measure='pearson integrals', treshold=5)"
      ],
      "metadata": {
        "id": "8YyM8zSjzWre"
      },
      "execution_count": null,
      "outputs": []
    },
    {
      "cell_type": "code",
      "source": [
        "# The later parameter given to grid() is rows\n",
        "# plot_heatmap(data_matrix, x_labels, y_labels, v_min=None, v_max=None, x_label_name='X-axis', y_label_name='Y-axis', title='Heatmap', figsize=(10, 6), fmt='.3f' ):\n",
        "plot_heatmap(S_1, alpha, rho, v_min=None, v_max= None, x_label_name='Alpha', y_label_name='Rho', title=\"Integrals of Pearson Correlation\", fmt='.0f')"
      ],
      "metadata": {
        "id": "5gipWHLCzWrf"
      },
      "execution_count": null,
      "outputs": []
    },
    {
      "cell_type": "markdown",
      "source": [
        "##### Grid Integral of FFT - N epsilon, rho=0.8"
      ],
      "metadata": {
        "id": "AMTMgc5tzWrg"
      }
    },
    {
      "cell_type": "code",
      "source": [
        "N = [10, 50, 100, 150, 200]\n",
        "epsilon = [0.1, 0.2, 0.4, 0.6, 0.8, 1]"
      ],
      "metadata": {
        "id": "4P7goLSDzWrh"
      },
      "execution_count": null,
      "outputs": []
    },
    {
      "cell_type": "code",
      "source": [
        "S_3 = grid(F, conn, T=1000, N=N, epsilon=epsilon, rho=0.8, alpha=0.8, chaos_measure='fft integrals', treshold=5)"
      ],
      "metadata": {
        "id": "QYfB9aa6zWri"
      },
      "execution_count": null,
      "outputs": []
    },
    {
      "cell_type": "code",
      "source": [
        "# The later parameter given to grid() is rows\n",
        "# plot_heatmap(data_matrix, x_labels, y_labels, v_min=None, v_max=None, x_label_name='X-axis', y_label_name='Y-axis', title='Heatmap', figsize=(10, 6), fmt='.3f' ):\n",
        "plot_heatmap(S_3, epsilon, N, v_min=None, v_max= None, x_label_name='Sparsity', y_label_name='Number of Neurons', title=\"Integrals of FFT\", fmt='.3f')"
      ],
      "metadata": {
        "id": "xCAs-44tzWrj"
      },
      "execution_count": null,
      "outputs": []
    },
    {
      "cell_type": "markdown",
      "source": [
        "##### Grid Integral of FFT - N epsilon, rho=1.3"
      ],
      "metadata": {
        "id": "HdlLNYJuzWrk"
      }
    },
    {
      "cell_type": "code",
      "source": [
        "N = [10, 50, 100, 150, 200]\n",
        "epsilon = [0.1, 0.2, 0.4, 0.6, 0.8, 1]"
      ],
      "metadata": {
        "id": "PDcddEhMzWrk"
      },
      "execution_count": null,
      "outputs": []
    },
    {
      "cell_type": "code",
      "source": [
        "S_4 = grid(F, conn, T=1000, N=N, epsilon=epsilon, rho=1.3, alpha=0.8, chaos_measure='fft integrals', treshold=5)"
      ],
      "metadata": {
        "id": "ROznxbLvzWrl"
      },
      "execution_count": null,
      "outputs": []
    },
    {
      "cell_type": "code",
      "source": [
        "# The later parameter given to grid() is rows\n",
        "# plot_heatmap(data_matrix, x_labels, y_labels, v_min=None, v_max=None, x_label_name='X-axis', y_label_name='Y-axis', title='Heatmap', figsize=(10, 6), fmt='.3f' ):\n",
        "plot_heatmap(S_4, epsilon, N, v_min=None, v_max= None, x_label_name='Sparsity', y_label_name='Number of Neurons', title=\"Integrals of FFT\", fmt='.3f')"
      ],
      "metadata": {
        "id": "eqUZ1JLozWrm"
      },
      "execution_count": null,
      "outputs": []
    },
    {
      "cell_type": "markdown",
      "source": [
        "##### Grid Integral of Pearson - N epsilon, rho=0.8"
      ],
      "metadata": {
        "id": "iqMhOCoyzWrn"
      }
    },
    {
      "cell_type": "code",
      "source": [
        "N = [10, 50, 100, 150, 200]\n",
        "epsilon = [0.1, 0.2, 0.4, 0.6, 0.8, 1]"
      ],
      "metadata": {
        "id": "IdGU-bWTzWro"
      },
      "execution_count": null,
      "outputs": []
    },
    {
      "cell_type": "code",
      "source": [
        "S_5 = grid(F, conn, T=1000, N=N, epsilon=epsilon, rho=0.8, alpha=0.8, chaos_measure='pearson integrals', treshold=5)"
      ],
      "metadata": {
        "id": "uwu48YE1zWrp"
      },
      "execution_count": null,
      "outputs": []
    },
    {
      "cell_type": "code",
      "source": [
        "# The later parameter given to grid() is rows\n",
        "# plot_heatmap(data_matrix, x_labels, y_labels, v_min=None, v_max=None, x_label_name='X-axis', y_label_name='Y-axis', title='Heatmap', figsize=(10, 6), fmt='.3f' ):\n",
        "plot_heatmap(S_5, epsilon, N, v_min=None, v_max= None, x_label_name='Sparsity', y_label_name='Number of Neurons', title=\"Integrals of FFT\", fmt='.3f')"
      ],
      "metadata": {
        "id": "SQ_V8vESzWrq"
      },
      "execution_count": null,
      "outputs": []
    },
    {
      "cell_type": "markdown",
      "source": [
        "## Integrations"
      ],
      "metadata": {
        "id": "GkDxOAl0-osc"
      }
    },
    {
      "cell_type": "code",
      "source": [
        "def dynamical_syst_graph(*args):\n",
        "    import matplotlib.pyplot as plt\n",
        "    num_dimensions = len(args)\n",
        "\n",
        "    # Create a figure\n",
        "    fig = plt.figure(figsize=(10, 8))\n",
        "\n",
        "    if num_dimensions == 1:\n",
        "        # 1D plot\n",
        "        plt.plot(args[0], lw=0.5, color='blue')\n",
        "        plt.xlabel(\"Time Steps\", color='black')\n",
        "        plt.ylabel(\"X\", color='black')\n",
        "        plt.title(\"1D Dynamical System\", color='black')\n",
        "\n",
        "    elif num_dimensions == 2:\n",
        "        # 2D plot\n",
        "        plt.plot(args[0], args[1], lw=0.5, color='black')\n",
        "        plt.xlabel(\"X\", color='black', fontsize=16)\n",
        "        plt.ylabel(\"Y\", color='black', fontsize=16)\n",
        "        #plt.title(\"\", color='black')\n",
        "        plt.tick_params(axis='both', labelsize=16)\n",
        "\n",
        "    elif num_dimensions == 3:\n",
        "        # 3D plot\n",
        "        ax = fig.add_subplot(111, projection='3d', frame_on=False)\n",
        "        ax.plot(args[0], args[1], args[2], lw=0.5, color='black')\n",
        "\n",
        "        # Add a dot for the initial conditions\n",
        "        ax.scatter([args[0][0]], [args[1][0]], [args[2][0]], color='red', s=25, label='Initial Condition')\n",
        "        ax.legend()\n",
        "\n",
        "        plt.tick_params(labelsize=12)\n",
        "        ax.set_xlabel(\"X\", color='black', fontsize=16)\n",
        "        ax.set_ylabel(\"Y\", color='black', fontsize=16)\n",
        "        ax.set_zlabel(\"Z\", color='black', fontsize=12)\n",
        "        #ax.set_title(\"3D Dynamical System\", color='black')\n",
        "\n",
        "    else:\n",
        "        raise ValueError(\"Unsupported number of dimensions. Please provide 1, 2, or 3 dimensions.\")\n",
        "\n",
        "    plt.show()"
      ],
      "metadata": {
        "id": "Qa7JatFFAv2-"
      },
      "execution_count": null,
      "outputs": []
    },
    {
      "cell_type": "code",
      "source": [
        "trajectory = euler_method(lorenz_system, 0, 1, 1, 1, 10, 8/3, 28, 0.005, 10000)\n",
        "xs, ys, zs = zip(*trajectory)\n",
        "dynamical_syst_graph(xs[1000:], ys[1000:])"
      ],
      "metadata": {
        "id": "hDdjKtHH_6hD"
      },
      "execution_count": null,
      "outputs": []
    },
    {
      "cell_type": "code",
      "source": [
        "trajectory = rk4(lorenz_system, 0, 1, 1, 1, 10, 8/3, 28, 0.005, 10000)\n",
        "xs, ys, zs = zip(*trajectory)\n",
        "dynamical_syst_graph(xs[1000:], ys[1000:])"
      ],
      "metadata": {
        "id": "8lpc6fpo_kkg"
      },
      "execution_count": null,
      "outputs": []
    },
    {
      "cell_type": "markdown",
      "source": [
        "### Interactive Graph\n"
      ],
      "metadata": {
        "id": "IoFLFg2K_R1S"
      }
    },
    {
      "cell_type": "code",
      "source": [
        "dynamical_syst_interactive_graph(rk4(lorenz_system, 0, 1, 1, 1, 10, 8/3, 28, 0.01, 10000), \"RK4\", 'Lorenz System')"
      ],
      "metadata": {
        "id": "FAbTTxtS_Pl5"
      },
      "execution_count": null,
      "outputs": []
    },
    {
      "cell_type": "markdown",
      "source": [
        "### Sampling"
      ],
      "metadata": {
        "id": "wxPVWda4_Ghh"
      }
    },
    {
      "cell_type": "code",
      "source": [
        "trajectory = rk4(lorenz_system, 0, 1, 1, 1, 10, 8/3, 28, 0.01, 10000)\n",
        "xs, ys, zs = zip(*trajectory)\n",
        "dynamical_syst_graph(xs, ys, zs)"
      ],
      "metadata": {
        "id": "Z20216d9_CFb"
      },
      "execution_count": null,
      "outputs": []
    },
    {
      "cell_type": "code",
      "source": [
        "trajectory = rk4(lorenz_system, 0, 1, 1, 1, 10, 8/3, 28, 0.01, 10000, sampling_rate=10)\n",
        "xs, ys, zs = zip(*trajectory)\n",
        "dynamical_syst_graph(xs, ys, zs)"
      ],
      "metadata": {
        "id": "barlWx4A-wHq"
      },
      "execution_count": null,
      "outputs": []
    },
    {
      "cell_type": "markdown",
      "metadata": {
        "id": "_cmLXbk69spj"
      },
      "source": [
        "## Predict tau timestep in future rho=0.8 alpha=0.8 N=100, F=F_identity, input xyz\n"
      ]
    },
    {
      "cell_type": "code",
      "execution_count": null,
      "metadata": {
        "id": "BCWhIsnc9spk"
      },
      "outputs": [],
      "source": [
        "r=0.8; a=0.8; N=100; F=F_identity; conn=\"Chemical\""
      ]
    },
    {
      "cell_type": "markdown",
      "metadata": {
        "id": "5X9CQRqvRk71"
      },
      "source": [
        "### input x,y output x,y tau=1"
      ]
    },
    {
      "cell_type": "code",
      "execution_count": null,
      "metadata": {
        "id": "vXmkzl-kRk8N"
      },
      "outputs": [],
      "source": [
        " # Data\n",
        "lorenz_data = rk4(lorenz_system, 0, 1, 1, 1, 10, 8/3, 28, 0.01, 10000)\n",
        "xs, ys, zs = zip(*lorenz_data)\n",
        "input_data = np.array([xs, ys, zs])\n",
        "train_data = np.array([xs, ys, zs])\n",
        "\n",
        "# def network(F, connectivity, input_data, output_data,\n",
        "#            N, epsilon, rho, alpha,\n",
        "#            T_transient, T_training, T_prediction, tau,\n",
        "#            Lapl= True, regulization=0, b_in=1, b_out=1, ex_time=False):\n",
        "\n",
        "X_pred,N,epsilon,rho,T_transient, T_training, T_prediction, alpha, Y_pred, tau, W = network(\n",
        "                                                  F, conn, input_data, train_data,\n",
        "                                                  N=N, epsilon=0.2, rho=r, alpha=a,\n",
        "                                                  T_transient=2000, T_training=5000, T_prediction=2000, tau=1,\n",
        "                                                  Lapl=True, regulization=0, b_in=1, b_out=1, ex_time=False)"
      ]
    },
    {
      "cell_type": "code",
      "source": [
        "type(lorenz_data)"
      ],
      "metadata": {
        "id": "3i0YzmC2jKnE"
      },
      "execution_count": null,
      "outputs": []
    },
    {
      "cell_type": "code",
      "source": [
        "np.array(lorenz_data).shape"
      ],
      "metadata": {
        "id": "c8Wron5JjOXy"
      },
      "execution_count": null,
      "outputs": []
    },
    {
      "cell_type": "markdown",
      "metadata": {
        "id": "3LUN5NC5Rk8O"
      },
      "source": [
        "#### x prediction"
      ]
    },
    {
      "cell_type": "code",
      "execution_count": null,
      "metadata": {
        "id": "yqmenJWZRk8P"
      },
      "outputs": [],
      "source": [
        "# states_average_plot_w_input_data_2(X, input_data, N, T, input_name, output_name=\"Average States\", title=None, t_transient=0,\n",
        "# t_end=None, window_size=10, running_avg=False, zoom_in=False, zoom_range=(100, 200), tick_labelsize=18, axis_labelsize=18):\n",
        "\n",
        "# states_average_plot_w_input_data(X, N, T,input_data, input_name, output_name=\"Average States\", title=None, t_transient=0,\n",
        "# t_end=None, window_size=10, running_avg=False, zoom_in=False, zoom_range=(100, 200),tick_labelsize=18, axis_labelsize=18\n",
        "states_average_plot_w_input_data(Y_pred[0,:].reshape(1,-1),N,T_prediction,xs[(T_transient+T_training+tau):(T_transient+T_training+T_prediction+tau)]\n",
        "                                 ,input_name=\"Lorenz x\", output_name=\"Predicted Lorenz x\",zoom_in=True, zoom_range=(750,1000))"
      ]
    },
    {
      "cell_type": "code",
      "source": [
        "states_average_plot_w_input_data_2(Y_pred[0,:].reshape(1,-1),N,T_prediction,xs[(T_transient+T_training+tau):(T_transient+T_training+T_prediction+tau)]\n",
        "                                 ,input_name=\"Lorenz x\", output_name=\"Prediction\",zoom_in=True, zoom_range=(750,1000))"
      ],
      "metadata": {
        "id": "pyGQh8ryRk8Q"
      },
      "execution_count": null,
      "outputs": []
    },
    {
      "cell_type": "markdown",
      "metadata": {
        "id": "-EaQgL63Rk8R"
      },
      "source": [
        "#### y prediction"
      ]
    },
    {
      "cell_type": "code",
      "execution_count": null,
      "metadata": {
        "id": "RmNcAAJmRk8S"
      },
      "outputs": [],
      "source": [
        "# Mean Field\n",
        "states_average_plot_w_input_data(Y_pred[1,:].reshape(1,-1),N,T_prediction,ys[(T_transient+T_training+tau):(T_transient+T_training+T_prediction+tau)]\n",
        "                                 ,input_name=\"Lorenz y\", output_name=\"Predicted Lorenz y\",zoom_in=True, zoom_range=(750,1000))"
      ]
    },
    {
      "cell_type": "code",
      "source": [
        "# Mean Field\n",
        "states_average_plot_w_input_data_2(Y_pred[1,:].reshape(1,-1),N,T_prediction,ys[(T_transient+T_training+tau):(T_transient+T_training+T_prediction+tau)]\n",
        "                                 ,input_name=\"Lorenz y\", output_name=\"Prediction\",zoom_in=True, zoom_range=(750,1000))"
      ],
      "metadata": {
        "id": "hHQf4q_ORk8S"
      },
      "execution_count": null,
      "outputs": []
    },
    {
      "cell_type": "markdown",
      "metadata": {
        "id": "GOwMmRQdRk8T"
      },
      "source": [
        "#### z prediction"
      ]
    },
    {
      "cell_type": "code",
      "source": [
        "# Mean Field\n",
        "states_average_plot_w_input_data_2(Y_pred[2,:].reshape(1,-1),N,T_prediction,zs[(T_transient+T_training+tau):(T_transient+T_training+T_prediction+tau)]\n",
        "                                 ,input_name=\"Lorenz z\", output_name=\"Predicted Lorenz z\",zoom_in=True, zoom_range=(750,1000))"
      ],
      "metadata": {
        "id": "_DVrfeB5Rk8T"
      },
      "execution_count": null,
      "outputs": []
    },
    {
      "cell_type": "markdown",
      "source": [
        "#### XYZ prediction\n"
      ],
      "metadata": {
        "id": "O5PG0v6chjBE"
      }
    },
    {
      "cell_type": "code",
      "source": [
        "dynamical_syst_graph(Y_pred[0,:], Y_pred[1,:], Y_pred[2,:])"
      ],
      "metadata": {
        "id": "etF2cXCbeAMV"
      },
      "execution_count": null,
      "outputs": []
    },
    {
      "cell_type": "code",
      "source": [
        "x = np.squeeze(Y_pred[0,:])\n",
        "y = np.squeeze(Y_pred[1,:])\n",
        "z = np.squeeze(Y_pred[2,:])\n",
        "dynamical_syst_interactive_graph(x, y, z, \"Network Prediction\", \"Lorenz system\")"
      ],
      "metadata": {
        "id": "r8Q8ri4PhmuH"
      },
      "execution_count": null,
      "outputs": []
    },
    {
      "cell_type": "markdown",
      "metadata": {
        "id": "DKbNVIgf9spk"
      },
      "source": [
        "### input x,y output x,y tau=5"
      ]
    },
    {
      "cell_type": "code",
      "execution_count": null,
      "metadata": {
        "id": "tnjKYL639spk"
      },
      "outputs": [],
      "source": [
        " # Data\n",
        "lorenz_data = rk4(lorenz_system, 0, 1, 1, 1, 10, 8/3, 28, 0.01, 10000)\n",
        "xs, ys, zs = zip(*lorenz_data)\n",
        "input_data = np.array([xs, ys, zs])\n",
        "train_data = np.array([xs, ys, zs])\n",
        "\n",
        "# def network(F, connectivity, input_data, output_data,\n",
        "#            N, epsilon, rho, alpha,\n",
        "#            T_transient, T_training, T_prediction, tau,\n",
        "#            Lapl= True, regulization=0, b_in=1, b_out=1, ex_time=False):\n",
        "\n",
        "X_pred,N,epsilon,rho,T_transient, T_training, T_prediction, alpha, Y_pred, tau, W = network(\n",
        "                                                  F, conn, input_data, train_data,\n",
        "                                                  N=N, epsilon=0.2, rho=r, alpha=a,\n",
        "                                                  T_transient=2000, T_training=5000, T_prediction=2000, tau=5,\n",
        "                                                  Lapl=True, regulization=0, b_in=1, b_out=1, ex_time=False)"
      ]
    },
    {
      "cell_type": "markdown",
      "metadata": {
        "id": "qagolIId9spk"
      },
      "source": [
        "#### x prediction"
      ]
    },
    {
      "cell_type": "code",
      "execution_count": null,
      "metadata": {
        "id": "RB3BGJ7z9spk"
      },
      "outputs": [],
      "source": [
        "# states_average_plot_w_input_data_2(X, input_data, N, T, input_name, output_name=\"Average States\", title=None, t_transient=0,\n",
        "# t_end=None, window_size=10, running_avg=False, zoom_in=False, zoom_range=(100, 200), tick_labelsize=18, axis_labelsize=18):\n",
        "\n",
        "# states_average_plot_w_input_data(X, N, T,input_data, input_name, output_name=\"Average States\", title=None, t_transient=0,\n",
        "# t_end=None, window_size=10, running_avg=False, zoom_in=False, zoom_range=(100, 200),tick_labelsize=18, axis_labelsize=18\n",
        "states_average_plot_w_input_data(Y_pred[0,:].reshape(1,-1),N,T_prediction,xs[(T_transient+T_training+tau):(T_transient+T_training+T_prediction+tau)]\n",
        "                                 ,input_name=\"Lorenz x\", output_name=\"Predicted Lorenz x\",zoom_in=True, zoom_range=(750,1000))"
      ]
    },
    {
      "cell_type": "code",
      "source": [
        "states_average_plot_w_input_data_3(Y_pred[0,:].reshape(1,-1),N,T_prediction,xs[(T_transient+T_training+tau):(T_transient+T_training+T_prediction+tau)]\n",
        "                                 ,input_name=\"Lorenz x\", output_name=\"Predicted Lorenz x\",zoom_in=True, zoom_range=(750,1000))"
      ],
      "metadata": {
        "id": "ZF1cvq7FuiaQ"
      },
      "execution_count": null,
      "outputs": []
    },
    {
      "cell_type": "markdown",
      "metadata": {
        "id": "XVRJaPes9spl"
      },
      "source": [
        "#### y prediction"
      ]
    },
    {
      "cell_type": "code",
      "execution_count": null,
      "metadata": {
        "id": "9-wVjmfE9spl"
      },
      "outputs": [],
      "source": [
        "# Mean Field\n",
        "states_average_plot_w_input_data(Y_pred[1,:].reshape(1,-1),N,T_prediction,ys[(T_transient+T_training+tau):(T_transient+T_training+T_prediction+tau)]\n",
        "                                 ,input_name=\"Lorenz y\", output_name=\"Predicted Lorenz y\",zoom_in=True, zoom_range=(750,1000))"
      ]
    },
    {
      "cell_type": "code",
      "source": [
        "# Mean Field\n",
        "states_average_plot_w_input_data_3(Y_pred[1,:].reshape(1,-1),N,T_prediction,ys[(T_transient+T_training+tau):(T_transient+T_training+T_prediction+tau)]\n",
        "                                 ,input_name=\"Lorenz y\", output_name=\"Predicted Lorenz y\",zoom_in=True, zoom_range=(750,1000))"
      ],
      "metadata": {
        "id": "XK7G6Pl0uTLl"
      },
      "execution_count": null,
      "outputs": []
    },
    {
      "cell_type": "markdown",
      "metadata": {
        "id": "ZlMulGO99spl"
      },
      "source": [
        "#### z prediction"
      ]
    },
    {
      "cell_type": "code",
      "source": [
        "# Mean Field\n",
        "states_average_plot_w_input_data(Y_pred[2,:].reshape(1,-1),N,T_prediction,zs[(T_transient+T_training+tau):(T_transient+T_training+T_prediction+tau)]\n",
        "                                 ,input_name=\"Lorenz z\", output_name=\"Predicted Lorenz z\",zoom_in=True, zoom_range=(750,1000))"
      ],
      "metadata": {
        "id": "gvpk2i-_NnFe"
      },
      "execution_count": null,
      "outputs": []
    },
    {
      "cell_type": "markdown",
      "metadata": {
        "id": "oNF9eCWu9spl"
      },
      "source": [
        "### Input x,y Output x,y tau = 50"
      ]
    },
    {
      "cell_type": "code",
      "execution_count": null,
      "metadata": {
        "id": "bgYsYMWf9spl"
      },
      "outputs": [],
      "source": [
        " # Data\n",
        "lorenz_data = rk4(lorenz_system, 0, 1, 1, 1, 10, 8/3, 28, 0.01, 12000)\n",
        "xs, ys, zs = zip(*lorenz_data)\n",
        "input_data = np.array([xs, ys, zs])\n",
        "train_data = np.array([xs, ys, zs])\n",
        "\n",
        "# Reservoir\n",
        "X_pred,N,epsilon,rho,T_transient, T_training, T_prediction, alpha, Y_pred, tau, W = network(\n",
        "                                                  F, conn, input_data, train_data,\n",
        "                                                  N=N, epsilon=0.2, rho=r, alpha=a,\n",
        "                                                  T_transient=2000, T_training=5000, T_prediction=2000, tau=50,\n",
        "                                                  Lapl=True, regulization=0, b_in=1, b_out=1, ex_time=False)"
      ]
    },
    {
      "cell_type": "markdown",
      "metadata": {
        "id": "vUJQ3RZO9spl"
      },
      "source": [
        "#### x prediction"
      ]
    },
    {
      "cell_type": "code",
      "execution_count": null,
      "metadata": {
        "id": "i8eInXUH9spm"
      },
      "outputs": [],
      "source": [
        "# Mean Field\n",
        "states_average_plot_w_input_data_2(Y_pred[0,:].reshape(1,-1),N,T_prediction,xs[(T_transient+T_training+tau):(T_transient+T_training+T_prediction+tau)]\n",
        "                                 ,input_name=\"Lorenz x\", output_name=\"Prediction\",zoom_in=True, zoom_range=(750,1000))"
      ]
    },
    {
      "cell_type": "markdown",
      "metadata": {
        "id": "K_rLQUlx9spm"
      },
      "source": [
        "#### y prediction"
      ]
    },
    {
      "cell_type": "code",
      "execution_count": null,
      "metadata": {
        "id": "03_BWpT_9spm"
      },
      "outputs": [],
      "source": [
        "# Mean Field\n",
        "states_average_plot_w_input_data_2(Y_pred[1,:].reshape(1,-1),N,T_prediction,ys[(T_transient+T_training+tau):(T_transient+T_training+T_prediction+tau)]\n",
        "                                 ,input_name=\"Lorenzo y\", output_name=\"Prediction\",zoom_in=True, zoom_range=(750,1000))"
      ]
    },
    {
      "cell_type": "markdown",
      "source": [
        "#### z prediction"
      ],
      "metadata": {
        "id": "s8mcL8DjkPwP"
      }
    },
    {
      "cell_type": "code",
      "source": [
        "# Mean Field\n",
        "states_average_plot_w_input_data_2(Y_pred[2,:].reshape(1,-1),N,T_prediction,zs[(T_transient+T_training+tau):(T_transient+T_training+T_prediction+tau)]\n",
        "                                 ,input_name=\"Lorenz z\", output_name=\"Prediction\",zoom_in=True, zoom_range=(750,1000))"
      ],
      "metadata": {
        "id": "Va5jwmKpxw_6"
      },
      "execution_count": null,
      "outputs": []
    },
    {
      "cell_type": "markdown",
      "source": [
        "#### XYZ Prediction"
      ],
      "metadata": {
        "id": "tQJZ-97WkWmp"
      }
    },
    {
      "cell_type": "code",
      "source": [
        "dynamical_syst_graph(Y_pred[0,:], Y_pred[1,:], Y_pred[2,:])"
      ],
      "metadata": {
        "id": "EYJFEeXHkZWf"
      },
      "execution_count": null,
      "outputs": []
    },
    {
      "cell_type": "code",
      "source": [
        "x = np.squeeze(Y_pred[0,:])\n",
        "y = np.squeeze(Y_pred[1,:])\n",
        "z = np.squeeze(Y_pred[2,:])\n",
        "dynamical_syst_interactive_graph(x, y, z, \"Network Prediction\", \"Lorenz system\")"
      ],
      "metadata": {
        "id": "8mfACd-skszN"
      },
      "execution_count": null,
      "outputs": []
    },
    {
      "cell_type": "markdown",
      "metadata": {
        "id": "CjQgPy7CxxhO"
      },
      "source": [
        "### Input x,y Output x,y tau = 100"
      ]
    },
    {
      "cell_type": "code",
      "execution_count": null,
      "metadata": {
        "id": "8mqkkw_KxxhR"
      },
      "outputs": [],
      "source": [
        " # Data\n",
        "lorenz_data = rk4(lorenz_system, 0, 1, 1, 1, 10, 8/3, 28, 0.01, 15000)\n",
        "xs, ys, zs = zip(*lorenz_data)\n",
        "input_data = np.array([xs, ys, zs])\n",
        "train_data = np.array([xs, ys, zs])\n",
        "\n",
        "# Reservoir\n",
        "X_pred,N,epsilon,rho,T_transient, T_training, T_prediction, alpha, Y_pred, tau, W = network(\n",
        "                                                  F, conn, input_data, train_data,\n",
        "                                                  N=N, epsilon=0.2, rho=r, alpha=a,\n",
        "                                                  T_transient=2000, T_training=5000, T_prediction=2000, tau=100,\n",
        "                                                  Lapl=True, regulization=0, b_in=1, b_out=1, ex_time=False)"
      ]
    },
    {
      "cell_type": "markdown",
      "metadata": {
        "id": "6cOtRU3FxxhS"
      },
      "source": [
        "#### x prediction"
      ]
    },
    {
      "cell_type": "code",
      "execution_count": null,
      "metadata": {
        "id": "f9PNWe5-xxhS"
      },
      "outputs": [],
      "source": [
        "# Mean Field\n",
        "states_average_plot_w_input_data_2(Y_pred[0,:].reshape(1,-1),N,T_prediction,xs[(T_transient+T_training+tau):(T_transient+T_training+T_prediction+tau)]\n",
        "                                 ,input_name=\"Lorenz x\", output_name=\"Prediction\",zoom_in=True, zoom_range=(750,1000))"
      ]
    },
    {
      "cell_type": "markdown",
      "metadata": {
        "id": "5XqjrSV4xxhT"
      },
      "source": [
        "#### y prediction"
      ]
    },
    {
      "cell_type": "code",
      "execution_count": null,
      "metadata": {
        "id": "5OGYCcMQxxhU"
      },
      "outputs": [],
      "source": [
        "# Mean Field\n",
        "states_average_plot_w_input_data_2(Y_pred[1,:].reshape(1,-1),N,T_prediction,ys[(T_transient+T_training+tau):(T_transient+T_training+T_prediction+tau)]\n",
        "                                 ,input_name=\"Lorenz y\", output_name=\"Prediction\",zoom_in=True, zoom_range=(750,1000))"
      ]
    },
    {
      "cell_type": "markdown",
      "metadata": {
        "id": "C5hT4EKXxxhV"
      },
      "source": [
        "#### z prediction"
      ]
    },
    {
      "cell_type": "code",
      "source": [
        "# Mean Field\n",
        "states_average_plot_w_input_data_2(Y_pred[2,:].reshape(1,-1),N,T_prediction,zs[(T_transient+T_training+tau):(T_transient+T_training+T_prediction+tau)]\n",
        "                                 ,input_name=\"Lorenz z\", output_name=\"Prediction\",zoom_in=True, zoom_range=(750,1000))"
      ],
      "metadata": {
        "id": "-c1DBLO4lQqa"
      },
      "execution_count": null,
      "outputs": []
    },
    {
      "cell_type": "code",
      "source": [],
      "metadata": {
        "id": "YiXojJ4XltrP"
      },
      "execution_count": null,
      "outputs": []
    },
    {
      "cell_type": "markdown",
      "source": [
        "#### XYZ Prediction"
      ],
      "metadata": {
        "id": "XjPDUdupluZS"
      }
    },
    {
      "cell_type": "code",
      "source": [
        "dynamical_syst_graph(Y_pred[0,:], Y_pred[1,:], Y_pred[2,:])"
      ],
      "metadata": {
        "id": "NF8KjJyoluZT"
      },
      "execution_count": null,
      "outputs": []
    },
    {
      "cell_type": "code",
      "source": [
        "x = np.squeeze(Y_pred[0,:])\n",
        "y = np.squeeze(Y_pred[1,:])\n",
        "z = np.squeeze(Y_pred[2,:])\n",
        "dynamical_syst_interactive_graph(x, y, z, \"Network Prediction\", \"Lorenz system\")"
      ],
      "metadata": {
        "id": "I01eo3JFluZU"
      },
      "execution_count": null,
      "outputs": []
    },
    {
      "cell_type": "markdown",
      "metadata": {
        "id": "fiD_Q0e29spm"
      },
      "source": [
        "### Input x,y Output x,y tau = 100 T_trainning=10000"
      ]
    },
    {
      "cell_type": "code",
      "execution_count": null,
      "metadata": {
        "id": "XWxp66rJ9spm"
      },
      "outputs": [],
      "source": [
        " # Data\n",
        "lorenz_data = rk4(lorenz_system, 0, 1, 1, 1, 10, 8/3, 28, 0.01, 15000)\n",
        "xs, ys, zs = zip(*lorenz_data)\n",
        "input_data = np.array([xs, ys])\n",
        "train_data = np.array([xs, ys])\n",
        "\n",
        "# Reservoir\n",
        "X_pred,N,epsilon,rho,T_transient, T_training, T_prediction, alpha, Y_pred, tau, W = network(\n",
        "                                                  F, conn, input_data, train_data,\n",
        "                                                  N=N, epsilon=0.2, rho=r, alpha=a,\n",
        "                                                  T_transient=2000, T_training=10000, T_prediction=2000, tau=100,\n",
        "                                                  Lapl=True, regulization=0, b_in=1, b_out=1, ex_time=False)"
      ]
    },
    {
      "cell_type": "markdown",
      "metadata": {
        "id": "Ad2k86uU9spm"
      },
      "source": [
        "#### x prediction"
      ]
    },
    {
      "cell_type": "code",
      "execution_count": null,
      "metadata": {
        "id": "WsclWO0t9spm"
      },
      "outputs": [],
      "source": [
        "# Mean Field\n",
        "states_average_plot_w_input_data(Y_pred[0,:].reshape(1,-1),N,T_prediction,xs[(T_transient+T_training+tau):(T_transient+T_training+T_prediction+tau)]\n",
        "                                 ,input_name=\"Lorenzo x\", output_name=\"Prediction Lorenzo x\",zoom_in=True, zoom_range=(750,1000))"
      ]
    },
    {
      "cell_type": "markdown",
      "metadata": {
        "id": "dVoddzg29spn"
      },
      "source": [
        "#### y prediction"
      ]
    },
    {
      "cell_type": "code",
      "execution_count": null,
      "metadata": {
        "id": "Ens_veTl9spn"
      },
      "outputs": [],
      "source": [
        "# Mean Field\n",
        "states_average_plot_w_input_data(Y_pred[1,:].reshape(1,-1),N,T_prediction,ys[(T_transient+T_training+tau):(T_transient+T_training+T_prediction+tau)]\n",
        "                                 ,input_name=\"Lorenzo y\", output_name=\"Prediction Lorenzo y\",zoom_in=True, zoom_range=(750,1000))"
      ]
    },
    {
      "cell_type": "markdown",
      "metadata": {
        "id": "We3ZFAH49spn"
      },
      "source": [
        "#### z prediction"
      ]
    },
    {
      "cell_type": "markdown",
      "metadata": {
        "id": "w-euhEdh9spn"
      },
      "source": [
        "### RMSE of Prediction wrt tau"
      ]
    },
    {
      "cell_type": "code",
      "execution_count": null,
      "metadata": {
        "id": "CBqEDukv9spn"
      },
      "outputs": [],
      "source": [
        "# Initialize lists to store tau values and corresponding RMSEs\n",
        "taus = np.arange(1, 155, 5)  # Tau values from 0 to 150, step 5\n",
        "rmses = []\n",
        "lorenz_data = rk4(lorenz_system, 0, 1, 1, 1, 10, 8/3, 28, 0.01, 10000)\n",
        "xs, ys, zs = zip(*lorenz_data)\n",
        "input_data = np.array([xs, ys, zs])\n",
        "train_data = np.array([xs, ys, zs])\n",
        "# Calculate RMSE for each tau\n",
        "for tau in taus:\n",
        "    real_values = xs[(T_transient+T_training+tau):(T_transient+T_training+T_prediction+tau)]\n",
        "    _,_,_,_,_,_,_,_,predicted_values,_,_ = network(\n",
        "                                                  F, conn, input_data, train_data,\n",
        "                                                  N=N, epsilon=0.2, rho=r, alpha=a,\n",
        "                                                  T_transient=2000, T_training=5000, T_prediction=2000, tau=tau,\n",
        "                                                  Lapl=True, regulization=0, b_in=1, b_out=1, ex_time=False)\n",
        "\n",
        "\n",
        "    overall_rmse, _ = rmse(real_values, predicted_values[0,:])\n",
        "    rmses.append(overall_rmse)\n",
        "    # Plotting\n",
        "plt.figure(figsize=(10, 6))\n",
        "plt.plot(taus, rmses, marker='o', color='black')\n",
        "plt.xlabel('Tau', fontsize=14)\n",
        "plt.ylabel('Overall RMSE', fontsize=14)\n",
        "plt.tick_params(axis='both', labelsize=14)\n",
        "plt.show()"
      ]
    },
    {
      "cell_type": "code",
      "source": [
        "# Plotting\n",
        "plt.figure(figsize=(10, 6))\n",
        "plt.plot(taus, rmses, marker='o', color='black')\n",
        "plt.xlabel('Tau', fontsize=14)\n",
        "plt.ylabel('Overall RMSE', fontsize=14)\n",
        "plt.tick_params(axis='both', labelsize=14)\n",
        "plt.show()"
      ],
      "metadata": {
        "id": "HI1tUQ8em7Mh"
      },
      "execution_count": null,
      "outputs": []
    },
    {
      "cell_type": "markdown",
      "metadata": {
        "id": "K7MRE5Qtm8dX"
      },
      "source": [
        "## Predict tau timestep in future rho=0.8 alpha=0.8 N=100, F=F_identity, input xy\n"
      ]
    },
    {
      "cell_type": "code",
      "execution_count": null,
      "metadata": {
        "id": "L7ezIrf6m8dX"
      },
      "outputs": [],
      "source": [
        "r=0.8; a=0.8; N=100; F=F_identity; conn=\"Chemical\""
      ]
    },
    {
      "cell_type": "markdown",
      "metadata": {
        "id": "y_A98uPjm8dY"
      },
      "source": [
        "### input x,y output x,y tau=1"
      ]
    },
    {
      "cell_type": "code",
      "execution_count": null,
      "metadata": {
        "id": "zV17SnNwm8dY"
      },
      "outputs": [],
      "source": [
        " # Data\n",
        "lorenz_data = rk4(lorenz_system, 0, 1, 1, 1, 10, 8/3, 28, 0.01, 10000)\n",
        "xs, ys, zs = zip(*lorenz_data)\n",
        "input_data = np.array([xs, ys])\n",
        "train_data = np.array([xs, ys, zs])\n",
        "\n",
        "# def network(F, connectivity, input_data, output_data,\n",
        "#            N, epsilon, rho, alpha,\n",
        "#            T_transient, T_training, T_prediction, tau,\n",
        "#            Lapl= True, regulization=0, b_in=1, b_out=1, ex_time=False):\n",
        "\n",
        "X_pred,N,epsilon,rho,T_transient, T_training, T_prediction, alpha, Y_pred, tau, W = network(\n",
        "                                                  F, conn, input_data, train_data,\n",
        "                                                  N=N, epsilon=0.2, rho=r, alpha=a,\n",
        "                                                  T_transient=2000, T_training=5000, T_prediction=2000, tau=1,\n",
        "                                                  Lapl=True, regulization=0, b_in=1, b_out=1, ex_time=False)"
      ]
    },
    {
      "cell_type": "markdown",
      "metadata": {
        "id": "fwW1ZN-Vm8dZ"
      },
      "source": [
        "#### x prediction"
      ]
    },
    {
      "cell_type": "code",
      "execution_count": null,
      "metadata": {
        "id": "2S678_E6m8dZ"
      },
      "outputs": [],
      "source": [
        "# states_average_plot_w_input_data_2(X, input_data, N, T, input_name, output_name=\"Average States\", title=None, t_transient=0,\n",
        "# t_end=None, window_size=10, running_avg=False, zoom_in=False, zoom_range=(100, 200), tick_labelsize=18, axis_labelsize=18):\n",
        "\n",
        "# states_average_plot_w_input_data(X, N, T,input_data, input_name, output_name=\"Average States\", title=None, t_transient=0,\n",
        "# t_end=None, window_size=10, running_avg=False, zoom_in=False, zoom_range=(100, 200),tick_labelsize=18, axis_labelsize=18\n",
        "states_average_plot_w_input_data_2(Y_pred[0,:].reshape(1,-1),N,T_prediction,xs[(T_transient+T_training+tau):(T_transient+T_training+T_prediction+tau)]\n",
        "                                 ,input_name=\"Lorenz x\", output_name=\"Predicted Lorenz x\",zoom_in=True, zoom_range=(750,1000))"
      ]
    },
    {
      "cell_type": "markdown",
      "metadata": {
        "id": "fBB21keMm8da"
      },
      "source": [
        "#### y prediction"
      ]
    },
    {
      "cell_type": "code",
      "source": [
        "# Mean Field\n",
        "states_average_plot_w_input_data_2(Y_pred[1,:].reshape(1,-1),N,T_prediction,ys[(T_transient+T_training+tau):(T_transient+T_training+T_prediction+tau)]\n",
        "                                 ,input_name=\"Lorenz y\", output_name=\"Prediction\",zoom_in=True, zoom_range=(750,1000))"
      ],
      "metadata": {
        "id": "CCjW7wi6m8db"
      },
      "execution_count": null,
      "outputs": []
    },
    {
      "cell_type": "markdown",
      "metadata": {
        "id": "kCOXOPJfm8db"
      },
      "source": [
        "#### z prediction"
      ]
    },
    {
      "cell_type": "code",
      "source": [
        "# Mean Field\n",
        "states_average_plot_w_input_data_2(Y_pred[2,:].reshape(1,-1),N,T_prediction,zs[(T_transient+T_training+tau):(T_transient+T_training+T_prediction+tau)]\n",
        "                                 ,input_name=\"Lorenz z\", output_name=\"Predicted Lorenz z\",zoom_in=True, zoom_range=(750,1000))"
      ],
      "metadata": {
        "id": "PH7jT_9km8dc"
      },
      "execution_count": null,
      "outputs": []
    },
    {
      "cell_type": "markdown",
      "source": [
        "#### XYZ prediction\n"
      ],
      "metadata": {
        "id": "Ed4PLc0Em8dc"
      }
    },
    {
      "cell_type": "code",
      "source": [
        "dynamical_syst_graph(Y_pred[0,:], Y_pred[1,:], Y_pred[2,:])"
      ],
      "metadata": {
        "id": "FrHAC6rnm8dc"
      },
      "execution_count": null,
      "outputs": []
    },
    {
      "cell_type": "code",
      "source": [
        "x = np.squeeze(Y_pred[0,:])\n",
        "y = np.squeeze(Y_pred[1,:])\n",
        "z = np.squeeze(Y_pred[2,:])\n",
        "dynamical_syst_interactive_graph(x, y, z, \"Network Prediction\", \"Lorenz system\")"
      ],
      "metadata": {
        "id": "4ob8l0L3m8dd"
      },
      "execution_count": null,
      "outputs": []
    },
    {
      "cell_type": "markdown",
      "metadata": {
        "id": "zZ__DQsGm8dd"
      },
      "source": [
        "### input x,y output x,y tau=5"
      ]
    },
    {
      "cell_type": "code",
      "execution_count": null,
      "metadata": {
        "id": "ZtPZ4hxFm8dd"
      },
      "outputs": [],
      "source": [
        " # Data\n",
        "lorenz_data = rk4(lorenz_system, 0, 1, 1, 1, 10, 8/3, 28, 0.01, 10000)\n",
        "xs, ys, zs = zip(*lorenz_data)\n",
        "input_data = np.array([xs, ys, zs])\n",
        "train_data = np.array([xs, ys, zs])\n",
        "\n",
        "# def network(F, connectivity, input_data, output_data,\n",
        "#            N, epsilon, rho, alpha,\n",
        "#            T_transient, T_training, T_prediction, tau,\n",
        "#            Lapl= True, regulization=0, b_in=1, b_out=1, ex_time=False):\n",
        "\n",
        "X_pred,N,epsilon,rho,T_transient, T_training, T_prediction, alpha, Y_pred, tau, W = network(\n",
        "                                                  F, conn, input_data, train_data,\n",
        "                                                  N=N, epsilon=0.2, rho=r, alpha=a,\n",
        "                                                  T_transient=2000, T_training=5000, T_prediction=2000, tau=5,\n",
        "                                                  Lapl=True, regulization=0, b_in=1, b_out=1, ex_time=False)"
      ]
    },
    {
      "cell_type": "markdown",
      "metadata": {
        "id": "fdWfU1Hhm8dd"
      },
      "source": [
        "#### x prediction"
      ]
    },
    {
      "cell_type": "code",
      "execution_count": null,
      "metadata": {
        "id": "qFtLh7_-m8de"
      },
      "outputs": [],
      "source": [
        "# states_average_plot_w_input_data_2(X, input_data, N, T, input_name, output_name=\"Average States\", title=None, t_transient=0,\n",
        "# t_end=None, window_size=10, running_avg=False, zoom_in=False, zoom_range=(100, 200), tick_labelsize=18, axis_labelsize=18):\n",
        "\n",
        "# states_average_plot_w_input_data(X, N, T,input_data, input_name, output_name=\"Average States\", title=None, t_transient=0,\n",
        "# t_end=None, window_size=10, running_avg=False, zoom_in=False, zoom_range=(100, 200),tick_labelsize=18, axis_labelsize=18\n",
        "states_average_plot_w_input_data(Y_pred[0,:].reshape(1,-1),N,T_prediction,xs[(T_transient+T_training+tau):(T_transient+T_training+T_prediction+tau)]\n",
        "                                 ,input_name=\"Lorenz x\", output_name=\"Predicted Lorenz x\",zoom_in=True, zoom_range=(750,1000))"
      ]
    },
    {
      "cell_type": "code",
      "source": [
        "states_average_plot_w_input_data_3(Y_pred[0,:].reshape(1,-1),N,T_prediction,xs[(T_transient+T_training+tau):(T_transient+T_training+T_prediction+tau)]\n",
        "                                 ,input_name=\"Lorenz x\", output_name=\"Predicted Lorenz x\",zoom_in=True, zoom_range=(750,1000))"
      ],
      "metadata": {
        "id": "hf5tKgd4m8de"
      },
      "execution_count": null,
      "outputs": []
    },
    {
      "cell_type": "markdown",
      "metadata": {
        "id": "5kAy6rL6m8de"
      },
      "source": [
        "#### y prediction"
      ]
    },
    {
      "cell_type": "code",
      "execution_count": null,
      "metadata": {
        "id": "YJFGM_hPm8df"
      },
      "outputs": [],
      "source": [
        "# Mean Field\n",
        "states_average_plot_w_input_data(Y_pred[1,:].reshape(1,-1),N,T_prediction,ys[(T_transient+T_training+tau):(T_transient+T_training+T_prediction+tau)]\n",
        "                                 ,input_name=\"Lorenz y\", output_name=\"Predicted Lorenz y\",zoom_in=True, zoom_range=(750,1000))"
      ]
    },
    {
      "cell_type": "code",
      "source": [
        "# Mean Field\n",
        "states_average_plot_w_input_data_3(Y_pred[1,:].reshape(1,-1),N,T_prediction,ys[(T_transient+T_training+tau):(T_transient+T_training+T_prediction+tau)]\n",
        "                                 ,input_name=\"Lorenz y\", output_name=\"Predicted Lorenz y\",zoom_in=True, zoom_range=(750,1000))"
      ],
      "metadata": {
        "id": "Pw9ObkKGm8df"
      },
      "execution_count": null,
      "outputs": []
    },
    {
      "cell_type": "markdown",
      "metadata": {
        "id": "D3MJmI9wm8df"
      },
      "source": [
        "#### z prediction"
      ]
    },
    {
      "cell_type": "code",
      "source": [
        "# Mean Field\n",
        "states_average_plot_w_input_data(Y_pred[2,:].reshape(1,-1),N,T_prediction,zs[(T_transient+T_training+tau):(T_transient+T_training+T_prediction+tau)]\n",
        "                                 ,input_name=\"Lorenz z\", output_name=\"Predicted Lorenz z\",zoom_in=True, zoom_range=(750,1000))"
      ],
      "metadata": {
        "id": "bPcvVM77m8df"
      },
      "execution_count": null,
      "outputs": []
    },
    {
      "cell_type": "markdown",
      "metadata": {
        "id": "4FdbTL08m8dg"
      },
      "source": [
        "### Input x,y Output x,y tau = 50"
      ]
    },
    {
      "cell_type": "code",
      "execution_count": null,
      "metadata": {
        "id": "6cnQ2Szkm8dg"
      },
      "outputs": [],
      "source": [
        " # Data\n",
        "lorenz_data = rk4(lorenz_system, 0, 1, 1, 1, 10, 8/3, 28, 0.01, 12000)\n",
        "xs, ys, zs = zip(*lorenz_data)\n",
        "input_data = np.array([xs, ys])\n",
        "train_data = np.array([xs, ys, zs])\n",
        "\n",
        "# Reservoir\n",
        "X_pred,N,epsilon,rho,T_transient, T_training, T_prediction, alpha, Y_pred, tau, W = network(\n",
        "                                                  F, conn, input_data, train_data,\n",
        "                                                  N=N, epsilon=0.2, rho=r, alpha=a,\n",
        "                                                  T_transient=2000, T_training=5000, T_prediction=2000, tau=50,\n",
        "                                                  Lapl=True, regulization=0, b_in=1, b_out=1, ex_time=False)"
      ]
    },
    {
      "cell_type": "markdown",
      "metadata": {
        "id": "2luDlIxEm8dg"
      },
      "source": [
        "#### x prediction"
      ]
    },
    {
      "cell_type": "code",
      "execution_count": null,
      "metadata": {
        "id": "nJR7lBEQm8dg"
      },
      "outputs": [],
      "source": [
        "# Mean Field\n",
        "states_average_plot_w_input_data_2(Y_pred[0,:].reshape(1,-1),N,T_prediction,xs[(T_transient+T_training+tau):(T_transient+T_training+T_prediction+tau)]\n",
        "                                 ,input_name=\"Lorenz x\", output_name=\"Prediction\",zoom_in=True, zoom_range=(750,1000))"
      ]
    },
    {
      "cell_type": "markdown",
      "metadata": {
        "id": "lxgJt7xum8dh"
      },
      "source": [
        "#### y prediction"
      ]
    },
    {
      "cell_type": "code",
      "execution_count": null,
      "metadata": {
        "id": "-Rw1QCW3m8dh"
      },
      "outputs": [],
      "source": [
        "# Mean Field\n",
        "states_average_plot_w_input_data_2(Y_pred[1,:].reshape(1,-1),N,T_prediction,ys[(T_transient+T_training+tau):(T_transient+T_training+T_prediction+tau)]\n",
        "                                 ,input_name=\"Lorenzo y\", output_name=\"Prediction\",zoom_in=True, zoom_range=(750,1000))"
      ]
    },
    {
      "cell_type": "markdown",
      "source": [
        "#### z prediction"
      ],
      "metadata": {
        "id": "T13Vr6bWm8dh"
      }
    },
    {
      "cell_type": "code",
      "source": [
        "# Mean Field\n",
        "states_average_plot_w_input_data_2(Y_pred[2,:].reshape(1,-1),N,T_prediction,zs[(T_transient+T_training+tau):(T_transient+T_training+T_prediction+tau)]\n",
        "                                 ,input_name=\"Lorenz z\", output_name=\"Prediction\",zoom_in=True, zoom_range=(750,1000))"
      ],
      "metadata": {
        "id": "ra0e8rCJm8dh"
      },
      "execution_count": null,
      "outputs": []
    },
    {
      "cell_type": "markdown",
      "source": [
        "#### XYZ Prediction"
      ],
      "metadata": {
        "id": "_CtZaGLqm8di"
      }
    },
    {
      "cell_type": "code",
      "source": [
        "dynamical_syst_graph(Y_pred[0,:], Y_pred[1,:], Y_pred[2,:])"
      ],
      "metadata": {
        "id": "m1rEfKM6m8di"
      },
      "execution_count": null,
      "outputs": []
    },
    {
      "cell_type": "code",
      "source": [
        "x = np.squeeze(Y_pred[0,:])\n",
        "y = np.squeeze(Y_pred[1,:])\n",
        "z = np.squeeze(Y_pred[2,:])\n",
        "dynamical_syst_interactive_graph(x, y, z, \"Network Prediction\", \"Lorenz system\")"
      ],
      "metadata": {
        "id": "v_EGBsocm8di"
      },
      "execution_count": null,
      "outputs": []
    },
    {
      "cell_type": "markdown",
      "metadata": {
        "id": "-X-Jtkfmm8di"
      },
      "source": [
        "### Input x,y Output x,y tau = 100"
      ]
    },
    {
      "cell_type": "code",
      "execution_count": null,
      "metadata": {
        "id": "x2Xzxp6Dm8dj"
      },
      "outputs": [],
      "source": [
        " # Data\n",
        "lorenz_data = rk4(lorenz_system, 0, 1, 1, 1, 10, 8/3, 28, 0.01, 15000)\n",
        "xs, ys, zs = zip(*lorenz_data)\n",
        "input_data = np.array([xs, ys])\n",
        "train_data = np.array([xs, ys, zs])\n",
        "\n",
        "# Reservoir\n",
        "X_pred,N,epsilon,rho,T_transient, T_training, T_prediction, alpha, Y_pred, tau, W = network(\n",
        "                                                  F, conn, input_data, train_data,\n",
        "                                                  N=N, epsilon=0.2, rho=r, alpha=a,\n",
        "                                                  T_transient=2000, T_training=5000, T_prediction=2000, tau=100,\n",
        "                                                  Lapl=True, regulization=0, b_in=1, b_out=1, ex_time=False)"
      ]
    },
    {
      "cell_type": "markdown",
      "metadata": {
        "id": "2w7HOxPcm8dj"
      },
      "source": [
        "#### x prediction"
      ]
    },
    {
      "cell_type": "code",
      "execution_count": null,
      "metadata": {
        "id": "YoRFSBsQm8dj"
      },
      "outputs": [],
      "source": [
        "# Mean Field\n",
        "states_average_plot_w_input_data_2(Y_pred[0,:].reshape(1,-1),N,T_prediction,xs[(T_transient+T_training+tau):(T_transient+T_training+T_prediction+tau)]\n",
        "                                 ,input_name=\"Lorenz x\", output_name=\"Prediction\",zoom_in=True, zoom_range=(750,1000))"
      ]
    },
    {
      "cell_type": "markdown",
      "metadata": {
        "id": "e8E83WsJm8dk"
      },
      "source": [
        "#### y prediction"
      ]
    },
    {
      "cell_type": "code",
      "execution_count": null,
      "metadata": {
        "id": "Zz9wJlTZm8dk"
      },
      "outputs": [],
      "source": [
        "# Mean Field\n",
        "states_average_plot_w_input_data_2(Y_pred[1,:].reshape(1,-1),N,T_prediction,ys[(T_transient+T_training+tau):(T_transient+T_training+T_prediction+tau)]\n",
        "                                 ,input_name=\"Lorenz y\", output_name=\"Prediction\",zoom_in=True, zoom_range=(750,1000))"
      ]
    },
    {
      "cell_type": "markdown",
      "metadata": {
        "id": "xmZdgXpim8dk"
      },
      "source": [
        "#### z prediction"
      ]
    },
    {
      "cell_type": "code",
      "source": [
        "# Mean Field\n",
        "states_average_plot_w_input_data_2(Y_pred[2,:].reshape(1,-1),N,T_prediction,zs[(T_transient+T_training+tau):(T_transient+T_training+T_prediction+tau)]\n",
        "                                 ,input_name=\"Lorenz z\", output_name=\"Prediction\",zoom_in=True, zoom_range=(750,1000))"
      ],
      "metadata": {
        "id": "nsJ0Lmy1m8dk"
      },
      "execution_count": null,
      "outputs": []
    },
    {
      "cell_type": "code",
      "source": [],
      "metadata": {
        "id": "RfJGZBiBm8dl"
      },
      "execution_count": null,
      "outputs": []
    },
    {
      "cell_type": "markdown",
      "source": [
        "#### XYZ Prediction"
      ],
      "metadata": {
        "id": "gFyowPOAm8dl"
      }
    },
    {
      "cell_type": "code",
      "source": [
        "dynamical_syst_graph(Y_pred[0,:], Y_pred[1,:], Y_pred[2,:])"
      ],
      "metadata": {
        "id": "iF-xIeMmm8dl"
      },
      "execution_count": null,
      "outputs": []
    },
    {
      "cell_type": "code",
      "source": [
        "x = np.squeeze(Y_pred[0,:])\n",
        "y = np.squeeze(Y_pred[1,:])\n",
        "z = np.squeeze(Y_pred[2,:])\n",
        "dynamical_syst_interactive_graph(x, y, z, \"Network Prediction\", \"Lorenz system\")"
      ],
      "metadata": {
        "id": "ImlIDDrMm8dm"
      },
      "execution_count": null,
      "outputs": []
    },
    {
      "cell_type": "markdown",
      "metadata": {
        "id": "HMl0GDydm8dm"
      },
      "source": [
        "### Input x,y Output x,y tau = 100 T_trainning=10000"
      ]
    },
    {
      "cell_type": "code",
      "execution_count": null,
      "metadata": {
        "id": "Du-tj9gem8dn"
      },
      "outputs": [],
      "source": [
        " # Data\n",
        "lorenz_data = rk4(lorenz_system, 0, 1, 1, 1, 10, 8/3, 28, 0.01, 15000)\n",
        "xs, ys, zs = zip(*lorenz_data)\n",
        "input_data = np.array([xs, ys])\n",
        "train_data = np.array([xs, ys])\n",
        "\n",
        "# Reservoir\n",
        "X_pred,N,epsilon,rho,T_transient, T_training, T_prediction, alpha, Y_pred, tau, W = network(\n",
        "                                                  F, conn, input_data, train_data,\n",
        "                                                  N=N, epsilon=0.2, rho=r, alpha=a,\n",
        "                                                  T_transient=2000, T_training=10000, T_prediction=2000, tau=100,\n",
        "                                                  Lapl=True, regulization=0, b_in=1, b_out=1, ex_time=False)"
      ]
    },
    {
      "cell_type": "markdown",
      "metadata": {
        "id": "dI35hnhDm8dn"
      },
      "source": [
        "#### x prediction"
      ]
    },
    {
      "cell_type": "code",
      "execution_count": null,
      "metadata": {
        "id": "Od0eslGBm8dn"
      },
      "outputs": [],
      "source": [
        "# Mean Field\n",
        "states_average_plot_w_input_data(Y_pred[0,:].reshape(1,-1),N,T_prediction,xs[(T_transient+T_training+tau):(T_transient+T_training+T_prediction+tau)]\n",
        "                                 ,input_name=\"Lorenzo x\", output_name=\"Prediction Lorenzo x\",zoom_in=True, zoom_range=(750,1000))"
      ]
    },
    {
      "cell_type": "markdown",
      "metadata": {
        "id": "HDiw30Yom8do"
      },
      "source": [
        "#### y prediction"
      ]
    },
    {
      "cell_type": "code",
      "execution_count": null,
      "metadata": {
        "id": "2ECE2ap4m8do"
      },
      "outputs": [],
      "source": [
        "# Mean Field\n",
        "states_average_plot_w_input_data(Y_pred[1,:].reshape(1,-1),N,T_prediction,ys[(T_transient+T_training+tau):(T_transient+T_training+T_prediction+tau)]\n",
        "                                 ,input_name=\"Lorenzo y\", output_name=\"Prediction Lorenzo y\",zoom_in=True, zoom_range=(750,1000))"
      ]
    },
    {
      "cell_type": "markdown",
      "metadata": {
        "id": "_Yn7Fu6wm8do"
      },
      "source": [
        "#### z prediction"
      ]
    },
    {
      "cell_type": "markdown",
      "metadata": {
        "id": "vOxiJLQ3m8dp"
      },
      "source": [
        "### RMSE of Prediction wrt tau"
      ]
    },
    {
      "cell_type": "code",
      "execution_count": null,
      "metadata": {
        "id": "F8VKhx3qm8dp"
      },
      "outputs": [],
      "source": [
        "# Initialize lists to store tau values and corresponding RMSEs\n",
        "taus = np.arange(1, 155, 15)  # Tau values from 0 to 150, step 5\n",
        "rmses = []\n",
        "lorenz_data = rk4(lorenz_system, 0, 1, 1, 1, 10, 8/3, 28, 0.01, 10000)\n",
        "xs, ys, zs = zip(*lorenz_data)\n",
        "input_data = np.array([xs, ys])\n",
        "train_data = np.array([xs, ys, zs])\n",
        "# Calculate RMSE for each tau\n",
        "for tau in taus:\n",
        "    real_values = xs[(T_transient+T_training+tau):(T_transient+T_training+T_prediction+tau)]\n",
        "    _,_,_,_,_,_,_,_,predicted_values,_,_ = network(\n",
        "                                                  F, conn, input_data, train_data,\n",
        "                                                  N=N, epsilon=0.2, rho=r, alpha=a,\n",
        "                                                  T_transient=2000, T_training=5000, T_prediction=2000, tau=tau,\n",
        "                                                  Lapl=True, regulization=0, b_in=1, b_out=1, ex_time=False)\n",
        "\n",
        "\n",
        "    overall_rmse, _ = rmse(real_values, predicted_values[0,:])\n",
        "    rmses.append(overall_rmse)\n",
        "    # Plotting\n",
        "plt.figure(figsize=(10, 6))\n",
        "plt.plot(taus, rmses, marker='o', color='black')\n",
        "plt.xlabel('Tau', fontsize=14)\n",
        "plt.ylabel('Overall RMSE', fontsize=14)\n",
        "plt.tick_params(axis='both', labelsize=14)\n",
        "plt.show()"
      ]
    },
    {
      "cell_type": "code",
      "source": [],
      "metadata": {
        "id": "ExZqp90w9FpG"
      },
      "execution_count": null,
      "outputs": []
    },
    {
      "cell_type": "code",
      "source": [],
      "metadata": {
        "id": "plEtPamQQWqE"
      },
      "execution_count": null,
      "outputs": []
    },
    {
      "cell_type": "markdown",
      "metadata": {
        "id": "rKI1McBpQXEV"
      },
      "source": [
        "## Predict tau timestep in future rho=0.8 alpha=np.linspace(0,0.25,15)[11] N=100, F=F_mod, conn=\"Electrical\", input xy\n"
      ]
    },
    {
      "cell_type": "code",
      "source": [
        "alphas = np.linspace(0,0.25,15)"
      ],
      "metadata": {
        "id": "gM0L7lb4QuXd"
      },
      "execution_count": null,
      "outputs": []
    },
    {
      "cell_type": "code",
      "execution_count": null,
      "metadata": {
        "id": "cPUE_THiQXEV"
      },
      "outputs": [],
      "source": [
        "r=0.8; a=alphas[11]; N=100; F=F_mod; conn=\"Electrical\""
      ]
    },
    {
      "cell_type": "markdown",
      "metadata": {
        "id": "3F9pdSjcQXEV"
      },
      "source": [
        "### input x,y output x,y tau=1"
      ]
    },
    {
      "cell_type": "code",
      "execution_count": null,
      "metadata": {
        "id": "b2KQI2nSQXEV"
      },
      "outputs": [],
      "source": [
        " # Data\n",
        "lorenz_data = rk4(lorenz_system, 0, 1, 1, 1, 10, 8/3, 28, 0.01, 10000)\n",
        "xs, ys, zs = zip(*lorenz_data)\n",
        "input_data = np.array([xs, ys])\n",
        "train_data = np.array([xs, ys, zs])\n",
        "\n",
        "# def network(F, connectivity, input_data, output_data,\n",
        "#            N, epsilon, rho, alpha,\n",
        "#            T_transient, T_training, T_prediction, tau,\n",
        "#            Lapl= True, regulization=0, b_in=1, b_out=1, ex_time=False):\n",
        "\n",
        "X_pred,N,epsilon,rho,T_transient, T_training, T_prediction, alpha, Y_pred, tau, W = network(\n",
        "                                                  F, conn, input_data, train_data,\n",
        "                                                  N=N, epsilon=0.2, rho=r, alpha=a,\n",
        "                                                  T_transient=2000, T_training=5000, T_prediction=2000, tau=1,\n",
        "                                                  Lapl=True, regulization=0, b_in=1, b_out=1, ex_time=False)"
      ]
    },
    {
      "cell_type": "markdown",
      "metadata": {
        "id": "YqP5LpnWQXEV"
      },
      "source": [
        "#### x prediction"
      ]
    },
    {
      "cell_type": "code",
      "execution_count": null,
      "metadata": {
        "id": "uTReK-MOQXEW"
      },
      "outputs": [],
      "source": [
        "# states_average_plot_w_input_data_2(X, input_data, N, T, input_name, output_name=\"Average States\", title=None, t_transient=0,\n",
        "# t_end=None, window_size=10, running_avg=False, zoom_in=False, zoom_range=(100, 200), tick_labelsize=18, axis_labelsize=18):\n",
        "\n",
        "# states_average_plot_w_input_data(X, N, T,input_data, input_name, output_name=\"Average States\", title=None, t_transient=0,\n",
        "# t_end=None, window_size=10, running_avg=False, zoom_in=False, zoom_range=(100, 200),tick_labelsize=18, axis_labelsize=18\n",
        "states_average_plot_w_input_data_2(Y_pred[0,:].reshape(1,-1),N,T_prediction,xs[(T_transient+T_training+tau):(T_transient+T_training+T_prediction+tau)]\n",
        "                                 ,input_name=\"Lorenz x\", output_name=\"Predicted Lorenz x\",zoom_in=True, zoom_range=(750,1000))"
      ]
    },
    {
      "cell_type": "markdown",
      "metadata": {
        "id": "95iNmYMVQXEW"
      },
      "source": [
        "#### y prediction"
      ]
    },
    {
      "cell_type": "code",
      "source": [
        "# Mean Field\n",
        "states_average_plot_w_input_data_2(Y_pred[1,:].reshape(1,-1),N,T_prediction,ys[(T_transient+T_training+tau):(T_transient+T_training+T_prediction+tau)]\n",
        "                                 ,input_name=\"Lorenz y\", output_name=\"Prediction\",zoom_in=True, zoom_range=(750,1000))"
      ],
      "metadata": {
        "id": "3R4lZyyLQXEW"
      },
      "execution_count": null,
      "outputs": []
    },
    {
      "cell_type": "markdown",
      "metadata": {
        "id": "mvPzSTksQXEW"
      },
      "source": [
        "#### z prediction"
      ]
    },
    {
      "cell_type": "code",
      "source": [
        "# Mean Field\n",
        "states_average_plot_w_input_data_2(Y_pred[2,:].reshape(1,-1),N,T_prediction,zs[(T_transient+T_training+tau):(T_transient+T_training+T_prediction+tau)]\n",
        "                                 ,input_name=\"Lorenz z\", output_name=\"Predicted Lorenz z\",zoom_in=True, zoom_range=(750,1000))"
      ],
      "metadata": {
        "id": "Qw46AESYQXEW"
      },
      "execution_count": null,
      "outputs": []
    },
    {
      "cell_type": "markdown",
      "source": [
        "#### XYZ prediction\n"
      ],
      "metadata": {
        "id": "C5caDxUdQXEW"
      }
    },
    {
      "cell_type": "code",
      "source": [
        "dynamical_syst_graph(Y_pred[0,:], Y_pred[1,:], Y_pred[2,:])"
      ],
      "metadata": {
        "id": "mTvvLEq8QXEX"
      },
      "execution_count": null,
      "outputs": []
    },
    {
      "cell_type": "code",
      "source": [
        "x = np.squeeze(Y_pred[0,:])\n",
        "y = np.squeeze(Y_pred[1,:])\n",
        "z = np.squeeze(Y_pred[2,:])\n",
        "dynamical_syst_interactive_graph(x, y, z, \"Network Prediction\", \"Lorenz system\")"
      ],
      "metadata": {
        "id": "NOFE8-PDQXEX"
      },
      "execution_count": null,
      "outputs": []
    },
    {
      "cell_type": "markdown",
      "metadata": {
        "id": "aTtM0e5_QXEX"
      },
      "source": [
        "### input x,y output x,y tau=5"
      ]
    },
    {
      "cell_type": "code",
      "execution_count": null,
      "metadata": {
        "id": "crJ5XYtWQXEX"
      },
      "outputs": [],
      "source": [
        " # Data\n",
        "lorenz_data = rk4(lorenz_system, 0, 1, 1, 1, 10, 8/3, 28, 0.01, 10000)\n",
        "xs, ys, zs = zip(*lorenz_data)\n",
        "input_data = np.array([xs, ys, zs])\n",
        "train_data = np.array([xs, ys, zs])\n",
        "\n",
        "# def network(F, connectivity, input_data, output_data,\n",
        "#            N, epsilon, rho, alpha,\n",
        "#            T_transient, T_training, T_prediction, tau,\n",
        "#            Lapl= True, regulization=0, b_in=1, b_out=1, ex_time=False):\n",
        "\n",
        "X_pred,N,epsilon,rho,T_transient, T_training, T_prediction, alpha, Y_pred, tau, W = network(\n",
        "                                                  F, conn, input_data, train_data,\n",
        "                                                  N=N, epsilon=0.2, rho=r, alpha=a,\n",
        "                                                  T_transient=2000, T_training=5000, T_prediction=2000, tau=5,\n",
        "                                                  Lapl=True, regulization=0, b_in=1, b_out=1, ex_time=False)"
      ]
    },
    {
      "cell_type": "markdown",
      "metadata": {
        "id": "jAhbrmDAQXEX"
      },
      "source": [
        "#### x prediction"
      ]
    },
    {
      "cell_type": "code",
      "execution_count": null,
      "metadata": {
        "id": "L92KFf-zQXEX"
      },
      "outputs": [],
      "source": [
        "# states_average_plot_w_input_data_2(X, input_data, N, T, input_name, output_name=\"Average States\", title=None, t_transient=0,\n",
        "# t_end=None, window_size=10, running_avg=False, zoom_in=False, zoom_range=(100, 200), tick_labelsize=18, axis_labelsize=18):\n",
        "\n",
        "# states_average_plot_w_input_data(X, N, T,input_data, input_name, output_name=\"Average States\", title=None, t_transient=0,\n",
        "# t_end=None, window_size=10, running_avg=False, zoom_in=False, zoom_range=(100, 200),tick_labelsize=18, axis_labelsize=18\n",
        "states_average_plot_w_input_data(Y_pred[0,:].reshape(1,-1),N,T_prediction,xs[(T_transient+T_training+tau):(T_transient+T_training+T_prediction+tau)]\n",
        "                                 ,input_name=\"Lorenz x\", output_name=\"Predicted Lorenz x\",zoom_in=True, zoom_range=(750,1000))"
      ]
    },
    {
      "cell_type": "code",
      "source": [
        "states_average_plot_w_input_data_3(Y_pred[0,:].reshape(1,-1),N,T_prediction,xs[(T_transient+T_training+tau):(T_transient+T_training+T_prediction+tau)]\n",
        "                                 ,input_name=\"Lorenz x\", output_name=\"Predicted Lorenz x\",zoom_in=True, zoom_range=(750,1000))"
      ],
      "metadata": {
        "id": "CUb7oku9QXEY"
      },
      "execution_count": null,
      "outputs": []
    },
    {
      "cell_type": "markdown",
      "metadata": {
        "id": "m8tqUcPKQXEY"
      },
      "source": [
        "#### y prediction"
      ]
    },
    {
      "cell_type": "code",
      "execution_count": null,
      "metadata": {
        "id": "_7751OXQQXEY"
      },
      "outputs": [],
      "source": [
        "# Mean Field\n",
        "states_average_plot_w_input_data(Y_pred[1,:].reshape(1,-1),N,T_prediction,ys[(T_transient+T_training+tau):(T_transient+T_training+T_prediction+tau)]\n",
        "                                 ,input_name=\"Lorenz y\", output_name=\"Predicted Lorenz y\",zoom_in=True, zoom_range=(750,1000))"
      ]
    },
    {
      "cell_type": "code",
      "source": [
        "# Mean Field\n",
        "states_average_plot_w_input_data_3(Y_pred[1,:].reshape(1,-1),N,T_prediction,ys[(T_transient+T_training+tau):(T_transient+T_training+T_prediction+tau)]\n",
        "                                 ,input_name=\"Lorenz y\", output_name=\"Predicted Lorenz y\",zoom_in=True, zoom_range=(750,1000))"
      ],
      "metadata": {
        "id": "6aUrr3cfQXEY"
      },
      "execution_count": null,
      "outputs": []
    },
    {
      "cell_type": "markdown",
      "metadata": {
        "id": "8fz6gLKyQXEY"
      },
      "source": [
        "#### z prediction"
      ]
    },
    {
      "cell_type": "code",
      "source": [
        "# Mean Field\n",
        "states_average_plot_w_input_data_2(Y_pred[2,:].reshape(1,-1),N,T_prediction,zs[(T_transient+T_training+tau):(T_transient+T_training+T_prediction+tau)]\n",
        "                                 ,input_name=\"Lorenz z\", output_name=\"Predicted Lorenz z\",zoom_in=True, zoom_range=(750,1000))"
      ],
      "metadata": {
        "id": "qW-7LO7zQXEY"
      },
      "execution_count": null,
      "outputs": []
    },
    {
      "cell_type": "markdown",
      "metadata": {
        "id": "NZsfV71vQXEY"
      },
      "source": [
        "### Input x,y Output x,y tau = 50"
      ]
    },
    {
      "cell_type": "code",
      "execution_count": null,
      "metadata": {
        "id": "JSEaDsPMQXEZ"
      },
      "outputs": [],
      "source": [
        " # Data\n",
        "lorenz_data = rk4(lorenz_system, 0, 1, 1, 1, 10, 8/3, 28, 0.01, 12000)\n",
        "xs, ys, zs = zip(*lorenz_data)\n",
        "input_data = np.array([xs, ys])\n",
        "train_data = np.array([xs, ys, zs])\n",
        "\n",
        "# Reservoir\n",
        "X_pred,N,epsilon,rho,T_transient, T_training, T_prediction, alpha, Y_pred, tau, W = network(\n",
        "                                                  F, conn, input_data, train_data,\n",
        "                                                  N=N, epsilon=0.2, rho=r, alpha=a,\n",
        "                                                  T_transient=2000, T_training=5000, T_prediction=2000, tau=50,\n",
        "                                                  Lapl=True, regulization=0, b_in=1, b_out=1, ex_time=False)"
      ]
    },
    {
      "cell_type": "markdown",
      "metadata": {
        "id": "5RS8KAPTQXEZ"
      },
      "source": [
        "#### x prediction"
      ]
    },
    {
      "cell_type": "code",
      "execution_count": null,
      "metadata": {
        "id": "htx1RBKxQXEZ"
      },
      "outputs": [],
      "source": [
        "# Mean Field\n",
        "states_average_plot_w_input_data_2(Y_pred[0,:].reshape(1,-1),N,T_prediction,xs[(T_transient+T_training+tau):(T_transient+T_training+T_prediction+tau)]\n",
        "                                 ,input_name=\"Lorenz x\", output_name=\"Prediction\",zoom_in=True, zoom_range=(750,1000))"
      ]
    },
    {
      "cell_type": "markdown",
      "metadata": {
        "id": "u2hkJ2UaQXEZ"
      },
      "source": [
        "#### y prediction"
      ]
    },
    {
      "cell_type": "code",
      "execution_count": null,
      "metadata": {
        "id": "nRrVt7h_QXEZ"
      },
      "outputs": [],
      "source": [
        "# Mean Field\n",
        "states_average_plot_w_input_data_2(Y_pred[1,:].reshape(1,-1),N,T_prediction,ys[(T_transient+T_training+tau):(T_transient+T_training+T_prediction+tau)]\n",
        "                                 ,input_name=\"Lorenzo y\", output_name=\"Prediction\",zoom_in=True, zoom_range=(750,1000))"
      ]
    },
    {
      "cell_type": "markdown",
      "source": [
        "#### z prediction"
      ],
      "metadata": {
        "id": "YlvCakDpQXEZ"
      }
    },
    {
      "cell_type": "code",
      "source": [
        "# Mean Field\n",
        "states_average_plot_w_input_data_2(Y_pred[2,:].reshape(1,-1),N,T_prediction,zs[(T_transient+T_training+tau):(T_transient+T_training+T_prediction+tau)]\n",
        "                                 ,input_name=\"Lorenz z\", output_name=\"Prediction\",zoom_in=True, zoom_range=(750,1000))"
      ],
      "metadata": {
        "id": "kVNjjtqCQXEZ"
      },
      "execution_count": null,
      "outputs": []
    },
    {
      "cell_type": "markdown",
      "source": [
        "#### XYZ Prediction"
      ],
      "metadata": {
        "id": "TPYx8bCNQXEa"
      }
    },
    {
      "cell_type": "code",
      "source": [
        "dynamical_syst_graph(Y_pred[0,:], Y_pred[1,:], Y_pred[2,:])"
      ],
      "metadata": {
        "id": "bNggvk1FQXEa"
      },
      "execution_count": null,
      "outputs": []
    },
    {
      "cell_type": "code",
      "source": [
        "x = np.squeeze(Y_pred[0,:])\n",
        "y = np.squeeze(Y_pred[1,:])\n",
        "z = np.squeeze(Y_pred[2,:])\n",
        "dynamical_syst_interactive_graph(x, y, z, \"Network Prediction\", \"Lorenz system\")"
      ],
      "metadata": {
        "id": "jc60OXL2QXEa"
      },
      "execution_count": null,
      "outputs": []
    },
    {
      "cell_type": "markdown",
      "metadata": {
        "id": "kWyR9mWCQXEa"
      },
      "source": [
        "### Input x,y Output x,y tau = 100"
      ]
    },
    {
      "cell_type": "code",
      "execution_count": null,
      "metadata": {
        "id": "9PTfe8NDQXEa"
      },
      "outputs": [],
      "source": [
        " # Data\n",
        "lorenz_data = rk4(lorenz_system, 0, 1, 1, 1, 10, 8/3, 28, 0.01, 15000)\n",
        "xs, ys, zs = zip(*lorenz_data)\n",
        "input_data = np.array([xs, ys])\n",
        "train_data = np.array([xs, ys, zs])\n",
        "\n",
        "# Reservoir\n",
        "X_pred,N,epsilon,rho,T_transient, T_training, T_prediction, alpha, Y_pred, tau, W = network(\n",
        "                                                  F, conn, input_data, train_data,\n",
        "                                                  N=N, epsilon=0.2, rho=r, alpha=a,\n",
        "                                                  T_transient=2000, T_training=5000, T_prediction=2000, tau=100,\n",
        "                                                  Lapl=True, regulization=0, b_in=1, b_out=1, ex_time=False)"
      ]
    },
    {
      "cell_type": "markdown",
      "metadata": {
        "id": "4llAvmVOQXEa"
      },
      "source": [
        "#### x prediction"
      ]
    },
    {
      "cell_type": "code",
      "execution_count": null,
      "metadata": {
        "id": "7BS5qfSJQXEa"
      },
      "outputs": [],
      "source": [
        "# Mean Field\n",
        "states_average_plot_w_input_data_2(Y_pred[0,:].reshape(1,-1),N,T_prediction,xs[(T_transient+T_training+tau):(T_transient+T_training+T_prediction+tau)]\n",
        "                                 ,input_name=\"Lorenz x\", output_name=\"Prediction\",zoom_in=True, zoom_range=(750,1000))"
      ]
    },
    {
      "cell_type": "markdown",
      "metadata": {
        "id": "y8AeOtLIQXEb"
      },
      "source": [
        "#### y prediction"
      ]
    },
    {
      "cell_type": "code",
      "execution_count": null,
      "metadata": {
        "id": "rRzXJNa2QXEb"
      },
      "outputs": [],
      "source": [
        "# Mean Field\n",
        "states_average_plot_w_input_data_2(Y_pred[1,:].reshape(1,-1),N,T_prediction,ys[(T_transient+T_training+tau):(T_transient+T_training+T_prediction+tau)]\n",
        "                                 ,input_name=\"Lorenz y\", output_name=\"Prediction\",zoom_in=True, zoom_range=(750,1000))"
      ]
    },
    {
      "cell_type": "markdown",
      "metadata": {
        "id": "_fucJ47jQXEb"
      },
      "source": [
        "#### z prediction"
      ]
    },
    {
      "cell_type": "code",
      "source": [
        "# Mean Field\n",
        "states_average_plot_w_input_data_2(Y_pred[2,:].reshape(1,-1),N,T_prediction,zs[(T_transient+T_training+tau):(T_transient+T_training+T_prediction+tau)]\n",
        "                                 ,input_name=\"Lorenz z\", output_name=\"Prediction\",zoom_in=True, zoom_range=(750,1000))"
      ],
      "metadata": {
        "id": "JTTiZUNyQXEb"
      },
      "execution_count": null,
      "outputs": []
    },
    {
      "cell_type": "code",
      "source": [],
      "metadata": {
        "id": "RVaDrrH_QXEb"
      },
      "execution_count": null,
      "outputs": []
    },
    {
      "cell_type": "markdown",
      "source": [
        "#### XYZ Prediction"
      ],
      "metadata": {
        "id": "futQ-sbrQXEb"
      }
    },
    {
      "cell_type": "code",
      "source": [
        "dynamical_syst_graph(Y_pred[0,:], Y_pred[1,:], Y_pred[2,:])"
      ],
      "metadata": {
        "id": "An6w6sjNQXEb"
      },
      "execution_count": null,
      "outputs": []
    },
    {
      "cell_type": "code",
      "source": [
        "x = np.squeeze(Y_pred[0,:])\n",
        "y = np.squeeze(Y_pred[1,:])\n",
        "z = np.squeeze(Y_pred[2,:])\n",
        "dynamical_syst_interactive_graph(x, y, z, \"Network Prediction\", \"Lorenz system\")"
      ],
      "metadata": {
        "id": "640PgQ29QXEc"
      },
      "execution_count": null,
      "outputs": []
    },
    {
      "cell_type": "markdown",
      "metadata": {
        "id": "W_vvzxMfQXEc"
      },
      "source": [
        "### Input x,y Output x,y tau = 100 T_trainning=10000"
      ]
    },
    {
      "cell_type": "code",
      "execution_count": null,
      "metadata": {
        "id": "sR3zn8PEQXEc"
      },
      "outputs": [],
      "source": [
        " # Data\n",
        "lorenz_data = rk4(lorenz_system, 0, 1, 1, 1, 10, 8/3, 28, 0.01, 15000)\n",
        "xs, ys, zs = zip(*lorenz_data)\n",
        "input_data = np.array([xs, ys])\n",
        "train_data = np.array([xs, ys])\n",
        "\n",
        "# Reservoir\n",
        "X_pred,N,epsilon,rho,T_transient, T_training, T_prediction, alpha, Y_pred, tau, W = network(\n",
        "                                                  F, conn, input_data, train_data,\n",
        "                                                  N=N, epsilon=0.2, rho=r, alpha=a,\n",
        "                                                  T_transient=2000, T_training=10000, T_prediction=2000, tau=100,\n",
        "                                                  Lapl=True, regulization=0, b_in=1, b_out=1, ex_time=False)"
      ]
    },
    {
      "cell_type": "markdown",
      "metadata": {
        "id": "wQ36s16-QXEc"
      },
      "source": [
        "#### x prediction"
      ]
    },
    {
      "cell_type": "code",
      "execution_count": null,
      "metadata": {
        "id": "ZxJweOqxQXEc"
      },
      "outputs": [],
      "source": [
        "# Mean Field\n",
        "states_average_plot_w_input_data(Y_pred[0,:].reshape(1,-1),N,T_prediction,xs[(T_transient+T_training+tau):(T_transient+T_training+T_prediction+tau)]\n",
        "                                 ,input_name=\"Lorenzo x\", output_name=\"Prediction Lorenzo x\",zoom_in=True, zoom_range=(750,1000))"
      ]
    },
    {
      "cell_type": "markdown",
      "metadata": {
        "id": "63_zxu_aQXEc"
      },
      "source": [
        "#### y prediction"
      ]
    },
    {
      "cell_type": "code",
      "execution_count": null,
      "metadata": {
        "id": "V7vexzKyQXEd"
      },
      "outputs": [],
      "source": [
        "# Mean Field\n",
        "states_average_plot_w_input_data(Y_pred[1,:].reshape(1,-1),N,T_prediction,ys[(T_transient+T_training+tau):(T_transient+T_training+T_prediction+tau)]\n",
        "                                 ,input_name=\"Lorenzo y\", output_name=\"Prediction Lorenzo y\",zoom_in=True, zoom_range=(750,1000))"
      ]
    },
    {
      "cell_type": "markdown",
      "metadata": {
        "id": "4-VyQcC2QXEd"
      },
      "source": [
        "#### z prediction"
      ]
    },
    {
      "cell_type": "markdown",
      "metadata": {
        "id": "vWfB_nT9QXEd"
      },
      "source": [
        "### RMSE of Prediction wrt tau"
      ]
    },
    {
      "cell_type": "code",
      "execution_count": null,
      "metadata": {
        "id": "QZXRr4j5QXEd"
      },
      "outputs": [],
      "source": [
        "# Initialize lists to store tau values and corresponding RMSEs\n",
        "taus = np.arange(1, 155, 15)  # Tau values from 0 to 150, step 5\n",
        "rmses = []\n",
        "lorenz_data = rk4(lorenz_system, 0, 1, 1, 1, 10, 8/3, 28, 0.01, 10000)\n",
        "xs, ys, zs = zip(*lorenz_data)\n",
        "input_data = np.array([xs, ys])\n",
        "train_data = np.array([xs, ys, zs])\n",
        "# Calculate RMSE for each tau\n",
        "for tau in taus:\n",
        "    real_values = xs[(T_transient+T_training+tau):(T_transient+T_training+T_prediction+tau)]\n",
        "    _,_,_,_,_,_,_,_,predicted_values,_,_ = network(\n",
        "                                                  F, conn, input_data, train_data,\n",
        "                                                  N=N, epsilon=0.2, rho=r, alpha=a,\n",
        "                                                  T_transient=2000, T_training=5000, T_prediction=2000, tau=tau,\n",
        "                                                  Lapl=True, regulization=0, b_in=1, b_out=1, ex_time=False)\n",
        "\n",
        "\n",
        "    overall_rmse, _ = rmse(real_values, predicted_values[0,:])\n",
        "    rmses.append(overall_rmse)\n",
        "    # Plotting\n",
        "plt.figure(figsize=(10, 6))\n",
        "plt.plot(taus, rmses, marker='o', color='black')\n",
        "plt.xlabel('Tau', fontsize=14)\n",
        "plt.ylabel('Overall RMSE', fontsize=14)\n",
        "plt.tick_params(axis='both', labelsize=14)\n",
        "plt.show()"
      ]
    },
    {
      "cell_type": "code",
      "source": [],
      "metadata": {
        "id": "YzJBLmAPQXEd"
      },
      "execution_count": null,
      "outputs": []
    },
    {
      "cell_type": "markdown",
      "metadata": {
        "id": "L3nUqzVr9Hi6"
      },
      "source": [
        "## Predict tau timestep in future rho=0.8 alpha=0.8 N=100, F=F_identity, input xy with sampling"
      ]
    },
    {
      "cell_type": "code",
      "execution_count": null,
      "metadata": {
        "id": "1pAQn33W9Hi6"
      },
      "outputs": [],
      "source": [
        "r=0.8; a=0.8; N=100; F=F_identity; conn=\"Chemical\""
      ]
    },
    {
      "cell_type": "markdown",
      "metadata": {
        "id": "lRVw2CLB9Hi7"
      },
      "source": [
        "### input x,y output x,y tau=1"
      ]
    },
    {
      "cell_type": "code",
      "execution_count": null,
      "metadata": {
        "id": "_hpniKoO9Hi7"
      },
      "outputs": [],
      "source": [
        " # Data\n",
        "lorenz_data = rk4(lorenz_system, 0, 1, 1, 1, 10, 8/3, 28, 0.01, 50000, sampling_rate=5)\n",
        "xs, ys, zs = zip(*lorenz_data)\n",
        "input_data = np.array([xs, ys])\n",
        "train_data = np.array([xs, ys, zs])\n",
        "\n",
        "# def network(F, connectivity, input_data, output_data,\n",
        "#            N, epsilon, rho, alpha,\n",
        "#            T_transient, T_training, T_prediction, tau,\n",
        "#            Lapl= True, regulization=0, b_in=1, b_out=1, ex_time=False):\n",
        "\n",
        "X_pred,N,epsilon,rho,T_transient, T_training, T_prediction, alpha, Y_pred, tau, W = network(\n",
        "                                                  F, conn, input_data, train_data,\n",
        "                                                  N=N, epsilon=0.2, rho=r, alpha=a,\n",
        "                                                  T_transient=2000, T_training=5000, T_prediction=2000, tau=1,\n",
        "                                                  Lapl=True, regulization=0, b_in=1, b_out=1, ex_time=False)"
      ]
    },
    {
      "cell_type": "code",
      "source": [
        "dynamical_syst_graph(xs[:2000], ys[:2000], zs[:2000])"
      ],
      "metadata": {
        "id": "BPYSdQTq-Wum"
      },
      "execution_count": null,
      "outputs": []
    },
    {
      "cell_type": "markdown",
      "metadata": {
        "id": "bajJs3iH9Hi7"
      },
      "source": [
        "#### x prediction"
      ]
    },
    {
      "cell_type": "code",
      "execution_count": null,
      "metadata": {
        "id": "uJZrEeIz9Hi7"
      },
      "outputs": [],
      "source": [
        "# states_average_plot_w_input_data_2(X, input_data, N, T, input_name, output_name=\"Average States\", title=None, t_transient=0,\n",
        "# t_end=None, window_size=10, running_avg=False, zoom_in=False, zoom_range=(100, 200), tick_labelsize=18, axis_labelsize=18):\n",
        "\n",
        "# states_average_plot_w_input_data(X, N, T,input_data, input_name, output_name=\"Average States\", title=None, t_transient=0,\n",
        "# t_end=None, window_size=10, running_avg=False, zoom_in=False, zoom_range=(100, 200),tick_labelsize=18, axis_labelsize=18\n",
        "states_average_plot_w_input_data_2(Y_pred[0,:].reshape(1,-1),N,T_prediction,xs[(T_transient+T_training+tau):(T_transient+T_training+T_prediction+tau)]\n",
        "                                 ,input_name=\"Lorenz x\", output_name=\"Predicted Lorenz x\",zoom_in=True, zoom_range=(750,850))"
      ]
    },
    {
      "cell_type": "markdown",
      "metadata": {
        "id": "SsuzQMq09Hi8"
      },
      "source": [
        "#### y prediction"
      ]
    },
    {
      "cell_type": "code",
      "source": [
        "# Mean Field\n",
        "states_average_plot_w_input_data_2(Y_pred[1,:].reshape(1,-1),N,T_prediction,ys[(T_transient+T_training+tau):(T_transient+T_training+T_prediction+tau)]\n",
        "                                 ,input_name=\"Lorenz y\", output_name=\"Prediction\",zoom_in=True, zoom_range=(750,850))"
      ],
      "metadata": {
        "id": "lb0rmcxL9Hi8"
      },
      "execution_count": null,
      "outputs": []
    },
    {
      "cell_type": "markdown",
      "metadata": {
        "id": "Q0ZWBZvz9Hi8"
      },
      "source": [
        "#### z prediction"
      ]
    },
    {
      "cell_type": "code",
      "source": [
        "# Mean Field\n",
        "states_average_plot_w_input_data_2(Y_pred[2,:].reshape(1,-1),N,T_prediction,zs[(T_transient+T_training+tau):(T_transient+T_training+T_prediction+tau)]\n",
        "                                 ,input_name=\"Lorenz z\", output_name=\"Predicted Lorenz z\",zoom_in=True, zoom_range=(750,850))"
      ],
      "metadata": {
        "id": "vf_4UTnF9Hi9"
      },
      "execution_count": null,
      "outputs": []
    },
    {
      "cell_type": "markdown",
      "source": [
        "#### XYZ prediction\n"
      ],
      "metadata": {
        "id": "HUeAMhxI9Hi9"
      }
    },
    {
      "cell_type": "code",
      "source": [
        "dynamical_syst_graph(Y_pred[0,:], Y_pred[1,:], Y_pred[2,:])"
      ],
      "metadata": {
        "id": "LBOkhJ_99Hi9"
      },
      "execution_count": null,
      "outputs": []
    },
    {
      "cell_type": "code",
      "source": [
        "x = np.squeeze(Y_pred[0,:])\n",
        "y = np.squeeze(Y_pred[1,:])\n",
        "z = np.squeeze(Y_pred[2,:])\n",
        "dynamical_syst_interactive_graph(x, y, z, \"Network Prediction\", \"Lorenz system\")"
      ],
      "metadata": {
        "id": "Gc7-AE4e9Hi-"
      },
      "execution_count": null,
      "outputs": []
    },
    {
      "cell_type": "markdown",
      "metadata": {
        "id": "XVCEo5La9Hi-"
      },
      "source": [
        "### input x,y output x,y tau=5"
      ]
    },
    {
      "cell_type": "code",
      "execution_count": null,
      "metadata": {
        "id": "byvciOcZ9Hi-"
      },
      "outputs": [],
      "source": [
        " # Data\n",
        "lorenz_data = rk4(lorenz_system, 0, 1, 1, 1, 10, 8/3, 28, 0.01, 10000)\n",
        "xs, ys, zs = zip(*lorenz_data)\n",
        "input_data = np.array([xs, ys, zs])\n",
        "train_data = np.array([xs, ys, zs])\n",
        "\n",
        "# def network(F, connectivity, input_data, output_data,\n",
        "#            N, epsilon, rho, alpha,\n",
        "#            T_transient, T_training, T_prediction, tau,\n",
        "#            Lapl= True, regulization=0, b_in=1, b_out=1, ex_time=False):\n",
        "\n",
        "X_pred,N,epsilon,rho,T_transient, T_training, T_prediction, alpha, Y_pred, tau, W = network(\n",
        "                                                  F, conn, input_data, train_data,\n",
        "                                                  N=N, epsilon=0.2, rho=r, alpha=a,\n",
        "                                                  T_transient=2000, T_training=5000, T_prediction=2000, tau=5,\n",
        "                                                  Lapl=True, regulization=0, b_in=1, b_out=1, ex_time=False)"
      ]
    },
    {
      "cell_type": "markdown",
      "metadata": {
        "id": "BN2HvYc39Hi-"
      },
      "source": [
        "#### x prediction"
      ]
    },
    {
      "cell_type": "code",
      "execution_count": null,
      "metadata": {
        "id": "rLjH1Oya9Hi-"
      },
      "outputs": [],
      "source": [
        "# states_average_plot_w_input_data_2(X, input_data, N, T, input_name, output_name=\"Average States\", title=None, t_transient=0,\n",
        "# t_end=None, window_size=10, running_avg=False, zoom_in=False, zoom_range=(100, 200), tick_labelsize=18, axis_labelsize=18):\n",
        "\n",
        "# states_average_plot_w_input_data(X, N, T,input_data, input_name, output_name=\"Average States\", title=None, t_transient=0,\n",
        "# t_end=None, window_size=10, running_avg=False, zoom_in=False, zoom_range=(100, 200),tick_labelsize=18, axis_labelsize=18\n",
        "states_average_plot_w_input_data(Y_pred[0,:].reshape(1,-1),N,T_prediction,xs[(T_transient+T_training+tau):(T_transient+T_training+T_prediction+tau)]\n",
        "                                 ,input_name=\"Lorenz x\", output_name=\"Predicted Lorenz x\",zoom_in=True, zoom_range=(750,1000))"
      ]
    },
    {
      "cell_type": "code",
      "source": [
        "states_average_plot_w_input_data_3(Y_pred[0,:].reshape(1,-1),N,T_prediction,xs[(T_transient+T_training+tau):(T_transient+T_training+T_prediction+tau)]\n",
        "                                 ,input_name=\"Lorenz x\", output_name=\"Predicted Lorenz x\",zoom_in=True, zoom_range=(750,1000))"
      ],
      "metadata": {
        "id": "PhGxU79G9Hi_"
      },
      "execution_count": null,
      "outputs": []
    },
    {
      "cell_type": "markdown",
      "metadata": {
        "id": "2OBeXWkn9Hi_"
      },
      "source": [
        "#### y prediction"
      ]
    },
    {
      "cell_type": "code",
      "execution_count": null,
      "metadata": {
        "id": "Q4cB-1If9Hi_"
      },
      "outputs": [],
      "source": [
        "# Mean Field\n",
        "states_average_plot_w_input_data(Y_pred[1,:].reshape(1,-1),N,T_prediction,ys[(T_transient+T_training+tau):(T_transient+T_training+T_prediction+tau)]\n",
        "                                 ,input_name=\"Lorenz y\", output_name=\"Predicted Lorenz y\",zoom_in=True, zoom_range=(750,1000))"
      ]
    },
    {
      "cell_type": "code",
      "source": [
        "# Mean Field\n",
        "states_average_plot_w_input_data_3(Y_pred[1,:].reshape(1,-1),N,T_prediction,ys[(T_transient+T_training+tau):(T_transient+T_training+T_prediction+tau)]\n",
        "                                 ,input_name=\"Lorenz y\", output_name=\"Predicted Lorenz y\",zoom_in=True, zoom_range=(750,1000))"
      ],
      "metadata": {
        "id": "07lH6mZw9Hi_"
      },
      "execution_count": null,
      "outputs": []
    },
    {
      "cell_type": "markdown",
      "metadata": {
        "id": "SdBcX2Fd9HjA"
      },
      "source": [
        "#### z prediction"
      ]
    },
    {
      "cell_type": "code",
      "source": [
        "# Mean Field\n",
        "states_average_plot_w_input_data(Y_pred[2,:].reshape(1,-1),N,T_prediction,zs[(T_transient+T_training+tau):(T_transient+T_training+T_prediction+tau)]\n",
        "                                 ,input_name=\"Lorenz z\", output_name=\"Predicted Lorenz z\",zoom_in=True, zoom_range=(750,1000))"
      ],
      "metadata": {
        "id": "8PGsFuAL9HjA"
      },
      "execution_count": null,
      "outputs": []
    },
    {
      "cell_type": "markdown",
      "metadata": {
        "id": "jf5Fs_Cv9HjA"
      },
      "source": [
        "### Input x,y Output x,y tau = 50"
      ]
    },
    {
      "cell_type": "code",
      "execution_count": null,
      "metadata": {
        "id": "Ei8m27E09HjA"
      },
      "outputs": [],
      "source": [
        " # Data\n",
        "lorenz_data = rk4(lorenz_system, 0, 1, 1, 1, 10, 8/3, 28, 0.01, 50000, sampling_rate=5)\n",
        "xs, ys, zs = zip(*lorenz_data)\n",
        "input_data = np.array([xs, ys])\n",
        "train_data = np.array([xs, ys, zs])\n",
        "\n",
        "# Reservoir\n",
        "X_pred,N,epsilon,rho,T_transient, T_training, T_prediction, alpha, Y_pred, tau, W = network(\n",
        "                                                  F, conn, input_data, train_data,\n",
        "                                                  N=N, epsilon=0.2, rho=r, alpha=a,\n",
        "                                                  T_transient=2000, T_training=5000, T_prediction=2000, tau=50,\n",
        "                                                  Lapl=True, regulization=0, b_in=1, b_out=1, ex_time=False)"
      ]
    },
    {
      "cell_type": "markdown",
      "metadata": {
        "id": "-6Ms1lVO9HjB"
      },
      "source": [
        "#### x prediction"
      ]
    },
    {
      "cell_type": "code",
      "execution_count": null,
      "metadata": {
        "id": "Pu565WAk9HjB"
      },
      "outputs": [],
      "source": [
        "# Mean Field\n",
        "states_average_plot_w_input_data_2(Y_pred[0,:].reshape(1,-1),N,T_prediction,xs[(T_transient+T_training+tau):(T_transient+T_training+T_prediction+tau)]\n",
        "                                 ,input_name=\"Lorenz x\", output_name=\"Prediction\",zoom_in=True, zoom_range=(750,850))"
      ]
    },
    {
      "cell_type": "markdown",
      "metadata": {
        "id": "CAn2nBZ19HjB"
      },
      "source": [
        "#### y prediction"
      ]
    },
    {
      "cell_type": "code",
      "execution_count": null,
      "metadata": {
        "id": "DPkS_rNx9HjB"
      },
      "outputs": [],
      "source": [
        "# Mean Field\n",
        "states_average_plot_w_input_data_2(Y_pred[1,:].reshape(1,-1),N,T_prediction,ys[(T_transient+T_training+tau):(T_transient+T_training+T_prediction+tau)]\n",
        "                                 ,input_name=\"Lorenzo y\", output_name=\"Prediction\",zoom_in=True, zoom_range=(750,850))"
      ]
    },
    {
      "cell_type": "markdown",
      "source": [
        "#### z prediction"
      ],
      "metadata": {
        "id": "hJ6EEb7c9HjB"
      }
    },
    {
      "cell_type": "code",
      "source": [
        "# Mean Field\n",
        "states_average_plot_w_input_data_2(Y_pred[2,:].reshape(1,-1),N,T_prediction,zs[(T_transient+T_training+tau):(T_transient+T_training+T_prediction+tau)]\n",
        "                                 ,input_name=\"Lorenz z\", output_name=\"Prediction\",zoom_in=True, zoom_range=(750,850))"
      ],
      "metadata": {
        "id": "0e-5CivL9HjC"
      },
      "execution_count": null,
      "outputs": []
    },
    {
      "cell_type": "markdown",
      "source": [
        "#### XYZ Prediction"
      ],
      "metadata": {
        "id": "z4j_Gf6J9HjC"
      }
    },
    {
      "cell_type": "code",
      "source": [
        "dynamical_syst_graph(Y_pred[0,:], Y_pred[1,:], Y_pred[2,:])"
      ],
      "metadata": {
        "id": "_Y-H2HcV9HjC"
      },
      "execution_count": null,
      "outputs": []
    },
    {
      "cell_type": "code",
      "source": [
        "x = np.squeeze(Y_pred[0,:])\n",
        "y = np.squeeze(Y_pred[1,:])\n",
        "z = np.squeeze(Y_pred[2,:])\n",
        "dynamical_syst_interactive_graph(x, y, z, \"Network Prediction\", \"Lorenz system\")"
      ],
      "metadata": {
        "id": "Thdg_FYR9HjC"
      },
      "execution_count": null,
      "outputs": []
    },
    {
      "cell_type": "markdown",
      "metadata": {
        "id": "FSRwiyWI9HjD"
      },
      "source": [
        "### Input x,y Output x,y tau = 100"
      ]
    },
    {
      "cell_type": "code",
      "execution_count": null,
      "metadata": {
        "id": "paGo3ZCl9HjD"
      },
      "outputs": [],
      "source": [
        " # Data\n",
        "lorenz_data = rk4(lorenz_system, 0, 1, 1, 1, 10, 8/3, 28, 0.01, 15000)\n",
        "xs, ys, zs = zip(*lorenz_data)\n",
        "input_data = np.array([xs, ys])\n",
        "train_data = np.array([xs, ys, zs])\n",
        "\n",
        "# Reservoir\n",
        "X_pred,N,epsilon,rho,T_transient, T_training, T_prediction, alpha, Y_pred, tau, W = network(\n",
        "                                                  F, conn, input_data, train_data,\n",
        "                                                  N=N, epsilon=0.2, rho=r, alpha=a,\n",
        "                                                  T_transient=2000, T_training=5000, T_prediction=2000, tau=100,\n",
        "                                                  Lapl=True, regulization=0, b_in=1, b_out=1, ex_time=False)"
      ]
    },
    {
      "cell_type": "markdown",
      "metadata": {
        "id": "yPLQK7Cz9HjD"
      },
      "source": [
        "#### x prediction"
      ]
    },
    {
      "cell_type": "code",
      "execution_count": null,
      "metadata": {
        "id": "cZ1H-Cvp9HjD"
      },
      "outputs": [],
      "source": [
        "# Mean Field\n",
        "states_average_plot_w_input_data_2(Y_pred[0,:].reshape(1,-1),N,T_prediction,xs[(T_transient+T_training+tau):(T_transient+T_training+T_prediction+tau)]\n",
        "                                 ,input_name=\"Lorenz x\", output_name=\"Prediction\",zoom_in=True, zoom_range=(750,1000))"
      ]
    },
    {
      "cell_type": "markdown",
      "metadata": {
        "id": "U9_AQNwG9HjD"
      },
      "source": [
        "#### y prediction"
      ]
    },
    {
      "cell_type": "code",
      "execution_count": null,
      "metadata": {
        "id": "c68Y52C99HjE"
      },
      "outputs": [],
      "source": [
        "# Mean Field\n",
        "states_average_plot_w_input_data_2(Y_pred[1,:].reshape(1,-1),N,T_prediction,ys[(T_transient+T_training+tau):(T_transient+T_training+T_prediction+tau)]\n",
        "                                 ,input_name=\"Lorenz y\", output_name=\"Prediction\",zoom_in=True, zoom_range=(750,1000))"
      ]
    },
    {
      "cell_type": "markdown",
      "metadata": {
        "id": "f-u4KwxC9HjE"
      },
      "source": [
        "#### z prediction"
      ]
    },
    {
      "cell_type": "code",
      "source": [
        "# Mean Field\n",
        "states_average_plot_w_input_data_2(Y_pred[2,:].reshape(1,-1),N,T_prediction,zs[(T_transient+T_training+tau):(T_transient+T_training+T_prediction+tau)]\n",
        "                                 ,input_name=\"Lorenz z\", output_name=\"Prediction\",zoom_in=True, zoom_range=(750,1000))"
      ],
      "metadata": {
        "id": "ZsNzq2qS9HjE"
      },
      "execution_count": null,
      "outputs": []
    },
    {
      "cell_type": "code",
      "source": [],
      "metadata": {
        "id": "5ydMO8xw9HjE"
      },
      "execution_count": null,
      "outputs": []
    },
    {
      "cell_type": "markdown",
      "source": [
        "#### XYZ Prediction"
      ],
      "metadata": {
        "id": "Ca2G0Gfz9HjE"
      }
    },
    {
      "cell_type": "code",
      "source": [
        "dynamical_syst_graph(Y_pred[0,:], Y_pred[1,:], Y_pred[2,:])"
      ],
      "metadata": {
        "id": "uBj7EL4c9HjF"
      },
      "execution_count": null,
      "outputs": []
    },
    {
      "cell_type": "code",
      "source": [
        "x = np.squeeze(Y_pred[0,:])\n",
        "y = np.squeeze(Y_pred[1,:])\n",
        "z = np.squeeze(Y_pred[2,:])\n",
        "dynamical_syst_interactive_graph(x, y, z, \"Network Prediction\", \"Lorenz system\")"
      ],
      "metadata": {
        "id": "303HBFJY9HjF"
      },
      "execution_count": null,
      "outputs": []
    },
    {
      "cell_type": "markdown",
      "metadata": {
        "id": "hbfp7dFV9HjF"
      },
      "source": [
        "### Input x,y Output x,y tau = 100 T_trainning=10000"
      ]
    },
    {
      "cell_type": "code",
      "execution_count": null,
      "metadata": {
        "id": "DOuWmgWR9HjF"
      },
      "outputs": [],
      "source": [
        " # Data\n",
        "lorenz_data = rk4(lorenz_system, 0, 1, 1, 1, 10, 8/3, 28, 0.01, 15000)\n",
        "xs, ys, zs = zip(*lorenz_data)\n",
        "input_data = np.array([xs, ys])\n",
        "train_data = np.array([xs, ys])\n",
        "\n",
        "# Reservoir\n",
        "X_pred,N,epsilon,rho,T_transient, T_training, T_prediction, alpha, Y_pred, tau, W = network(\n",
        "                                                  F, conn, input_data, train_data,\n",
        "                                                  N=N, epsilon=0.2, rho=r, alpha=a,\n",
        "                                                  T_transient=2000, T_training=10000, T_prediction=2000, tau=100,\n",
        "                                                  Lapl=True, regulization=0, b_in=1, b_out=1, ex_time=False)"
      ]
    },
    {
      "cell_type": "markdown",
      "metadata": {
        "id": "pGKkNLyR9HjG"
      },
      "source": [
        "#### x prediction"
      ]
    },
    {
      "cell_type": "code",
      "execution_count": null,
      "metadata": {
        "id": "gRUvfX4i9HjG"
      },
      "outputs": [],
      "source": [
        "# Mean Field\n",
        "states_average_plot_w_input_data(Y_pred[0,:].reshape(1,-1),N,T_prediction,xs[(T_transient+T_training+tau):(T_transient+T_training+T_prediction+tau)]\n",
        "                                 ,input_name=\"Lorenzo x\", output_name=\"Prediction Lorenzo x\",zoom_in=True, zoom_range=(750,1000))"
      ]
    },
    {
      "cell_type": "markdown",
      "metadata": {
        "id": "JT-zvDEC9HjG"
      },
      "source": [
        "#### y prediction"
      ]
    },
    {
      "cell_type": "code",
      "execution_count": null,
      "metadata": {
        "id": "3A3U2B8W9HjG"
      },
      "outputs": [],
      "source": [
        "# Mean Field\n",
        "states_average_plot_w_input_data(Y_pred[1,:].reshape(1,-1),N,T_prediction,ys[(T_transient+T_training+tau):(T_transient+T_training+T_prediction+tau)]\n",
        "                                 ,input_name=\"Lorenzo y\", output_name=\"Prediction Lorenzo y\",zoom_in=True, zoom_range=(750,1000))"
      ]
    },
    {
      "cell_type": "markdown",
      "metadata": {
        "id": "sD1nen3U9HjG"
      },
      "source": [
        "#### z prediction"
      ]
    },
    {
      "cell_type": "markdown",
      "metadata": {
        "id": "CqrXkF-09HjH"
      },
      "source": [
        "### RMSE of Prediction wrt tau"
      ]
    },
    {
      "cell_type": "code",
      "execution_count": null,
      "metadata": {
        "id": "YbW5PfhK9HjH"
      },
      "outputs": [],
      "source": [
        "# Initialize lists to store tau values and corresponding RMSEs\n",
        "taus = np.arange(1, 155, 15)  # Tau values from 0 to 150, step 5\n",
        "rmses_samp = []\n",
        "lorenz_data = rk4(lorenz_system, 0, 1, 1, 1, 10, 8/3, 28, 0.01, 50000, sampling_rate=5)\n",
        "xs, ys, zs = zip(*lorenz_data)\n",
        "input_data = np.array([xs, ys])\n",
        "train_data = np.array([xs, ys, zs])\n",
        "# Calculate RMSE for each tau\n",
        "for tau in taus:\n",
        "    real_values = xs[(T_transient+T_training+tau):(T_transient+T_training+T_prediction+tau)]\n",
        "    _,_,_,_,_,_,_,_,predicted_values,_,_ = network(\n",
        "                                                  F, conn, input_data, train_data,\n",
        "                                                  N=N, epsilon=0.2, rho=r, alpha=a,\n",
        "                                                  T_transient=2000, T_training=5000, T_prediction=2000, tau=tau,\n",
        "                                                  Lapl=True, regulization=0, b_in=1, b_out=1, ex_time=False)\n",
        "\n",
        "\n",
        "    overall_rmse, _ = rmse(real_values, predicted_values[0,:])\n",
        "    rmses_samp.append(overall_rmse)\n",
        "    # Plotting\n",
        "plt.figure(figsize=(10, 6))\n",
        "plt.plot(taus, rmses_samp, marker='o', color='black')\n",
        "plt.xlabel('Tau', fontsize=14)\n",
        "plt.ylabel('Overall RMSE', fontsize=14)\n",
        "plt.tick_params(axis='both', labelsize=14)\n",
        "plt.show()"
      ]
    },
    {
      "cell_type": "markdown",
      "metadata": {
        "id": "_zQvpI9cXXf1"
      },
      "source": [
        "## Predict tau timestep in future rho=0.8 alpha=0.01 N=100, F=F_mod"
      ]
    },
    {
      "cell_type": "code",
      "execution_count": null,
      "metadata": {
        "id": "Bw6_Uad9aQ2m"
      },
      "outputs": [],
      "source": [
        "r=0.8; a=0.8; N=100"
      ]
    },
    {
      "cell_type": "markdown",
      "metadata": {
        "id": "83Tci7R2a2S1"
      },
      "source": [
        "### input x,y output x,y tau=5"
      ]
    },
    {
      "cell_type": "code",
      "execution_count": null,
      "metadata": {
        "id": "Yi4S0NLWY98h"
      },
      "outputs": [],
      "source": [
        " # Data\n",
        "lorenz_data = rk4(lorenz_system, 0, 1, 1, 1, 10, 8/3, 28, 0.01, 4000)\n",
        "xs, ys, zs = zip(*lorenz_data)\n",
        "input_data = np.array([xs, ys])\n",
        "train_data = np.array([xs, ys, zs])\n",
        "\n",
        "# Reservoir\n",
        "X_pred,N,epsilon,rho,T_transient, T_training, T_prediction, alpha, Y_pred, tau, W = network(\n",
        "    N=N, epsilon=0.2, rho=r, alpha=a, T_transient=500, T_training=2000, T_prediction=1000, tau=5,\n",
        "    input_data=input_data, output_data=train_data, b_in=1, b_out=1, inside_states=False, F=F_mod, regulization=0, ex_time=False)\n"
      ]
    },
    {
      "cell_type": "markdown",
      "metadata": {
        "id": "SjvOV953an55"
      },
      "source": [
        "#### x prediction"
      ]
    },
    {
      "cell_type": "code",
      "execution_count": null,
      "metadata": {
        "id": "JsnI8eKpaSZ3"
      },
      "outputs": [],
      "source": [
        "# Mean Field\n",
        "states_average_plot_w_input_data(Y_pred[0,:].reshape(1,-1),N,T_prediction,xs[(T_transient+T_training+tau):(T_transient+T_training+T_prediction+tau)]\n",
        "                                 ,input_name=\"Lorenz x\", output_name=\"Prediction Lorenzo x\",zoom_in=True, zoom_range=(750,1000))"
      ]
    },
    {
      "cell_type": "markdown",
      "metadata": {
        "id": "bp1dWZw3aj-1"
      },
      "source": [
        "#### y prediction"
      ]
    },
    {
      "cell_type": "code",
      "execution_count": null,
      "metadata": {
        "id": "nPB67eUFauHN"
      },
      "outputs": [],
      "source": [
        "# Mean Field\n",
        "states_average_plot_w_input_data(Y_pred[1,:].reshape(1,-1),N,T_prediction,ys[(T_transient+T_training+tau):(T_transient+T_training+T_prediction+tau)]\n",
        "                                 ,input_name=\"Lorenz y\", output_name=\"Prediction Lorenzo y\",zoom_in=True, zoom_range=(750,1000))"
      ]
    },
    {
      "cell_type": "markdown",
      "metadata": {
        "id": "ggNsvxVya6Wk"
      },
      "source": [
        "#### z prediction"
      ]
    },
    {
      "cell_type": "markdown",
      "metadata": {
        "id": "wSkAg_TVbYzi"
      },
      "source": [
        "### Input x,y Output x,y tau = 50"
      ]
    },
    {
      "cell_type": "code",
      "execution_count": null,
      "metadata": {
        "id": "FKf1b3Sqbc2J"
      },
      "outputs": [],
      "source": [
        " # Data\n",
        "lorenz_data = rk4(lorenz_system, 0, 1, 1, 1, 10, 8/3, 28, 0.01, 2000)\n",
        "xs, ys, zs = zip(*lorenz_data)\n",
        "input_data = np.array([xs, ys])\n",
        "train_data = np.array([xs, ys, zs])\n",
        "\n",
        "# Reservoir\n",
        "#def network(N, epsilon, rho, alpha,T_transient, T_training, T_prediction\n",
        "                                         #,tau, input_data, output_data, b_in, b_out,inside_states=False, F=F_identity,\n",
        "                                         #regulization=0, ex_time=False):\n",
        "X_pred,N,epsilon,rho,T_transient, T_training, T_prediction, alpha, Y_pred, tau, W = network(\n",
        "    N=N, epsilon=0.2, rho=r, alpha=a, T_transient=100, T_training=1000, T_prediction=500, tau=50,\n",
        "    input_data=input_data, output_data=train_data, b_in=1, b_out=1, inside_states=False, F=F_mod, regulization=0, ex_time=False)"
      ]
    },
    {
      "cell_type": "markdown",
      "metadata": {
        "id": "-cH48vwZkUhZ"
      },
      "source": [
        "#### x prediction"
      ]
    },
    {
      "cell_type": "code",
      "execution_count": null,
      "metadata": {
        "id": "l5TnZqSTbgfG"
      },
      "outputs": [],
      "source": [
        "# Mean Field\n",
        "states_average_plot_w_input_data(Y_pred[0,:].reshape(1,-1),N,T_prediction,xs[(T_transient+T_training+tau):(T_transient+T_training+T_prediction+tau)]\n",
        "                                 ,input_name=\"Lorenzo x\", output_name=\"Prediction Lorenzo x\",zoom_in=True, zoom_range=(750,1000))"
      ]
    },
    {
      "cell_type": "markdown",
      "metadata": {
        "id": "1_zwfYF9laUH"
      },
      "source": [
        "#### y prediction"
      ]
    },
    {
      "cell_type": "code",
      "execution_count": null,
      "metadata": {
        "id": "tynJ6-OFlclO"
      },
      "outputs": [],
      "source": [
        "# Mean Field\n",
        "states_average_plot_w_input_data(Y_pred[1,:].reshape(1,-1),N,T_prediction,ys[(T_transient+T_training+tau):(T_transient+T_training+T_prediction+tau)]\n",
        "                                 ,input_name=\"Lorenzo y\", output_name=\"Prediction Lorenzo y\",zoom_in=True, zoom_range=(750,1000))"
      ]
    },
    {
      "cell_type": "markdown",
      "metadata": {
        "id": "kEUCxvqwbGlU"
      },
      "source": [
        "### Input x,y Output x,y tau = 100"
      ]
    },
    {
      "cell_type": "code",
      "execution_count": null,
      "metadata": {
        "id": "PQucnrXBbFWr"
      },
      "outputs": [],
      "source": [
        " # Data\n",
        "lorenz_data = rk4(lorenz_system, 0, 1, 1, 1, 10, 8/3, 28, 0.01, 12000)\n",
        "xs, ys, zs = zip(*lorenz_data)\n",
        "input_data = np.array([xs, ys])\n",
        "train_data = np.array([xs, ys])\n",
        "\n",
        "# Reservoir\n",
        "X_pred,N,epsilon,rho,T_transient, T_training, T_prediction, alpha, Y_pred, tau, W = network(\n",
        "    N=N, epsilon=0.2, rho=r, alpha=a, T_transient=2000, T_training=5000, T_prediction=2000, tau=100,\n",
        "    input_data=input_data, output_data=train_data, b_in=1, b_out=1, regulization=0, F=F_mod, ex_time=False)"
      ]
    },
    {
      "cell_type": "markdown",
      "metadata": {
        "id": "_Lt5fh1GZtzG"
      },
      "source": [
        "#### x prediction"
      ]
    },
    {
      "cell_type": "code",
      "execution_count": null,
      "metadata": {
        "id": "oxtsgH2YbSbW"
      },
      "outputs": [],
      "source": [
        "# Mean Field\n",
        "states_average_plot_w_input_data(Y_pred[0,:].reshape(1,-1),N,T_prediction,xs[(T_transient+T_training+tau):(T_transient+T_training+T_prediction+tau)]\n",
        "                                 ,input_name=\"Lorenzo x\", output_name=\"Prediction Lorenzo x\",zoom_in=True, zoom_range=(750,1000))"
      ]
    },
    {
      "cell_type": "markdown",
      "metadata": {
        "id": "sPEVP8WnZJql"
      },
      "source": [
        "#### y prediction"
      ]
    },
    {
      "cell_type": "code",
      "execution_count": null,
      "metadata": {
        "id": "uSMWu6cwCAo4"
      },
      "outputs": [],
      "source": [
        "# Mean Field\n",
        "states_average_plot_w_input_data(Y_pred[1,:].reshape(1,-1),N,T_prediction,ys[(T_transient+T_training+tau):(T_transient+T_training+T_prediction+tau)]\n",
        "                                 ,input_name=\"Lorenzo y\", output_name=\"Prediction Lorenzo y\",zoom_in=True, zoom_range=(750,1000))"
      ]
    },
    {
      "cell_type": "code",
      "execution_count": null,
      "metadata": {
        "id": "fS6NRZFm_dU9"
      },
      "outputs": [],
      "source": [
        "# Mean Field\n",
        "states_average_plot_w_input_data(Y_pred[1,:].reshape(1,-1),N,T_prediction,ys[(T_transient+T_training+tau):(T_transient+T_training+T_prediction+tau)]\n",
        "                                 ,input_name=\"Lorenzo y\", output_name=\"Prediction Lorenzo y\",zoom_in=True, zoom_range=(750,1000))"
      ]
    },
    {
      "cell_type": "markdown",
      "metadata": {
        "id": "Ew0MrzvuZwnv"
      },
      "source": [
        "#### z prediction"
      ]
    },
    {
      "cell_type": "markdown",
      "metadata": {
        "id": "qNr-V7T5Yj7S"
      },
      "source": [
        "### RMSE of Prediction wrt tau"
      ]
    },
    {
      "cell_type": "code",
      "execution_count": null,
      "metadata": {
        "id": "0ZEphdAOYri3"
      },
      "outputs": [],
      "source": [
        "# Initialize lists to store tau values and corresponding RMSEs\n",
        "taus = np.arange(0, 155, 5)  # Tau values from 0 to 150, step 5\n",
        "rmses = []\n",
        "\n",
        "# Calculate RMSE for each tau\n",
        "for tau in taus:\n",
        "    real_values = xs[(T_transient+T_training+tau):(T_transient+T_training+T_prediction+tau)]\n",
        "    _,_,_,_,_,_,_,_,predicted_values,_,_ = network(\n",
        "    N=N, epsilon=0.2, rho=r, alpha=a, T_transient=2000, T_training=5000, T_prediction=2000, tau=tau,\n",
        "    input_data=input_data, output_data=train_data, F=F_mod, b_in=1, b_out=1, regulization=0, ex_time=False)\n",
        "\n",
        "\n",
        "    overall_rmse, _ = rmse(real_values, predicted_values[0,:])\n",
        "    rmses.append(overall_rmse)\n",
        "\n",
        "# Plotting\n",
        "plt.figure(figsize=(10, 6))\n",
        "plt.plot(taus, rmses, marker='o')\n",
        "plt.xlabel('Tau')\n",
        "plt.ylabel('Overall RMSE')\n",
        "plt.title('Overall RMSE vs Tau')\n",
        "plt.grid(True)\n",
        "plt.show()"
      ]
    },
    {
      "cell_type": "markdown",
      "metadata": {
        "id": "CqvtyLPVmwCy"
      },
      "source": [
        "## Grids"
      ]
    },
    {
      "cell_type": "code",
      "source": [
        "def grid_prediction(F,conn, input_data, train_data,\n",
        "                    N=100, epsilon=0.2, rho=0.8, alpha=0.8,\n",
        "                    T_transient=2000, T_training=5000, T_prediction=2000, tau=1,\n",
        "                    Lapl=True, regulization=0, b_in=1, b_out=1, color='RMSE'):\n",
        "\n",
        "    # With this function you can grid whatever you need for prediction\n",
        "    # Color is written like that as it is color the heatmap will use\n",
        "    # Here if grid is N and rho then\n",
        "    # S rows will be wrt to rho\n",
        "    # S columns will be wrt to N\n",
        "\n",
        "    S = []\n",
        "    hyperparameters = {'N': N, 'epsilon': epsilon, 'alpha': alpha, 'rho': rho }\n",
        "    par_to_grid = []\n",
        "\n",
        "    for key, value in hyperparameters.items():\n",
        "        if isinstance(value, list):\n",
        "            par_to_grid.append((key, value))\n",
        "\n",
        "    class CustomError(Exception):\n",
        "        pass\n",
        "\n",
        "    if len(par_to_grid) != 2:\n",
        "        raise CustomError(\"This function accepts only 2 parameters as lists!\")\n",
        "\n",
        "    key1, var1 = par_to_grid[0]\n",
        "    key2, var2 = par_to_grid[1]\n",
        "\n",
        "    total_iterations = len(var1) * len(var2)\n",
        "    current_iteration = 0\n",
        "\n",
        "    for i in range(len(var1)):\n",
        "        row = []\n",
        "        for j in range(len(var2)):\n",
        "            current_iteration += 1\n",
        "            print(f\"Processing {key1}={var1[i]}, {key2}={var2[j]} ... ({current_iteration}/{total_iterations})\")\n",
        "\n",
        "            # Update the hyperparameters dictionary\n",
        "            hyperparameters[key1] = var1[i]\n",
        "            hyperparameters[key2] = var2[j]\n",
        "\n",
        "\n",
        "            X,N,epsilon,rho,T_transient, T_training, T_prediction, alpha, Y, tau, W = network(\n",
        "                                                  F, conn, input_data, train_data,\n",
        "                                                  **hyperparameters,\n",
        "                                                  T_transient=T_transient, T_training=T_training, T_prediction=T_prediction, tau=tau,\n",
        "                                                  Lapl=Lapl, regulization=regulization, b_in=b_in, b_out=b_out, ex_time=False)\n",
        "            \"\"\"\n",
        "            if color == 'integrals':\n",
        "              row.append(integral_of_spikes(X, T, treshold))\n",
        "            elif color == 'spikes':\n",
        "              row.append(spike_count(X,T,treshold))\n",
        "            elif color == 'pearson':\n",
        "              row.append(pear_in_ft(X, future_time=100))\n",
        "            elif color == 'pearson integrals':\n",
        "              row.append(pearson_integral(X, integral_analysis=False))\n",
        "            \"\"\"\n",
        "            if color == 'RMSE':\n",
        "              overall_rmse, _ = rmse(input_data[0,(T_transient+T_training+tau):(T_transient+T_training+T_prediction+tau)], Y[0,:])\n",
        "              row.append(overall_rmse)\n",
        "            else:\n",
        "              raise CustomError(f\"{color} is invalid: please specify -integrals- or -spikes- or -pearson- or -RMSE-\")\n",
        "        S.append(row)\n",
        "\n",
        "    return S\n"
      ],
      "metadata": {
        "id": "1SeV9HACpRIU"
      },
      "execution_count": null,
      "outputs": []
    },
    {
      "cell_type": "markdown",
      "source": [
        "### Rho-alpha, tau=1"
      ],
      "metadata": {
        "id": "2_b7TRZgrO41"
      }
    },
    {
      "cell_type": "code",
      "source": [
        " # Data\n",
        "lorenz_data = rk4(lorenz_system, 0, 1, 1, 1, 10, 8/3, 28, 0.01, 12000)\n",
        "xs, ys, zs = zip(*lorenz_data)\n",
        "input_data = np.array([xs, ys])\n",
        "train_data = np.array([xs, ys])\n",
        "\n",
        "rho_list = [0.05, 0.25, 0.5, 0.75, 0.95, 1.1, 1.25, 1.5, 2, 2.5, 3]\n",
        "alpha_list = [0, 0.00001, 0.01, 0.02, 0.05, 0.10, 0.15, 0.25, 0.5, 0.75, 0.95, 1, 1.1, 1.25, 1.5, 1.75, 2]\n",
        "\n",
        "S_r_a_tau1 = grid_prediction(F,conn, input_data, train_data,\n",
        "                    N=100, epsilon=0.2, rho=rho_list, alpha=alpha_list,\n",
        "                    T_transient=2000, T_training=5000, T_prediction=2000, tau=1,\n",
        "                    Lapl=True, regulization=0, b_in=1, b_out=1, color='RMSE')"
      ],
      "metadata": {
        "id": "soW-BmgvrWy9"
      },
      "execution_count": null,
      "outputs": []
    },
    {
      "cell_type": "code",
      "source": [
        "#Transpose matrix\n",
        "S_r_a_tau1 = np.array(S_r_a_tau1)\n",
        "S_r_a_tau1 = S_r_a_tau1.T"
      ],
      "metadata": {
        "id": "hq0kBJxZ3vHf"
      },
      "execution_count": null,
      "outputs": []
    },
    {
      "cell_type": "code",
      "source": [
        "plot_heatmap(S_r_a_tau1, rho_list,alpha_list, v_min=0, v_max= 0.1, x_label_name='Rho', y_label_name='Alpha', title=\"RMSE of Reservoirs\", fmt='.2f')"
      ],
      "metadata": {
        "id": "WhXzhQ06s4Tw"
      },
      "execution_count": null,
      "outputs": []
    },
    {
      "cell_type": "markdown",
      "source": [
        "### Rho-alpha, tau 25"
      ],
      "metadata": {
        "id": "PjAD-5mqDxVg"
      }
    },
    {
      "cell_type": "code",
      "source": [
        "# Data\n",
        "lorenz_data = rk4(lorenz_system, 0, 1, 1, 1, 10, 8/3, 28, 0.01, 12000)\n",
        "xs, ys, zs = zip(*lorenz_data)\n",
        "input_data = np.array([xs, ys])\n",
        "train_data = np.array([xs, ys])\n",
        "\n",
        "rho_list = [0.05, 0.25, 0.5, 0.75, 0.95, 1.1, 1.25, 1.5, 2, 2.5, 3]\n",
        "alpha_list = [0, 0.00001, 0.01, 0.02, 0.05, 0.10, 0.15, 0.25, 0.5, 0.75, 0.95, 1, 1.1, 1.25, 1.5, 1.75, 2]\n",
        "\n",
        "S_r_a_tau25 = grid_prediction(F,conn, input_data, train_data,\n",
        "                    N=100, epsilon=0.2, rho=rho_list, alpha=alpha_list,\n",
        "                    T_transient=2000, T_training=5000, T_prediction=2000, tau=25,\n",
        "                    Lapl=True, regulization=0, b_in=1, b_out=1, color='RMSE')"
      ],
      "metadata": {
        "id": "TWdSKJ5MD0q0"
      },
      "execution_count": null,
      "outputs": []
    },
    {
      "cell_type": "code",
      "source": [
        "plot_heatmap(S_r_a_tau25, rho_list,alpha_list, v_min=0, v_max= 6, x_label_name='Rho', y_label_name='Alpha', title=\"RMSE of Reservoirs\", fmt='.2f')"
      ],
      "metadata": {
        "id": "S88JeHbZKRFi"
      },
      "execution_count": null,
      "outputs": []
    },
    {
      "cell_type": "markdown",
      "source": [
        "### Rho-Alpha, tau 50"
      ],
      "metadata": {
        "id": "PmOlQnT4K1q_"
      }
    },
    {
      "cell_type": "code",
      "source": [
        " # Data\n",
        "lorenz_data = rk4(lorenz_system, 0, 1, 1, 1, 10, 8/3, 28, 0.01, 12000)\n",
        "xs, ys, zs = zip(*lorenz_data)\n",
        "input_data = np.array([xs, ys])\n",
        "train_data = np.array([xs, ys])\n",
        "\n",
        "rho_list = [0.05, 0.25, 0.5, 0.75, 0.95, 1.1, 1.25, 1.5, 2, 2.5, 3]\n",
        "alpha_list = [0, 0.00001, 0.01, 0.02, 0.05, 0.10, 0.15, 0.25, 0.5, 0.75, 0.95, 1, 1.1, 1.25, 1.5, 1.75, 2]\n",
        "\n",
        "S_r_a_tau50 = grid_prediction(F,conn, input_data, train_data,\n",
        "                    N=100, epsilon=0.2, rho=rho_list, alpha=alpha_list,\n",
        "                    T_transient=2000, T_training=5000, T_prediction=2000, tau=50,\n",
        "                    Lapl=True, regulization=0, b_in=1, b_out=1, color='RMSE')"
      ],
      "metadata": {
        "id": "5MobktNLK7w2"
      },
      "execution_count": null,
      "outputs": []
    },
    {
      "cell_type": "code",
      "source": [
        "plot_heatmap(S_r_a_tau50, rho_list,alpha_list, v_min=0, v_max= 6, x_label_name='Rho', y_label_name='Alpha', title=\"RMSE of Reservoirs\", fmt='.2f')"
      ],
      "metadata": {
        "id": "dbniToqgRqU9"
      },
      "execution_count": null,
      "outputs": []
    },
    {
      "cell_type": "markdown",
      "source": [
        "### Rho-Training, tau1"
      ],
      "metadata": {
        "id": "YjjRAtnfvr01"
      }
    },
    {
      "cell_type": "code",
      "source": [
        " # Data\n",
        "lorenz_data = rk4(lorenz_system, 0, 1, 1, 1, 10, 8/3, 28, 0.01, 12000)\n",
        "xs, ys, zs = zip(*lorenz_data)\n",
        "input_data = np.array([xs, ys])\n",
        "train_data = np.array([xs, ys])\n",
        "\n",
        "rho_list = [0.05, 0.25, 0.5, 0.75, 0.95, 1.1, 1.25, 1.5, 2, 2.5, 3]\n",
        "alpha_list = [0, 0.00001, 0.01, 0.02, 0.05, 0.10, 0.15, 0.25, 0.5, 0.75, 0.95, 1, 1.1, 1.25, 1.5, 1.75, 2, 2.5]\n",
        "\n",
        "S_r_a_tau1 = grid_prediction(F,conn, input_data, train_data,\n",
        "                    N=100, epsilon=0.2, rho=rho_list, alpha=alpha_list,\n",
        "                    T_transient=2000, T_training=5000, T_prediction=2000, tau=1,\n",
        "                    Lapl=True, regulization=0, b_in=1, b_out=1, color='RMSE')"
      ],
      "metadata": {
        "id": "FGg9YP7Wv0d_"
      },
      "execution_count": null,
      "outputs": []
    },
    {
      "cell_type": "code",
      "source": [
        "    S = []\n",
        "    hyperparameters = {'N': N, 'epsilon': epsilon, 'alpha': alpha, 'rho': rho }\n",
        "    par_to_grid = []\n",
        "\n",
        "    for key, value in hyperparameters.items():\n",
        "        if isinstance(value, list):\n",
        "            par_to_grid.append((key, value))\n",
        "\n",
        "    class CustomError(Exception):\n",
        "        pass\n",
        "\n",
        "    if len(par_to_grid) != 2:\n",
        "        raise CustomError(\"This function accepts only 2 parameters as lists!\")\n",
        "\n",
        "    key1, var1 = par_to_grid[0]\n",
        "    key2, var2 = par_to_grid[1]\n",
        "\n",
        "    total_iterations = len(var1) * len(var2)\n",
        "    current_iteration = 0\n",
        "\n",
        "    for i in range(len(var1)):\n",
        "        row = []\n",
        "        for j in range(len(var2)):\n",
        "            current_iteration += 1\n",
        "            print(f\"Processing {key1}={var1[i]}, {key2}={var2[j]} ... ({current_iteration}/{total_iterations})\")\n",
        "\n",
        "            # Update the hyperparameters dictionary\n",
        "            hyperparameters[key1] = var1[i]\n",
        "            hyperparameters[key2] = var2[j]\n",
        "\n",
        "\n",
        "            X,N,epsilon,rho,T_transient, T_training, T_prediction, alpha, Y, tau, W = network(\n",
        "                                                  F, conn, input_data, train_data,\n",
        "                                                  **hyperparameters,\n",
        "                                                  T_transient=T_transient, T_training=T_training, T_prediction=T_prediction, tau=tau,\n",
        "                                                  Lapl=Lapl, regulization=regulization, b_in=b_in, b_out=b_out, ex_time=False)\n",
        "            \"\"\"\n",
        "            if color == 'integrals':\n",
        "              row.append(integral_of_spikes(X, T, treshold))\n",
        "            elif color == 'spikes':\n",
        "              row.append(spike_count(X,T,treshold))\n",
        "            elif color == 'pearson':\n",
        "              row.append(pear_in_ft(X, future_time=100))\n",
        "            elif color == 'pearson integrals':\n",
        "              row.append(pearson_integral(X, integral_analysis=False))\n",
        "            \"\"\"\n",
        "            if color == 'RMSE':\n",
        "              overall_rmse, _ = rmse(input_data[0,(T_transient+T_training+tau):(T_transient+T_training+T_prediction+tau)], Y[0,:])\n",
        "              row.append(overall_rmse)\n",
        "            else:\n",
        "              raise CustomError(f\"{color} is invalid: please specify -integrals- or -spikes- or -pearson- or -RMSE-\")\n",
        "        S.append(row)\n",
        "\n",
        "    return S"
      ],
      "metadata": {
        "id": "Wmif7suvwP-p"
      },
      "execution_count": null,
      "outputs": []
    },
    {
      "cell_type": "markdown",
      "metadata": {
        "id": "rNqEGKCqIBXv"
      },
      "source": [
        "### Grid tau=1"
      ]
    },
    {
      "cell_type": "code",
      "source": [],
      "metadata": {
        "id": "bdl2vgwIpPTc"
      },
      "execution_count": null,
      "outputs": []
    },
    {
      "cell_type": "code",
      "execution_count": null,
      "metadata": {
        "id": "Ieigz678IA0D"
      },
      "outputs": [],
      "source": [
        " # Data\n",
        "lorenz_data = rk4(lorenz_system, 0, 1, 1, 1, 10, 8/3, 28, 0.01, 12000)\n",
        "xs, ys, zs = zip(*lorenz_data)\n",
        "input_data = np.array([xs, ys])\n",
        "train_data = np.array([xs, ys])\n",
        "\n",
        "N_list = [50,100,150,200,250]\n",
        "rho_list = [0.5,0.8,0.95,1.1,1.5,1.8,2.5]\n",
        "\n",
        "S_pred_t1 = grid_prediction(input_data, train_data, T_transient=2000, T_training=5000, T_prediction=2000,\n",
        "                    N=N_list, epsilon=0.2, rho=rho_list, alpha=0.8, tau=1,\n",
        "                    b_in=1, b_out=1,regulization=0, color='RMSE', F=F_mod)"
      ]
    },
    {
      "cell_type": "code",
      "execution_count": null,
      "metadata": {
        "id": "ioqXaMWGIMJn"
      },
      "outputs": [],
      "source": [
        "# AS S_pred rows are wrt to rho we want rho to be in x axis\n",
        "# AS S_pred columns are made wrt to N, lets put N into y axis\n",
        "plot_heatmap(S_pred_t1, rho_list,N_list, x_label_name='Rho', y_label_name='Number of Neurons',\n",
        "             title='Heatmap', figsize=(10, 6), fmt='.5f')"
      ]
    },
    {
      "cell_type": "markdown",
      "metadata": {
        "id": "sBtUH1CRo1cu"
      },
      "source": [
        "### Grid tau=25"
      ]
    },
    {
      "cell_type": "code",
      "execution_count": null,
      "metadata": {
        "id": "y-9w9F-yo0sK"
      },
      "outputs": [],
      "source": [
        " # Data\n",
        "lorenz_data = rk4(lorenz_system, 0, 1, 1, 1, 10, 8/3, 28, 0.01, 12000)\n",
        "xs, ys, zs = zip(*lorenz_data)\n",
        "input_data = np.array([xs, ys])\n",
        "train_data = np.array([xs, ys])\n",
        "\n",
        "N_list = [50,100,150,200,250]\n",
        "rho_list = [0.5,0.8,0.95,1.1,1.5,1.8,2.5]\n",
        "\n",
        "S_pred_t25 = grid_prediction(input_data, train_data, T_transient=2000, T_training=5000, T_prediction=2000,\n",
        "                    N=N_list, epsilon=0.2, rho=rho_list, alpha=0.8, tau=25,\n",
        "                    b_in=1, b_out=1,regulization=0, color='RMSE', F=F_mod)"
      ]
    },
    {
      "cell_type": "code",
      "execution_count": null,
      "metadata": {
        "id": "upOezdXyjViD"
      },
      "outputs": [],
      "source": [
        "# AS S_pred rows are wrt to rho we want rho to be in x axis\n",
        "# AS S_pred columns are made wrt to N, lets put N into y axis\n",
        "plot_heatmap(S_pred_t25, rho_list,N_list, x_label_name='Rho', y_label_name='Number of Neurons',\n",
        "             title='Heatmap', figsize=(10, 6), fmt='.5f')"
      ]
    },
    {
      "cell_type": "markdown",
      "metadata": {
        "id": "fDBunEU9XcYS"
      },
      "source": [
        "### Grid tau=50"
      ]
    },
    {
      "cell_type": "code",
      "execution_count": null,
      "metadata": {
        "id": "rAMNKg0MmIlv"
      },
      "outputs": [],
      "source": [
        " # Data\n",
        "lorenz_data = rk4(lorenz_system, 0, 1, 1, 1, 10, 8/3, 28, 0.01, 12000)\n",
        "xs, ys, zs = zip(*lorenz_data)\n",
        "input_data = np.array([xs, ys])\n",
        "train_data = np.array([xs, ys])\n",
        "\n",
        "N_list = [50,100,150,200,250]\n",
        "rho_list = [0.5,0.8,0.95,1.1,1.5,1.8,2.5]\n",
        "\n",
        "S_pred_t50 = grid_prediction(input_data, train_data, T_transient=2000, T_training=5000, T_prediction=2000,\n",
        "                    N=N_list, epsilon=0.2, rho=rho_list, alpha=0.8, tau=50,\n",
        "                    b_in=1, b_out=1,regulization=0, color='RMSE', F=F_mod)"
      ]
    },
    {
      "cell_type": "code",
      "execution_count": null,
      "metadata": {
        "id": "X82JaHPLm7Qh"
      },
      "outputs": [],
      "source": [
        "# AS S_pred rows are wrt to rho we want rho to be in x axis\n",
        "# AS S_pred columns are made wrt to N, lets put N into y axis\n",
        "plot_heatmap(S_pred_t50, rho_list,N_list, x_label_name='Rho', y_label_name='Number of Neurons',\n",
        "             title='Heatmap', figsize=(10, 6), fmt='.5f')"
      ]
    },
    {
      "cell_type": "markdown",
      "source": [
        "# Looped Network"
      ],
      "metadata": {
        "id": "k8G2EHfGCA1w"
      }
    },
    {
      "cell_type": "code",
      "source": [],
      "metadata": {
        "id": "5AtmsFyrCCeU"
      },
      "execution_count": null,
      "outputs": []
    },
    {
      "cell_type": "markdown",
      "metadata": {
        "id": "uJQibudgJml1"
      },
      "source": [
        "## Predict tau timestep in future rho=0.8 alpha=0.8 N=100, F=F_identity, input xy, T_trainning=5000\n"
      ]
    },
    {
      "cell_type": "code",
      "execution_count": null,
      "metadata": {
        "id": "fPSyveiQJml2"
      },
      "outputs": [],
      "source": [
        "r=0.8; a=0.8; N=100; F=F_identity; conn=\"Chemical\""
      ]
    },
    {
      "cell_type": "markdown",
      "metadata": {
        "id": "4vQGhoOWJml2"
      },
      "source": [
        "### input x,y output x,y tau=1"
      ]
    },
    {
      "cell_type": "code",
      "execution_count": null,
      "metadata": {
        "id": "vwm0rqmPJml2"
      },
      "outputs": [],
      "source": [
        " # Data\n",
        "lorenz_data = rk4(lorenz_system, 0, 1, 1, 1, 10, 8/3, 28, 0.01, 20000)\n",
        "xs, ys, zs = zip(*lorenz_data)\n",
        "input_data = np.array([xs, ys])\n",
        "train_data = np.array([xs, ys])\n",
        "\n",
        "# def network(F, connectivity, input_data, output_data,\n",
        "#            N, epsilon, rho, alpha,\n",
        "#            T_transient, T_training, T_prediction, tau,\n",
        "#            Lapl= True, regulization=0, b_in=1, b_out=1, ex_time=False):\n",
        "\n",
        "X_pred,N,epsilon,rho,T_transient, T_training, T_prediction, alpha, Y_pred, tau, W = looped_network(\n",
        "                                                  F, conn, input_data, train_data,\n",
        "                                                  N=N, epsilon=0.2, rho=r, alpha=a,\n",
        "                                                  T_transient=2000, T_training=5000, T_prediction=2000, tau=1,\n",
        "                                                  Lapl=True, regulization=0, b_in=1, b_out=1, ex_time=False)"
      ]
    },
    {
      "cell_type": "markdown",
      "metadata": {
        "id": "UCzFKEWxJml2"
      },
      "source": [
        "#### x prediction"
      ]
    },
    {
      "cell_type": "code",
      "source": [
        "states_average_plot_w_input_data_2(Y_pred[0,:].reshape(1,-1),N,T_prediction,xs[(T_transient+T_training+tau):(T_transient+T_training+T_prediction+tau)]\n",
        "                                 ,input_name=\"Lorenz x\", output_name=\"Prediction\",zoom_in=True, zoom_range=(100,400))"
      ],
      "metadata": {
        "id": "WCeJJGPMJml3"
      },
      "execution_count": null,
      "outputs": []
    },
    {
      "cell_type": "markdown",
      "metadata": {
        "id": "EyCwr7DIJml3"
      },
      "source": [
        "#### y prediction"
      ]
    },
    {
      "cell_type": "code",
      "source": [
        "# Mean Field\n",
        "states_average_plot_w_input_data_2(Y_pred[1,:].reshape(1,-1),N,T_prediction,ys[(T_transient+T_training+tau):(T_transient+T_training+T_prediction+tau)]\n",
        "                                 ,input_name=\"Lorenz y\", output_name=\"Prediction\",zoom_in=True, zoom_range=(100,400))"
      ],
      "metadata": {
        "id": "0rbZUwbBJml3"
      },
      "execution_count": null,
      "outputs": []
    },
    {
      "cell_type": "markdown",
      "metadata": {
        "id": "S3S4KcbnJml3"
      },
      "source": [
        "#### z prediction"
      ]
    },
    {
      "cell_type": "code",
      "source": [
        "# Mean Field\n",
        "states_average_plot_w_input_data_2(Y_pred[2,:].reshape(1,-1),N,T_prediction,zs[(T_transient+T_training+tau):(T_transient+T_training+T_prediction+tau)]\n",
        "                                 ,input_name=\"Lorenz z\", output_name=\"Predicted Lorenz z\",zoom_in=True, zoom_range=(750,1000))"
      ],
      "metadata": {
        "id": "p96rSDieJml3"
      },
      "execution_count": null,
      "outputs": []
    },
    {
      "cell_type": "markdown",
      "source": [
        "#### XYZ prediction\n"
      ],
      "metadata": {
        "id": "ojdyYWj6Jml4"
      }
    },
    {
      "cell_type": "code",
      "source": [
        "dynamical_syst_graph(Y_pred[0,:], Y_pred[1,:], Y_pred[2,:])"
      ],
      "metadata": {
        "id": "xKhnB1wIJml4"
      },
      "execution_count": null,
      "outputs": []
    },
    {
      "cell_type": "code",
      "source": [
        "x = np.squeeze(Y_pred[0,:])\n",
        "y = np.squeeze(Y_pred[1,:])\n",
        "z = np.squeeze(Y_pred[2,:])\n",
        "dynamical_syst_interactive_graph(x, y, z, \"Network Prediction\", \"Lorenz system\")"
      ],
      "metadata": {
        "id": "GgIECrotJml4"
      },
      "execution_count": null,
      "outputs": []
    },
    {
      "cell_type": "code",
      "source": [],
      "metadata": {
        "id": "ikfm1z5lK2W9"
      },
      "execution_count": null,
      "outputs": []
    },
    {
      "cell_type": "markdown",
      "metadata": {
        "id": "7LV7GrbLJml-"
      },
      "source": [
        "### RMSE of Prediction wrt tau"
      ]
    },
    {
      "cell_type": "code",
      "execution_count": null,
      "metadata": {
        "id": "hZNFnMdKJml-"
      },
      "outputs": [],
      "source": [
        "# Initialize lists to store tau values and corresponding RMSEs\n",
        "taus = np.arange(1, 155, 5)  # Tau values from 0 to 150, step 5\n",
        "rmses = []\n",
        "lorenz_data = rk4(lorenz_system, 0, 1, 1, 1, 10, 8/3, 28, 0.01, 10000)\n",
        "xs, ys, zs = zip(*lorenz_data)\n",
        "input_data = np.array([xs, ys, zs])\n",
        "train_data = np.array([xs, ys, zs])\n",
        "# Calculate RMSE for each tau\n",
        "for tau in taus:\n",
        "    real_values = xs[(T_transient+T_training+tau):(T_transient+T_training+T_prediction+tau)]\n",
        "    _,_,_,_,_,_,_,_,predicted_values,_,_ = network(\n",
        "                                                  F, conn, input_data, train_data,\n",
        "                                                  N=N, epsilon=0.2, rho=r, alpha=a,\n",
        "                                                  T_transient=2000, T_training=5000, T_prediction=2000, tau=tau,\n",
        "                                                  Lapl=True, regulization=0, b_in=1, b_out=1, ex_time=False)\n",
        "\n",
        "\n",
        "    overall_rmse, _ = rmse(real_values, predicted_values[0,:])\n",
        "    rmses.append(overall_rmse)\n",
        "    # Plotting\n",
        "plt.figure(figsize=(10, 6))\n",
        "plt.plot(taus, rmses, marker='o', color='black')\n",
        "plt.xlabel('Tau', fontsize=14)\n",
        "plt.ylabel('Overall RMSE', fontsize=14)\n",
        "plt.tick_params(axis='both', labelsize=14)\n",
        "plt.show()"
      ]
    },
    {
      "cell_type": "code",
      "source": [
        "# Plotting\n",
        "plt.figure(figsize=(10, 6))\n",
        "plt.plot(taus, rmses, marker='o', color='black')\n",
        "plt.xlabel('Tau', fontsize=14)\n",
        "plt.ylabel('Overall RMSE', fontsize=14)\n",
        "plt.tick_params(axis='both', labelsize=14)\n",
        "plt.show()"
      ],
      "metadata": {
        "id": "QkjpsWytJml-"
      },
      "execution_count": null,
      "outputs": []
    },
    {
      "cell_type": "markdown",
      "metadata": {
        "id": "ODap_7PDCC0Z"
      },
      "source": [
        "## Predict tau timestep in future rho=0.8 alpha=0.8 N=100, F=F_identity, input xy, T_trainning=15000\n"
      ]
    },
    {
      "cell_type": "code",
      "execution_count": null,
      "metadata": {
        "id": "1SqhGmbXCC0Z"
      },
      "outputs": [],
      "source": [
        "r=0.8; a=0.8; N=100; F=F_identity; conn=\"Chemical\""
      ]
    },
    {
      "cell_type": "markdown",
      "metadata": {
        "id": "yLjNhqmKCC0Z"
      },
      "source": [
        "### input x,y output x,y tau=1"
      ]
    },
    {
      "cell_type": "code",
      "execution_count": null,
      "metadata": {
        "id": "Ae1CtjEeCC0a"
      },
      "outputs": [],
      "source": [
        " # Data\n",
        "lorenz_data = rk4(lorenz_system, 0, 1, 1, 1, 10, 8/3, 28, 0.01, 20000)\n",
        "xs, ys, zs = zip(*lorenz_data)\n",
        "input_data = np.array([xs, ys])\n",
        "train_data = np.array([xs, ys])\n",
        "\n",
        "# def network(F, connectivity, input_data, output_data,\n",
        "#            N, epsilon, rho, alpha,\n",
        "#            T_transient, T_training, T_prediction, tau,\n",
        "#            Lapl= True, regulization=0, b_in=1, b_out=1, ex_time=False):\n",
        "\n",
        "X_pred,N,epsilon,rho,T_transient, T_training, T_prediction, alpha, Y_pred, tau, W = looped_network(\n",
        "                                                  F, conn, input_data, train_data,\n",
        "                                                  N=N, epsilon=0.2, rho=r, alpha=a,\n",
        "                                                  T_transient=2000, T_training=15000, T_prediction=2000, tau=1,\n",
        "                                                  Lapl=True, regulization=0, b_in=1, b_out=1, ex_time=False)"
      ]
    },
    {
      "cell_type": "markdown",
      "metadata": {
        "id": "4C96cnR_CC0a"
      },
      "source": [
        "#### x prediction"
      ]
    },
    {
      "cell_type": "code",
      "source": [
        "states_average_plot_w_input_data_2(Y_pred[0,:].reshape(1,-1),N,T_prediction,xs[(T_transient+T_training+tau):(T_transient+T_training+T_prediction+tau)]\n",
        "                                 ,input_name=\"Lorenz x\", output_name=\"Prediction\",zoom_in=True, zoom_range=(750,1000))"
      ],
      "metadata": {
        "id": "DmLRDOI9CC0b"
      },
      "execution_count": null,
      "outputs": []
    },
    {
      "cell_type": "markdown",
      "metadata": {
        "id": "RR2pWtNGCC0b"
      },
      "source": [
        "#### y prediction"
      ]
    },
    {
      "cell_type": "code",
      "source": [
        "# Mean Field\n",
        "states_average_plot_w_input_data_2(Y_pred[1,:].reshape(1,-1),N,T_prediction,ys[(T_transient+T_training+tau):(T_transient+T_training+T_prediction+tau)]\n",
        "                                 ,input_name=\"Lorenz y\", output_name=\"Prediction\",zoom_in=True, zoom_range=(750,1000))"
      ],
      "metadata": {
        "id": "P8jkGU-7CC0b"
      },
      "execution_count": null,
      "outputs": []
    },
    {
      "cell_type": "markdown",
      "metadata": {
        "id": "8IdurrVyCC0c"
      },
      "source": [
        "#### z prediction"
      ]
    },
    {
      "cell_type": "code",
      "source": [
        "# Mean Field\n",
        "states_average_plot_w_input_data_2(Y_pred[2,:].reshape(1,-1),N,T_prediction,zs[(T_transient+T_training+tau):(T_transient+T_training+T_prediction+tau)]\n",
        "                                 ,input_name=\"Lorenz z\", output_name=\"Predicted Lorenz z\",zoom_in=True, zoom_range=(750,1000))"
      ],
      "metadata": {
        "id": "wRQ0nsuSCC0c"
      },
      "execution_count": null,
      "outputs": []
    },
    {
      "cell_type": "markdown",
      "source": [
        "#### XYZ prediction\n"
      ],
      "metadata": {
        "id": "s5aZzSBQCC0c"
      }
    },
    {
      "cell_type": "code",
      "source": [
        "dynamical_syst_graph(Y_pred[0,:], Y_pred[1,:], Y_pred[2,:])"
      ],
      "metadata": {
        "id": "bZ7gjklxCC0c"
      },
      "execution_count": null,
      "outputs": []
    },
    {
      "cell_type": "code",
      "source": [
        "x = np.squeeze(Y_pred[0,:])\n",
        "y = np.squeeze(Y_pred[1,:])\n",
        "z = np.squeeze(Y_pred[2,:])\n",
        "dynamical_syst_interactive_graph(x, y, z, \"Network Prediction\", \"Lorenz system\")"
      ],
      "metadata": {
        "id": "6OMG0X9GCC0c"
      },
      "execution_count": null,
      "outputs": []
    },
    {
      "cell_type": "code",
      "source": [],
      "metadata": {
        "id": "9gHr7V8ALc8u"
      },
      "execution_count": null,
      "outputs": []
    },
    {
      "cell_type": "markdown",
      "metadata": {
        "id": "Vl6b8c86LdJC"
      },
      "source": [
        "## Predict tau timestep in future rho=0.8 alpha=0.8 N=100, F=F_identity, input xy, T_trainning=45000\n"
      ]
    },
    {
      "cell_type": "code",
      "execution_count": null,
      "metadata": {
        "id": "UndTJkl3LdJC"
      },
      "outputs": [],
      "source": [
        "r=0.8; a=0.8; N=100; F=F_identity; conn=\"Chemical\""
      ]
    },
    {
      "cell_type": "markdown",
      "metadata": {
        "id": "gvPrqm4NLdJD"
      },
      "source": [
        "### input x,y output x,y tau=1"
      ]
    },
    {
      "cell_type": "code",
      "execution_count": null,
      "metadata": {
        "id": "QPkaZt62LdJD"
      },
      "outputs": [],
      "source": [
        " # Data\n",
        "lorenz_data = rk4(lorenz_system, 0, 1, 1, 1, 10, 8/3, 28, 0.01, 50000)\n",
        "xs, ys, zs = zip(*lorenz_data)\n",
        "input_data = np.array([xs, ys])\n",
        "train_data = np.array([xs, ys])\n",
        "\n",
        "# def network(F, connectivity, input_data, output_data,\n",
        "#            N, epsilon, rho, alpha,\n",
        "#            T_transient, T_training, T_prediction, tau,\n",
        "#            Lapl= True, regulization=0, b_in=1, b_out=1, ex_time=False):\n",
        "\n",
        "X_pred,N,epsilon,rho,T_transient, T_training, T_prediction, alpha, Y_pred, tau, W = looped_network(\n",
        "                                                  F, conn, input_data, train_data,\n",
        "                                                  N=N, epsilon=0.2, rho=r, alpha=a,\n",
        "                                                  T_transient=2000, T_training=45000, T_prediction=2000, tau=1,\n",
        "                                                  Lapl=True, regulization=0, b_in=1, b_out=1, ex_time=False)"
      ]
    },
    {
      "cell_type": "markdown",
      "metadata": {
        "id": "Bm0NIbsQLdJD"
      },
      "source": [
        "#### x prediction"
      ]
    },
    {
      "cell_type": "code",
      "source": [
        "states_average_plot_w_input_data_2(Y_pred[0,:].reshape(1,-1),N,T_prediction,xs[(T_transient+T_training+tau):(T_transient+T_training+T_prediction+tau)]\n",
        "                                 ,input_name=\"Lorenz x\", output_name=\"Prediction\",zoom_in=True, zoom_range=(0,250))"
      ],
      "metadata": {
        "id": "d03sg5gxLdJD"
      },
      "execution_count": null,
      "outputs": []
    },
    {
      "cell_type": "markdown",
      "metadata": {
        "id": "e4Pnem-hLdJD"
      },
      "source": [
        "#### y prediction"
      ]
    },
    {
      "cell_type": "code",
      "source": [
        "# Mean Field\n",
        "states_average_plot_w_input_data_2(Y_pred[1,:].reshape(1,-1),N,T_prediction,ys[(T_transient+T_training+tau):(T_transient+T_training+T_prediction+tau)]\n",
        "                                 ,input_name=\"Lorenz y\", output_name=\"Prediction\",zoom_in=True, zoom_range=(0,250))"
      ],
      "metadata": {
        "id": "4dfhhjImLdJD"
      },
      "execution_count": null,
      "outputs": []
    },
    {
      "cell_type": "code",
      "source": [
        "pear_graph(Y_pred[1,:].reshape(1,-1), future_time=1000)"
      ],
      "metadata": {
        "id": "o7EzeP_IWLxy"
      },
      "execution_count": null,
      "outputs": []
    },
    {
      "cell_type": "markdown",
      "source": [
        "# Bifurations"
      ],
      "metadata": {
        "id": "ho5HwATlOsqy"
      }
    },
    {
      "cell_type": "markdown",
      "source": [
        "## F=F_identity"
      ],
      "metadata": {
        "id": "pP3orH8x7De5"
      }
    },
    {
      "cell_type": "code",
      "source": [
        "F = F_identity"
      ],
      "metadata": {
        "id": "y2ogXby57PdZ"
      },
      "execution_count": null,
      "outputs": []
    },
    {
      "cell_type": "markdown",
      "source": [
        "## Chemical"
      ],
      "metadata": {
        "id": "sww8ZuJ77T5r"
      }
    },
    {
      "cell_type": "code",
      "source": [
        "conn = \"Chemical\""
      ],
      "metadata": {
        "id": "0kJ6vYnM7YYZ"
      },
      "execution_count": null,
      "outputs": []
    },
    {
      "cell_type": "markdown",
      "source": [
        "### Network 1, N=100, sparsity=0.2, rho=0.8. alpha[0:2]"
      ],
      "metadata": {
        "id": "oppqxlF_-uHk"
      }
    },
    {
      "cell_type": "code",
      "source": [
        "B_1 = bifurcations_wrt_alpha(F, conn, 100, 0.2, 0.8, np.linspace(0, 2, 30),                               # F=F_identity, connectivity, Neurons, sparsity, rho, alphas\n",
        "                                     1000, 2000, 95,                                                  # T_transient, T = all time, Neuron index,\n",
        "                                      compute_state_matrix, vec_of_spec_X_row_weighted, find_spikes)  # functions"
      ],
      "metadata": {
        "id": "2EtRfuTY70Ib"
      },
      "execution_count": null,
      "outputs": []
    },
    {
      "cell_type": "code",
      "source": [
        "param_list, spikes = B_1\n",
        "plot_bifurcation(param_list, spikes)"
      ],
      "metadata": {
        "id": "h4Ws4rvN9C5c"
      },
      "execution_count": null,
      "outputs": []
    },
    {
      "cell_type": "code",
      "source": [
        "B_1_1 = bifurcations_wrt_alpha_2(F, conn, 100, 0.2, 0.8, np.linspace(0, 2, 30),                               # F=F_identity, connectivity, Neurons, sparsity, rho, alphas\n",
        "                                     1000, 2000, [5,95],                                                  # T_transient, T = all time, Neuron index,\n",
        "                                      compute_state_matrix, vec_of_spec_X_row_weighted, find_spikes)  # functions"
      ],
      "metadata": {
        "id": "goIE_0j0axdf"
      },
      "execution_count": null,
      "outputs": []
    },
    {
      "cell_type": "markdown",
      "source": [
        "#### alpha[0-1.75]"
      ],
      "metadata": {
        "id": "3o2oW3nntvqT"
      }
    },
    {
      "cell_type": "code",
      "source": [
        "B_1_2 = bifurcations_wrt_alpha_2(F, conn, 100, 0.2, 0.8, np.linspace(0, 1.75, 30),                               # F=F_identity, connectivity, Neurons, sparsity, rho, alphas\n",
        "                                     1000, 2000, [5,95],                                                  # T_transient, T = all time, Neuron index,\n",
        "                                      compute_state_matrix, vec_of_spec_X_row_weighted, find_spikes)  # functions"
      ],
      "metadata": {
        "id": "_1CRGS6rcivD"
      },
      "execution_count": null,
      "outputs": []
    },
    {
      "cell_type": "markdown",
      "source": [
        "#### alpha[0-1.9]"
      ],
      "metadata": {
        "id": "YMimYh4DuWUa"
      }
    },
    {
      "cell_type": "code",
      "source": [],
      "metadata": {
        "id": "Xzl1Y8fauVwn"
      },
      "execution_count": null,
      "outputs": []
    },
    {
      "cell_type": "code",
      "source": [
        "B_1_2 = bifurcations_wrt_alpha_2(F, conn, 100, 0.2, 0.8, np.linspace(0, 1.9, 30),                               # F=F_identity, connectivity, Neurons, sparsity, rho, alphas\n",
        "                                     1000, 2000, [5,95],                                                  # T_transient, T = all time, Neuron index,\n",
        "                                      compute_state_matrix, vec_of_spec_X_row_weighted, find_spikes)  # functions"
      ],
      "metadata": {
        "id": "Wx4ZOh62uRFt"
      },
      "execution_count": null,
      "outputs": []
    },
    {
      "cell_type": "markdown",
      "source": [
        "#### alpha[0, 0.25]"
      ],
      "metadata": {
        "id": "RHbSghIxuurQ"
      }
    },
    {
      "cell_type": "code",
      "source": [
        "B_1_2 = bifurcations_wrt_alpha_2(F, conn, 100, 0.2, 0.8, np.linspace(0, 0.25, 30),                               # F=F_identity, connectivity, Neurons, sparsity, rho, alphas\n",
        "                                     1000, 2000, [5,95],                                                  # T_transient, T = all time, Neuron index,\n",
        "                                      compute_state_matrix, vec_of_spec_X_row_weighted, find_spikes)  # functions"
      ],
      "metadata": {
        "id": "Cg-PN1F4c1BU"
      },
      "execution_count": null,
      "outputs": []
    },
    {
      "cell_type": "markdown",
      "source": [
        "### Network 2, N=100, e=0.2, rho=[0.0001, 3], alpha=0.8"
      ],
      "metadata": {
        "id": "UUdSlxNj9f0o"
      }
    },
    {
      "cell_type": "code",
      "source": [
        "B_2 = bifurcations_wrt_rho(F, conn, 100, 0.2, np.linspace(0.00001, 3, 30), 0.8,                           # F=F_identity, connectivity, Neurons, sparsity, rhos, alpha\n",
        "                                     1000, 2000, 95,                                                  # T_transient, T = all time, Neuron index,\n",
        "                                      compute_state_matrix, vec_of_spec_X_row_weighted, find_spikes)  # functions"
      ],
      "metadata": {
        "id": "hND4LCo4-WUk"
      },
      "execution_count": null,
      "outputs": []
    },
    {
      "cell_type": "code",
      "source": [
        "param_list, spikes = B_2\n",
        "plot_bifurcation(param_list, spikes)"
      ],
      "metadata": {
        "id": "4Z8-6hG6-lLD"
      },
      "execution_count": null,
      "outputs": []
    },
    {
      "cell_type": "code",
      "source": [
        "B_2_1 = bifurcations_wrt_rho_2(F, conn, 100, 0.2, np.linspace(0.00001, 3, 30), 0.8,                           # F=F_identity, connectivity, Neurons, sparsity, rhos, alpha\n",
        "                                     1000, 2000, [5,95],                                                  # T_transient, T = all time, Neuron index,\n",
        "                                      compute_state_matrix, vec_of_spec_X_row_weighted, find_spikes)  # functions"
      ],
      "metadata": {
        "id": "GsticPz9bv4A"
      },
      "execution_count": null,
      "outputs": []
    },
    {
      "cell_type": "code",
      "source": [
        "run_network_and_plot_bifurcation_2(compute_state_matrix, F_mod, vec_of_spec_X_row_weighted, find_spikes, np.linspace(0, 0.15, 20), [5, 95])"
      ],
      "metadata": {
        "id": "EwYwIq32Zn1l"
      },
      "execution_count": null,
      "outputs": []
    },
    {
      "cell_type": "markdown",
      "source": [
        "### Network 3, N=100, e=0.2, rho=[0.000001, 3], alpha=1.3"
      ],
      "metadata": {
        "id": "WEtRUvMiVx4f"
      }
    },
    {
      "cell_type": "code",
      "source": [
        "B_3 = bifurcations_wrt_rho(F, conn, 100, 0.2, np.linspace(0.00001, 3, 30), 1.3,                       # F=F_identity, connectivity, Neurons, sparsity, rhos, alpha\n",
        "                                     1000, 2000, 95,                                                  # T_transient, T = all time, Neuron index,\n",
        "                                      compute_state_matrix, vec_of_spec_X_row_weighted, find_spikes)  # functions"
      ],
      "metadata": {
        "id": "58MyuqRuV7UQ"
      },
      "execution_count": null,
      "outputs": []
    },
    {
      "cell_type": "code",
      "source": [
        "param_list, spikes = B_3\n",
        "plot_bifurcation(param_list, spikes)"
      ],
      "metadata": {
        "id": "Bx4aylIxWASD"
      },
      "execution_count": null,
      "outputs": []
    },
    {
      "cell_type": "code",
      "source": [
        "B_3_1 = bifurcations_wrt_rho_2(F, conn, 100, 0.2,np.linspace(0.00001, 3, 30), 1.3,                           # F=F_identity, connectivity, Neurons, sparsity, rhos, alpha\n",
        "                                     1000, 2000, [5,95],                                                  # T_transient, T = all time, Neuron index,\n",
        "                                      compute_state_matrix, vec_of_spec_X_row_weighted, find_spikes)"
      ],
      "metadata": {
        "id": "8DRtkmTXv33i"
      },
      "execution_count": null,
      "outputs": []
    },
    {
      "cell_type": "markdown",
      "source": [
        "### Network 4, N=100, e=0.2, rho=[0.000001, 3], alpha=1.8"
      ],
      "metadata": {
        "id": "U_TGBwnnWNYU"
      }
    },
    {
      "cell_type": "code",
      "source": [
        "B_4 = bifurcations_wrt_rho(F, conn, 100, 0.2, np.linspace(0.00001, 3, 30), 1.8,                       # F=F_identity, connectivity, Neurons, sparsity, rhos, alpha\n",
        "                                     1000, 2000, 95,                                                  # T_transient, T = all time, Neuron index,\n",
        "                                      compute_state_matrix, vec_of_spec_X_row_weighted, find_spikes)  # functions"
      ],
      "metadata": {
        "id": "UF5FYcHCWMt4"
      },
      "execution_count": null,
      "outputs": []
    },
    {
      "cell_type": "code",
      "source": [
        "param_list, spikes = B_4\n",
        "plot_bifurcation(param_list, spikes)"
      ],
      "metadata": {
        "id": "Ywk6Pp-VWhZb"
      },
      "execution_count": null,
      "outputs": []
    },
    {
      "cell_type": "markdown",
      "source": [
        "### Network 5, N=100, sparsity=0.2, rho=1.3, alpha[0:2]"
      ],
      "metadata": {
        "id": "u5_HDMfvWwB6"
      }
    },
    {
      "cell_type": "code",
      "source": [
        "B_5 = bifurcations_wrt_alpha(F, conn, 100, 0.2, 1.3, np.linspace(0, 2, 30),                               # F=F_identity, connectivity, Neurons, sparsity, rho, alphas\n",
        "                                     1000, 2000, 95,                                                  # T_transient, T = all time, Neuron index,\n",
        "                                      compute_state_matrix, vec_of_spec_X_row_weighted, find_spikes)  # functions"
      ],
      "metadata": {
        "id": "gHXBj5-iWwoK"
      },
      "execution_count": null,
      "outputs": []
    },
    {
      "cell_type": "code",
      "source": [
        "param_list, spikes = B_5\n",
        "plot_bifurcation(param_list, spikes)"
      ],
      "metadata": {
        "id": "aMRWaziXW_Lk"
      },
      "execution_count": null,
      "outputs": []
    },
    {
      "cell_type": "markdown",
      "source": [
        "### Network 6, N=100, sparsity=0.2, rho=1.3, alpha[0:2]"
      ],
      "metadata": {
        "id": "8kpzeX7UXFvU"
      }
    },
    {
      "cell_type": "code",
      "source": [
        "B_6 = bifurcations_wrt_alpha(F, conn, 100, 0.2, 2.5, np.linspace(0, 2, 30),                               # F=F_identity, connectivity, Neurons, sparsity, rho, alphas\n",
        "                                     1000, 2000, 95,                                                  # T_transient, T = all time, Neuron index,\n",
        "                                      compute_state_matrix, vec_of_spec_X_row_weighted, find_spikes)  # functions"
      ],
      "metadata": {
        "id": "Pt0vMl-TXFrQ"
      },
      "execution_count": null,
      "outputs": []
    },
    {
      "cell_type": "code",
      "source": [
        "param_list, spikes = B_6\n",
        "plot_bifurcation(param_list, spikes)"
      ],
      "metadata": {
        "id": "cTACdqQ0XOFd"
      },
      "execution_count": null,
      "outputs": []
    },
    {
      "cell_type": "markdown",
      "source": [
        "## F=F_identity, conn=\"Electrical\""
      ],
      "metadata": {
        "id": "d-OUBEhckjLL"
      }
    },
    {
      "cell_type": "code",
      "source": [
        "F=F_identity"
      ],
      "metadata": {
        "id": "vP1b5VTTkqpt"
      },
      "execution_count": null,
      "outputs": []
    },
    {
      "cell_type": "code",
      "source": [
        "conn = \"Electrical\""
      ],
      "metadata": {
        "id": "nTB54_2zkq5K"
      },
      "execution_count": null,
      "outputs": []
    },
    {
      "cell_type": "markdown",
      "source": [
        "### Network 1, N=100, sparsity=0.2, rho=0.8. alpha[0:2]"
      ],
      "metadata": {
        "id": "7omKGOHAkq5K"
      }
    },
    {
      "cell_type": "code",
      "source": [
        "B_1 = bifurcations_wrt_alpha(F, conn, 100, 0.2, 0.8, np.linspace(0, 2, 30),                               # F=F_identity, connectivity, Neurons, sparsity, rho, alphas\n",
        "                                     1000, 2000, 95,                                                  # T_transient, T = all time, Neuron index,\n",
        "                                      compute_state_matrix, vec_of_spec_X_row_weighted, find_spikes)  # functions"
      ],
      "metadata": {
        "id": "8hQKd2a3kq5K"
      },
      "execution_count": null,
      "outputs": []
    },
    {
      "cell_type": "code",
      "source": [
        "param_list, spikes = B_1\n",
        "plot_bifurcation(param_list, spikes)"
      ],
      "metadata": {
        "id": "pP8Ea0TLkq5K"
      },
      "execution_count": null,
      "outputs": []
    },
    {
      "cell_type": "code",
      "source": [
        "B_1_1 = bifurcations_wrt_alpha_2(F, conn, 100, 0.2, 0.8, np.linspace(0, 1.95, 30),                               # F=F_identity, connectivity, Neurons, sparsity, rho, alphas\n",
        "                                     1000, 2000, [95],                                                  # T_transient, T = all time, Neuron index,\n",
        "                                      compute_state_matrix, vec_of_spec_X_row_weighted, find_spikes)  # functions"
      ],
      "metadata": {
        "id": "-eCwV7e6kq5L"
      },
      "execution_count": null,
      "outputs": []
    },
    {
      "cell_type": "markdown",
      "source": [
        "#### alpha[1.9 -1.98]"
      ],
      "metadata": {
        "id": "r5Qis1Se4sA6"
      }
    },
    {
      "cell_type": "code",
      "source": [
        "B_1_1 = bifurcations_wrt_alpha_2(F, conn, 100, 0.2, 0.8, np.linspace(1.9, 1.98, 30),                               # F=F_identity, connectivity, Neurons, sparsity, rho, alphas\n",
        "                                     1000, 2000, [95],                                                  # T_transient, T = all time, Neuron index,\n",
        "                                      compute_state_matrix, vec_of_spec_X_row_weighted, find_spikes)  # functions"
      ],
      "metadata": {
        "id": "Zc46iSnF4yuw"
      },
      "execution_count": null,
      "outputs": []
    },
    {
      "cell_type": "markdown",
      "source": [
        "### Network 2, N=100, e=0.2, rho=[0.0001, 3], alpha=0.8"
      ],
      "metadata": {
        "id": "qpjkh_S-kq5L"
      }
    },
    {
      "cell_type": "code",
      "source": [
        "B_2 = bifurcations_wrt_rho(F, conn, 100, 0.2, np.linspace(0.00001, 3, 30), 0.8,                           # F=F_identity, connectivity, Neurons, sparsity, rhos, alpha\n",
        "                                     1000, 2000, 95,                                                  # T_transient, T = all time, Neuron index,\n",
        "                                      compute_state_matrix, vec_of_spec_X_row_weighted, find_spikes)  # functions"
      ],
      "metadata": {
        "id": "dtvNcXaVkq5L"
      },
      "execution_count": null,
      "outputs": []
    },
    {
      "cell_type": "code",
      "source": [
        "param_list, spikes = B_2\n",
        "plot_bifurcation(param_list, spikes)"
      ],
      "metadata": {
        "id": "AUliXX1skq5M"
      },
      "execution_count": null,
      "outputs": []
    },
    {
      "cell_type": "code",
      "source": [
        "B_2_1 = bifurcations_wrt_rho_2(F, conn, 100, 0.2, np.linspace(0.00001, 3, 30), 0.8,                           # F=F_identity, connectivity, Neurons, sparsity, rhos, alpha\n",
        "                                     1000, 2000, [5,95],                                                  # T_transient, T = all time, Neuron index,\n",
        "                                      compute_state_matrix, vec_of_spec_X_row_weighted, find_spikes)  # functions"
      ],
      "metadata": {
        "id": "tREKjwlFkq5M"
      },
      "execution_count": null,
      "outputs": []
    },
    {
      "cell_type": "code",
      "source": [
        "run_network_and_plot_bifurcation_2(compute_state_matrix, F_mod, vec_of_spec_X_row_weighted, find_spikes, np.linspace(0, 0.15, 20), [5, 95])"
      ],
      "metadata": {
        "id": "nvT_w6SWkq5M"
      },
      "execution_count": null,
      "outputs": []
    },
    {
      "cell_type": "markdown",
      "source": [
        "### Network 3, N=100, e=0.2, rho=[0.000001, 3], alpha=1.3"
      ],
      "metadata": {
        "id": "hWM-inankq5M"
      }
    },
    {
      "cell_type": "code",
      "source": [
        "B_3 = bifurcations_wrt_rho(F, conn, 100, 0.2, np.linspace(0.00001, 3, 30), 1.3,                       # F=F_identity, connectivity, Neurons, sparsity, rhos, alpha\n",
        "                                     1000, 2000, 95,                                                  # T_transient, T = all time, Neuron index,\n",
        "                                      compute_state_matrix, vec_of_spec_X_row_weighted, find_spikes)  # functions"
      ],
      "metadata": {
        "id": "hxksr645kq5M"
      },
      "execution_count": null,
      "outputs": []
    },
    {
      "cell_type": "code",
      "source": [
        "param_list, spikes = B_3\n",
        "plot_bifurcation(param_list, spikes)"
      ],
      "metadata": {
        "id": "utXLVdwekq5M"
      },
      "execution_count": null,
      "outputs": []
    },
    {
      "cell_type": "markdown",
      "source": [
        "### Network 4, N=100, e=0.2, rho=[0.000001, 3], alpha=1.8"
      ],
      "metadata": {
        "id": "1nVGtiVtkq5N"
      }
    },
    {
      "cell_type": "code",
      "source": [
        "B_4 = bifurcations_wrt_rho(F, conn, 100, 0.2, np.linspace(0.00001, 3, 30), 1.8,                       # F=F_identity, connectivity, Neurons, sparsity, rhos, alpha\n",
        "                                     1000, 2000, 95,                                                  # T_transient, T = all time, Neuron index,\n",
        "                                      compute_state_matrix, vec_of_spec_X_row_weighted, find_spikes)  # functions"
      ],
      "metadata": {
        "id": "36k46Rnzkq5N"
      },
      "execution_count": null,
      "outputs": []
    },
    {
      "cell_type": "code",
      "source": [
        "param_list, spikes = B_4\n",
        "plot_bifurcation(param_list, spikes)"
      ],
      "metadata": {
        "id": "7vykfAbykq5N"
      },
      "execution_count": null,
      "outputs": []
    },
    {
      "cell_type": "markdown",
      "source": [
        "### Network 5, N=100, sparsity=0.2, rho=1.3, alpha[0:2]"
      ],
      "metadata": {
        "id": "e-EeKahYkq5N"
      }
    },
    {
      "cell_type": "code",
      "source": [
        "B_5 = bifurcations_wrt_alpha(F, conn, 100, 0.2, 1.3, np.linspace(0, 2, 30),                               # F=F_identity, connectivity, Neurons, sparsity, rho, alphas\n",
        "                                     1000, 2000, 95,                                                  # T_transient, T = all time, Neuron index,\n",
        "                                      compute_state_matrix, vec_of_spec_X_row_weighted, find_spikes)  # functions"
      ],
      "metadata": {
        "id": "lNhLCLAdkq5N"
      },
      "execution_count": null,
      "outputs": []
    },
    {
      "cell_type": "code",
      "source": [
        "param_list, spikes = B_5\n",
        "plot_bifurcation(param_list, spikes)"
      ],
      "metadata": {
        "id": "9l88o_5wkq5N"
      },
      "execution_count": null,
      "outputs": []
    },
    {
      "cell_type": "markdown",
      "source": [
        "### Network 6, N=100, sparsity=0.2, rho=2.5, alpha[0:2]"
      ],
      "metadata": {
        "id": "yxyQ9-22kq5O"
      }
    },
    {
      "cell_type": "code",
      "source": [
        "B_6 = bifurcations_wrt_alpha(F, conn, 100, 0.2, 2.5, np.linspace(0, 2, 30),                               # F=F_identity, connectivity, Neurons, sparsity, rho, alphas\n",
        "                                     1000, 2000, 95,                                                  # T_transient, T = all time, Neuron index,\n",
        "                                      compute_state_matrix, vec_of_spec_X_row_weighted, find_spikes)  # functions"
      ],
      "metadata": {
        "id": "BapT-iGpkq5O"
      },
      "execution_count": null,
      "outputs": []
    },
    {
      "cell_type": "code",
      "source": [
        "param_list, spikes = B_6\n",
        "plot_bifurcation(param_list, spikes)"
      ],
      "metadata": {
        "id": "R9kB1bjgkq5O"
      },
      "execution_count": null,
      "outputs": []
    },
    {
      "cell_type": "code",
      "source": [],
      "metadata": {
        "id": "cqwdndkCSeEQ"
      },
      "execution_count": null,
      "outputs": []
    },
    {
      "cell_type": "markdown",
      "source": [
        "## F=F_mod, conn=\"Chemical\""
      ],
      "metadata": {
        "id": "7EbUVm0ZSedX"
      }
    },
    {
      "cell_type": "code",
      "source": [
        "F=F_mod"
      ],
      "metadata": {
        "id": "9uH9wnRVSedX"
      },
      "execution_count": null,
      "outputs": []
    },
    {
      "cell_type": "code",
      "source": [
        "conn = \"Chemical\""
      ],
      "metadata": {
        "id": "40NXh9NuSedX"
      },
      "execution_count": null,
      "outputs": []
    },
    {
      "cell_type": "markdown",
      "source": [
        "### Network 1, N=100, sparsity=0.2, rho=0.8. alpha[0:2]"
      ],
      "metadata": {
        "id": "WZnUaeZZSedY"
      }
    },
    {
      "cell_type": "code",
      "source": [
        "B_1 = bifurcations_wrt_alpha(F, conn, 100, 0.2, 0.8, np.linspace(0, 2, 30),                               # F=F_identity, connectivity, Neurons, sparsity, rho, alphas\n",
        "                                     1000, 2000, 95,                                                  # T_transient, T = all time, Neuron index,\n",
        "                                      compute_state_matrix, vec_of_spec_X_row_weighted, find_spikes)  # functions"
      ],
      "metadata": {
        "id": "VSVJ7ioXSedY"
      },
      "execution_count": null,
      "outputs": []
    },
    {
      "cell_type": "code",
      "source": [
        "param_list, spikes = B_1\n",
        "plot_bifurcation(param_list, spikes)"
      ],
      "metadata": {
        "id": "Z7snBcyFSedY"
      },
      "execution_count": null,
      "outputs": []
    },
    {
      "cell_type": "code",
      "source": [
        "B_1_1 = bifurcations_wrt_alpha_2(F, conn, 100, 0.2, 0.8, np.linspace(0, 2, 30),                               # F=F_identity, connectivity, Neurons, sparsity, rho, alphas\n",
        "                                     1000, 2000, [5,95],                                                  # T_transient, T = all time, Neuron index,\n",
        "                                      compute_state_matrix, vec_of_spec_X_row_weighted, find_spikes)  # functions"
      ],
      "metadata": {
        "id": "l8k6gkrjSedY"
      },
      "execution_count": null,
      "outputs": []
    },
    {
      "cell_type": "markdown",
      "source": [
        "#### alpha[0-0.25]\n"
      ],
      "metadata": {
        "id": "TntDcWxeO6L1"
      }
    },
    {
      "cell_type": "code",
      "source": [
        "B_1_2 = bifurcations_wrt_alpha_2(F, conn, 100, 0.2, 0.8, np.linspace(0, 0.25, 30),                               # F=F_identity, connectivity, Neurons, sparsity, rho, alphas\n",
        "                                     1000, 2000, [5,50,95],                                                  # T_transient, T = all time, Neuron index,\n",
        "                                      compute_state_matrix, vec_of_spec_X_row_weighted, find_spikes)  # functions"
      ],
      "metadata": {
        "id": "hsrFQi_QO9Qo"
      },
      "execution_count": null,
      "outputs": []
    },
    {
      "cell_type": "code",
      "source": [
        "B_1_2 = bifurcations_wrt_alpha_2(F, conn, 100, 0.2, 0.8, np.linspace(0, 0.25, 30),                               # F=F_identity, connectivity, Neurons, sparsity, rho, alphas\n",
        "                                     1000, 2000, [85,97],                                                  # T_transient, T = all time, Neuron index,\n",
        "                                      compute_state_matrix, vec_of_spec_X_row_weighted, find_spikes)  # functions"
      ],
      "metadata": {
        "id": "AuzslSFs6jKM"
      },
      "execution_count": null,
      "outputs": []
    },
    {
      "cell_type": "markdown",
      "source": [
        "#### alpha[0.05-0.08]"
      ],
      "metadata": {
        "id": "AU30iRO37yuA"
      }
    },
    {
      "cell_type": "code",
      "source": [
        "B_1_2 = bifurcations_wrt_alpha_2(F, conn, 100, 0.2, 0.8, np.linspace(0.05, 0.08, 30),                               # F=F_identity, connectivity, Neurons, sparsity, rho, alphas\n",
        "                                     1000, 2000, [85,97],                                                  # T_transient, T = all time, Neuron index,\n",
        "                                      compute_state_matrix, vec_of_spec_X_row_weighted, find_spikes)  # functions"
      ],
      "metadata": {
        "id": "gYbkgpke7elH"
      },
      "execution_count": null,
      "outputs": []
    },
    {
      "cell_type": "markdown",
      "source": [
        "#### alpha[0.18 - 0.23]"
      ],
      "metadata": {
        "id": "j69qnOGo74LL"
      }
    },
    {
      "cell_type": "code",
      "source": [
        "B_1_2 = bifurcations_wrt_alpha_2(F, conn, 100, 0.2, 0.8, np.linspace(0.18, 0.23, 30),                               # F=F_identity, connectivity, Neurons, sparsity, rho, alphas\n",
        "                                     1000, 2000, [85,97],                                                  # T_transient, T = all time, Neuron index,\n",
        "                                      compute_state_matrix, vec_of_spec_X_row_weighted, find_spikes)  # functions"
      ],
      "metadata": {
        "id": "0Cxj8THH7-hF"
      },
      "execution_count": null,
      "outputs": []
    },
    {
      "cell_type": "code",
      "source": [
        "B_1_2 = bifurcations_wrt_alpha_2(F, conn, 100, 0.2, 0.8, np.linspace(0.18, 0.23, 30),                               # F=F_identity, connectivity, Neurons, sparsity, rho, alphas\n",
        "                                     1000, 2000, [1,50,95],                                                  # T_transient, T = all time, Neuron index,\n",
        "                                      compute_state_matrix, vec_of_spec_X_row_weighted, find_spikes)  # functions"
      ],
      "metadata": {
        "id": "E2xVTpkk8WTu"
      },
      "execution_count": null,
      "outputs": []
    },
    {
      "cell_type": "markdown",
      "source": [
        "### Network 2, N=100, e=0.2, rho=[0.0001, 3], alpha=0.8"
      ],
      "metadata": {
        "id": "wS724DrQSedY"
      }
    },
    {
      "cell_type": "code",
      "source": [
        "B_2 = bifurcations_wrt_rho(F, conn, 100, 0.2, np.linspace(0.00001, 3, 30), 0.8,                           # F=F_identity, connectivity, Neurons, sparsity, rhos, alpha\n",
        "                                     1000, 2000, 95,                                                  # T_transient, T = all time, Neuron index,\n",
        "                                      compute_state_matrix, vec_of_spec_X_row_weighted, find_spikes)  # functions"
      ],
      "metadata": {
        "id": "GN2wkHeASedY"
      },
      "execution_count": null,
      "outputs": []
    },
    {
      "cell_type": "code",
      "source": [
        "param_list, spikes = B_2\n",
        "plot_bifurcation(param_list, spikes)"
      ],
      "metadata": {
        "id": "K-EJrm2zSedZ"
      },
      "execution_count": null,
      "outputs": []
    },
    {
      "cell_type": "code",
      "source": [
        "B_2_1 = bifurcations_wrt_rho_2(F, conn, 100, 0.2, np.linspace(0.00001, 3, 30), 0.8,                           # F=F_identity, connectivity, Neurons, sparsity, rhos, alpha\n",
        "                                     1000, 2000, [5,95],                                                  # T_transient, T = all time, Neuron index,\n",
        "                                      compute_state_matrix, vec_of_spec_X_row_weighted, find_spikes)  # functions"
      ],
      "metadata": {
        "id": "c_6Ra3-cSedZ"
      },
      "execution_count": null,
      "outputs": []
    },
    {
      "cell_type": "markdown",
      "source": [
        "### Network 3, N=100, e=0.2, rho=[0.000001, 3], alpha=1.3"
      ],
      "metadata": {
        "id": "9ufEiwdmSedZ"
      }
    },
    {
      "cell_type": "code",
      "source": [
        "B_3 = bifurcations_wrt_rho(F, conn, 100, 0.2, np.linspace(0.00001, 3, 30), 1.3,                       # F=F_identity, connectivity, Neurons, sparsity, rhos, alpha\n",
        "                                     1000, 2000, 95,                                                  # T_transient, T = all time, Neuron index,\n",
        "                                      compute_state_matrix, vec_of_spec_X_row_weighted, find_spikes)  # functions"
      ],
      "metadata": {
        "id": "w5TRB6iFSedZ"
      },
      "execution_count": null,
      "outputs": []
    },
    {
      "cell_type": "code",
      "source": [
        "param_list, spikes = B_3\n",
        "plot_bifurcation(param_list, spikes)"
      ],
      "metadata": {
        "id": "tKDFYgVZSedZ"
      },
      "execution_count": null,
      "outputs": []
    },
    {
      "cell_type": "markdown",
      "source": [
        "### Network 4, N=100, e=0.2, rho=[0.000001, 3], alpha=1.8"
      ],
      "metadata": {
        "id": "tnPiI4vTSeda"
      }
    },
    {
      "cell_type": "code",
      "source": [
        "B_4 = bifurcations_wrt_rho(F, conn, 100, 0.2, np.linspace(0.00001, 3, 30), 1.8,                       # F=F_identity, connectivity, Neurons, sparsity, rhos, alpha\n",
        "                                     1000, 2000, 95,                                                  # T_transient, T = all time, Neuron index,\n",
        "                                      compute_state_matrix, vec_of_spec_X_row_weighted, find_spikes)  # functions"
      ],
      "metadata": {
        "id": "crIch89gSeda"
      },
      "execution_count": null,
      "outputs": []
    },
    {
      "cell_type": "code",
      "source": [
        "param_list, spikes = B_4\n",
        "plot_bifurcation(param_list, spikes)"
      ],
      "metadata": {
        "id": "27HCD0DtSeda"
      },
      "execution_count": null,
      "outputs": []
    },
    {
      "cell_type": "markdown",
      "source": [
        "### Network 5, N=100, sparsity=0.2, rho=1.3, alpha[0:2]"
      ],
      "metadata": {
        "id": "NUTlrHT_Seda"
      }
    },
    {
      "cell_type": "code",
      "source": [
        "B_5 = bifurcations_wrt_alpha(F, conn, 100, 0.2, 1.3, np.linspace(0, 2, 30),                               # F=F_identity, connectivity, Neurons, sparsity, rho, alphas\n",
        "                                     1000, 2000, 95,                                                  # T_transient, T = all time, Neuron index,\n",
        "                                      compute_state_matrix, vec_of_spec_X_row_weighted, find_spikes)  # functions"
      ],
      "metadata": {
        "id": "aAbHGvitSeda"
      },
      "execution_count": null,
      "outputs": []
    },
    {
      "cell_type": "code",
      "source": [
        "param_list, spikes = B_5\n",
        "plot_bifurcation(param_list, spikes)"
      ],
      "metadata": {
        "id": "fW8pAk2_Seda"
      },
      "execution_count": null,
      "outputs": []
    },
    {
      "cell_type": "markdown",
      "source": [
        "### Network 6, N=100, sparsity=0.2, rho=2.5, alpha[0:2]"
      ],
      "metadata": {
        "id": "nt1CYJeVSeda"
      }
    },
    {
      "cell_type": "code",
      "source": [
        "B_6 = bifurcations_wrt_alpha(F, conn, 100, 0.2, 2.5, np.linspace(0, 2, 30),                               # F=F_identity, connectivity, Neurons, sparsity, rho, alphas\n",
        "                                     1000, 2000, 95,                                                  # T_transient, T = all time, Neuron index,\n",
        "                                      compute_state_matrix, vec_of_spec_X_row_weighted, find_spikes)  # functions"
      ],
      "metadata": {
        "id": "XYTlGr1SSedb"
      },
      "execution_count": null,
      "outputs": []
    },
    {
      "cell_type": "code",
      "source": [
        "param_list, spikes = B_6\n",
        "plot_bifurcation(param_list, spikes)"
      ],
      "metadata": {
        "id": "WgyscJ7hSedb"
      },
      "execution_count": null,
      "outputs": []
    },
    {
      "cell_type": "code",
      "source": [],
      "metadata": {
        "id": "KK0d_AQNT7PY"
      },
      "execution_count": null,
      "outputs": []
    },
    {
      "cell_type": "markdown",
      "source": [
        "## F=F_mod, conn=\"Electrical\""
      ],
      "metadata": {
        "id": "mX3Y-pE7T7Zv"
      }
    },
    {
      "cell_type": "code",
      "source": [
        "F=F_mod"
      ],
      "metadata": {
        "id": "vds8j2bNT7Zv"
      },
      "execution_count": null,
      "outputs": []
    },
    {
      "cell_type": "code",
      "source": [
        "conn = \"Electrical\""
      ],
      "metadata": {
        "id": "60Gze4cRT7Zv"
      },
      "execution_count": null,
      "outputs": []
    },
    {
      "cell_type": "markdown",
      "source": [
        "### Network 1, N=100, sparsity=0.2, rho=0.8. alpha[0:2]"
      ],
      "metadata": {
        "id": "8H4NAxu7T7Zv"
      }
    },
    {
      "cell_type": "code",
      "source": [
        "B_1 = bifurcations_wrt_alpha(F, conn, 100, 0.2, 0.8, np.linspace(0, 2, 30),                               # F=F_identity, connectivity, Neurons, sparsity, rho, alphas\n",
        "                                     1000, 2000, 95,                                                  # T_transient, T = all time, Neuron index,\n",
        "                                      compute_state_matrix, vec_of_spec_X_row_weighted, find_spikes)  # functions"
      ],
      "metadata": {
        "id": "XxkdWDM0T7Zv"
      },
      "execution_count": null,
      "outputs": []
    },
    {
      "cell_type": "code",
      "source": [
        "param_list, spikes = B_1\n",
        "plot_bifurcation(param_list, spikes)"
      ],
      "metadata": {
        "id": "qdEDnBt0T7Zw"
      },
      "execution_count": null,
      "outputs": []
    },
    {
      "cell_type": "code",
      "source": [
        "B_1_1 = bifurcations_wrt_alpha_2(F, conn, 100, 0.2, 0.8, np.linspace(0, 2, 30),                               # F=F_identity, connectivity, Neurons, sparsity, rho, alphas\n",
        "                                     1000, 2000, [5,95],                                                  # T_transient, T = all time, Neuron index,\n",
        "                                      compute_state_matrix, vec_of_spec_X_row_weighted, find_spikes)  # functions"
      ],
      "metadata": {
        "id": "UqFJxIKoT7Zw"
      },
      "execution_count": null,
      "outputs": []
    },
    {
      "cell_type": "markdown",
      "source": [
        "#### alpha[0,0.25]"
      ],
      "metadata": {
        "id": "dldL3Qw9enTP"
      }
    },
    {
      "cell_type": "code",
      "source": [
        "B_1_2 = bifurcations_wrt_alpha_2(F, conn, 100, 0.2, 0.8, np.linspace(0, 0.25, 15),                               # F=F_identity, connectivity, Neurons, sparsity, rho, alphas\n",
        "                                     1000, 2000, [5,95],                                                  # T_transient, T = all time, Neuron index,\n",
        "                                      compute_state_matrix, vec_of_spec_X_row_weighted, find_spikes)  # functions"
      ],
      "metadata": {
        "id": "mVpmFZfwVQrz"
      },
      "execution_count": null,
      "outputs": []
    },
    {
      "cell_type": "code",
      "source": [
        "B_1_3 = bifurcations_wrt_alpha_2(F, conn, 100, 0.2, 0.8, np.linspace(0, 0.25, 30),                               # F=F_identity, connectivity, Neurons, sparsity, rho, alphas\n",
        "                                     1000, 2000, [10,90],                                                  # T_transient, T = all time, Neuron index,\n",
        "                                      compute_state_matrix, vec_of_spec_X_row_weighted, find_spikes)  # functions"
      ],
      "metadata": {
        "id": "YbUbsrEoVe6o"
      },
      "execution_count": null,
      "outputs": []
    },
    {
      "cell_type": "markdown",
      "source": [
        "#### alpha[0, 1.75] 2 neurons"
      ],
      "metadata": {
        "id": "jSYK0B6RfwBZ"
      }
    },
    {
      "cell_type": "code",
      "source": [
        "B_1_4 = bifurcations_wrt_alpha_2(F, conn, 100, 0.2, 0.8, np.linspace(0, 1.75, 60),                               # F=F_identity, connectivity, Neurons, sparsity, rho, alphas\n",
        "                                     1000, 2000, [10,90],                                                  # T_transient, T = all time, Neuron index,\n",
        "                                      compute_state_matrix, vec_of_spec_X_row_weighted, find_spikes)  # functions"
      ],
      "metadata": {
        "id": "QEKQemp5-MtH"
      },
      "execution_count": null,
      "outputs": []
    },
    {
      "cell_type": "markdown",
      "source": [
        "### Network 2, N=100, e=0.2, rho=[0.0001, 3], alpha=0.8"
      ],
      "metadata": {
        "id": "ZskHIzWVT7Zw"
      }
    },
    {
      "cell_type": "code",
      "source": [
        "B_2 = bifurcations_wrt_rho(F, conn, 100, 0.2, np.linspace(0.00001, 3, 30), 0.8,                           # F=F_identity, connectivity, Neurons, sparsity, rhos, alpha\n",
        "                                     1000, 2000, 95,                                                  # T_transient, T = all time, Neuron index,\n",
        "                                      compute_state_matrix, vec_of_spec_X_row_weighted, find_spikes)  # functions"
      ],
      "metadata": {
        "id": "gMD8jM7-T7Zw"
      },
      "execution_count": null,
      "outputs": []
    },
    {
      "cell_type": "code",
      "source": [
        "param_list, spikes = B_2\n",
        "plot_bifurcation(param_list, spikes)"
      ],
      "metadata": {
        "id": "yjYRtUBiT7Zx"
      },
      "execution_count": null,
      "outputs": []
    },
    {
      "cell_type": "code",
      "source": [
        "B_2_1 = bifurcations_wrt_rho_2(F, conn, 100, 0.2, np.linspace(0.00001, 3, 30), 0.8,                           # F=F_identity, connectivity, Neurons, sparsity, rhos, alpha\n",
        "                                     1000, 2000, [5,95],                                                  # T_transient, T = all time, Neuron index,\n",
        "                                      compute_state_matrix, vec_of_spec_X_row_weighted, find_spikes)  # functions"
      ],
      "metadata": {
        "id": "inW6qzqrT7Zx"
      },
      "execution_count": null,
      "outputs": []
    },
    {
      "cell_type": "markdown",
      "source": [
        "### Network 3, N=100, e=0.2, rho=[0.000001, 3], alpha=1.3"
      ],
      "metadata": {
        "id": "wPaf43GxT7Zx"
      }
    },
    {
      "cell_type": "code",
      "source": [
        "B_3 = bifurcations_wrt_rho(F, conn, 100, 0.2, np.linspace(0.00001, 3, 30), 1.3,                       # F=F_identity, connectivity, Neurons, sparsity, rhos, alpha\n",
        "                                     1000, 2000, 95,                                                  # T_transient, T = all time, Neuron index,\n",
        "                                      compute_state_matrix, vec_of_spec_X_row_weighted, find_spikes)  # functions"
      ],
      "metadata": {
        "id": "Faf5ER76T7Zx"
      },
      "execution_count": null,
      "outputs": []
    },
    {
      "cell_type": "code",
      "source": [
        "param_list, spikes = B_3\n",
        "plot_bifurcation(param_list, spikes)"
      ],
      "metadata": {
        "id": "I4IVFdUfT7Zx"
      },
      "execution_count": null,
      "outputs": []
    },
    {
      "cell_type": "markdown",
      "source": [
        "### Network 4, N=100, e=0.2, rho=[0.000001, 3], alpha=1.8"
      ],
      "metadata": {
        "id": "jeBcpCvkT7Zy"
      }
    },
    {
      "cell_type": "code",
      "source": [
        "B_4 = bifurcations_wrt_rho(F, conn, 100, 0.2, np.linspace(0.00001, 3, 30), 1.8,                       # F=F_identity, connectivity, Neurons, sparsity, rhos, alpha\n",
        "                                     1000, 2000, 95,                                                  # T_transient, T = all time, Neuron index,\n",
        "                                      compute_state_matrix, vec_of_spec_X_row_weighted, find_spikes)  # functions"
      ],
      "metadata": {
        "id": "O4It_mg0T7Zy"
      },
      "execution_count": null,
      "outputs": []
    },
    {
      "cell_type": "code",
      "source": [
        "param_list, spikes = B_4\n",
        "plot_bifurcation(param_list, spikes)"
      ],
      "metadata": {
        "id": "EXtBuOhXT7Zy"
      },
      "execution_count": null,
      "outputs": []
    },
    {
      "cell_type": "markdown",
      "source": [
        "### Network 5, N=100, sparsity=0.2, rho=1.3, alpha[0:2]"
      ],
      "metadata": {
        "id": "n8sIIzi2T7Zy"
      }
    },
    {
      "cell_type": "code",
      "source": [
        "B_5 = bifurcations_wrt_alpha(F, conn, 100, 0.2, 1.3, np.linspace(0, 2, 30),                               # F=F_identity, connectivity, Neurons, sparsity, rho, alphas\n",
        "                                     1000, 2000, 95,                                                  # T_transient, T = all time, Neuron index,\n",
        "                                      compute_state_matrix, vec_of_spec_X_row_weighted, find_spikes)  # functions"
      ],
      "metadata": {
        "id": "p3YnfwoXT7Zy"
      },
      "execution_count": null,
      "outputs": []
    },
    {
      "cell_type": "code",
      "source": [
        "param_list, spikes = B_5\n",
        "plot_bifurcation(param_list, spikes)"
      ],
      "metadata": {
        "id": "YdlXoxHMT7Zy"
      },
      "execution_count": null,
      "outputs": []
    },
    {
      "cell_type": "code",
      "source": [
        "B_1_5 = bifurcations_wrt_alpha_2(F, conn, 100, 0.2, 1.3, np.linspace(0, 0.25, 30),                               # F=F_identity, connectivity, Neurons, sparsity, rho, alphas\n",
        "                                     1000, 2000, [10,90],                                                  # T_transient, T = all time, Neuron index,\n",
        "                                      compute_state_matrix, vec_of_spec_X_row_weighted, find_spikes)  # functions"
      ],
      "metadata": {
        "id": "1kLZEL3fZC4z"
      },
      "execution_count": null,
      "outputs": []
    },
    {
      "cell_type": "markdown",
      "source": [
        "### Network 6, N=100, sparsity=0.2, np.linspace(0.00001, 3,60), np.linspace(0, 1.75, 60)[9]"
      ],
      "metadata": {
        "id": "EAtE6upBT7Zz"
      }
    },
    {
      "cell_type": "code",
      "source": [
        "alphas = np.linspace(0, 1.75, 60)"
      ],
      "metadata": {
        "id": "EPaeA1Kahdou"
      },
      "execution_count": null,
      "outputs": []
    },
    {
      "cell_type": "code",
      "source": [
        "alphas[9]"
      ],
      "metadata": {
        "id": "ZzknTZDohm-c"
      },
      "execution_count": null,
      "outputs": []
    },
    {
      "cell_type": "code",
      "source": [
        "B_6 = bifurcations_wrt_rho_2(F, conn, 100, 0.2, np.linspace(0.00001, 3,60), alphas[9],                               # F=F_identity, connectivity, Neurons, sparsity, rho, alphas\n",
        "                                     1000, 2000, [10,90],                                               # T_transient, T = all time, Neuron index,\n",
        "                                      compute_state_matrix, vec_of_spec_X_row_weighted, find_spikes)  # functions"
      ],
      "metadata": {
        "id": "MJzJG__dT7Zz"
      },
      "execution_count": null,
      "outputs": []
    },
    {
      "cell_type": "code",
      "source": [
        "param_list, spikes = B_6\n",
        "plot_bifurcation(param_list, spikes)"
      ],
      "metadata": {
        "id": "Wm0T9N6DT7Zz"
      },
      "execution_count": null,
      "outputs": []
    },
    {
      "cell_type": "markdown",
      "source": [
        "#### Network 7 alpha[0-0.05], rho=0.8, ind[10,85,97]"
      ],
      "metadata": {
        "id": "sBwqRH2ib3XB"
      }
    },
    {
      "cell_type": "code",
      "source": [
        "B_7 = bifurcations_wrt_alpha_2(F, conn, 100, 0.2, 0.8, np.linspace(0.00000001, 0.05,60),                               # F=F_identity, connectivity, Neurons, sparsity, rho, alphas\n",
        "                                     1000, 2000, [10, 85, 97],                                               # T_transient, T = all time, Neuron index,\n",
        "                                      compute_state_matrix, vec_of_spec_X_row_weighted, find_spikes)  # functions"
      ],
      "metadata": {
        "id": "eR_ob8OOb5lA"
      },
      "execution_count": null,
      "outputs": []
    },
    {
      "cell_type": "code",
      "source": [],
      "metadata": {
        "id": "KjW3VKGKHiDp"
      },
      "execution_count": null,
      "outputs": []
    },
    {
      "cell_type": "markdown",
      "source": [
        "#### Network 8 alpha[0-0.01], rho=0.8, ind[10,85,97]"
      ],
      "metadata": {
        "id": "2DS6evKvHiI8"
      }
    },
    {
      "cell_type": "code",
      "source": [
        "B_8 = bifurcations_wrt_alpha_2(F, conn, 100, 0.2, 0.8, np.linspace(0.00000001, 0.01,60),                               # F=F_identity, connectivity, Neurons, sparsity, rho, alphas\n",
        "                                     1000, 2000, [10, 85, 97],                                               # T_transient, T = all time, Neuron index,\n",
        "                                      compute_state_matrix, vec_of_spec_X_row_weighted, find_spikes)  # functions"
      ],
      "metadata": {
        "id": "XQ8fWgMtHiI8"
      },
      "execution_count": null,
      "outputs": []
    },
    {
      "cell_type": "code",
      "source": [],
      "metadata": {
        "id": "3sbrlSIgVfkn"
      },
      "execution_count": null,
      "outputs": []
    },
    {
      "cell_type": "markdown",
      "source": [
        "#### Network 8 alpha[0-0.01], rho=0.8, ind[10,38,46]"
      ],
      "metadata": {
        "id": "Xrjmi1omVfuM"
      }
    },
    {
      "cell_type": "code",
      "source": [
        "B_9 = bifurcations_wrt_alpha_2(F, conn, 100, 0.2, 0.8, np.linspace(0.00000001, 0.01,60),                               # F=F_identity, connectivity, Neurons, sparsity, rho, alphas\n",
        "                                     1000, 2000, [10, 38, 46],                                               # T_transient, T = all time, Neuron index,\n",
        "                                      compute_state_matrix, vec_of_spec_X_row_weighted, find_spikes)  # functions"
      ],
      "metadata": {
        "id": "oiSKxvd2VfuM"
      },
      "execution_count": null,
      "outputs": []
    },
    {
      "cell_type": "markdown",
      "source": [
        "# Individual neurons investigation"
      ],
      "metadata": {
        "id": "krIm7AnxdHpe"
      }
    },
    {
      "cell_type": "markdown",
      "source": [
        "## F=F_identity, conn=\"Chemical\""
      ],
      "metadata": {
        "id": "ahgw6fh3dPVv"
      }
    },
    {
      "cell_type": "code",
      "source": [
        "F=F_identity\n",
        "conn = \"Chemical\""
      ],
      "metadata": {
        "id": "JO0xyjySdN1O"
      },
      "execution_count": null,
      "outputs": []
    },
    {
      "cell_type": "markdown",
      "source": [
        "### Network 1 rho=0.8, alpha=0.8"
      ],
      "metadata": {
        "id": "1fdiyahPdaRt"
      }
    },
    {
      "cell_type": "code",
      "source": [
        "X, N, epsilon, rho, T, alpha, W = compute_state_matrix(F, conn,\n",
        "                                                                100, 0.2, 0.8, 0.8, 2000,   # N, epsilon, rho, alpha\n",
        "                                                                Lapl=True, ex_time=False)"
      ],
      "metadata": {
        "id": "1URfaxmJdx8U"
      },
      "execution_count": null,
      "outputs": []
    },
    {
      "cell_type": "code",
      "source": [
        "degrees_distribution(W)\n",
        "weighted_degrees_distribution(W, N)\n",
        "plot_weighted_degrees(weighted_degrees(W,N), \"Sorted Neuron Index\")\n",
        "plot_weighted_degrees(weighted_degrees_unsorted(W,N), \"Neuron Index\")"
      ],
      "metadata": {
        "id": "h6T4qudGeDVY"
      },
      "execution_count": null,
      "outputs": []
    },
    {
      "cell_type": "code",
      "source": [
        "similar_indices, similar_degrees = find_similar_weighted_degrees(W, N, 70, 0.01)\n",
        "plot_X_similar_vec(X, similar_indices)"
      ],
      "metadata": {
        "id": "FW8gRKtRemFj"
      },
      "execution_count": null,
      "outputs": []
    },
    {
      "cell_type": "markdown",
      "source": [
        "### Network 2 rho=np.linspace(0.00001, 3, 30)[10], alpha=0.8"
      ],
      "metadata": {
        "id": "djHnzrNqINMF"
      }
    },
    {
      "cell_type": "code",
      "source": [
        "np.linspace(0.00001, 3, 30)[15]"
      ],
      "metadata": {
        "id": "thYASVoNk-m-"
      },
      "execution_count": null,
      "outputs": []
    },
    {
      "cell_type": "code",
      "source": [
        "X, N, epsilon, rho, T, alpha, W = compute_state_matrix(F, conn,\n",
        "                                                                100, 0.2,np.linspace(0.00001, 3, 30)[15], 0.8, 2000,   # N, epsilon, rho, alpha\n",
        "                                                                Lapl=True, ex_time=False)"
      ],
      "metadata": {
        "id": "6l1vuPdcIVVo"
      },
      "execution_count": null,
      "outputs": []
    },
    {
      "cell_type": "code",
      "source": [
        "plot_weighted_degrees(weighted_degrees(W,N))"
      ],
      "metadata": {
        "id": "SDYSh156IdBR"
      },
      "execution_count": null,
      "outputs": []
    },
    {
      "cell_type": "code",
      "source": [
        "similar_indices, similar_degrees = find_similar_weighted_degrees(W, N, 70, 0.01)\n",
        "plot_X_similar_vec(X, [5,95],legend=True, W=W, N=N)"
      ],
      "metadata": {
        "id": "KcSufoNtIi1e"
      },
      "execution_count": null,
      "outputs": []
    },
    {
      "cell_type": "code",
      "source": [
        "plot_X_similar_vec(X, [5,95, 1,2,3,4,5,6],start_time=1000, end_time=1200, legend=True, W=W,N=N, connect_dots=True)"
      ],
      "metadata": {
        "id": "5Mgjy43XJZ6e"
      },
      "execution_count": null,
      "outputs": []
    },
    {
      "cell_type": "code",
      "source": [
        "plot_X_similar_vec(X, [1,95,4],start_time=1000, end_time=1200, legend=True, W=W,N=N, connect_dots=True)"
      ],
      "metadata": {
        "id": "wB2frr3DK272"
      },
      "execution_count": null,
      "outputs": []
    },
    {
      "cell_type": "code",
      "source": [
        "similar_indices, similar_degrees = find_similar_weighted_degrees(W, N, 0.08, 0.01)\n",
        "plot_X_similar_vec(X, similar_indices,start_time=1000, end_time=1200, legend=True, W=W,N=N, connect_dots=True)"
      ],
      "metadata": {
        "id": "sTAyAp8JJzzy"
      },
      "execution_count": null,
      "outputs": []
    },
    {
      "cell_type": "markdown",
      "source": [
        "## F=F_mod, conn = \"Chemical\""
      ],
      "metadata": {
        "id": "uRX_WBzqLMMz"
      }
    },
    {
      "cell_type": "code",
      "source": [
        "F=F_mod\n",
        "conn = \"Chemical\""
      ],
      "metadata": {
        "id": "1KBbnl3CL0lj"
      },
      "execution_count": null,
      "outputs": []
    },
    {
      "cell_type": "markdown",
      "source": [
        "### Network 1 rho=0.8, alpha = np.linspace(0, 2, 30)[17]"
      ],
      "metadata": {
        "id": "GImHvfFdLU8z"
      }
    },
    {
      "cell_type": "code",
      "source": [
        "X, N, epsilon, rho, T, alpha, W = compute_state_matrix(F, conn,\n",
        "                                                                100, 0.2,0.8, np.linspace(0, 2, 30)[17], 2000,   # N, epsilon, rho, alpha\n",
        "                                                                Lapl=True, ex_time=False)"
      ],
      "metadata": {
        "id": "kdC7UozLLTyl"
      },
      "execution_count": null,
      "outputs": []
    },
    {
      "cell_type": "code",
      "source": [
        "plot_weighted_degrees(weighted_degrees(W,N))"
      ],
      "metadata": {
        "id": "zYaiOmnTMvSl"
      },
      "execution_count": null,
      "outputs": []
    },
    {
      "cell_type": "code",
      "source": [
        "plot_X_similar_vec(X, [5,95],start_time=1000, end_time=1200, legend=True, W=W,N=N, connect_dots=True)"
      ],
      "metadata": {
        "id": "PQoNd15tL8i6"
      },
      "execution_count": null,
      "outputs": []
    },
    {
      "cell_type": "code",
      "source": [
        "similar_indices, similar_degrees = find_similar_weighted_degrees(W, N, 0, 5)"
      ],
      "metadata": {
        "id": "tzZ8Lhv_MbzI"
      },
      "execution_count": null,
      "outputs": []
    },
    {
      "cell_type": "code",
      "source": [
        "plot_X_similar_vec(X, similar_indices,start_time=1000, end_time=1200, legend=True, W=W,N=N, connect_dots=True)"
      ],
      "metadata": {
        "id": "Ts0PIs7kMZ-f"
      },
      "execution_count": null,
      "outputs": []
    },
    {
      "cell_type": "code",
      "source": [
        "similar_indices, similar_degrees = find_similar_weighted_degrees(W, N, 0.8, 0.05)"
      ],
      "metadata": {
        "id": "uB0hB3NYMXDN"
      },
      "execution_count": null,
      "outputs": []
    },
    {
      "cell_type": "code",
      "source": [
        "plot_X_similar_vec(X, similar_indices,start_time=1000, end_time=1200, legend=True, W=W,N=N, connect_dots=True)"
      ],
      "metadata": {
        "id": "ffkE9cdfMUq0"
      },
      "execution_count": null,
      "outputs": []
    },
    {
      "cell_type": "markdown",
      "source": [
        "### Network 2 rho=0.8, alpha = np.linspace(0, 2, 30)[15]"
      ],
      "metadata": {
        "id": "iaOAsy3_NnT4"
      }
    },
    {
      "cell_type": "code",
      "source": [
        "X, N, epsilon, rho, T, alpha, W = compute_state_matrix(F, conn,\n",
        "                                                                100, 0.2,0.8, np.linspace(0, 2, 30)[15], 2000,   # N, epsilon, rho, alpha\n",
        "                                                                Lapl=True, ex_time=False)"
      ],
      "metadata": {
        "id": "L5XcTMUHNnT4"
      },
      "execution_count": null,
      "outputs": []
    },
    {
      "cell_type": "code",
      "source": [
        "plot_weighted_degrees(weighted_degrees(W,N))"
      ],
      "metadata": {
        "id": "mMc4wfYjNnT4"
      },
      "execution_count": null,
      "outputs": []
    },
    {
      "cell_type": "code",
      "source": [
        "plot_X_similar_vec(X, [5,95],start_time=1000, end_time=1200, legend=True, W=W,N=N, connect_dots=True)"
      ],
      "metadata": {
        "id": "2gZnRen2NnT5"
      },
      "execution_count": null,
      "outputs": []
    },
    {
      "cell_type": "code",
      "source": [
        "similar_indices, similar_degrees = find_similar_weighted_degrees(W, N, 0, 5)"
      ],
      "metadata": {
        "id": "z9aIHZ8LNnT5"
      },
      "execution_count": null,
      "outputs": []
    },
    {
      "cell_type": "code",
      "source": [
        "plot_X_similar_vec(X, similar_indices,start_time=1000, end_time=1200, legend=True, W=W,N=N, connect_dots=True)"
      ],
      "metadata": {
        "id": "p-LlxmCKNnT5"
      },
      "execution_count": null,
      "outputs": []
    },
    {
      "cell_type": "code",
      "source": [
        "similar_indices, similar_degrees = find_similar_weighted_degrees(W, N, 0.8, 0.05)"
      ],
      "metadata": {
        "id": "zbTlsl55NnT5"
      },
      "execution_count": null,
      "outputs": []
    },
    {
      "cell_type": "code",
      "source": [
        "plot_X_similar_vec(X, similar_indices,start_time=1000, end_time=1200, legend=True, W=W,N=N, connect_dots=True)"
      ],
      "metadata": {
        "id": "QCFpWQLYNnT5"
      },
      "execution_count": null,
      "outputs": []
    },
    {
      "cell_type": "code",
      "source": [],
      "metadata": {
        "id": "rFzRhD46N_rC"
      },
      "execution_count": null,
      "outputs": []
    },
    {
      "cell_type": "markdown",
      "source": [
        "### Network 3 rho=0.8, alpha = np.linspace(0, 2, 30)[16]"
      ],
      "metadata": {
        "id": "TUn00RYKOAFQ"
      }
    },
    {
      "cell_type": "code",
      "source": [
        "X, N, epsilon, rho, T, alpha, W = compute_state_matrix(F, conn,\n",
        "                                                                100, 0.2,0.8, np.linspace(0, 2, 30)[16], 2000,   # N, epsilon, rho, alpha\n",
        "                                                                Lapl=True, ex_time=False)"
      ],
      "metadata": {
        "id": "hccjqLl5OAFQ"
      },
      "execution_count": null,
      "outputs": []
    },
    {
      "cell_type": "code",
      "source": [
        "plot_weighted_degrees(weighted_degrees(W,N))"
      ],
      "metadata": {
        "id": "PdQZb6nWOAFQ"
      },
      "execution_count": null,
      "outputs": []
    },
    {
      "cell_type": "code",
      "source": [
        "plot_X_similar_vec(X, [5,95],start_time=1000, end_time=1200, legend=True, W=W,N=N, connect_dots=True)"
      ],
      "metadata": {
        "id": "Kozr5YluOAFR"
      },
      "execution_count": null,
      "outputs": []
    },
    {
      "cell_type": "code",
      "source": [
        "similar_indices, similar_degrees = find_similar_weighted_degrees(W, N, 0, 5)"
      ],
      "metadata": {
        "id": "ZdLDLtv_OAFR"
      },
      "execution_count": null,
      "outputs": []
    },
    {
      "cell_type": "code",
      "source": [
        "plot_X_similar_vec(X, similar_indices,start_time=1000, end_time=1200, legend=True, W=W,N=N, connect_dots=True)"
      ],
      "metadata": {
        "id": "gzLF7zOKOAFR"
      },
      "execution_count": null,
      "outputs": []
    },
    {
      "cell_type": "code",
      "source": [
        "similar_indices, similar_degrees = find_similar_weighted_degrees(W, N, 0.8, 0.05)"
      ],
      "metadata": {
        "id": "Za1bYB5_OAFR"
      },
      "execution_count": null,
      "outputs": []
    },
    {
      "cell_type": "code",
      "source": [
        "plot_X_similar_vec(X, similar_indices,start_time=1000, end_time=1200, legend=True, W=W,N=N, connect_dots=True)"
      ],
      "metadata": {
        "id": "8Ljop1uyOAFR"
      },
      "execution_count": null,
      "outputs": []
    },
    {
      "cell_type": "code",
      "source": [],
      "metadata": {
        "id": "_zhhQRQFOZl6"
      },
      "execution_count": null,
      "outputs": []
    },
    {
      "cell_type": "markdown",
      "source": [
        "### Network 4 rho=0.8, alpha = np.linspace(0, 2, 30)[12]"
      ],
      "metadata": {
        "id": "F-9pPw5dOZ_A"
      }
    },
    {
      "cell_type": "code",
      "source": [
        "X, N, epsilon, rho, T, alpha, W = compute_state_matrix(F, conn,\n",
        "                                                                100, 0.2,0.8, np.linspace(0, 2, 30)[12], 2000,   # N, epsilon, rho, alpha\n",
        "                                                                Lapl=True, ex_time=False)"
      ],
      "metadata": {
        "id": "2xNNVt-fOZ_B"
      },
      "execution_count": null,
      "outputs": []
    },
    {
      "cell_type": "code",
      "source": [
        "plot_weighted_degrees(weighted_degrees(W,N))"
      ],
      "metadata": {
        "id": "SEy6g7EoOZ_B"
      },
      "execution_count": null,
      "outputs": []
    },
    {
      "cell_type": "code",
      "source": [
        "plot_X_similar_vec(X, [5,95],start_time=1000, end_time=1200, legend=True, W=W,N=N, connect_dots=True)"
      ],
      "metadata": {
        "id": "vd_MtwFaOZ_B"
      },
      "execution_count": null,
      "outputs": []
    },
    {
      "cell_type": "code",
      "source": [
        "similar_indices, similar_degrees = find_similar_weighted_degrees(W, N, 0, 5)"
      ],
      "metadata": {
        "id": "C8oODqZ1OZ_B"
      },
      "execution_count": null,
      "outputs": []
    },
    {
      "cell_type": "code",
      "source": [
        "plot_X_similar_vec(X, similar_indices,start_time=1000, end_time=1200, legend=True, W=W,N=N, connect_dots=True)"
      ],
      "metadata": {
        "id": "cyuz-sIiOZ_B"
      },
      "execution_count": null,
      "outputs": []
    },
    {
      "cell_type": "code",
      "source": [
        "similar_indices, similar_degrees = find_similar_weighted_degrees(W, N, 0.8, 0.05)"
      ],
      "metadata": {
        "id": "NfsaHKmFOZ_B"
      },
      "execution_count": null,
      "outputs": []
    },
    {
      "cell_type": "code",
      "source": [
        "plot_X_similar_vec(X, similar_indices,start_time=1000, end_time=1200, legend=True, W=W,N=N, connect_dots=True)"
      ],
      "metadata": {
        "id": "6_VRT2rROZ_B"
      },
      "execution_count": null,
      "outputs": []
    },
    {
      "cell_type": "code",
      "source": [],
      "metadata": {
        "id": "dlKcp7j4QERH"
      },
      "execution_count": null,
      "outputs": []
    },
    {
      "cell_type": "markdown",
      "source": [
        "### Network 5 rho=0.8, alpha = np.linspace(0, 0.25, 30)[9]"
      ],
      "metadata": {
        "id": "nWneiWb8QEVU"
      }
    },
    {
      "cell_type": "code",
      "source": [
        "X, N, epsilon, rho, T, alpha, W = compute_state_matrix(F, conn,\n",
        "                                                                100, 0.2,0.8, np.linspace(0, 0.25, 30)[7], 2000,   # N, epsilon, rho, alpha\n",
        "                                                                Lapl=True, ex_time=False)"
      ],
      "metadata": {
        "id": "FRl6zDhNQEVU"
      },
      "execution_count": null,
      "outputs": []
    },
    {
      "cell_type": "code",
      "source": [
        "plot_weighted_degrees(weighted_degrees(W,N))"
      ],
      "metadata": {
        "id": "M5Ij2W8IQEVV"
      },
      "execution_count": null,
      "outputs": []
    },
    {
      "cell_type": "code",
      "source": [
        "plot_X_similar_vec(X, [5,95],start_time=1000, end_time=1200, legend=True, W=W,N=N, connect_dots=False)"
      ],
      "metadata": {
        "id": "RiIp7PsoQEVV"
      },
      "execution_count": null,
      "outputs": []
    },
    {
      "cell_type": "code",
      "source": [
        "similar_indices, similar_degrees = find_similar_weighted_degrees(W, N, 0, 5)"
      ],
      "metadata": {
        "id": "lJcTr1lNQEVV"
      },
      "execution_count": null,
      "outputs": []
    },
    {
      "cell_type": "code",
      "source": [
        "plot_X_similar_vec(X, similar_indices,start_time=1000, end_time=1200, legend=False, W=W,N=N, connect_dots=False)"
      ],
      "metadata": {
        "id": "ZfcZVU9AQEVV"
      },
      "execution_count": null,
      "outputs": []
    },
    {
      "cell_type": "code",
      "source": [
        "similar_indices, similar_degrees = find_similar_weighted_degrees(W, N, 0.8, 0.05)"
      ],
      "metadata": {
        "id": "xyDaGDvPQEVV"
      },
      "execution_count": null,
      "outputs": []
    },
    {
      "cell_type": "code",
      "source": [
        "plot_X_similar_vec(X, similar_indices,start_time=1000, end_time=1200, legend=True, W=W,N=N, connect_dots=False)"
      ],
      "metadata": {
        "id": "A8W0quQjQEVV"
      },
      "execution_count": null,
      "outputs": []
    },
    {
      "cell_type": "markdown",
      "source": [
        "#### Network 6 rho=0.8, alpha=np.linspace(0.18,0.23)[19]"
      ],
      "metadata": {
        "id": "fH5b7t46EhKQ"
      }
    },
    {
      "cell_type": "code",
      "source": [
        "np.linspace(0.18, 0.23, 30)[19]"
      ],
      "metadata": {
        "id": "MUYSeN-mHxue"
      },
      "execution_count": null,
      "outputs": []
    },
    {
      "cell_type": "code",
      "source": [
        "X, N, epsilon, rho, T, alpha, W = compute_state_matrix(F, conn,\n",
        "                                                                100, 0.2,0.8, np.linspace(0.18, 0.23, 30)[19], 2000,   # N, epsilon, rho, alpha\n",
        "                                                                Lapl=True, ex_time=False)"
      ],
      "metadata": {
        "id": "k4Nk07EeE4Ej"
      },
      "execution_count": null,
      "outputs": []
    },
    {
      "cell_type": "code",
      "source": [
        "plot_X_similar_vec(X, [5,50,95,85,97, 38,46],start_time=1000, end_time=1200, legend=True, W=W,N=N, connect_dots=True)"
      ],
      "metadata": {
        "id": "D6A8wAVQFEsr"
      },
      "execution_count": null,
      "outputs": []
    },
    {
      "cell_type": "code",
      "source": [
        "plot_X_similar_vec(X, [85, 97],start_time=1000, end_time=1200, legend=True, W=W,N=N, connect_dots=True)"
      ],
      "metadata": {
        "id": "5Trp_PkgFLNM"
      },
      "execution_count": null,
      "outputs": []
    },
    {
      "cell_type": "code",
      "source": [
        "plot_X_similar_vec(X, [38, 46],start_time=1000, end_time=1200, legend=True, W=W,N=N, connect_dots=False)"
      ],
      "metadata": {
        "id": "GMgpoyfkFff9"
      },
      "execution_count": null,
      "outputs": []
    },
    {
      "cell_type": "code",
      "source": [],
      "metadata": {
        "id": "OUtyCkbiFyPS"
      },
      "execution_count": null,
      "outputs": []
    },
    {
      "cell_type": "markdown",
      "source": [
        "#### Network 7 rho=0.8, alpha=np.linspace(0.18,0.23)[18]"
      ],
      "metadata": {
        "id": "vWKsnQbwFylt"
      }
    },
    {
      "cell_type": "code",
      "source": [
        "X, N, epsilon, rho, T, alpha, W = compute_state_matrix(F, conn,\n",
        "                                                                100, 0.2,0.8, np.linspace(0.18, 0.23, 30)[21], 2000,   # N, epsilon, rho, alpha\n",
        "                                                                Lapl=True, ex_time=False)"
      ],
      "metadata": {
        "id": "LMEs4AMrFylu"
      },
      "execution_count": null,
      "outputs": []
    },
    {
      "cell_type": "code",
      "source": [
        "plot_X_similar_vec(X, [5,50,95, 85,97, 38,46],start_time=1000, end_time=1200, legend=True, W=W,N=N, connect_dots=False)"
      ],
      "metadata": {
        "id": "o1AxlyReFylu"
      },
      "execution_count": null,
      "outputs": []
    },
    {
      "cell_type": "code",
      "source": [
        "plot_X_similar_vec(X, [85, 97],start_time=1000, end_time=1200, legend=True, W=W,N=N, connect_dots=False)"
      ],
      "metadata": {
        "id": "i8u5zlp9Fylu"
      },
      "execution_count": null,
      "outputs": []
    },
    {
      "cell_type": "code",
      "source": [
        "plot_X_similar_vec(X, [38, 46],start_time=1000, end_time=1200, legend=True, W=W,N=N, connect_dots=False)"
      ],
      "metadata": {
        "id": "7tLtqipFFylv"
      },
      "execution_count": null,
      "outputs": []
    },
    {
      "cell_type": "markdown",
      "source": [
        "## F=F_mod, conn=\"Electrical\""
      ],
      "metadata": {
        "id": "GPUQ6QrhYY2e"
      }
    },
    {
      "cell_type": "code",
      "source": [
        "F=F_mod\n",
        "conn = \"Electrical\""
      ],
      "metadata": {
        "id": "JqekT71AYcBd"
      },
      "execution_count": null,
      "outputs": []
    },
    {
      "cell_type": "markdown",
      "source": [
        "### Network 1 rho=0.8, alpha=0.196"
      ],
      "metadata": {
        "id": "IWXuLEmXanNC"
      }
    },
    {
      "cell_type": "code",
      "source": [
        "X, N, epsilon, rho, T, alpha, W = compute_state_matrix(F, conn,\n",
        "                                                                100, 0.2, 0.8, 0.196, 2000,   # N, epsilon, rho, alpha\n",
        "                                                                Lapl=True, ex_time=False)"
      ],
      "metadata": {
        "id": "H3L0p-HLYiAg"
      },
      "execution_count": null,
      "outputs": []
    },
    {
      "cell_type": "code",
      "source": [
        "similar_indices, similar_degrees = find_similar_weighted_degrees(W, N, 95, 0.01)\n",
        "plot_X_similar_vec(X, similar_indices)"
      ],
      "metadata": {
        "id": "5O-FeuGhacTT"
      },
      "execution_count": null,
      "outputs": []
    },
    {
      "cell_type": "code",
      "source": [
        "similar_indices, similar_degrees = find_similar_weighted_degrees(W, N, 90, 0.01)\n",
        "plot_X_similar_vec(X, similar_indices)"
      ],
      "metadata": {
        "id": "8AAHzwufbtVS"
      },
      "execution_count": null,
      "outputs": []
    },
    {
      "cell_type": "code",
      "source": [
        "similar_indices, similar_degrees = find_similar_weighted_degrees(W, N, 10, 0.01)\n",
        "plot_X_similar_vec(X, similar_indices)"
      ],
      "metadata": {
        "id": "v2RKiq0Rbw4w"
      },
      "execution_count": null,
      "outputs": []
    },
    {
      "cell_type": "code",
      "source": [],
      "metadata": {
        "id": "QTc5_7BQb97P"
      },
      "execution_count": null,
      "outputs": []
    },
    {
      "cell_type": "markdown",
      "source": [
        "### Network 2 rho=1.3, alpha=0.196"
      ],
      "metadata": {
        "id": "_IuCa4-kb-Rq"
      }
    },
    {
      "cell_type": "code",
      "source": [
        "X, N, epsilon, rho, T, alpha, W = compute_state_matrix(F, conn,\n",
        "                                                                100, 0.2, 1.3, 0.196, 2000,   # N, epsilon, rho, alpha\n",
        "                                                                Lapl=True, ex_time=False)"
      ],
      "metadata": {
        "id": "c5LQSCAhb-Rq"
      },
      "execution_count": null,
      "outputs": []
    },
    {
      "cell_type": "code",
      "source": [
        "similar_indices, similar_degrees = find_similar_weighted_degrees(W, N, 95, 0.01)\n",
        "plot_X_similar_vec(X, similar_indices)"
      ],
      "metadata": {
        "id": "4LpfXPSmb-Rq"
      },
      "execution_count": null,
      "outputs": []
    },
    {
      "cell_type": "code",
      "source": [
        "similar_indices, similar_degrees = find_similar_weighted_degrees(W, N, 95, 0.01)\n",
        "plot_X_similar_vec(X, similar_indices, start_time=1000, end_time=2000)"
      ],
      "metadata": {
        "id": "VyXDpcM4cY4W"
      },
      "execution_count": null,
      "outputs": []
    },
    {
      "cell_type": "code",
      "source": [
        "similar_indices, similar_degrees = find_similar_weighted_degrees(W, N, 90, 0.01)\n",
        "plot_X_similar_vec(X, similar_indices)"
      ],
      "metadata": {
        "id": "kbkteUFrb-Rq"
      },
      "execution_count": null,
      "outputs": []
    },
    {
      "cell_type": "code",
      "source": [
        "similar_indices, similar_degrees = find_similar_weighted_degrees(W, N, 90, 0.01)\n",
        "plot_X_similar_vec(X, similar_indices, start_time=1000, end_time=2000)"
      ],
      "metadata": {
        "id": "zAZ-UlwQcOku"
      },
      "execution_count": null,
      "outputs": []
    },
    {
      "cell_type": "code",
      "source": [],
      "metadata": {
        "id": "Sfpk8BOMcx-j"
      },
      "execution_count": null,
      "outputs": []
    },
    {
      "cell_type": "markdown",
      "source": [
        "### Network 3 rho=0.8, alpha=0.241"
      ],
      "metadata": {
        "id": "BiYKE_p-cyK0"
      }
    },
    {
      "cell_type": "code",
      "source": [
        "X, N, epsilon, rho, T, alpha, W = compute_state_matrix(F, conn,\n",
        "                                                                100, 0.2, 0.8, 0.241, 2000,   # N, epsilon, rho, alpha\n",
        "                                                                Lapl=True, ex_time=False)"
      ],
      "metadata": {
        "id": "XFeq7_DKcyK1"
      },
      "execution_count": null,
      "outputs": []
    },
    {
      "cell_type": "code",
      "source": [
        "similar_indices, similar_degrees = find_similar_weighted_degrees(W, N, 95, 0.01)\n",
        "plot_X_similar_vec(X, similar_indices)"
      ],
      "metadata": {
        "id": "jqiMBZsXcyK1"
      },
      "execution_count": null,
      "outputs": []
    },
    {
      "cell_type": "code",
      "source": [
        "similar_indices, similar_degrees = find_similar_weighted_degrees(W, N, 90, 0.01)\n",
        "plot_X_similar_vec(X, similar_indices)"
      ],
      "metadata": {
        "id": "Z7RcSXxQcyK1"
      },
      "execution_count": null,
      "outputs": []
    },
    {
      "cell_type": "code",
      "source": [
        "similar_indices, similar_degrees = find_similar_weighted_degrees(W, N, 90, 0.01)\n",
        "plot_X_similar_vec(X, similar_indices, start_time=1000, end_time=2000)"
      ],
      "metadata": {
        "id": "wXLmJL6gdDf4"
      },
      "execution_count": null,
      "outputs": []
    },
    {
      "cell_type": "code",
      "source": [
        "similar_indices, similar_degrees = find_similar_weighted_degrees(W, N, 10, 0.01)\n",
        "plot_X_similar_vec(X, similar_indices)"
      ],
      "metadata": {
        "id": "w5RxPbqwcyK2"
      },
      "execution_count": null,
      "outputs": []
    },
    {
      "cell_type": "markdown",
      "source": [
        "### Network 4 rho=0.8, alpha=np.linspace(0, 0.25, 15)"
      ],
      "metadata": {
        "id": "mkizOz3sd-1q"
      }
    },
    {
      "cell_type": "code",
      "source": [
        "alphas = np.linspace(0, 0.25, 15)"
      ],
      "metadata": {
        "id": "30gwGB4scyK2"
      },
      "execution_count": null,
      "outputs": []
    },
    {
      "cell_type": "code",
      "source": [
        "alphas[11]"
      ],
      "metadata": {
        "id": "_jrlNiXIeYVW"
      },
      "execution_count": null,
      "outputs": []
    },
    {
      "cell_type": "code",
      "source": [
        "X, N, epsilon, rho, T, alpha, W = compute_state_matrix(F, conn,\n",
        "                                                                100, 0.2, 0.8, alphas[11], 2000,   # N, epsilon, rho, alpha\n",
        "                                                                Lapl=True, ex_time=False)"
      ],
      "metadata": {
        "id": "pELYrBXxeMWU"
      },
      "execution_count": null,
      "outputs": []
    },
    {
      "cell_type": "code",
      "source": [
        "degrees_distribution(W)"
      ],
      "metadata": {
        "id": "s5Yt2MAgFOyw"
      },
      "execution_count": null,
      "outputs": []
    },
    {
      "cell_type": "code",
      "source": [
        "weighted_degrees_distribution(W,N)"
      ],
      "metadata": {
        "id": "osvoXh0vF9nu"
      },
      "execution_count": null,
      "outputs": []
    },
    {
      "cell_type": "code",
      "source": [
        "plot_weighted_degrees(weighted_degrees(W,N))"
      ],
      "metadata": {
        "id": "sFLa1PBgrbmb"
      },
      "execution_count": null,
      "outputs": []
    },
    {
      "cell_type": "code",
      "source": [
        "plot_X_similar_vec(X, [5,95], legend=True, W=W,N=N)"
      ],
      "metadata": {
        "id": "eAiesuwpdjhJ"
      },
      "execution_count": null,
      "outputs": []
    },
    {
      "cell_type": "code",
      "source": [
        "similar_indices, similar_degrees = find_similar_weighted_degrees(W, N, 0.84, 0.02)\n",
        "plot_X_similar_vec(X, similar_indices, legend=True, W=W,N=N)"
      ],
      "metadata": {
        "id": "WhadLTpXeoOS"
      },
      "execution_count": null,
      "outputs": []
    },
    {
      "cell_type": "code",
      "source": [
        "similar_indices, similar_degrees = find_similar_weighted_degrees(W, N, 0.84, 0.1)\n",
        "plot_X_similar_vec(X, similar_indices, legend=True, W=W,N=N)"
      ],
      "metadata": {
        "id": "R6bvnqovr57-"
      },
      "execution_count": null,
      "outputs": []
    },
    {
      "cell_type": "code",
      "source": [
        "plot_X_similar_vec(X, similar_indices, legend=True, W=W,N=N, start_time=1000, end_time=1100\n",
        "                   , connect_dots=True)"
      ],
      "metadata": {
        "id": "htZgKZS0e55C"
      },
      "execution_count": null,
      "outputs": []
    },
    {
      "cell_type": "code",
      "source": [
        "plot_X_similar_vec(X, [89], legend=True, W=W,N=N)"
      ],
      "metadata": {
        "id": "r-cM_vAGeZbZ"
      },
      "execution_count": null,
      "outputs": []
    },
    {
      "cell_type": "code",
      "source": [
        "similar_indices, similar_degrees = find_similar_weighted_degrees(W, N, 0.75, 0.01)\n",
        "plot_X_similar_vec(X, similar_indices, legend=True, W=W,N=N)"
      ],
      "metadata": {
        "id": "cCKVwQ0UsZPS"
      },
      "execution_count": null,
      "outputs": []
    },
    {
      "cell_type": "code",
      "source": [
        "similar_indices, similar_degrees = find_similar_weighted_degrees(W, N, -0.52, 0.005)\n",
        "plot_X_similar_vec(X, similar_indices, legend=True, W=W,N=N)"
      ],
      "metadata": {
        "id": "QxscV7bfs52V"
      },
      "execution_count": null,
      "outputs": []
    },
    {
      "cell_type": "code",
      "source": [
        "similar_indices, similar_degrees = find_similar_weighted_degrees(W, N, -0.525, 0.005)\n",
        "plot_X_similar_vec(X, similar_indices, legend=True, W=W,N=N)"
      ],
      "metadata": {
        "id": "z7izzHUCtNuS"
      },
      "execution_count": null,
      "outputs": []
    },
    {
      "cell_type": "code",
      "source": [
        "similar_indices, similar_degrees = find_similar_weighted_degrees(W, N, -0.525, 0.005)\n",
        "plot_X_similar_vec(X, similar_indices, legend=True, W=W,N=N, start_time=1000, end_time=1200, connect_dots=True)"
      ],
      "metadata": {
        "id": "4DKGiSzCelno"
      },
      "execution_count": null,
      "outputs": []
    },
    {
      "cell_type": "code",
      "source": [
        "similar_indices, similar_degrees = find_similar_weighted_degrees(W, N, -0.53, 0.005)\n",
        "plot_X_similar_vec(X, similar_indices, legend=True, W=W,N=N)"
      ],
      "metadata": {
        "id": "U1myoFKXwIQa"
      },
      "execution_count": null,
      "outputs": []
    },
    {
      "cell_type": "code",
      "source": [
        "similar_indices, similar_degrees = find_similar_weighted_degrees(W, N, 0.425, 0.005)\n",
        "plot_X_similar_vec(X, similar_indices, legend=True, W=W,N=N)"
      ],
      "metadata": {
        "id": "ptdg7XwytVg3"
      },
      "execution_count": null,
      "outputs": []
    },
    {
      "cell_type": "code",
      "source": [
        "plot_X_similar_vec(X, similar_indices, legend=True, W=W,N=N, start_time=1000, end_time=1100, connect_dots=True)"
      ],
      "metadata": {
        "id": "mkUklyl-eysE"
      },
      "execution_count": null,
      "outputs": []
    },
    {
      "cell_type": "code",
      "source": [
        "plot_X_similar_vec(X, [8], legend=True, W=W,N=N, start_time=1000, end_time=1100, connect_dots=True)"
      ],
      "metadata": {
        "id": "7K429ukkhNZV"
      },
      "execution_count": null,
      "outputs": []
    },
    {
      "cell_type": "code",
      "source": [
        "similar_indices, similar_degrees = find_similar_weighted_degrees(W, N, 0.425, 0.005)\n",
        "plot_X_similar_vec(X, [8,7], legend=True, W=W,N=N, start_time=1100, end_time=)"
      ],
      "metadata": {
        "id": "VC5CdZpvfYw-"
      },
      "execution_count": null,
      "outputs": []
    },
    {
      "cell_type": "code",
      "source": [
        "similar_indices, similar_degrees = find_similar_weighted_degrees(W, N, 0.84, 1)\n",
        "plot_X_similar_vec(X, similar_indices, legend=False, W=W,N=N)"
      ],
      "metadata": {
        "id": "HCRKkyrCrlP9"
      },
      "execution_count": null,
      "outputs": []
    },
    {
      "cell_type": "code",
      "source": [
        "ks=weighted_degrees(W,N)"
      ],
      "metadata": {
        "id": "JrUwTPT0srUZ"
      },
      "execution_count": null,
      "outputs": []
    },
    {
      "cell_type": "code",
      "source": [
        "ks"
      ],
      "metadata": {
        "id": "aaRwlDVbsvQi"
      },
      "execution_count": null,
      "outputs": []
    },
    {
      "cell_type": "markdown",
      "source": [
        "### Network 5 rho=0.8, alpha=np.linspace(0, 0.25, 30)"
      ],
      "metadata": {
        "id": "b4OaSWSkxXpx"
      }
    },
    {
      "cell_type": "code",
      "source": [
        "alphas = np.linspace(0,0.25,30)"
      ],
      "metadata": {
        "id": "E-bCXkpSx-Rq"
      },
      "execution_count": null,
      "outputs": []
    },
    {
      "cell_type": "code",
      "source": [
        "alphas[29]"
      ],
      "metadata": {
        "id": "6PzbBwk4h34A"
      },
      "execution_count": null,
      "outputs": []
    },
    {
      "cell_type": "code",
      "source": [
        "X, N, epsilon, rho, T, alpha, W = compute_state_matrix(F, conn,\n",
        "                                                                100, 0.2, 0.8, alphas[29], 2000,   # N, epsilon, rho, alpha\n",
        "                                                                Lapl=True, ex_time=False)"
      ],
      "metadata": {
        "id": "clksYoCGxhHm"
      },
      "execution_count": null,
      "outputs": []
    },
    {
      "cell_type": "code",
      "source": [
        "similar_indices, similar_degrees = find_similar_weighted_degrees(W, N, 0.84, 0.02)\n",
        "plot_X_similar_vec(X, similar_indices, legend=True, W=W,N=N)"
      ],
      "metadata": {
        "id": "x1BC9H_IyKYw"
      },
      "execution_count": null,
      "outputs": []
    },
    {
      "cell_type": "code",
      "source": [
        "similar_indices, similar_degrees = find_similar_weighted_degrees(W, N, -0.53, 0.005)\n",
        "plot_X_similar_vec(X, similar_indices, legend=True, W=W,N=N)"
      ],
      "metadata": {
        "id": "BEA_s1qZyZkQ"
      },
      "execution_count": null,
      "outputs": []
    },
    {
      "cell_type": "code",
      "source": [
        "similar_indices, similar_degrees = find_similar_weighted_degrees(W, N, -0.525, 0.005)\n",
        "plot_X_similar_vec(X, similar_indices, legend=True, W=W,N=N)"
      ],
      "metadata": {
        "id": "vAXRJYojyrVO"
      },
      "execution_count": null,
      "outputs": []
    },
    {
      "cell_type": "code",
      "source": [
        "similar_indices, similar_degrees = find_similar_weighted_degrees(W, N, 0.75, 0.01)\n",
        "plot_X_similar_vec(X, similar_indices, legend=True, W=W,N=N)"
      ],
      "metadata": {
        "id": "8tBjlDfByjOQ"
      },
      "execution_count": null,
      "outputs": []
    },
    {
      "cell_type": "code",
      "source": [
        "similar_indices, similar_degrees = find_similar_weighted_degrees(W, N, -0.05, 0.02)\n",
        "plot_X_similar_vec(X, similar_indices, legend=True, W=W,N=N)"
      ],
      "metadata": {
        "id": "pu5Z8he1zj33"
      },
      "execution_count": null,
      "outputs": []
    },
    {
      "cell_type": "code",
      "source": [
        "similar_indices, similar_degrees = find_similar_weighted_degrees(W, N, -0.044, 0.002)\n",
        "plot_X_similar_vec(X, similar_indices, legend=True, W=W,N=N)"
      ],
      "metadata": {
        "id": "AOZEXhB80SC4"
      },
      "execution_count": null,
      "outputs": []
    },
    {
      "cell_type": "code",
      "source": [
        "similar_indices, similar_degrees = find_similar_weighted_degrees(W, N, -0.044, 0.001)\n",
        "plot_X_similar_vec(X, similar_indices, legend=True, W=W,N=N)"
      ],
      "metadata": {
        "id": "NcF5umL40eeh"
      },
      "execution_count": null,
      "outputs": []
    },
    {
      "cell_type": "code",
      "source": [
        "similar_indices, similar_degrees = find_similar_weighted_degrees(W, N, 0, 5)\n",
        "plot_X_similar_vec(X, similar_indices, legend=False, W=W,N=N)"
      ],
      "metadata": {
        "id": "EWXInfLFywIy"
      },
      "execution_count": null,
      "outputs": []
    },
    {
      "cell_type": "markdown",
      "source": [
        "### Network 6 rho=0.8, alpha=np.linspace(0"
      ],
      "metadata": {
        "id": "BDKoLhX89-R7"
      }
    },
    {
      "cell_type": "code",
      "source": [],
      "metadata": {
        "id": "CYr-3GE_A4NZ"
      },
      "execution_count": null,
      "outputs": []
    },
    {
      "cell_type": "markdown",
      "source": [
        "### Network 7 rho=0.8 alpha 0.00542"
      ],
      "metadata": {
        "id": "Kr-wyyjEA4b4"
      }
    },
    {
      "cell_type": "code",
      "source": [
        "alphas = np.linspace(0, 0.01, 60)"
      ],
      "metadata": {
        "id": "aJt1_sTsA4b4"
      },
      "execution_count": null,
      "outputs": []
    },
    {
      "cell_type": "code",
      "source": [
        "alphas[32]"
      ],
      "metadata": {
        "id": "hDkTKUYBA4b4"
      },
      "execution_count": null,
      "outputs": []
    },
    {
      "cell_type": "code",
      "source": [
        "X, N, epsilon, rho, T, alpha, W = compute_state_matrix(F, conn,\n",
        "                                                                100, 0.2, 0.8, alphas[32], 2000,   # N, epsilon, rho, alpha\n",
        "                                                                Lapl=True, ex_time=False)"
      ],
      "metadata": {
        "id": "1HY0NM3ZA4b4"
      },
      "execution_count": null,
      "outputs": []
    },
    {
      "cell_type": "code",
      "source": [
        "similar_indices, similar_degrees = find_similar_weighted_degrees(W, N, 0.84, 0.02)\n",
        "plot_X_similar_vec(X, [10,38,46], legend=True, W=W,N=N)"
      ],
      "metadata": {
        "id": "-hk6S81kA4b4"
      },
      "execution_count": null,
      "outputs": []
    },
    {
      "cell_type": "code",
      "source": [
        "similar_indices, similar_degrees = find_similar_weighted_degrees(W, N, 0, 5)\n",
        "plot_X_similar_vec(X, similar_indices, legend=False, W=W,N=N )"
      ],
      "metadata": {
        "id": "hzv0mLpBA4b5"
      },
      "execution_count": null,
      "outputs": []
    },
    {
      "cell_type": "code",
      "source": [
        "similar_indices, similar_degrees = find_similar_weighted_degrees(W, N, 0, 5)\n",
        "plot_X_similar_vec(X, [38,46], legend=True, W=W,N=N, start_time=1000, end_time=1100, connect_dots=True)"
      ],
      "metadata": {
        "id": "PpwXftYoA4b5"
      },
      "execution_count": null,
      "outputs": []
    },
    {
      "cell_type": "code",
      "source": [
        "plot_orbit(X, 38,46,W,N, 15)"
      ],
      "metadata": {
        "id": "NVLRJSMPA4b5"
      },
      "execution_count": null,
      "outputs": []
    },
    {
      "cell_type": "code",
      "source": [
        "plot_orbit(X, 38,46,W,N, 20)"
      ],
      "metadata": {
        "id": "lLIWzjy6A4b5"
      },
      "execution_count": null,
      "outputs": []
    },
    {
      "cell_type": "code",
      "source": [
        "plot_orbit(X, 38,46,W,N, 17)"
      ],
      "metadata": {
        "id": "oNA7WxtIA4b5"
      },
      "execution_count": null,
      "outputs": []
    },
    {
      "cell_type": "code",
      "source": [
        "plot_orbit(X, 38,46,W,N, 19)"
      ],
      "metadata": {
        "id": "OTMNpB1dA4b5"
      },
      "execution_count": null,
      "outputs": []
    },
    {
      "cell_type": "code",
      "source": [
        "plot_X_similar_vec(X, [14, 50], legend=True, W=W,N=N, start_time=1000, end_time=1100, connect_dots=True)"
      ],
      "metadata": {
        "id": "i42xHLFGA4b5"
      },
      "execution_count": null,
      "outputs": []
    },
    {
      "cell_type": "code",
      "source": [
        "plot_orbit(X, 14,50,W,N, 15)"
      ],
      "metadata": {
        "id": "o1ZudWC5A4b5"
      },
      "execution_count": null,
      "outputs": []
    },
    {
      "cell_type": "markdown",
      "source": [],
      "metadata": {
        "id": "qrszlYg5A4b5"
      }
    },
    {
      "cell_type": "code",
      "source": [
        "similar_indices, similar_degrees = find_similar_weighted_degrees(W, N, 1.1, 0.05)\n",
        "plot_X_similar_vec(X, [6,77], legend=True, W=W,N=N, start_time=1000, end_time=1100, connect_dots=True)"
      ],
      "metadata": {
        "id": "uOliSG7BA4b5"
      },
      "execution_count": null,
      "outputs": []
    },
    {
      "cell_type": "code",
      "source": [
        "plot_orbit(X, 6,77,W,N, 17)"
      ],
      "metadata": {
        "id": "2O1gSAuHA4b5"
      },
      "execution_count": null,
      "outputs": []
    },
    {
      "cell_type": "code",
      "source": [
        "plot_X_similar_vec(X, [1,2,3], legend=True, W=W,N=N, start_time=1000, end_time=1100, connect_dots=True)"
      ],
      "metadata": {
        "id": "cD3-pdrEA4b5"
      },
      "execution_count": null,
      "outputs": []
    },
    {
      "cell_type": "code",
      "source": [
        "plot_orbit(X, 1,2,W,N, 17)"
      ],
      "metadata": {
        "id": "mL6VeLAoA4b5"
      },
      "execution_count": null,
      "outputs": []
    },
    {
      "cell_type": "code",
      "source": [
        "plot_X_similar_vec(X, [93,94,95], legend=True, W=W,N=N, start_time=1000, end_time=1100, connect_dots=True)"
      ],
      "metadata": {
        "id": "ZFRJ-fD_A4b6"
      },
      "execution_count": null,
      "outputs": []
    },
    {
      "cell_type": "code",
      "source": [
        "plot_orbit(X, 94,93,W,N, 17)"
      ],
      "metadata": {
        "id": "wSUMYhYjA4b6"
      },
      "execution_count": null,
      "outputs": []
    },
    {
      "cell_type": "code",
      "source": [],
      "metadata": {
        "id": "ufnlpxi5A4b6"
      },
      "execution_count": null,
      "outputs": []
    },
    {
      "cell_type": "markdown",
      "source": [
        "### Network 8 rho=0.8 alpha 0.00338"
      ],
      "metadata": {
        "id": "HsyUsTzBqHIj"
      }
    },
    {
      "cell_type": "code",
      "source": [
        "alphas = np.linspace(0, 0.01, 60)"
      ],
      "metadata": {
        "id": "AsuhpXRLqHIj"
      },
      "execution_count": null,
      "outputs": []
    },
    {
      "cell_type": "code",
      "source": [
        "alphas[20]"
      ],
      "metadata": {
        "id": "TkervD31qHIj"
      },
      "execution_count": null,
      "outputs": []
    },
    {
      "cell_type": "code",
      "source": [
        "X, N, epsilon, rho, T, alpha, W = compute_state_matrix(F, conn,\n",
        "                                                                100, 0.2, 0.8, alphas[20], 2000,   # N, epsilon, rho, alpha\n",
        "                                                                Lapl=True, ex_time=False)"
      ],
      "metadata": {
        "id": "R-73wIuUqHIk"
      },
      "execution_count": null,
      "outputs": []
    },
    {
      "cell_type": "code",
      "source": [
        "similar_indices, similar_degrees = find_similar_weighted_degrees(W, N, 0.84, 0.02)\n",
        "plot_X_similar_vec(X, [10,38,46], legend=True, W=W,N=N)"
      ],
      "metadata": {
        "id": "Rwx_hZzeqHIk"
      },
      "execution_count": null,
      "outputs": []
    },
    {
      "cell_type": "code",
      "source": [
        "similar_indices, similar_degrees = find_similar_weighted_degrees(W, N, 0, 5)\n",
        "plot_X_similar_vec(X, similar_indices, legend=False, W=W,N=N )"
      ],
      "metadata": {
        "id": "VH9AY9CJqHIk"
      },
      "execution_count": null,
      "outputs": []
    },
    {
      "cell_type": "code",
      "source": [
        "similar_indices, similar_degrees = find_similar_weighted_degrees(W, N, 0, 5)\n",
        "plot_X_similar_vec(X, [38,46], legend=True, W=W,N=N, start_time=1000, end_time=1100, connect_dots=True)"
      ],
      "metadata": {
        "id": "6dWDoL8xqHIk"
      },
      "execution_count": null,
      "outputs": []
    },
    {
      "cell_type": "code",
      "source": [
        "plot_orbit(X, 38,46,W,N, 15)"
      ],
      "metadata": {
        "id": "_kkp7UQq987E"
      },
      "execution_count": null,
      "outputs": []
    },
    {
      "cell_type": "code",
      "source": [
        "plot_orbit(X, 38,46,W,N, 20)"
      ],
      "metadata": {
        "id": "j1wzRGRR-QDz"
      },
      "execution_count": null,
      "outputs": []
    },
    {
      "cell_type": "code",
      "source": [
        "plot_orbit(X, 38,46,W,N, 17)"
      ],
      "metadata": {
        "id": "aEegBfZ0-6am"
      },
      "execution_count": null,
      "outputs": []
    },
    {
      "cell_type": "code",
      "source": [
        "plot_orbit(X, 38,46,W,N, 19)"
      ],
      "metadata": {
        "id": "owCuLjqz-Uka"
      },
      "execution_count": null,
      "outputs": []
    },
    {
      "cell_type": "code",
      "source": [
        "plot_X_similar_vec(X, [14, 50], legend=True, W=W,N=N, start_time=1000, end_time=1100, connect_dots=True)"
      ],
      "metadata": {
        "id": "LgZIzevJqHIk"
      },
      "execution_count": null,
      "outputs": []
    },
    {
      "cell_type": "code",
      "source": [
        "plot_orbit(X, 14,50,W,N, 15)"
      ],
      "metadata": {
        "id": "wRTdXQ3Z-fAC"
      },
      "execution_count": null,
      "outputs": []
    },
    {
      "cell_type": "markdown",
      "source": [],
      "metadata": {
        "id": "xQwktIU3-q0r"
      }
    },
    {
      "cell_type": "code",
      "source": [
        "similar_indices, similar_degrees = find_similar_weighted_degrees(W, N, 1.1, 0.05)\n",
        "plot_X_similar_vec(X, [6,77], legend=True, W=W,N=N, start_time=1000, end_time=1100, connect_dots=True)"
      ],
      "metadata": {
        "id": "ZjCsIFDeqHIk"
      },
      "execution_count": null,
      "outputs": []
    },
    {
      "cell_type": "code",
      "source": [
        "plot_orbit(X, 6,77,W,N, 17)"
      ],
      "metadata": {
        "id": "lDzG_YSq_twh"
      },
      "execution_count": null,
      "outputs": []
    },
    {
      "cell_type": "code",
      "source": [
        "plot_X_similar_vec(X, [1,2,3], legend=True, W=W,N=N, start_time=1000, end_time=1100, connect_dots=True)"
      ],
      "metadata": {
        "id": "OkkMYK6FqHIk"
      },
      "execution_count": null,
      "outputs": []
    },
    {
      "cell_type": "code",
      "source": [
        "plot_orbit(X, 1,2,W,N, 17)"
      ],
      "metadata": {
        "id": "fPRZAPPq_5xa"
      },
      "execution_count": null,
      "outputs": []
    },
    {
      "cell_type": "code",
      "source": [
        "plot_X_similar_vec(X, [93,94,95], legend=True, W=W,N=N, start_time=1000, end_time=1100, connect_dots=True)"
      ],
      "metadata": {
        "id": "b0Ekx4ZgqHIk"
      },
      "execution_count": null,
      "outputs": []
    },
    {
      "cell_type": "code",
      "source": [
        "plot_orbit(X, 94,93,W,N, 17)"
      ],
      "metadata": {
        "id": "iKFBsG0hqhs1"
      },
      "execution_count": null,
      "outputs": []
    },
    {
      "cell_type": "code",
      "source": [],
      "metadata": {
        "id": "h7iXVMqPAO3k"
      },
      "execution_count": null,
      "outputs": []
    },
    {
      "cell_type": "markdown",
      "source": [
        "### Network 9 rho=0.8 alpha 0.00169"
      ],
      "metadata": {
        "id": "WKxLNL46APKS"
      }
    },
    {
      "cell_type": "code",
      "source": [
        "alphas = np.linspace(0, 0.01, 60)"
      ],
      "metadata": {
        "id": "p6a-nL3GAPKS"
      },
      "execution_count": null,
      "outputs": []
    },
    {
      "cell_type": "code",
      "source": [
        "alphas[10]"
      ],
      "metadata": {
        "id": "G3IOLvQZAPKS"
      },
      "execution_count": null,
      "outputs": []
    },
    {
      "cell_type": "code",
      "source": [
        "X, N, epsilon, rho, T, alpha, W = compute_state_matrix(F, conn,\n",
        "                                                                100, 0.2, 0.8, alphas[10], 2000,   # N, epsilon, rho, alpha\n",
        "                                                                Lapl=True, ex_time=False)"
      ],
      "metadata": {
        "id": "rwcSfyC-APKS"
      },
      "execution_count": null,
      "outputs": []
    },
    {
      "cell_type": "code",
      "source": [
        "similar_indices, similar_degrees = find_similar_weighted_degrees(W, N, 0.84, 0.02)\n",
        "plot_X_similar_vec(X, [10,38,46], legend=True, W=W,N=N)"
      ],
      "metadata": {
        "id": "MOKu9_N1APKT"
      },
      "execution_count": null,
      "outputs": []
    },
    {
      "cell_type": "code",
      "source": [
        "similar_indices, similar_degrees = find_similar_weighted_degrees(W, N, 0, 5)\n",
        "plot_X_similar_vec(X, similar_indices, legend=False, W=W,N=N )"
      ],
      "metadata": {
        "id": "fuxaIcTaAPKT"
      },
      "execution_count": null,
      "outputs": []
    },
    {
      "cell_type": "code",
      "source": [
        "similar_indices, similar_degrees = find_similar_weighted_degrees(W, N, 0, 5)\n",
        "plot_X_similar_vec(X, [38,46], legend=True, W=W,N=N, start_time=1000, end_time=1100, connect_dots=True)"
      ],
      "metadata": {
        "id": "BVY6WxXhAPKT"
      },
      "execution_count": null,
      "outputs": []
    },
    {
      "cell_type": "code",
      "source": [
        "plot_orbit(X, 38,46,W,N, 15)"
      ],
      "metadata": {
        "id": "VIh1fWU3APKT"
      },
      "execution_count": null,
      "outputs": []
    },
    {
      "cell_type": "code",
      "source": [
        "plot_orbit(X, 38,46,W,N, 20)"
      ],
      "metadata": {
        "id": "A0U-DgFzAPKT"
      },
      "execution_count": null,
      "outputs": []
    },
    {
      "cell_type": "code",
      "source": [
        "plot_orbit(X, 38,46,W,N, 17)"
      ],
      "metadata": {
        "id": "cBzUsREMAPKT"
      },
      "execution_count": null,
      "outputs": []
    },
    {
      "cell_type": "code",
      "source": [
        "plot_orbit(X, 38,46,W,N, 19)"
      ],
      "metadata": {
        "id": "6Xdz9Vf4APKT"
      },
      "execution_count": null,
      "outputs": []
    },
    {
      "cell_type": "code",
      "source": [
        "plot_X_similar_vec(X, [14, 50], legend=True, W=W,N=N, start_time=1000, end_time=1100, connect_dots=True)"
      ],
      "metadata": {
        "id": "agg3tGkMAPKT"
      },
      "execution_count": null,
      "outputs": []
    },
    {
      "cell_type": "code",
      "source": [
        "plot_orbit(X, 14,50,W,N, 15)"
      ],
      "metadata": {
        "id": "6Y7jCNrzAPKT"
      },
      "execution_count": null,
      "outputs": []
    },
    {
      "cell_type": "markdown",
      "source": [],
      "metadata": {
        "id": "Z77Cq0VgAPKU"
      }
    },
    {
      "cell_type": "code",
      "source": [
        "similar_indices, similar_degrees = find_similar_weighted_degrees(W, N, 1.1, 0.05)\n",
        "plot_X_similar_vec(X, [6,77], legend=True, W=W,N=N, start_time=1000, end_time=1100, connect_dots=True)"
      ],
      "metadata": {
        "id": "DVLCQLrlAPKU"
      },
      "execution_count": null,
      "outputs": []
    },
    {
      "cell_type": "code",
      "source": [
        "plot_orbit(X, 6,77,W,N, 17)"
      ],
      "metadata": {
        "id": "7XH8KjpvAPKU"
      },
      "execution_count": null,
      "outputs": []
    },
    {
      "cell_type": "code",
      "source": [
        "plot_X_similar_vec(X, [1,2,3], legend=True, W=W,N=N, start_time=1000, end_time=1100, connect_dots=True)"
      ],
      "metadata": {
        "id": "GCzK4Ds1APKU"
      },
      "execution_count": null,
      "outputs": []
    },
    {
      "cell_type": "code",
      "source": [
        "plot_orbit(X, 1,2,W,N, 17)"
      ],
      "metadata": {
        "id": "rYVYC6ElAPKU"
      },
      "execution_count": null,
      "outputs": []
    },
    {
      "cell_type": "code",
      "source": [
        "plot_X_similar_vec(X, [93,94,95], legend=True, W=W,N=N, start_time=1000, end_time=1100, connect_dots=True)"
      ],
      "metadata": {
        "id": "4wSjMvcZAPKU"
      },
      "execution_count": null,
      "outputs": []
    },
    {
      "cell_type": "code",
      "source": [
        "plot_orbit(X, 94,93,W,N, 17)"
      ],
      "metadata": {
        "id": "rL36TEjUAPKU"
      },
      "execution_count": null,
      "outputs": []
    },
    {
      "cell_type": "markdown",
      "source": [
        "### Network 10 rho=0.8 alpha 0.00011"
      ],
      "metadata": {
        "id": "0Bma3El8rBNk"
      }
    },
    {
      "cell_type": "code",
      "source": [
        "alphas = np.linspace(0, 0.01, 60)"
      ],
      "metadata": {
        "id": "hw8crX8_rBNk"
      },
      "execution_count": null,
      "outputs": []
    },
    {
      "cell_type": "code",
      "source": [
        "alphas[1]"
      ],
      "metadata": {
        "id": "dOtHv4rBrBNk"
      },
      "execution_count": null,
      "outputs": []
    },
    {
      "cell_type": "code",
      "source": [
        "X, N, epsilon, rho, T, alpha, W = compute_state_matrix(F, conn,\n",
        "                                                                100, 0.2, 0.8, alphas[1], 2000,   # N, epsilon, rho, alpha\n",
        "                                                                Lapl=True, ex_time=False)"
      ],
      "metadata": {
        "id": "xI1HrfmDrBNl"
      },
      "execution_count": null,
      "outputs": []
    },
    {
      "cell_type": "code",
      "source": [
        "similar_indices, similar_degrees = find_similar_weighted_degrees(W, N, 0.84, 0.02)\n",
        "plot_X_similar_vec(X, [10,38,46], legend=True, W=W,N=N)"
      ],
      "metadata": {
        "id": "xxRg7nmNrBNl"
      },
      "execution_count": null,
      "outputs": []
    },
    {
      "cell_type": "code",
      "source": [
        "similar_indices, similar_degrees = find_similar_weighted_degrees(W, N, 0, 5)\n",
        "plot_X_similar_vec(X, similar_indices, legend=False, W=W,N=N )"
      ],
      "metadata": {
        "id": "S5rwPKJ7rBNl"
      },
      "execution_count": null,
      "outputs": []
    },
    {
      "cell_type": "code",
      "source": [
        "similar_indices, similar_degrees = find_similar_weighted_degrees(W, N, 0, 5)\n",
        "plot_X_similar_vec(X, [38,46], legend=True, W=W,N=N, start_time=1000, end_time=1100, connect_dots=True)"
      ],
      "metadata": {
        "id": "XiFylPO9rBNm"
      },
      "execution_count": null,
      "outputs": []
    },
    {
      "cell_type": "code",
      "source": [
        "plot_X_similar_vec(X, [14, 50], legend=True, W=W,N=N, start_time=1000, end_time=1100, connect_dots=True)"
      ],
      "metadata": {
        "id": "os1ZPtZ2rBNm"
      },
      "execution_count": null,
      "outputs": []
    },
    {
      "cell_type": "code",
      "source": [
        "similar_indices, similar_degrees = find_similar_weighted_degrees(W, N, 1.1, 0.05)\n",
        "plot_X_similar_vec(X, [6,77], legend=True, W=W,N=N, start_time=1000, end_time=1100, connect_dots=True)"
      ],
      "metadata": {
        "id": "GdPCND5hrBNm"
      },
      "execution_count": null,
      "outputs": []
    },
    {
      "cell_type": "code",
      "source": [
        "plot_X_similar_vec(X, [1,2,3], legend=True, W=W,N=N, start_time=1000, end_time=1100, connect_dots=True)"
      ],
      "metadata": {
        "id": "uECPzHHJrBNm"
      },
      "execution_count": null,
      "outputs": []
    },
    {
      "cell_type": "code",
      "source": [
        "plot_X_similar_vec(X, [93,94,95], legend=True, W=W,N=N, start_time=1000, end_time=1100, connect_dots=True)"
      ],
      "metadata": {
        "id": "R2M8tvNBrBNn"
      },
      "execution_count": null,
      "outputs": []
    },
    {
      "cell_type": "code",
      "source": [],
      "metadata": {
        "id": "hemK3Gd3riDl"
      },
      "execution_count": null,
      "outputs": []
    },
    {
      "cell_type": "markdown",
      "source": [
        "### Network 10 rho=0.8 alpha 0.0002"
      ],
      "metadata": {
        "id": "nmAZSVPsriOy"
      }
    },
    {
      "cell_type": "code",
      "source": [
        "alphas = np.linspace(0, 0.001, 60)"
      ],
      "metadata": {
        "id": "D-b8untLriOz"
      },
      "execution_count": null,
      "outputs": []
    },
    {
      "cell_type": "code",
      "source": [
        "alphas[1]"
      ],
      "metadata": {
        "id": "FaQbqugAriOz"
      },
      "execution_count": null,
      "outputs": []
    },
    {
      "cell_type": "code",
      "source": [
        "X, N, epsilon, rho, T, alpha, W = compute_state_matrix(F, conn,\n",
        "                                                                100, 0.2, 0.8, alphas[1], 2000,   # N, epsilon, rho, alpha\n",
        "                                                                Lapl=True, ex_time=False)"
      ],
      "metadata": {
        "id": "2GYtVOQXriOz"
      },
      "execution_count": null,
      "outputs": []
    },
    {
      "cell_type": "code",
      "source": [
        "similar_indices, similar_degrees = find_similar_weighted_degrees(W, N, 0.84, 0.02)\n",
        "plot_X_similar_vec(X, [10,38,46], legend=True, W=W,N=N)"
      ],
      "metadata": {
        "id": "Y4aw2eiRriOz"
      },
      "execution_count": null,
      "outputs": []
    },
    {
      "cell_type": "code",
      "source": [
        "similar_indices, similar_degrees = find_similar_weighted_degrees(W, N, 0, 5)\n",
        "plot_X_similar_vec(X, similar_indices, legend=False, W=W,N=N )"
      ],
      "metadata": {
        "id": "qK6H3lpKriOz"
      },
      "execution_count": null,
      "outputs": []
    },
    {
      "cell_type": "code",
      "source": [
        "similar_indices, similar_degrees = find_similar_weighted_degrees(W, N, 0, 5)\n",
        "plot_X_similar_vec(X, [38,46], legend=True, W=W,N=N, start_time=1000, end_time=1100, connect_dots=True)"
      ],
      "metadata": {
        "id": "WX0AbgTxriOz"
      },
      "execution_count": null,
      "outputs": []
    },
    {
      "cell_type": "code",
      "source": [
        "plot_X_similar_vec(X, [14, 50], legend=True, W=W,N=N, start_time=1000, end_time=1100, connect_dots=True)"
      ],
      "metadata": {
        "id": "DbMeQemQriOz"
      },
      "execution_count": null,
      "outputs": []
    },
    {
      "cell_type": "code",
      "source": [
        "similar_indices, similar_degrees = find_similar_weighted_degrees(W, N, 1.1, 0.05)\n",
        "plot_X_similar_vec(X, [6,77], legend=True, W=W,N=N, start_time=1000, end_time=1100, connect_dots=True)"
      ],
      "metadata": {
        "id": "A5f9WkZXriO0"
      },
      "execution_count": null,
      "outputs": []
    },
    {
      "cell_type": "code",
      "source": [
        "plot_X_similar_vec(X, [1,2,3], legend=True, W=W,N=N, start_time=1000, end_time=1100, connect_dots=True)"
      ],
      "metadata": {
        "id": "C4ldZyw6riO0"
      },
      "execution_count": null,
      "outputs": []
    },
    {
      "cell_type": "code",
      "source": [
        "plot_X_similar_vec(X, [93,94,95], legend=True, W=W,N=N, start_time=1000, end_time=1100, connect_dots=True)"
      ],
      "metadata": {
        "id": "dUYPE8sGriO0"
      },
      "execution_count": null,
      "outputs": []
    },
    {
      "cell_type": "markdown",
      "source": [
        "# Orbits"
      ],
      "metadata": {
        "id": "m0o--t5uvyb1"
      }
    },
    {
      "cell_type": "code",
      "source": [
        "F=F_mod\n",
        "conn = \"Electrical\""
      ],
      "metadata": {
        "id": "Uhs_Nbqdx-YF"
      },
      "execution_count": null,
      "outputs": []
    },
    {
      "cell_type": "code",
      "source": [
        "alphas = np.linspace(0, 0.001, 60)"
      ],
      "metadata": {
        "id": "7w2Dh3tfx7uB"
      },
      "execution_count": null,
      "outputs": []
    },
    {
      "cell_type": "code",
      "source": [
        "X, N, epsilon, rho, T, alpha, W = compute_state_matrix(F, conn,\n",
        "                                                                100, 0.2, 0.8, alphas[1], 10000,   # N, epsilon, rho, alpha\n",
        "                                                                Lapl=True, ex_time=False)"
      ],
      "metadata": {
        "id": "mIEw7tgCx3ma"
      },
      "execution_count": null,
      "outputs": []
    },
    {
      "cell_type": "code",
      "source": [
        "import numpy as np\n",
        "import matplotlib.pyplot as plt\n",
        "from scipy.signal import correlate\n",
        "\n",
        "# Let's assume `states` is a matrix where each row corresponds to the state time series of a neuron\n",
        "\n",
        "def phase_space_reconstruct(time_series, delay, dimension):\n",
        "    # The length of the time series that can be used for the reconstruction\n",
        "    usable_length = len(time_series) - (dimension - 1) * delay\n",
        "    # Reconstructs the phase space using delay embedding\n",
        "    reconstructed = np.array([\n",
        "        time_series[i: i + usable_length]\n",
        "        for i in range(0, delay * (dimension - 1) + 1, delay)\n",
        "    ])\n",
        "    return reconstructed.T\n",
        "\n",
        "def find_time_lag(ts1, ts2, max_lag):\n",
        "    # Finds the time lag that maximizes the cross-correlation between two time series\n",
        "    ts1 = ts1.tolist()\n",
        "    ts2 = ts2.tolist()\n",
        "    correlation = correlate(ts1, ts2, mode='full', method='auto')\n",
        "    lag = np.argmax(correlation) - (len(ts1) - 1)\n",
        "    return lag if abs(lag) <= max_lag else 0  # If lag is too large, it may not be meaningful\n",
        "\n",
        "# Parameters for phase space reconstruction\n",
        "delay = 10  # The delay used in the reconstruction\n",
        "max_lag = 1000  # Maximum allowed lag\n",
        "\n",
        "\n",
        "# Reconstruct the phase space for two neurons\n",
        "neuron1 = phase_space_reconstruct(X[38,:], delay, 2)\n",
        "neuron2 = phase_space_reconstruct(X[46,:], delay, 2)\n",
        "\n",
        "# Find the time lag between neuron1 and neuron2\n",
        "lag = find_time_lag(X[38,:], X[46,:], max_lag)\n",
        "\n",
        "# Align the neurons by shifting\n",
        "if lag > 0:\n",
        "    aligned_neuron1 = neuron1[:-lag]\n",
        "    aligned_neuron2 = neuron2[lag:]\n",
        "elif lag < 0:\n",
        "    aligned_neuron1 = neuron1[-lag:]\n",
        "    aligned_neuron2 = neuron2[:lag]\n",
        "else:\n",
        "    aligned_neuron1 = neuron1\n",
        "    aligned_neuron2 = neuron2\n",
        "\n",
        "\n",
        "\n",
        "# Plot the orbits in the reconstructed phase space\n",
        "plt.plot(aligned_neuron1[:,0], aligned_neuron1[:,1], label='Neuron 1')\n",
        "plt.plot(aligned_neuron2[:,0], aligned_neuron2[:,1], label='Neuron 2')\n",
        "plt.xlabel('x(t)')\n",
        "plt.ylabel('x(t - delay)')\n",
        "plt.legend()\n",
        "plt.show()\n"
      ],
      "metadata": {
        "id": "x1pI_M98v0SV"
      },
      "execution_count": null,
      "outputs": []
    },
    {
      "cell_type": "code",
      "source": [
        "import numpy as np\n",
        "import matplotlib.pyplot as plt\n",
        "from scipy.signal import correlate\n",
        "\n",
        "# Let's assume `states` is a matrix where each row corresponds to the state time series of a neuron\n",
        "\n",
        "def phase_space_reconstruct(time_series, delay, dimension):\n",
        "    # The length of the time series that can be used for the reconstruction\n",
        "    usable_length = len(time_series) - (dimension - 1) * delay\n",
        "    # Reconstructs the phase space using delay embedding\n",
        "    reconstructed = np.array([\n",
        "        time_series[i: i + usable_length]\n",
        "        for i in range(0, delay * (dimension - 1) + 1, delay)\n",
        "    ])\n",
        "    return reconstructed.T\n",
        "\n",
        "def find_time_lag(ts1, ts2, max_lag):\n",
        "    # Finds the time lag that maximizes the cross-correlation between two time series\n",
        "    ts1 = ts1.tolist()\n",
        "    ts2 = ts2.tolist()\n",
        "    correlation = correlate(ts1, ts2, mode='full', method='auto')\n",
        "    lag = np.argmax(correlation) - (len(ts1) - 1)\n",
        "    return lag if abs(lag) <= max_lag else 0  # If lag is too large, it may not be meaningful\n",
        "\n",
        "# Parameters for phase space reconstruction\n",
        "delay = 50  # The delay used in the reconstruction\n",
        "max_lag = 1000  # Maximum allowed lag\n",
        "\n",
        "\n",
        "# Reconstruct the phase space for two neurons\n",
        "neuron1 = phase_space_reconstruct(X[1,:], delay, 2)\n",
        "neuron2 = phase_space_reconstruct(X[2,:], delay, 2)\n",
        "\n",
        "# Find the time lag between neuron1 and neuron2\n",
        "lag = find_time_lag(X[1,:], X[2,:], max_lag)\n",
        "\n",
        "# Align the neurons by shifting\n",
        "if lag > 0:\n",
        "    aligned_neuron1 = neuron1[:-lag]\n",
        "    aligned_neuron2 = neuron2[lag:]\n",
        "elif lag < 0:\n",
        "    aligned_neuron1 = neuron1[-lag:]\n",
        "    aligned_neuron2 = neuron2[:lag]\n",
        "else:\n",
        "    aligned_neuron1 = neuron1\n",
        "    aligned_neuron2 = neuron2\n",
        "\n",
        "\n",
        "\n",
        "# Plot the orbits in the reconstructed phase space\n",
        "plt.plot(aligned_neuron1[:,0], aligned_neuron1[:,1], label='Neuron 1',alpha=0.3, linewidth=0.2)\n",
        "plt.plot(aligned_neuron2[:,0], aligned_neuron2[:,1], label='Neuron 2',alpha=0.3, linewidth=0.2)\n",
        "plt.xlabel('x(t)')\n",
        "plt.ylabel('x(t - delay)')\n",
        "plt.legend()\n",
        "plt.show()\n"
      ],
      "metadata": {
        "id": "n2yrDOPizWyJ"
      },
      "execution_count": null,
      "outputs": []
    },
    {
      "cell_type": "markdown",
      "source": [
        "## orbit T=2000"
      ],
      "metadata": {
        "id": "Zb4R5nkb2JIi"
      }
    },
    {
      "cell_type": "code",
      "source": [
        "X, N, epsilon, rho, T, alpha, W = compute_state_matrix(F, conn,\n",
        "                                                                100, 0.2, 0.8, alphas[1], 2000,   # N, epsilon, rho, alpha\n",
        "                                                                Lapl=True, ex_time=False)\n",
        "\n"
      ],
      "metadata": {
        "id": "mr9I25bA2Gw6"
      },
      "execution_count": null,
      "outputs": []
    },
    {
      "cell_type": "code",
      "source": [
        "import numpy as np\n",
        "import matplotlib.pyplot as plt\n",
        "from scipy.signal import correlate\n",
        "\n",
        "# Let's assume `states` is a matrix where each row corresponds to the state time series of a neuron\n",
        "\n",
        "def phase_space_reconstruct(time_series, delay, dimension):\n",
        "    # The length of the time series that can be used for the reconstruction\n",
        "    usable_length = len(time_series) - (dimension - 1) * delay\n",
        "    # Reconstructs the phase space using delay embedding\n",
        "    reconstructed = np.array([\n",
        "        time_series[i: i + usable_length]\n",
        "        for i in range(0, delay * (dimension - 1) + 1, delay)\n",
        "    ])\n",
        "    return reconstructed.T\n",
        "\n",
        "def find_time_lag(ts1, ts2, max_lag):\n",
        "    # Finds the time lag that maximizes the cross-correlation between two time series\n",
        "    ts1 = ts1.tolist()\n",
        "    ts2 = ts2.tolist()\n",
        "    correlation = correlate(ts1, ts2, mode='full', method='auto')\n",
        "    lag = np.argmax(correlation) - (len(ts1) - 1)\n",
        "    return lag if abs(lag) <= max_lag else 0  # If lag is too large, it may not be meaningful\n",
        "\n",
        "# Parameters for phase space reconstruction\n",
        "delay = 15  # The delay used in the reconstruction\n",
        "max_lag = 1000  # Maximum allowed lag\n",
        "\n",
        "\n",
        "# Reconstruct the phase space for two neurons\n",
        "neuron1 = phase_space_reconstruct(X[1,:], delay, 2)\n",
        "neuron2 = phase_space_reconstruct(X[2,:], delay, 2)\n",
        "\n",
        "# Find the time lag between neuron1 and neuron2\n",
        "lag = find_time_lag(X[1,:], X[2,:], max_lag)\n",
        "\n",
        "# Align the neurons by shifting\n",
        "if lag > 0:\n",
        "    aligned_neuron1 = neuron1[:-lag]\n",
        "    aligned_neuron2 = neuron2[lag:]\n",
        "elif lag < 0:\n",
        "    aligned_neuron1 = neuron1[-lag:]\n",
        "    aligned_neuron2 = neuron2[:lag]\n",
        "else:\n",
        "    aligned_neuron1 = neuron1\n",
        "    aligned_neuron2 = neuron2\n",
        "\n",
        "\n",
        "\n",
        "# Plot the orbits in the reconstructed phase space\n",
        "plt.plot(aligned_neuron1[:,0], aligned_neuron1[:,1], label='Neuron 1',alpha=0.3, linewidth=0.1)\n",
        "plt.plot(aligned_neuron2[:,0], aligned_neuron2[:,1], label='Neuron 2',alpha=0.3, linewidth=0.2)\n",
        "plt.xlabel('x(t)')\n",
        "plt.ylabel('x(t - delay)')\n",
        "plt.legend()\n",
        "plt.show()\n"
      ],
      "metadata": {
        "id": "CiA449322AWZ"
      },
      "execution_count": null,
      "outputs": []
    },
    {
      "cell_type": "code",
      "source": [
        "import numpy as np\n",
        "import matplotlib.pyplot as plt\n",
        "from scipy.signal import correlate\n",
        "from mpl_toolkits.axes_grid1.inset_locator import inset_axes\n",
        "\n",
        "# Let's assume `states` is a matrix where each row corresponds to the state time series of a neuron\n",
        "\n",
        "def phase_space_reconstruct(time_series, delay, dimension):\n",
        "    # The length of the time series that can be used for the reconstruction\n",
        "    usable_length = len(time_series) - (dimension - 1) * delay\n",
        "    # Reconstructs the phase space using delay embedding\n",
        "    reconstructed = np.array([\n",
        "        time_series[i: i + usable_length]\n",
        "        for i in range(0, delay * (dimension - 1) + 1, delay)\n",
        "    ])\n",
        "    return reconstructed.T\n",
        "\n",
        "def find_time_lag(ts1, ts2, max_lag):\n",
        "    # Finds the time lag that maximizes the cross-correlation between two time series\n",
        "    ts1 = ts1.tolist()\n",
        "    ts2 = ts2.tolist()\n",
        "    correlation = correlate(ts1, ts2, mode='full', method='auto')\n",
        "    lag = np.argmax(correlation) - (len(ts1) - 1)\n",
        "    return lag if abs(lag) <= max_lag else 0  # If lag is too large, it may not be meaningful\n",
        "\n",
        "# Parameters for phase space reconstruction\n",
        "delay = 15  # The delay used in the reconstruction\n",
        "max_lag = 1000  # Maximum allowed lag\n",
        "\n",
        "\n",
        "# Reconstruct the phase space for two neurons\n",
        "neuron1 = phase_space_reconstruct(X[38,:], delay, 2)\n",
        "neuron2 = phase_space_reconstruct(X[46,:], delay, 2)\n",
        "\n",
        "# Find the time lag between neuron1 and neuron2\n",
        "lag = find_time_lag(X[1,:], X[2,:], max_lag)\n",
        "\n",
        "# Align the neurons by shifting\n",
        "if lag > 0:\n",
        "    aligned_neuron1 = neuron1[:-lag]\n",
        "    aligned_neuron2 = neuron2[lag:]\n",
        "elif lag < 0:\n",
        "    aligned_neuron1 = neuron1[-lag:]\n",
        "    aligned_neuron2 = neuron2[:lag]\n",
        "else:\n",
        "    aligned_neuron1 = neuron1\n",
        "    aligned_neuron2 = neuron2\n",
        "\n",
        "\n",
        "\n",
        "\n",
        "# Plot the orbits in the reconstructed phase space\n",
        "plt.figure(figsize=(10, 6))\n",
        "plt.plot(aligned_neuron1[:, 0], aligned_neuron1[:, 1], label='Neuron 1', alpha=1, linewidth=0.1, color=\"red\")\n",
        "plt.plot(aligned_neuron2[:, 0], aligned_neuron2[:, 1], label='Neuron 2', alpha=1, linewidth=0.1, color=\"blue\")\n",
        "plt.xlabel('x(t)')\n",
        "plt.ylabel('x(t - delay)')\n",
        "plt.legend()\n",
        "\n",
        "# Creating an inset (zoomed-in area)\n",
        "ax = plt.gca()  # Get the current axes\n",
        "axins = inset_axes(ax, width=\"50%\", height=\"50%\", loc='upper right')  # Specify the position and size of the inset\n",
        "\n",
        "# Plot the same data on the inset, focusing on the specified range\n",
        "axins.plot(aligned_neuron1[:, 0], aligned_neuron1[:, 1], alpha=1, linewidth=0.1, color=\"red\")\n",
        "axins.plot(aligned_neuron2[:, 0], aligned_neuron2[:, 1], alpha=1, linewidth=0.1, color=\"blue\")\n",
        "\n",
        "# Set the x and y axis limits to zoom in to the specific range (0.1 to 0.3 for x(t))\n",
        "axins.set_xlim(0.2, 0.4)\n",
        "axins.set_ylim(0, 0.1)  # Set appropriate limits for y-axis based on your data\n",
        "\n",
        "# Optional: Add grid, labels, or customize further as needed\n",
        "axins.grid(True)\n",
        "\n",
        "plt.show()"
      ],
      "metadata": {
        "id": "dWA15dWA297O"
      },
      "execution_count": null,
      "outputs": []
    },
    {
      "cell_type": "code",
      "source": [
        "import numpy as np\n",
        "import matplotlib.pyplot as plt\n",
        "from scipy.signal import correlate\n",
        "from mpl_toolkits.axes_grid1.inset_locator import inset_axes\n",
        "\n",
        "# Let's assume `states` is a matrix where each row corresponds to the state time series of a neuron\n",
        "\n",
        "def phase_space_reconstruct(time_series, delay, dimension):\n",
        "    # The length of the time series that can be used for the reconstruction\n",
        "    usable_length = len(time_series) - (dimension - 1) * delay\n",
        "    # Reconstructs the phase space using delay embedding\n",
        "    reconstructed = np.array([\n",
        "        time_series[i: i + usable_length]\n",
        "        for i in range(0, delay * (dimension - 1) + 1, delay)\n",
        "    ])\n",
        "    return reconstructed.T\n",
        "\n",
        "def find_time_lag(ts1, ts2, max_lag):\n",
        "    # Finds the time lag that maximizes the cross-correlation between two time series\n",
        "    ts1 = ts1.tolist()\n",
        "    ts2 = ts2.tolist()\n",
        "    correlation = correlate(ts1, ts2, mode='full', method='auto')\n",
        "    lag = np.argmax(correlation) - (len(ts1) - 1)\n",
        "    return lag if abs(lag) <= max_lag else 0  # If lag is too large, it may not be meaningful\n",
        "\n",
        "# Parameters for phase space reconstruction\n",
        "delay = 15  # The delay used in the reconstruction\n",
        "max_lag = 1000  # Maximum allowed lag\n",
        "\n",
        "\n",
        "# Reconstruct the phase space for two neurons\n",
        "neuron1 = phase_space_reconstruct(X[38,:], delay, 2)\n",
        "neuron2 = phase_space_reconstruct(X[46,:], delay, 2)\n",
        "\n",
        "# Find the time lag between neuron1 and neuron2\n",
        "lag = find_time_lag(X[38,:], X[46,:], max_lag)\n",
        "print(lag)\n",
        "# Align the neurons by shifting\n",
        "if lag > 0:\n",
        "    aligned_neuron1 = neuron1[:-lag]\n",
        "    aligned_neuron2 = neuron2[lag:]\n",
        "elif lag < 0:\n",
        "    aligned_neuron1 = neuron1[-lag:]\n",
        "    aligned_neuron2 = neuron2[:lag]\n",
        "else:\n",
        "    aligned_neuron1 = neuron1\n",
        "    aligned_neuron2 = neuron2\n",
        "\n",
        "\n",
        "\n",
        "\n",
        "# Plot the orbits in the reconstructed phase space\n",
        "plt.figure(figsize=(10, 6))\n",
        "plt.plot(aligned_neuron1[:, 0], aligned_neuron1[:, 1], label='Neuron 1', alpha=1, linewidth=0.1, color=\"red\")\n",
        "plt.plot(aligned_neuron2[:, 0], aligned_neuron2[:, 1], label='Neuron 2', alpha=1, linewidth=0.1, color=\"blue\")\n",
        "plt.xlabel('x(t)')\n",
        "plt.ylabel('x(t - delay)')\n",
        "plt.legend()\n",
        "\n",
        "# Creating an inset (zoomed-in area)\n",
        "ax = plt.gca()  # Get the current axes\n",
        "axins = inset_axes(ax, width=\"50%\", height=\"50%\", loc='upper right')  # Specify the position and size of the inset\n",
        "\n",
        "# Plot the same data on the inset, focusing on the specified range\n",
        "axins.plot(aligned_neuron1[:, 0], aligned_neuron1[:, 1], alpha=1, linewidth=0.1, color=\"red\")\n",
        "axins.plot(aligned_neuron2[:, 0], aligned_neuron2[:, 1], alpha=1, linewidth=0.1, color=\"blue\")\n",
        "\n",
        "# Set the x and y axis limits to zoom in to the specific range (0.1 to 0.3 for x(t))\n",
        "axins.set_xlim(0.25, 0.3)\n",
        "axins.set_ylim(0.02, 0.06)  # Set appropriate limits for y-axis based on your data\n",
        "\n",
        "# Optional: Add grid, labels, or customize further as needed\n",
        "axins.grid(True)\n",
        "\n",
        "plt.show()"
      ],
      "metadata": {
        "id": "xROY3Hl148-R"
      },
      "execution_count": null,
      "outputs": []
    },
    {
      "cell_type": "code",
      "source": [
        "import numpy as np\n",
        "import matplotlib.pyplot as plt\n",
        "from scipy.signal import correlate\n",
        "from mpl_toolkits.axes_grid1.inset_locator import inset_axes\n",
        "\n",
        "# Let's assume `states` is a matrix where each row corresponds to the state time series of a neuron\n",
        "\n",
        "def phase_space_reconstruct(time_series, delay, dimension):\n",
        "    # The length of the time series that can be used for the reconstruction\n",
        "    usable_length = len(time_series) - (dimension - 1) * delay\n",
        "    # Reconstructs the phase space using delay embedding\n",
        "    reconstructed = np.array([\n",
        "        time_series[i: i + usable_length]\n",
        "        for i in range(0, delay * (dimension - 1) + 1, delay)\n",
        "    ])\n",
        "    return reconstructed.T\n",
        "\n",
        "def find_time_lag(ts1, ts2, max_lag):\n",
        "    # Finds the time lag that maximizes the cross-correlation between two time series\n",
        "    ts1 = ts1.tolist()\n",
        "    ts2 = ts2.tolist()\n",
        "    correlation = correlate(ts1, ts2, mode='full', method='auto')\n",
        "    lag = np.argmax(correlation) - (len(ts1) - 1)\n",
        "    return lag if abs(lag) <= max_lag else 0  # If lag is too large, it may not be meaningful\n",
        "\n",
        "# Parameters for phase space reconstruction\n",
        "delay = 15  # The delay used in the reconstruction\n",
        "max_lag = 1000  # Maximum allowed lag\n",
        "\n",
        "\n",
        "# Reconstruct the phase space for two neurons\n",
        "neuron1 = phase_space_reconstruct(X[38,:], delay, 2)\n",
        "neuron2 = phase_space_reconstruct(X[46,:], delay, 2)\n",
        "\n",
        "# Find the time lag between neuron1 and neuron2\n",
        "lag = find_time_lag(X[38,:], X[46,:], max_lag)\n",
        "print(lag)\n",
        "# Align the neurons by shifting\n",
        "if lag > 0:\n",
        "    aligned_neuron1 = neuron1[:-lag]\n",
        "    aligned_neuron2 = neuron2[lag:]\n",
        "elif lag < 0:\n",
        "    aligned_neuron1 = neuron1[-lag:]\n",
        "    aligned_neuron2 = neuron2[:lag]\n",
        "else:\n",
        "    aligned_neuron1 = neuron1\n",
        "    aligned_neuron2 = neuron2\n",
        "\n",
        "\n",
        "\n",
        "\n",
        "# Plot the orbits in the reconstructed phase space\n",
        "plt.figure(figsize=(10, 6))\n",
        "plt.plot(aligned_neuron1[:, 0], aligned_neuron1[:, 1], label='Neuron 1', alpha=1, linewidth=0.1, color=\"red\")\n",
        "plt.plot(aligned_neuron2[:, 0], aligned_neuron2[:, 1], label='Neuron 2', alpha=1, linewidth=0.1, color=\"blue\")\n",
        "plt.xlabel('x(t)')\n",
        "plt.ylabel('x(t - delay)')\n",
        "plt.legend()\n",
        "\n",
        "# Creating an inset (zoomed-in area)\n",
        "ax = plt.gca()  # Get the current axes\n",
        "axins = inset_axes(ax, width=\"50%\", height=\"50%\", loc='upper right')  # Specify the position and size of the inset\n",
        "\n",
        "# Plot the same data on the inset, focusing on the specified range\n",
        "axins.plot(aligned_neuron1[:, 0], aligned_neuron1[:, 1], alpha=1, linewidth=0.1, color=\"red\")\n",
        "axins.plot(aligned_neuron2[:, 0], aligned_neuron2[:, 1], alpha=1, linewidth=0.1, color=\"blue\")\n",
        "\n",
        "# Set the x and y axis limits to zoom in to the specific range (0.1 to 0.3 for x(t))\n",
        "axins.set_xlim(0.2, 0.4)\n",
        "axins.set_ylim(0.02, 0.1)  # Set appropriate limits for y-axis based on your data\n",
        "\n",
        "\n",
        "plt.show()"
      ],
      "metadata": {
        "id": "9JkDrsoZ6bsc"
      },
      "execution_count": null,
      "outputs": []
    },
    {
      "cell_type": "code",
      "source": [
        "import numpy as np\n",
        "import matplotlib.pyplot as plt\n",
        "from scipy.signal import correlate\n",
        "from mpl_toolkits.axes_grid1.inset_locator import inset_axes\n",
        "\n",
        "# Let's assume `states` is a matrix where each row corresponds to the state time series of a neuron\n",
        "\n",
        "def phase_space_reconstruct(time_series, delay, dimension):\n",
        "    # The length of the time series that can be used for the reconstruction\n",
        "    usable_length = len(time_series) - (dimension - 1) * delay\n",
        "    # Reconstructs the phase space using delay embedding\n",
        "    reconstructed = np.array([\n",
        "        time_series[i: i + usable_length]\n",
        "        for i in range(0, delay * (dimension - 1) + 1, delay)\n",
        "    ])\n",
        "    return reconstructed.T\n",
        "\n",
        "def find_time_lag(ts1, ts2, max_lag):\n",
        "    # Finds the time lag that maximizes the cross-correlation between two time series\n",
        "    ts1 = ts1.tolist()\n",
        "    ts2 = ts2.tolist()\n",
        "    correlation = correlate(ts1, ts2, mode='full', method='auto')\n",
        "    lag = np.argmax(correlation) - (len(ts1) - 1)\n",
        "    return lag if abs(lag) <= max_lag else 0  # If lag is too large, it may not be meaningful\n",
        "\n",
        "def plot_orbit(X, n1, n2, W,N, delay=15):\n",
        "  # Parameters for phase space reconstruction\n",
        "\n",
        "  max_lag = 1000  # Maximum allowed lag\n",
        "  ks = weighted_degrees_unsorted(W,N)\n",
        "  nonzero_counts = np.count_nonzero(W, axis=1)\n",
        "\n",
        "  # Reconstruct the phase space for two neurons\n",
        "  neuron1 = phase_space_reconstruct(X[n1,:], delay, 2)\n",
        "  neuron2 = phase_space_reconstruct(X[n2,:], delay, 2)\n",
        "\n",
        "  # Find the time lag between neuron1 and neuron2\n",
        "  lag = find_time_lag(X[n1,:], X[n2,:], max_lag)\n",
        "  print(lag)\n",
        "  # Align the neurons by shifting\n",
        "  if lag > 0:\n",
        "      aligned_neuron1 = neuron1[:-lag]\n",
        "      aligned_neuron2 = neuron2[lag:]\n",
        "  elif lag < 0:\n",
        "      aligned_neuron1 = neuron1[-lag:]\n",
        "      aligned_neuron2 = neuron2[:lag]\n",
        "  else:\n",
        "      aligned_neuron1 = neuron1\n",
        "      aligned_neuron2 = neuron2\n",
        "\n",
        "\n",
        "\n",
        "\n",
        "  # Plot the orbits in the reconstructed phase space\n",
        "  plt.figure(figsize=(10, 6))\n",
        "  plt.plot(aligned_neuron1[:, 0], aligned_neuron1[:, 1],label=f\"Neuron {n1} (k={ks[n1]:.3f})\", alpha=1, linewidth=0.3, color=\"red\")\n",
        "  plt.plot(aligned_neuron2[:, 0], aligned_neuron2[:, 1], label=f\"Neuron {n2} (k={ks[n2]:.3f})\", alpha=1, linewidth=0.3, color=\"blue\")\n",
        "  plt.xlabel('s(t)', fontsize=15)\n",
        "  plt.ylabel('s(t - delay)', fontsize=15)\n",
        "  plt.legend(loc = \"upper left\", fontsize=15)\n",
        "  plt.tick_params(axis='both', labelsize=15)\n",
        "\n",
        "  # Creating an inset (zoomed-in area)\n",
        "  ax = plt.gca()  # Get the current axes\n",
        "  axins = inset_axes(ax, width=\"50%\", height=\"50%\", loc='upper right')  # Specify the position and size of the inset\n",
        "\n",
        "  # Plot the same data on the inset, focusing on the specified range\n",
        "  axins.plot(aligned_neuron1[:, 0], aligned_neuron1[:, 1], alpha=1, linewidth=0.3, color=\"red\")\n",
        "  axins.plot(aligned_neuron2[:, 0], aligned_neuron2[:, 1], alpha=1, linewidth=0.3, color=\"blue\")\n",
        "\n",
        "  # Set the x and y axis limits to zoom in to the specific range (0.1 to 0.3 for x(t))\n",
        "  axins.set_xlim(0.2, 0.4)\n",
        "  axins.set_ylim(0.02, 0.1)  # Set appropriate limits for y-axis based on your data\n",
        "\n",
        "\n",
        "  plt.show()"
      ],
      "metadata": {
        "id": "GBYCMwWS62st"
      },
      "execution_count": null,
      "outputs": []
    },
    {
      "cell_type": "code",
      "source": [
        "plot_orbit(X, 38,46,W,N)"
      ],
      "metadata": {
        "id": "CHgDizEV8bfL"
      },
      "execution_count": null,
      "outputs": []
    },
    {
      "cell_type": "code",
      "source": [
        "plot_orbit(X, 1,2,W,N)"
      ],
      "metadata": {
        "id": "y3C3gubt9qxD"
      },
      "execution_count": null,
      "outputs": []
    },
    {
      "cell_type": "code",
      "source": [],
      "metadata": {
        "id": "FUW6B7L79tAr"
      },
      "execution_count": null,
      "outputs": []
    }
  ],
  "metadata": {
    "colab": {
      "machine_shape": "hm",
      "provenance": [],
      "toc_visible": true,
      "collapsed_sections": [
        "bwcJTVXRMANS",
        "leWLjyGuoojG",
        "fnXOMjCnOxi5",
        "_cmLXbk69spj",
        "k8G2EHfGCA1w",
        "ho5HwATlOsqy",
        "krIm7AnxdHpe",
        "m0o--t5uvyb1"
      ],
      "include_colab_link": true
    },
    "kernelspec": {
      "display_name": "Python 3",
      "name": "python3"
    },
    "language_info": {
      "name": "python"
    }
  },
  "nbformat": 4,
  "nbformat_minor": 0
}